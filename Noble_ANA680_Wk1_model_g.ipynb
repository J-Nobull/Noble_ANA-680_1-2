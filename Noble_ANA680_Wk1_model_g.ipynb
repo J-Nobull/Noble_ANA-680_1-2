{
  "nbformat": 4,
  "nbformat_minor": 0,
  "metadata": {
    "colab": {
      "provenance": []
    },
    "kernelspec": {
      "name": "python3",
      "display_name": "Python 3"
    },
    "language_info": {
      "name": "python"
    }
  },
  "cells": [
    {
      "cell_type": "markdown",
      "source": [
        "#ANA680_Week 1_Assignment 2:\n",
        "##Building Random Forest Model"
      ],
      "metadata": {
        "id": "ZYlXapbl8tGm"
      }
    },
    {
      "cell_type": "markdown",
      "source": [
        "# Set up environment"
      ],
      "metadata": {
        "id": "AvKAFNee9QJX"
      }
    },
    {
      "cell_type": "code",
      "source": [
        "!pip install ucimlrepo\n",
        "from ucimlrepo import fetch_ucirepo"
      ],
      "metadata": {
        "colab": {
          "base_uri": "https://localhost:8080/"
        },
        "id": "WYBUhNxuBxQU",
        "outputId": "4e3f7c16-3c86-4f93-be7a-e6d8fce3272b"
      },
      "execution_count": 1,
      "outputs": [
        {
          "output_type": "stream",
          "name": "stdout",
          "text": [
            "Requirement already satisfied: ucimlrepo in /usr/local/lib/python3.11/dist-packages (0.0.7)\n",
            "Requirement already satisfied: pandas>=1.0.0 in /usr/local/lib/python3.11/dist-packages (from ucimlrepo) (2.2.2)\n",
            "Requirement already satisfied: certifi>=2020.12.5 in /usr/local/lib/python3.11/dist-packages (from ucimlrepo) (2025.4.26)\n",
            "Requirement already satisfied: numpy>=1.23.2 in /usr/local/lib/python3.11/dist-packages (from pandas>=1.0.0->ucimlrepo) (2.0.2)\n",
            "Requirement already satisfied: python-dateutil>=2.8.2 in /usr/local/lib/python3.11/dist-packages (from pandas>=1.0.0->ucimlrepo) (2.9.0.post0)\n",
            "Requirement already satisfied: pytz>=2020.1 in /usr/local/lib/python3.11/dist-packages (from pandas>=1.0.0->ucimlrepo) (2025.2)\n",
            "Requirement already satisfied: tzdata>=2022.7 in /usr/local/lib/python3.11/dist-packages (from pandas>=1.0.0->ucimlrepo) (2025.2)\n",
            "Requirement already satisfied: six>=1.5 in /usr/local/lib/python3.11/dist-packages (from python-dateutil>=2.8.2->pandas>=1.0.0->ucimlrepo) (1.17.0)\n"
          ]
        }
      ]
    },
    {
      "cell_type": "code",
      "source": [
        "import pandas as pd\n",
        "import matplotlib.pyplot as plt\n",
        "import seaborn as sns\n",
        "from sklearn.model_selection import train_test_split\n",
        "from sklearn.metrics import accuracy_score, confusion_matrix\n",
        "\n",
        "from sklearn.ensemble import RandomForestClassifier"
      ],
      "metadata": {
        "id": "O1Xp4gSTRzTW"
      },
      "execution_count": 11,
      "outputs": []
    },
    {
      "cell_type": "markdown",
      "source": [
        "#Load and inspect data"
      ],
      "metadata": {
        "id": "rlciQDig9Tj1"
      }
    },
    {
      "cell_type": "code",
      "source": [
        "# Fetch dataset\n",
        "cancer_load = fetch_ucirepo(id=15)\n",
        "\n",
        "# Display basic information\n",
        "print(cancer_load.variables)"
      ],
      "metadata": {
        "colab": {
          "base_uri": "https://localhost:8080/"
        },
        "id": "bv_jbwVAB-9Y",
        "outputId": "fafcf967-fea6-40fb-8da9-f823332ddcb6"
      },
      "execution_count": 3,
      "outputs": [
        {
          "output_type": "stream",
          "name": "stdout",
          "text": [
            "                           name     role         type demographic  \\\n",
            "0            Sample_code_number       ID  Categorical        None   \n",
            "1               Clump_thickness  Feature      Integer        None   \n",
            "2       Uniformity_of_cell_size  Feature      Integer        None   \n",
            "3      Uniformity_of_cell_shape  Feature      Integer        None   \n",
            "4             Marginal_adhesion  Feature      Integer        None   \n",
            "5   Single_epithelial_cell_size  Feature      Integer        None   \n",
            "6                   Bare_nuclei  Feature      Integer        None   \n",
            "7               Bland_chromatin  Feature      Integer        None   \n",
            "8               Normal_nucleoli  Feature      Integer        None   \n",
            "9                       Mitoses  Feature      Integer        None   \n",
            "10                        Class   Target       Binary        None   \n",
            "\n",
            "                  description units missing_values  \n",
            "0                        None  None             no  \n",
            "1                        None  None             no  \n",
            "2                        None  None             no  \n",
            "3                        None  None             no  \n",
            "4                        None  None             no  \n",
            "5                        None  None             no  \n",
            "6                        None  None            yes  \n",
            "7                        None  None             no  \n",
            "8                        None  None             no  \n",
            "9                        None  None             no  \n",
            "10  2 = benign, 4 = malignant  None             no  \n"
          ]
        }
      ]
    },
    {
      "cell_type": "markdown",
      "source": [
        "#Data exploration"
      ],
      "metadata": {
        "id": "u0gv92FCLISX"
      }
    },
    {
      "cell_type": "code",
      "source": [
        "# Create pd dataframe\n",
        "cancer = pd.concat([cancer_load.data.features,\n",
        "                    cancer_load.data.targets], axis=1)\n",
        "\n",
        "# Display dataset basics with missing values\n",
        "print(cancer.head())\n",
        "print('\\n')\n",
        "print(cancer.describe())\n",
        "print('\\n')\n",
        "missing_values = cancer.isnull().sum()\n",
        "missing_values = missing_values[missing_values > 0]  # Only show columns with missing values\n",
        "print(missing_values)"
      ],
      "metadata": {
        "colab": {
          "base_uri": "https://localhost:8080/"
        },
        "id": "7ra4SFzi9XLO",
        "outputId": "63f79989-4703-4060-8082-aa56d943df21"
      },
      "execution_count": 4,
      "outputs": [
        {
          "output_type": "stream",
          "name": "stdout",
          "text": [
            "   Clump_thickness  Uniformity_of_cell_size  Uniformity_of_cell_shape  \\\n",
            "0                5                        1                         1   \n",
            "1                5                        4                         4   \n",
            "2                3                        1                         1   \n",
            "3                6                        8                         8   \n",
            "4                4                        1                         1   \n",
            "\n",
            "   Marginal_adhesion  Single_epithelial_cell_size  Bare_nuclei  \\\n",
            "0                  1                            2          1.0   \n",
            "1                  5                            7         10.0   \n",
            "2                  1                            2          2.0   \n",
            "3                  1                            3          4.0   \n",
            "4                  3                            2          1.0   \n",
            "\n",
            "   Bland_chromatin  Normal_nucleoli  Mitoses  Class  \n",
            "0                3                1        1      2  \n",
            "1                3                2        1      2  \n",
            "2                3                1        1      2  \n",
            "3                3                7        1      2  \n",
            "4                3                1        1      2  \n",
            "\n",
            "\n",
            "       Clump_thickness  Uniformity_of_cell_size  Uniformity_of_cell_shape  \\\n",
            "count       699.000000               699.000000                699.000000   \n",
            "mean          4.417740                 3.134478                  3.207439   \n",
            "std           2.815741                 3.051459                  2.971913   \n",
            "min           1.000000                 1.000000                  1.000000   \n",
            "25%           2.000000                 1.000000                  1.000000   \n",
            "50%           4.000000                 1.000000                  1.000000   \n",
            "75%           6.000000                 5.000000                  5.000000   \n",
            "max          10.000000                10.000000                 10.000000   \n",
            "\n",
            "       Marginal_adhesion  Single_epithelial_cell_size  Bare_nuclei  \\\n",
            "count         699.000000                   699.000000   683.000000   \n",
            "mean            2.806867                     3.216023     3.544656   \n",
            "std             2.855379                     2.214300     3.643857   \n",
            "min             1.000000                     1.000000     1.000000   \n",
            "25%             1.000000                     2.000000     1.000000   \n",
            "50%             1.000000                     2.000000     1.000000   \n",
            "75%             4.000000                     4.000000     6.000000   \n",
            "max            10.000000                    10.000000    10.000000   \n",
            "\n",
            "       Bland_chromatin  Normal_nucleoli     Mitoses       Class  \n",
            "count       699.000000       699.000000  699.000000  699.000000  \n",
            "mean          3.437768         2.866953    1.589413    2.689557  \n",
            "std           2.438364         3.053634    1.715078    0.951273  \n",
            "min           1.000000         1.000000    1.000000    2.000000  \n",
            "25%           2.000000         1.000000    1.000000    2.000000  \n",
            "50%           3.000000         1.000000    1.000000    2.000000  \n",
            "75%           5.000000         4.000000    1.000000    4.000000  \n",
            "max          10.000000        10.000000   10.000000    4.000000  \n",
            "\n",
            "\n",
            "Bare_nuclei    16\n",
            "dtype: int64\n"
          ]
        }
      ]
    },
    {
      "cell_type": "markdown",
      "source": [
        "#Clean data"
      ],
      "metadata": {
        "id": "TtM4CZeEEXiw"
      }
    },
    {
      "cell_type": "code",
      "source": [
        "# Rename 'Class':'Diagnosis' and change variable encoding\n",
        "cancer = cancer.rename(columns={'Class': 'Diagnosis'})\n",
        "cancer['Diagnosis'] = cancer['Diagnosis'].map({2: 0, 4: 1})\n",
        "\n",
        "# Drop nulls\n",
        "cancer_df = cancer.dropna(subset=['Bare_nuclei'])\n",
        "print(cancer_df.info())"
      ],
      "metadata": {
        "colab": {
          "base_uri": "https://localhost:8080/"
        },
        "id": "Ryp-n1K3OdRT",
        "outputId": "7857c21a-68ac-4f57-9ef8-035217027b89"
      },
      "execution_count": 5,
      "outputs": [
        {
          "output_type": "stream",
          "name": "stdout",
          "text": [
            "<class 'pandas.core.frame.DataFrame'>\n",
            "Index: 683 entries, 0 to 698\n",
            "Data columns (total 10 columns):\n",
            " #   Column                       Non-Null Count  Dtype  \n",
            "---  ------                       --------------  -----  \n",
            " 0   Clump_thickness              683 non-null    int64  \n",
            " 1   Uniformity_of_cell_size      683 non-null    int64  \n",
            " 2   Uniformity_of_cell_shape     683 non-null    int64  \n",
            " 3   Marginal_adhesion            683 non-null    int64  \n",
            " 4   Single_epithelial_cell_size  683 non-null    int64  \n",
            " 5   Bare_nuclei                  683 non-null    float64\n",
            " 6   Bland_chromatin              683 non-null    int64  \n",
            " 7   Normal_nucleoli              683 non-null    int64  \n",
            " 8   Mitoses                      683 non-null    int64  \n",
            " 9   Diagnosis                    683 non-null    int64  \n",
            "dtypes: float64(1), int64(9)\n",
            "memory usage: 58.7 KB\n",
            "None\n"
          ]
        }
      ]
    },
    {
      "cell_type": "markdown",
      "source": [
        "#Split into Train(75%) and Test(25%)"
      ],
      "metadata": {
        "id": "SqL1KKrgaTWY"
      }
    },
    {
      "cell_type": "code",
      "source": [
        "# Split features and target\n",
        "X = cancer_df.drop('Diagnosis', axis=1)\n",
        "y = cancer_df['Diagnosis']\n",
        "\n",
        "# Train/test split\n",
        "X_train, X_test, y_train, y_test = train_test_split(X, y, test_size=0.25, random_state=680)"
      ],
      "metadata": {
        "id": "0fotFAJEbgls"
      },
      "execution_count": 6,
      "outputs": []
    },
    {
      "cell_type": "markdown",
      "source": [
        "#Random Forest - model g"
      ],
      "metadata": {
        "id": "kJfp4Viq3n58"
      }
    },
    {
      "cell_type": "code",
      "source": [
        "# Random Forest\n",
        "model = RandomForestClassifier(n_estimators=10)\n",
        "model.fit(X_train, y_train)\n",
        "y_pred = model.predict(X_test)\n",
        "\n",
        "# Display\n",
        "accuracy = accuracy_score(y_test, y_pred)\n",
        "print(f\"Random Forest Accuracy: {round(accuracy, 4)}\")\n",
        "print()\n",
        "cm = confusion_matrix(y_test, y_pred)\n",
        "plt.figure(figsize=(6, 4))\n",
        "sns.heatmap(cm, annot=True, fmt='d', cmap='Blues',\n",
        "            xticklabels=['Diagnosis', 'No diagnosis'],\n",
        "            yticklabels=['Diagnosis', 'No diagnosis'])\n",
        "plt.xlabel('Predicted')\n",
        "plt.ylabel('Actual')\n",
        "plt.title('Random Forest Confusion Matrix')\n",
        "plt.show()"
      ],
      "metadata": {
        "colab": {
          "base_uri": "https://localhost:8080/",
          "height": 446
        },
        "id": "dHtc4qln3k7Y",
        "outputId": "3690d2dd-64c0-411a-c823-20c606852b21"
      },
      "execution_count": 16,
      "outputs": [
        {
          "output_type": "stream",
          "name": "stdout",
          "text": [
            "Random Forest Accuracy: 0.9708\n",
            "\n"
          ]
        },
        {
          "output_type": "display_data",
          "data": {
            "text/plain": [
              "<Figure size 600x400 with 2 Axes>"
            ],
            "image/png": "[encoded data removed]"
          },
          "metadata": {}
        }
      ]
    },
    {
      "cell_type": "markdown",
      "source": [
        "#END"
      ],
      "metadata": {
        "id": "W3TEq1PB9vPp"
      }
    }
  ]
}