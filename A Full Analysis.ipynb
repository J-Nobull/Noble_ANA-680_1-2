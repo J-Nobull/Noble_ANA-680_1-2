{
 "cells": [
  {
   "cell_type": "markdown",
   "metadata": {
    "id": "ZYlXapbl8tGm"
   },
   "source": [
    "# ANA680_Week_3:\n",
    "\n",
    "### Build linear regression model"
   ]
  },
  {
   "cell_type": "code",
   "execution_count": 1,
   "metadata": {},
   "outputs": [],
   "source": [
    "import pandas as pd"
   ]
  },
  {
   "cell_type": "markdown",
   "metadata": {
    "id": "rlciQDig9Tj1"
   },
   "source": [
    "## Load and inspect data"
   ]
  },
  {
   "cell_type": "code",
   "execution_count": 2,
   "metadata": {
    "colab": {
     "base_uri": "https://localhost:8080/"
    },
    "id": "bv_jbwVAB-9Y",
    "outputId": "31bd7d6b-f0e8-45aa-b2d2-5669148b25cf"
   },
   "outputs": [
    {
     "data": {
      "text/html": [
       "<div>\n",
       "<style scoped>\n",
       "    .dataframe tbody tr th:only-of-type {\n",
       "        vertical-align: middle;\n",
       "    }\n",
       "\n",
       "    .dataframe tbody tr th {\n",
       "        vertical-align: top;\n",
       "    }\n",
       "\n",
       "    .dataframe thead th {\n",
       "        text-align: right;\n",
       "    }\n",
       "</style>\n",
       "<table border=\"1\" class=\"dataframe\">\n",
       "  <thead>\n",
       "    <tr style=\"text-align: right;\">\n",
       "      <th></th>\n",
       "      <th>quality</th>\n",
       "      <th>fixed acidity</th>\n",
       "      <th>volatile acidity</th>\n",
       "      <th>citric acid</th>\n",
       "      <th>residual sugar</th>\n",
       "      <th>chlorides</th>\n",
       "      <th>free sulfur dioxide</th>\n",
       "      <th>total sulfur dioxide</th>\n",
       "      <th>density</th>\n",
       "      <th>pH</th>\n",
       "      <th>sulphates</th>\n",
       "      <th>alcohol</th>\n",
       "    </tr>\n",
       "  </thead>\n",
       "  <tbody>\n",
       "    <tr>\n",
       "      <th>0</th>\n",
       "      <td>6</td>\n",
       "      <td>7.0</td>\n",
       "      <td>0.27</td>\n",
       "      <td>0.36</td>\n",
       "      <td>20.7</td>\n",
       "      <td>0.045</td>\n",
       "      <td>45.0</td>\n",
       "      <td>170.0</td>\n",
       "      <td>1.0010</td>\n",
       "      <td>3.00</td>\n",
       "      <td>0.45</td>\n",
       "      <td>8.8</td>\n",
       "    </tr>\n",
       "    <tr>\n",
       "      <th>1</th>\n",
       "      <td>6</td>\n",
       "      <td>6.3</td>\n",
       "      <td>0.30</td>\n",
       "      <td>0.34</td>\n",
       "      <td>1.6</td>\n",
       "      <td>0.049</td>\n",
       "      <td>14.0</td>\n",
       "      <td>132.0</td>\n",
       "      <td>0.9940</td>\n",
       "      <td>3.30</td>\n",
       "      <td>0.49</td>\n",
       "      <td>9.5</td>\n",
       "    </tr>\n",
       "    <tr>\n",
       "      <th>2</th>\n",
       "      <td>6</td>\n",
       "      <td>8.1</td>\n",
       "      <td>0.28</td>\n",
       "      <td>0.40</td>\n",
       "      <td>6.9</td>\n",
       "      <td>0.050</td>\n",
       "      <td>30.0</td>\n",
       "      <td>97.0</td>\n",
       "      <td>0.9951</td>\n",
       "      <td>3.26</td>\n",
       "      <td>0.44</td>\n",
       "      <td>10.1</td>\n",
       "    </tr>\n",
       "    <tr>\n",
       "      <th>3</th>\n",
       "      <td>6</td>\n",
       "      <td>7.2</td>\n",
       "      <td>0.23</td>\n",
       "      <td>0.32</td>\n",
       "      <td>8.5</td>\n",
       "      <td>0.058</td>\n",
       "      <td>47.0</td>\n",
       "      <td>186.0</td>\n",
       "      <td>0.9956</td>\n",
       "      <td>3.19</td>\n",
       "      <td>0.40</td>\n",
       "      <td>9.9</td>\n",
       "    </tr>\n",
       "    <tr>\n",
       "      <th>4</th>\n",
       "      <td>6</td>\n",
       "      <td>7.2</td>\n",
       "      <td>0.23</td>\n",
       "      <td>0.32</td>\n",
       "      <td>8.5</td>\n",
       "      <td>0.058</td>\n",
       "      <td>47.0</td>\n",
       "      <td>186.0</td>\n",
       "      <td>0.9956</td>\n",
       "      <td>3.19</td>\n",
       "      <td>0.40</td>\n",
       "      <td>9.9</td>\n",
       "    </tr>\n",
       "  </tbody>\n",
       "</table>\n",
       "</div>"
      ],
      "text/plain": [
       "   quality  fixed acidity  volatile acidity  citric acid  residual sugar  \\\n",
       "0        6            7.0              0.27         0.36            20.7   \n",
       "1        6            6.3              0.30         0.34             1.6   \n",
       "2        6            8.1              0.28         0.40             6.9   \n",
       "3        6            7.2              0.23         0.32             8.5   \n",
       "4        6            7.2              0.23         0.32             8.5   \n",
       "\n",
       "   chlorides  free sulfur dioxide  total sulfur dioxide  density    pH  \\\n",
       "0      0.045                 45.0                 170.0   1.0010  3.00   \n",
       "1      0.049                 14.0                 132.0   0.9940  3.30   \n",
       "2      0.050                 30.0                  97.0   0.9951  3.26   \n",
       "3      0.058                 47.0                 186.0   0.9956  3.19   \n",
       "4      0.058                 47.0                 186.0   0.9956  3.19   \n",
       "\n",
       "   sulphates  alcohol  \n",
       "0       0.45      8.8  \n",
       "1       0.49      9.5  \n",
       "2       0.44     10.1  \n",
       "3       0.40      9.9  \n",
       "4       0.40      9.9  "
      ]
     },
     "execution_count": 2,
     "metadata": {},
     "output_type": "execute_result"
    }
   ],
   "source": [
    "wine_quality = pd.read_csv(\"winequality.csv\", header=0)\n",
    "wine_quality.head()"
   ]
  },
  {
   "cell_type": "markdown",
   "metadata": {
    "id": "kJfp4Viq3n58"
   },
   "source": [
    "## <u>Linear regression WITHOUT container technology</u>"
   ]
  },
  {
   "cell_type": "code",
   "execution_count": 3,
   "metadata": {},
   "outputs": [
    {
     "name": "stderr",
     "output_type": "stream",
     "text": [
      "/home/ec2-user/anaconda3/envs/python3/lib/python3.10/site-packages/pydantic/_internal/_fields.py:172: UserWarning: Field name \"json\" in \"MonitoringDatasetFormat\" shadows an attribute in parent \"Base\"\n",
      "  warnings.warn(\n"
     ]
    },
    {
     "data": {
      "text/html": [
       "<pre style=\"white-space:pre;overflow-x:auto;line-height:normal;font-family:Menlo,'DejaVu Sans Mono',consolas,'Courier New',monospace\"><span style=\"color: #7fbfbf; text-decoration-color: #7fbfbf\">[06/04/25 16:02:38] </span><span style=\"color: #0069ff; text-decoration-color: #0069ff; font-weight: bold\">INFO    </span> Found credentials from IAM Role:                                   <a href=\"file:///home/ec2-user/anaconda3/envs/python3/lib/python3.10/site-packages/botocore/credentials.py\" target=\"_blank\"><span style=\"color: #7f7f7f; text-decoration-color: #7f7f7f\">credentials.py</span></a><span style=\"color: #7f7f7f; text-decoration-color: #7f7f7f\">:</span><a href=\"file:///home/ec2-user/anaconda3/envs/python3/lib/python3.10/site-packages/botocore/credentials.py#1132\" target=\"_blank\"><span style=\"color: #7f7f7f; text-decoration-color: #7f7f7f\">1132</span></a>\n",
       "<span style=\"color: #7fbfbf; text-decoration-color: #7fbfbf\">                    </span>         BaseNotebookInstanceEc2InstanceRole                                <span style=\"color: #7f7f7f; text-decoration-color: #7f7f7f\">                   </span>\n",
       "</pre>\n"
      ],
      "text/plain": [
       "\u001b[2;36m[06/04/25 16:02:38]\u001b[0m\u001b[2;36m \u001b[0m\u001b[1;38;2;0;105;255mINFO    \u001b[0m Found credentials from IAM Role:                                   \u001b]8;id=472337;file:///home/ec2-user/anaconda3/envs/python3/lib/python3.10/site-packages/botocore/credentials.py\u001b\\\u001b[2mcredentials.py\u001b[0m\u001b]8;;\u001b\\\u001b[2m:\u001b[0m\u001b]8;id=379039;file:///home/ec2-user/anaconda3/envs/python3/lib/python3.10/site-packages/botocore/credentials.py#1132\u001b\\\u001b[2m1132\u001b[0m\u001b]8;;\u001b\\\n",
       "\u001b[2;36m                    \u001b[0m         BaseNotebookInstanceEc2InstanceRole                                \u001b[2m                   \u001b[0m\n"
      ]
     },
     "metadata": {},
     "output_type": "display_data"
    },
    {
     "name": "stdout",
     "output_type": "stream",
     "text": [
      "sagemaker.config INFO - Not applying SDK defaults from location: /etc/xdg/sagemaker/config.yaml\n",
      "sagemaker.config INFO - Not applying SDK defaults from location: /home/ec2-user/.config/sagemaker/config.yaml\n"
     ]
    }
   ],
   "source": [
    "import re\n",
    "import numpy as np\n",
    "from sklearn.model_selection import train_test_split\n",
    "from sagemaker import get_execution_role, Session\n",
    "from sagemaker.amazon.linear_learner import LinearLearner\n",
    "from sagemaker.serializers import CSVSerializer\n",
    "from sagemaker.deserializers import JSONDeserializer"
   ]
  },
  {
   "cell_type": "markdown",
   "metadata": {
    "id": "SqL1KKrgaTWY"
   },
   "source": [
    "## Split into Train(80%) and Test(20%)"
   ]
  },
  {
   "cell_type": "code",
   "execution_count": 4,
   "metadata": {
    "id": "0fotFAJEbgls"
   },
   "outputs": [],
   "source": [
    "# Split features and target\n",
    "X = wine_quality.drop(columns=['quality'])\n",
    "y = wine_quality['quality']\n",
    "\n",
    "# Train/test split\n",
    "X_train, X_test, y_train, y_test = train_test_split(X, y, test_size=0.20, random_state=680)\n",
    "\n",
    "# Convert to float32 (required by SageMaker)\n",
    "X_train_np = X_train.to_numpy().astype('float32')\n",
    "y_train_np = y_train.to_numpy().astype('float32')"
   ]
  },
  {
   "cell_type": "markdown",
   "metadata": {},
   "source": [
    "## Start session"
   ]
  },
  {
   "cell_type": "code",
   "execution_count": 5,
   "metadata": {},
   "outputs": [
    {
     "data": {
      "text/html": [
       "<pre style=\"white-space:pre;overflow-x:auto;line-height:normal;font-family:Menlo,'DejaVu Sans Mono',consolas,'Courier New',monospace\"><span style=\"color: #7fbfbf; text-decoration-color: #7fbfbf\">[06/04/25 16:02:45] </span><span style=\"color: #0069ff; text-decoration-color: #0069ff; font-weight: bold\">INFO    </span> Found credentials from IAM Role:                                   <a href=\"file:///home/ec2-user/anaconda3/envs/python3/lib/python3.10/site-packages/botocore/credentials.py\" target=\"_blank\"><span style=\"color: #7f7f7f; text-decoration-color: #7f7f7f\">credentials.py</span></a><span style=\"color: #7f7f7f; text-decoration-color: #7f7f7f\">:</span><a href=\"file:///home/ec2-user/anaconda3/envs/python3/lib/python3.10/site-packages/botocore/credentials.py#1132\" target=\"_blank\"><span style=\"color: #7f7f7f; text-decoration-color: #7f7f7f\">1132</span></a>\n",
       "<span style=\"color: #7fbfbf; text-decoration-color: #7fbfbf\">                    </span>         BaseNotebookInstanceEc2InstanceRole                                <span style=\"color: #7f7f7f; text-decoration-color: #7f7f7f\">                   </span>\n",
       "</pre>\n"
      ],
      "text/plain": [
       "\u001b[2;36m[06/04/25 16:02:45]\u001b[0m\u001b[2;36m \u001b[0m\u001b[1;38;2;0;105;255mINFO    \u001b[0m Found credentials from IAM Role:                                   \u001b]8;id=248243;file:///home/ec2-user/anaconda3/envs/python3/lib/python3.10/site-packages/botocore/credentials.py\u001b\\\u001b[2mcredentials.py\u001b[0m\u001b]8;;\u001b\\\u001b[2m:\u001b[0m\u001b]8;id=732343;file:///home/ec2-user/anaconda3/envs/python3/lib/python3.10/site-packages/botocore/credentials.py#1132\u001b\\\u001b[2m1132\u001b[0m\u001b]8;;\u001b\\\n",
       "\u001b[2;36m                    \u001b[0m         BaseNotebookInstanceEc2InstanceRole                                \u001b[2m                   \u001b[0m\n"
      ]
     },
     "metadata": {},
     "output_type": "display_data"
    },
    {
     "data": {
      "text/html": [
       "<pre style=\"white-space:pre;overflow-x:auto;line-height:normal;font-family:Menlo,'DejaVu Sans Mono',consolas,'Courier New',monospace\"><span style=\"color: #7fbfbf; text-decoration-color: #7fbfbf\">                    </span><span style=\"color: #0069ff; text-decoration-color: #0069ff; font-weight: bold\">INFO    </span> Found credentials from IAM Role:                                   <a href=\"file:///home/ec2-user/anaconda3/envs/python3/lib/python3.10/site-packages/botocore/credentials.py\" target=\"_blank\"><span style=\"color: #7f7f7f; text-decoration-color: #7f7f7f\">credentials.py</span></a><span style=\"color: #7f7f7f; text-decoration-color: #7f7f7f\">:</span><a href=\"file:///home/ec2-user/anaconda3/envs/python3/lib/python3.10/site-packages/botocore/credentials.py#1132\" target=\"_blank\"><span style=\"color: #7f7f7f; text-decoration-color: #7f7f7f\">1132</span></a>\n",
       "<span style=\"color: #7fbfbf; text-decoration-color: #7fbfbf\">                    </span>         BaseNotebookInstanceEc2InstanceRole                                <span style=\"color: #7f7f7f; text-decoration-color: #7f7f7f\">                   </span>\n",
       "</pre>\n"
      ],
      "text/plain": [
       "\u001b[2;36m                   \u001b[0m\u001b[2;36m \u001b[0m\u001b[1;38;2;0;105;255mINFO    \u001b[0m Found credentials from IAM Role:                                   \u001b]8;id=206902;file:///home/ec2-user/anaconda3/envs/python3/lib/python3.10/site-packages/botocore/credentials.py\u001b\\\u001b[2mcredentials.py\u001b[0m\u001b]8;;\u001b\\\u001b[2m:\u001b[0m\u001b]8;id=795385;file:///home/ec2-user/anaconda3/envs/python3/lib/python3.10/site-packages/botocore/credentials.py#1132\u001b\\\u001b[2m1132\u001b[0m\u001b]8;;\u001b\\\n",
       "\u001b[2;36m                    \u001b[0m         BaseNotebookInstanceEc2InstanceRole                                \u001b[2m                   \u001b[0m\n"
      ]
     },
     "metadata": {},
     "output_type": "display_data"
    }
   ],
   "source": [
    "role = get_execution_role()\n",
    "session = Session()\n",
    "bucket = \"sagemaker-us-east-1-421498156986\"\n",
    "prefix = \"linear-regression-wine\"\n",
    "output_path = f's3://{bucket}/linear-regression-output'"
   ]
  },
  {
   "cell_type": "markdown",
   "metadata": {},
   "source": [
    "## Train model"
   ]
  },
  {
   "cell_type": "code",
   "execution_count": 6,
   "metadata": {},
   "outputs": [
    {
     "data": {
      "text/html": [
       "<pre style=\"white-space:pre;overflow-x:auto;line-height:normal;font-family:Menlo,'DejaVu Sans Mono',consolas,'Courier New',monospace\"><span style=\"color: #7fbfbf; text-decoration-color: #7fbfbf\">                    </span><span style=\"color: #0069ff; text-decoration-color: #0069ff; font-weight: bold\">INFO    </span> Found credentials from IAM Role:                                   <a href=\"file:///home/ec2-user/anaconda3/envs/python3/lib/python3.10/site-packages/botocore/credentials.py\" target=\"_blank\"><span style=\"color: #7f7f7f; text-decoration-color: #7f7f7f\">credentials.py</span></a><span style=\"color: #7f7f7f; text-decoration-color: #7f7f7f\">:</span><a href=\"file:///home/ec2-user/anaconda3/envs/python3/lib/python3.10/site-packages/botocore/credentials.py#1132\" target=\"_blank\"><span style=\"color: #7f7f7f; text-decoration-color: #7f7f7f\">1132</span></a>\n",
       "<span style=\"color: #7fbfbf; text-decoration-color: #7fbfbf\">                    </span>         BaseNotebookInstanceEc2InstanceRole                                <span style=\"color: #7f7f7f; text-decoration-color: #7f7f7f\">                   </span>\n",
       "</pre>\n"
      ],
      "text/plain": [
       "\u001b[2;36m                   \u001b[0m\u001b[2;36m \u001b[0m\u001b[1;38;2;0;105;255mINFO    \u001b[0m Found credentials from IAM Role:                                   \u001b]8;id=550147;file:///home/ec2-user/anaconda3/envs/python3/lib/python3.10/site-packages/botocore/credentials.py\u001b\\\u001b[2mcredentials.py\u001b[0m\u001b]8;;\u001b\\\u001b[2m:\u001b[0m\u001b]8;id=891493;file:///home/ec2-user/anaconda3/envs/python3/lib/python3.10/site-packages/botocore/credentials.py#1132\u001b\\\u001b[2m1132\u001b[0m\u001b]8;;\u001b\\\n",
       "\u001b[2;36m                    \u001b[0m         BaseNotebookInstanceEc2InstanceRole                                \u001b[2m                   \u001b[0m\n"
      ]
     },
     "metadata": {},
     "output_type": "display_data"
    },
    {
     "data": {
      "text/html": [
       "<pre style=\"white-space:pre;overflow-x:auto;line-height:normal;font-family:Menlo,'DejaVu Sans Mono',consolas,'Courier New',monospace\"><span style=\"color: #7fbfbf; text-decoration-color: #7fbfbf\">[06/04/25 16:02:46] </span><span style=\"color: #0069ff; text-decoration-color: #0069ff; font-weight: bold\">INFO    </span> Found credentials from IAM Role:                                   <a href=\"file:///home/ec2-user/anaconda3/envs/python3/lib/python3.10/site-packages/botocore/credentials.py\" target=\"_blank\"><span style=\"color: #7f7f7f; text-decoration-color: #7f7f7f\">credentials.py</span></a><span style=\"color: #7f7f7f; text-decoration-color: #7f7f7f\">:</span><a href=\"file:///home/ec2-user/anaconda3/envs/python3/lib/python3.10/site-packages/botocore/credentials.py#1132\" target=\"_blank\"><span style=\"color: #7f7f7f; text-decoration-color: #7f7f7f\">1132</span></a>\n",
       "<span style=\"color: #7fbfbf; text-decoration-color: #7fbfbf\">                    </span>         BaseNotebookInstanceEc2InstanceRole                                <span style=\"color: #7f7f7f; text-decoration-color: #7f7f7f\">                   </span>\n",
       "</pre>\n"
      ],
      "text/plain": [
       "\u001b[2;36m[06/04/25 16:02:46]\u001b[0m\u001b[2;36m \u001b[0m\u001b[1;38;2;0;105;255mINFO    \u001b[0m Found credentials from IAM Role:                                   \u001b]8;id=571295;file:///home/ec2-user/anaconda3/envs/python3/lib/python3.10/site-packages/botocore/credentials.py\u001b\\\u001b[2mcredentials.py\u001b[0m\u001b]8;;\u001b\\\u001b[2m:\u001b[0m\u001b]8;id=429544;file:///home/ec2-user/anaconda3/envs/python3/lib/python3.10/site-packages/botocore/credentials.py#1132\u001b\\\u001b[2m1132\u001b[0m\u001b]8;;\u001b\\\n",
       "\u001b[2;36m                    \u001b[0m         BaseNotebookInstanceEc2InstanceRole                                \u001b[2m                   \u001b[0m\n"
      ]
     },
     "metadata": {},
     "output_type": "display_data"
    },
    {
     "data": {
      "text/html": [
       "<pre style=\"white-space:pre;overflow-x:auto;line-height:normal;font-family:Menlo,'DejaVu Sans Mono',consolas,'Courier New',monospace\"><span style=\"color: #7fbfbf; text-decoration-color: #7fbfbf\">                    </span><span style=\"color: #0069ff; text-decoration-color: #0069ff; font-weight: bold\">INFO    </span> Same images used for training and inference. Defaulting to image     <a href=\"file:///home/ec2-user/anaconda3/envs/python3/lib/python3.10/site-packages/sagemaker/image_uris.py\" target=\"_blank\"><span style=\"color: #7f7f7f; text-decoration-color: #7f7f7f\">image_uris.py</span></a><span style=\"color: #7f7f7f; text-decoration-color: #7f7f7f\">:</span><a href=\"file:///home/ec2-user/anaconda3/envs/python3/lib/python3.10/site-packages/sagemaker/image_uris.py#393\" target=\"_blank\"><span style=\"color: #7f7f7f; text-decoration-color: #7f7f7f\">393</span></a>\n",
       "<span style=\"color: #7fbfbf; text-decoration-color: #7fbfbf\">                    </span>         scope: inference.                                                    <span style=\"color: #7f7f7f; text-decoration-color: #7f7f7f\">                 </span>\n",
       "</pre>\n"
      ],
      "text/plain": [
       "\u001b[2;36m                   \u001b[0m\u001b[2;36m \u001b[0m\u001b[1;38;2;0;105;255mINFO    \u001b[0m Same images used for training and inference. Defaulting to image     \u001b]8;id=835146;file:///home/ec2-user/anaconda3/envs/python3/lib/python3.10/site-packages/sagemaker/image_uris.py\u001b\\\u001b[2mimage_uris.py\u001b[0m\u001b]8;;\u001b\\\u001b[2m:\u001b[0m\u001b]8;id=641830;file:///home/ec2-user/anaconda3/envs/python3/lib/python3.10/site-packages/sagemaker/image_uris.py#393\u001b\\\u001b[2m393\u001b[0m\u001b]8;;\u001b\\\n",
       "\u001b[2;36m                    \u001b[0m         scope: inference.                                                    \u001b[2m                 \u001b[0m\n"
      ]
     },
     "metadata": {},
     "output_type": "display_data"
    },
    {
     "data": {
      "text/html": [
       "<pre style=\"white-space:pre;overflow-x:auto;line-height:normal;font-family:Menlo,'DejaVu Sans Mono',consolas,'Courier New',monospace\"><span style=\"color: #7fbfbf; text-decoration-color: #7fbfbf\">                    </span><span style=\"color: #0069ff; text-decoration-color: #0069ff; font-weight: bold\">INFO    </span> Ignoring unnecessary instance type: <span style=\"color: #e100e1; text-decoration-color: #e100e1; font-style: italic\">None</span>.                            <a href=\"file:///home/ec2-user/anaconda3/envs/python3/lib/python3.10/site-packages/sagemaker/image_uris.py\" target=\"_blank\"><span style=\"color: #7f7f7f; text-decoration-color: #7f7f7f\">image_uris.py</span></a><span style=\"color: #7f7f7f; text-decoration-color: #7f7f7f\">:</span><a href=\"file:///home/ec2-user/anaconda3/envs/python3/lib/python3.10/site-packages/sagemaker/image_uris.py#530\" target=\"_blank\"><span style=\"color: #7f7f7f; text-decoration-color: #7f7f7f\">530</span></a>\n",
       "</pre>\n"
      ],
      "text/plain": [
       "\u001b[2;36m                   \u001b[0m\u001b[2;36m \u001b[0m\u001b[1;38;2;0;105;255mINFO    \u001b[0m Ignoring unnecessary instance type: \u001b[3;38;2;225;0;225mNone\u001b[0m.                            \u001b]8;id=119033;file:///home/ec2-user/anaconda3/envs/python3/lib/python3.10/site-packages/sagemaker/image_uris.py\u001b\\\u001b[2mimage_uris.py\u001b[0m\u001b]8;;\u001b\\\u001b[2m:\u001b[0m\u001b]8;id=227377;file:///home/ec2-user/anaconda3/envs/python3/lib/python3.10/site-packages/sagemaker/image_uris.py#530\u001b\\\u001b[2m530\u001b[0m\u001b]8;;\u001b\\\n"
      ]
     },
     "metadata": {},
     "output_type": "display_data"
    },
    {
     "data": {
      "text/html": [
       "<pre style=\"white-space:pre;overflow-x:auto;line-height:normal;font-family:Menlo,'DejaVu Sans Mono',consolas,'Courier New',monospace\"><span style=\"color: #7fbfbf; text-decoration-color: #7fbfbf\">[06/04/25 16:02:47] </span><span style=\"color: #0069ff; text-decoration-color: #0069ff; font-weight: bold\">INFO    </span> Same images used for training and inference. Defaulting to image     <a href=\"file:///home/ec2-user/anaconda3/envs/python3/lib/python3.10/site-packages/sagemaker/image_uris.py\" target=\"_blank\"><span style=\"color: #7f7f7f; text-decoration-color: #7f7f7f\">image_uris.py</span></a><span style=\"color: #7f7f7f; text-decoration-color: #7f7f7f\">:</span><a href=\"file:///home/ec2-user/anaconda3/envs/python3/lib/python3.10/site-packages/sagemaker/image_uris.py#393\" target=\"_blank\"><span style=\"color: #7f7f7f; text-decoration-color: #7f7f7f\">393</span></a>\n",
       "<span style=\"color: #7fbfbf; text-decoration-color: #7fbfbf\">                    </span>         scope: inference.                                                    <span style=\"color: #7f7f7f; text-decoration-color: #7f7f7f\">                 </span>\n",
       "</pre>\n"
      ],
      "text/plain": [
       "\u001b[2;36m[06/04/25 16:02:47]\u001b[0m\u001b[2;36m \u001b[0m\u001b[1;38;2;0;105;255mINFO    \u001b[0m Same images used for training and inference. Defaulting to image     \u001b]8;id=225561;file:///home/ec2-user/anaconda3/envs/python3/lib/python3.10/site-packages/sagemaker/image_uris.py\u001b\\\u001b[2mimage_uris.py\u001b[0m\u001b]8;;\u001b\\\u001b[2m:\u001b[0m\u001b]8;id=80194;file:///home/ec2-user/anaconda3/envs/python3/lib/python3.10/site-packages/sagemaker/image_uris.py#393\u001b\\\u001b[2m393\u001b[0m\u001b]8;;\u001b\\\n",
       "\u001b[2;36m                    \u001b[0m         scope: inference.                                                    \u001b[2m                 \u001b[0m\n"
      ]
     },
     "metadata": {},
     "output_type": "display_data"
    },
    {
     "data": {
      "text/html": [
       "<pre style=\"white-space:pre;overflow-x:auto;line-height:normal;font-family:Menlo,'DejaVu Sans Mono',consolas,'Courier New',monospace\"><span style=\"color: #7fbfbf; text-decoration-color: #7fbfbf\">                    </span><span style=\"color: #0069ff; text-decoration-color: #0069ff; font-weight: bold\">INFO    </span> Ignoring unnecessary instance type: <span style=\"color: #e100e1; text-decoration-color: #e100e1; font-style: italic\">None</span>.                            <a href=\"file:///home/ec2-user/anaconda3/envs/python3/lib/python3.10/site-packages/sagemaker/image_uris.py\" target=\"_blank\"><span style=\"color: #7f7f7f; text-decoration-color: #7f7f7f\">image_uris.py</span></a><span style=\"color: #7f7f7f; text-decoration-color: #7f7f7f\">:</span><a href=\"file:///home/ec2-user/anaconda3/envs/python3/lib/python3.10/site-packages/sagemaker/image_uris.py#530\" target=\"_blank\"><span style=\"color: #7f7f7f; text-decoration-color: #7f7f7f\">530</span></a>\n",
       "</pre>\n"
      ],
      "text/plain": [
       "\u001b[2;36m                   \u001b[0m\u001b[2;36m \u001b[0m\u001b[1;38;2;0;105;255mINFO    \u001b[0m Ignoring unnecessary instance type: \u001b[3;38;2;225;0;225mNone\u001b[0m.                            \u001b]8;id=292074;file:///home/ec2-user/anaconda3/envs/python3/lib/python3.10/site-packages/sagemaker/image_uris.py\u001b\\\u001b[2mimage_uris.py\u001b[0m\u001b]8;;\u001b\\\u001b[2m:\u001b[0m\u001b]8;id=267704;file:///home/ec2-user/anaconda3/envs/python3/lib/python3.10/site-packages/sagemaker/image_uris.py#530\u001b\\\u001b[2m530\u001b[0m\u001b]8;;\u001b\\\n"
      ]
     },
     "metadata": {},
     "output_type": "display_data"
    },
    {
     "data": {
      "text/html": [
       "<pre style=\"white-space:pre;overflow-x:auto;line-height:normal;font-family:Menlo,'DejaVu Sans Mono',consolas,'Courier New',monospace\"><span style=\"color: #7fbfbf; text-decoration-color: #7fbfbf\">                    </span><span style=\"color: #0069ff; text-decoration-color: #0069ff; font-weight: bold\">INFO    </span> Creating training-job with name:                                       <a href=\"file:///home/ec2-user/anaconda3/envs/python3/lib/python3.10/site-packages/sagemaker/session.py\" target=\"_blank\"><span style=\"color: #7f7f7f; text-decoration-color: #7f7f7f\">session.py</span></a><span style=\"color: #7f7f7f; text-decoration-color: #7f7f7f\">:</span><a href=\"file:///home/ec2-user/anaconda3/envs/python3/lib/python3.10/site-packages/sagemaker/session.py#1042\" target=\"_blank\"><span style=\"color: #7f7f7f; text-decoration-color: #7f7f7f\">1042</span></a>\n",
       "<span style=\"color: #7fbfbf; text-decoration-color: #7fbfbf\">                    </span>         linear-learner-<span style=\"color: #008080; text-decoration-color: #008080; font-weight: bold\">2025</span>-06-04-16-02-46-940                                 <span style=\"color: #7f7f7f; text-decoration-color: #7f7f7f\">               </span>\n",
       "</pre>\n"
      ],
      "text/plain": [
       "\u001b[2;36m                   \u001b[0m\u001b[2;36m \u001b[0m\u001b[1;38;2;0;105;255mINFO    \u001b[0m Creating training-job with name:                                       \u001b]8;id=261906;file:///home/ec2-user/anaconda3/envs/python3/lib/python3.10/site-packages/sagemaker/session.py\u001b\\\u001b[2msession.py\u001b[0m\u001b]8;;\u001b\\\u001b[2m:\u001b[0m\u001b]8;id=816260;file:///home/ec2-user/anaconda3/envs/python3/lib/python3.10/site-packages/sagemaker/session.py#1042\u001b\\\u001b[2m1042\u001b[0m\u001b]8;;\u001b\\\n",
       "\u001b[2;36m                    \u001b[0m         linear-learner-\u001b[1;36m2025\u001b[0m-06-04-16-02-46-940                                 \u001b[2m               \u001b[0m\n"
      ]
     },
     "metadata": {},
     "output_type": "display_data"
    },
    {
     "name": "stdout",
     "output_type": "stream",
     "text": [
      "2025-06-04 16:02:47 Starting - Starting the training job...\n",
      "2025-06-04 16:03:09 Starting - Preparing the instances for training...\n",
      "2025-06-04 16:03:49 Downloading - Downloading the training image.........\n",
      "2025-06-04 16:05:16 Training - Training image download completed. Training in progress...\u001b[34mDocker entrypoint called with argument(s): train\u001b[0m\n",
      "\u001b[34mRunning default environment configuration script\u001b[0m\n",
      "\u001b[34m[06/04/2025 16:05:25 INFO 140352932898624] Reading default configuration from /opt/amazon/lib/python3.8/site-packages/algorithm/resources/default-input.json: {'mini_batch_size': '1000', 'epochs': '15', 'feature_dim': 'auto', 'use_bias': 'true', 'binary_classifier_model_selection_criteria': 'accuracy', 'f_beta': '1.0', 'target_recall': '0.8', 'target_precision': '0.8', 'num_models': 'auto', 'num_calibration_samples': '10000000', 'init_method': 'uniform', 'init_scale': '0.07', 'init_sigma': '0.01', 'init_bias': '0.0', 'optimizer': 'auto', 'loss': 'auto', 'margin': '1.0', 'quantile': '0.5', 'loss_insensitivity': '0.01', 'huber_delta': '1.0', 'num_classes': '1', 'accuracy_top_k': '3', 'wd': 'auto', 'l1': 'auto', 'momentum': 'auto', 'learning_rate': 'auto', 'beta_1': 'auto', 'beta_2': 'auto', 'bias_lr_mult': 'auto', 'bias_wd_mult': 'auto', 'use_lr_scheduler': 'true', 'lr_scheduler_step': 'auto', 'lr_scheduler_factor': 'auto', 'lr_scheduler_minimum_lr': 'auto', 'positive_example_weight_mult': '1.0', 'balance_multiclass_weights': 'false', 'normalize_data': 'true', 'normalize_label': 'auto', 'unbias_data': 'auto', 'unbias_label': 'auto', 'num_point_for_scaler': '10000', '_kvstore': 'auto', '_num_gpus': 'auto', '_num_kv_servers': 'auto', '_log_level': 'info', '_tuning_objective_metric': '', 'early_stopping_patience': '3', 'early_stopping_tolerance': '0.001', '_enable_profiler': 'false'}\u001b[0m\n",
      "\u001b[34m[06/04/2025 16:05:25 INFO 140352932898624] Merging with provided configuration from /opt/ml/input/config/hyperparameters.json: {'feature_dim': '11', 'mini_batch_size': '1000', 'predictor_type': 'regressor'}\u001b[0m\n",
      "\u001b[34m[06/04/2025 16:05:25 INFO 140352932898624] Final configuration: {'mini_batch_size': '1000', 'epochs': '15', 'feature_dim': '11', 'use_bias': 'true', 'binary_classifier_model_selection_criteria': 'accuracy', 'f_beta': '1.0', 'target_recall': '0.8', 'target_precision': '0.8', 'num_models': 'auto', 'num_calibration_samples': '10000000', 'init_method': 'uniform', 'init_scale': '0.07', 'init_sigma': '0.01', 'init_bias': '0.0', 'optimizer': 'auto', 'loss': 'auto', 'margin': '1.0', 'quantile': '0.5', 'loss_insensitivity': '0.01', 'huber_delta': '1.0', 'num_classes': '1', 'accuracy_top_k': '3', 'wd': 'auto', 'l1': 'auto', 'momentum': 'auto', 'learning_rate': 'auto', 'beta_1': 'auto', 'beta_2': 'auto', 'bias_lr_mult': 'auto', 'bias_wd_mult': 'auto', 'use_lr_scheduler': 'true', 'lr_scheduler_step': 'auto', 'lr_scheduler_factor': 'auto', 'lr_scheduler_minimum_lr': 'auto', 'positive_example_weight_mult': '1.0', 'balance_multiclass_weights': 'false', 'normalize_data': 'true', 'normalize_label': 'auto', 'unbias_data': 'auto', 'unbias_label': 'auto', 'num_point_for_scaler': '10000', '_kvstore': 'auto', '_num_gpus': 'auto', '_num_kv_servers': 'auto', '_log_level': 'info', '_tuning_objective_metric': '', 'early_stopping_patience': '3', 'early_stopping_tolerance': '0.001', '_enable_profiler': 'false', 'predictor_type': 'regressor'}\u001b[0m\n",
      "\u001b[34m/opt/amazon/lib/python3.8/site-packages/mxnet/model.py:97: SyntaxWarning: \"is\" with a literal. Did you mean \"==\"?\n",
      "  if num_device is 1 and 'dist' not in kvstore:\u001b[0m\n",
      "\u001b[34m/opt/amazon/lib/python3.8/site-packages/scipy/optimize/_shgo.py:495: SyntaxWarning: \"is\" with a literal. Did you mean \"==\"?\n",
      "  if cons['type'] is 'ineq':\u001b[0m\n",
      "\u001b[34m/opt/amazon/lib/python3.8/site-packages/scipy/optimize/_shgo.py:743: SyntaxWarning: \"is not\" with a literal. Did you mean \"!=\"?\n",
      "  if len(self.X_min) is not 0:\u001b[0m\n",
      "\u001b[34m[06/04/2025 16:05:28 WARNING 140352932898624] Loggers have already been setup.\u001b[0m\n",
      "\u001b[34m[06/04/2025 16:05:28 INFO 140352932898624] Final configuration: {'mini_batch_size': '1000', 'epochs': '15', 'feature_dim': '11', 'use_bias': 'true', 'binary_classifier_model_selection_criteria': 'accuracy', 'f_beta': '1.0', 'target_recall': '0.8', 'target_precision': '0.8', 'num_models': 'auto', 'num_calibration_samples': '10000000', 'init_method': 'uniform', 'init_scale': '0.07', 'init_sigma': '0.01', 'init_bias': '0.0', 'optimizer': 'auto', 'loss': 'auto', 'margin': '1.0', 'quantile': '0.5', 'loss_insensitivity': '0.01', 'huber_delta': '1.0', 'num_classes': '1', 'accuracy_top_k': '3', 'wd': 'auto', 'l1': 'auto', 'momentum': 'auto', 'learning_rate': 'auto', 'beta_1': 'auto', 'beta_2': 'auto', 'bias_lr_mult': 'auto', 'bias_wd_mult': 'auto', 'use_lr_scheduler': 'true', 'lr_scheduler_step': 'auto', 'lr_scheduler_factor': 'auto', 'lr_scheduler_minimum_lr': 'auto', 'positive_example_weight_mult': '1.0', 'balance_multiclass_weights': 'false', 'normalize_data': 'true', 'normalize_label': 'auto', 'unbias_data': 'auto', 'unbias_label': 'auto', 'num_point_for_scaler': '10000', '_kvstore': 'auto', '_num_gpus': 'auto', '_num_kv_servers': 'auto', '_log_level': 'info', '_tuning_objective_metric': '', 'early_stopping_patience': '3', 'early_stopping_tolerance': '0.001', '_enable_profiler': 'false', 'predictor_type': 'regressor'}\u001b[0m\n",
      "\u001b[34m[06/04/2025 16:05:28 WARNING 140352932898624] Loggers have already been setup.\u001b[0m\n",
      "\u001b[34mProcess 7 is a worker.\u001b[0m\n",
      "\u001b[34m[06/04/2025 16:05:28 INFO 140352932898624] Using default worker.\u001b[0m\n",
      "\u001b[34m[06/04/2025 16:05:28 INFO 140352932898624] Checkpoint loading and saving are disabled.\u001b[0m\n",
      "\u001b[34m[2025-06-04 16:05:28.464] [tensorio] [info] epoch_stats={\"data_pipeline\": \"/opt/ml/input/data/train\", \"epoch\": 0, \"duration\": 12, \"num_examples\": 1, \"num_bytes\": 88000}\u001b[0m\n",
      "\u001b[34m[06/04/2025 16:05:28 INFO 140352932898624] Create Store: local\u001b[0m\n",
      "\u001b[34m[2025-06-04 16:05:28.494] [tensorio] [info] epoch_stats={\"data_pipeline\": \"/opt/ml/input/data/train\", \"epoch\": 1, \"duration\": 30, \"num_examples\": 6, \"num_bytes\": 457336}\u001b[0m\n",
      "\u001b[34m[06/04/2025 16:05:28 INFO 140352932898624] Scaler algorithm parameters\n",
      " <algorithm.scaler.ScalerAlgorithmStable object at 0x7fa5e5aa4430>\u001b[0m\n",
      "\u001b[34m[06/04/2025 16:05:28 INFO 140352932898624] Scaling model computed with parameters:\n",
      " {'stdev_label': \u001b[0m\n",
      "\u001b[34m[0.87956274]\u001b[0m\n",
      "\u001b[34m<NDArray 1 @cpu(0)>, 'stdev_weight': \u001b[0m\n",
      "\u001b[34m[1.2831051e+00 1.6443668e-01 1.4513582e-01 4.7612395e+00 3.5587091e-02\n",
      " 1.7743948e+01 5.6641651e+01 3.0019558e-03 1.6026515e-01 1.5157002e-01\n",
      " 1.1945989e+00]\u001b[0m\n",
      "\u001b[34m<NDArray 11 @cpu(0)>, 'mean_label': \u001b[0m\n",
      "\u001b[34m[5.8212004]\u001b[0m\n",
      "\u001b[34m<NDArray 1 @cpu(0)>, 'mean_weight': \u001b[0m\n",
      "\u001b[34m[7.2194905e+00 3.3911502e-01 3.1858802e-01 5.4554305e+00 5.6020200e-02\n",
      " 3.0500000e+01 1.1624411e+02 9.9469781e-01 3.2182324e+00 5.3268200e-01\n",
      " 1.0495744e+01]\u001b[0m\n",
      "\u001b[34m<NDArray 11 @cpu(0)>}\u001b[0m\n",
      "\u001b[34m/opt/amazon/python3.8/lib/python3.8/subprocess.py:848: RuntimeWarning: line buffering (buffering=1) isn't supported in binary mode, the default buffer size will be used\n",
      "  self.stdout = io.open(c2pread, 'rb', bufsize)\u001b[0m\n",
      "\u001b[34m[06/04/2025 16:05:28 INFO 140352932898624] nvidia-smi: took 0.032 seconds to run.\u001b[0m\n",
      "\u001b[34m[06/04/2025 16:05:28 INFO 140352932898624] nvidia-smi identified 0 GPUs.\u001b[0m\n",
      "\u001b[34m[06/04/2025 16:05:28 INFO 140352932898624] Number of GPUs being used: 0\u001b[0m\n",
      "\u001b[34m#metrics {\"StartTime\": 1749053128.5841594, \"EndTime\": 1749053128.5841923, \"Dimensions\": {\"Algorithm\": \"Linear Learner\", \"Host\": \"algo-1\", \"Operation\": \"training\", \"Meta\": \"init_train_data_iter\"}, \"Metrics\": {\"Total Records Seen\": {\"sum\": 6197.0, \"count\": 1, \"min\": 6197, \"max\": 6197}, \"Total Batches Seen\": {\"sum\": 7.0, \"count\": 1, \"min\": 7, \"max\": 7}, \"Max Records Seen Between Resets\": {\"sum\": 5197.0, \"count\": 1, \"min\": 5197, \"max\": 5197}, \"Max Batches Seen Between Resets\": {\"sum\": 6.0, \"count\": 1, \"min\": 6, \"max\": 6}, \"Reset Count\": {\"sum\": 2.0, \"count\": 1, \"min\": 2, \"max\": 2}, \"Number of Records Since Last Reset\": {\"sum\": 0.0, \"count\": 1, \"min\": 0, \"max\": 0}, \"Number of Batches Since Last Reset\": {\"sum\": 0.0, \"count\": 1, \"min\": 0, \"max\": 0}}}\u001b[0m\n",
      "\u001b[34m[2025-06-04 16:05:28.674] [tensorio] [info] epoch_stats={\"data_pipeline\": \"/opt/ml/input/data/train\", \"epoch\": 4, \"duration\": 90, \"num_examples\": 6, \"num_bytes\": 457336}\u001b[0m\n",
      "\u001b[34m#metrics {\"StartTime\": 1749053128.6749918, \"EndTime\": 1749053128.675044, \"Dimensions\": {\"Algorithm\": \"Linear Learner\", \"Host\": \"algo-1\", \"Operation\": \"training\", \"epoch\": 0, \"model\": 0}, \"Metrics\": {\"train_mse_objective\": {\"sum\": 1.000116015625, \"count\": 1, \"min\": 1.000116015625, \"max\": 1.000116015625}}}\u001b[0m\n",
      "\u001b[34m#metrics {\"StartTime\": 1749053128.6751342, \"EndTime\": 1749053128.67515, \"Dimensions\": {\"Algorithm\": \"Linear Learner\", \"Host\": \"algo-1\", \"Operation\": \"training\", \"epoch\": 0, \"model\": 1}, \"Metrics\": {\"train_mse_objective\": {\"sum\": 0.9133348754882813, \"count\": 1, \"min\": 0.9133348754882813, \"max\": 0.9133348754882813}}}\u001b[0m\n",
      "\u001b[34m#metrics {\"StartTime\": 1749053128.6752148, \"EndTime\": 1749053128.6752255, \"Dimensions\": {\"Algorithm\": \"Linear Learner\", \"Host\": \"algo-1\", \"Operation\": \"training\", \"epoch\": 0, \"model\": 2}, \"Metrics\": {\"train_mse_objective\": {\"sum\": 1.05029990234375, \"count\": 1, \"min\": 1.05029990234375, \"max\": 1.05029990234375}}}\u001b[0m\n",
      "\u001b[34m#metrics {\"StartTime\": 1749053128.675266, \"EndTime\": 1749053128.675276, \"Dimensions\": {\"Algorithm\": \"Linear Learner\", \"Host\": \"algo-1\", \"Operation\": \"training\", \"epoch\": 0, \"model\": 3}, \"Metrics\": {\"train_mse_objective\": {\"sum\": 0.9235229858398437, \"count\": 1, \"min\": 0.9235229858398437, \"max\": 0.9235229858398437}}}\u001b[0m\n",
      "\u001b[34m#metrics {\"StartTime\": 1749053128.675306, \"EndTime\": 1749053128.6753151, \"Dimensions\": {\"Algorithm\": \"Linear Learner\", \"Host\": \"algo-1\", \"Operation\": \"training\", \"epoch\": 0, \"model\": 4}, \"Metrics\": {\"train_mse_objective\": {\"sum\": 1.2330463745117188, \"count\": 1, \"min\": 1.2330463745117188, \"max\": 1.2330463745117188}}}\u001b[0m\n",
      "\u001b[34m#metrics {\"StartTime\": 1749053128.6753628, \"EndTime\": 1749053128.6753726, \"Dimensions\": {\"Algorithm\": \"Linear Learner\", \"Host\": \"algo-1\", \"Operation\": \"training\", \"epoch\": 0, \"model\": 5}, \"Metrics\": {\"train_mse_objective\": {\"sum\": 1.3084774780273438, \"count\": 1, \"min\": 1.3084774780273438, \"max\": 1.3084774780273438}}}\u001b[0m\n",
      "\u001b[34m#metrics {\"StartTime\": 1749053128.6754184, \"EndTime\": 1749053128.675428, \"Dimensions\": {\"Algorithm\": \"Linear Learner\", \"Host\": \"algo-1\", \"Operation\": \"training\", \"epoch\": 0, \"model\": 6}, \"Metrics\": {\"train_mse_objective\": {\"sum\": 1.2788368408203126, \"count\": 1, \"min\": 1.2788368408203126, \"max\": 1.2788368408203126}}}\u001b[0m\n",
      "\u001b[34m#metrics {\"StartTime\": 1749053128.6754594, \"EndTime\": 1749053128.6754677, \"Dimensions\": {\"Algorithm\": \"Linear Learner\", \"Host\": \"algo-1\", \"Operation\": \"training\", \"epoch\": 0, \"model\": 7}, \"Metrics\": {\"train_mse_objective\": {\"sum\": 1.3118309814453124, \"count\": 1, \"min\": 1.3118309814453124, \"max\": 1.3118309814453124}}}\u001b[0m\n",
      "\u001b[34m#metrics {\"StartTime\": 1749053128.6755295, \"EndTime\": 1749053128.675539, \"Dimensions\": {\"Algorithm\": \"Linear Learner\", \"Host\": \"algo-1\", \"Operation\": \"training\", \"epoch\": 0, \"model\": 8}, \"Metrics\": {\"train_mse_objective\": {\"sum\": 1.0011024658203125, \"count\": 1, \"min\": 1.0011024658203125, \"max\": 1.0011024658203125}}}\u001b[0m\n",
      "\u001b[34m#metrics {\"StartTime\": 1749053128.6756012, \"EndTime\": 1749053128.6756117, \"Dimensions\": {\"Algorithm\": \"Linear Learner\", \"Host\": \"algo-1\", \"Operation\": \"training\", \"epoch\": 0, \"model\": 9}, \"Metrics\": {\"train_mse_objective\": {\"sum\": 0.9300439208984375, \"count\": 1, \"min\": 0.9300439208984375, \"max\": 0.9300439208984375}}}\u001b[0m\n",
      "\u001b[34m#metrics {\"StartTime\": 1749053128.6756437, \"EndTime\": 1749053128.6756496, \"Dimensions\": {\"Algorithm\": \"Linear Learner\", \"Host\": \"algo-1\", \"Operation\": \"training\", \"epoch\": 0, \"model\": 10}, \"Metrics\": {\"train_mse_objective\": {\"sum\": 0.9074666137695313, \"count\": 1, \"min\": 0.9074666137695313, \"max\": 0.9074666137695313}}}\u001b[0m\n",
      "\u001b[34m#metrics {\"StartTime\": 1749053128.6757073, \"EndTime\": 1749053128.6757166, \"Dimensions\": {\"Algorithm\": \"Linear Learner\", \"Host\": \"algo-1\", \"Operation\": \"training\", \"epoch\": 0, \"model\": 11}, \"Metrics\": {\"train_mse_objective\": {\"sum\": 1.04194287109375, \"count\": 1, \"min\": 1.04194287109375, \"max\": 1.04194287109375}}}\u001b[0m\n",
      "\u001b[34m#metrics {\"StartTime\": 1749053128.6757517, \"EndTime\": 1749053128.67576, \"Dimensions\": {\"Algorithm\": \"Linear Learner\", \"Host\": \"algo-1\", \"Operation\": \"training\", \"epoch\": 0, \"model\": 12}, \"Metrics\": {\"train_mse_objective\": {\"sum\": 1.2594295532226563, \"count\": 1, \"min\": 1.2594295532226563, \"max\": 1.2594295532226563}}}\u001b[0m\n",
      "\u001b[34m#metrics {\"StartTime\": 1749053128.675833, \"EndTime\": 1749053128.675843, \"Dimensions\": {\"Algorithm\": \"Linear Learner\", \"Host\": \"algo-1\", \"Operation\": \"training\", \"epoch\": 0, \"model\": 13}, \"Metrics\": {\"train_mse_objective\": {\"sum\": 1.231330224609375, \"count\": 1, \"min\": 1.231330224609375, \"max\": 1.231330224609375}}}\u001b[0m\n",
      "\u001b[34m#metrics {\"StartTime\": 1749053128.6759093, \"EndTime\": 1749053128.6759195, \"Dimensions\": {\"Algorithm\": \"Linear Learner\", \"Host\": \"algo-1\", \"Operation\": \"training\", \"epoch\": 0, \"model\": 14}, \"Metrics\": {\"train_mse_objective\": {\"sum\": 1.3142445678710937, \"count\": 1, \"min\": 1.3142445678710937, \"max\": 1.3142445678710937}}}\u001b[0m\n",
      "\u001b[34m#metrics {\"StartTime\": 1749053128.6759586, \"EndTime\": 1749053128.6759675, \"Dimensions\": {\"Algorithm\": \"Linear Learner\", \"Host\": \"algo-1\", \"Operation\": \"training\", \"epoch\": 0, \"model\": 15}, \"Metrics\": {\"train_mse_objective\": {\"sum\": 1.2390019653320312, \"count\": 1, \"min\": 1.2390019653320312, \"max\": 1.2390019653320312}}}\u001b[0m\n",
      "\u001b[34m#metrics {\"StartTime\": 1749053128.6760018, \"EndTime\": 1749053128.6760113, \"Dimensions\": {\"Algorithm\": \"Linear Learner\", \"Host\": \"algo-1\", \"Operation\": \"training\", \"epoch\": 0, \"model\": 16}, \"Metrics\": {\"train_mse_objective\": {\"sum\": 0.981229248046875, \"count\": 1, \"min\": 0.981229248046875, \"max\": 0.981229248046875}}}\u001b[0m\n",
      "\u001b[34m#metrics {\"StartTime\": 1749053128.6760473, \"EndTime\": 1749053128.6760557, \"Dimensions\": {\"Algorithm\": \"Linear Learner\", \"Host\": \"algo-1\", \"Operation\": \"training\", \"epoch\": 0, \"model\": 17}, \"Metrics\": {\"train_mse_objective\": {\"sum\": 1.0108018432617187, \"count\": 1, \"min\": 1.0108018432617187, \"max\": 1.0108018432617187}}}\u001b[0m\n",
      "\u001b[34m#metrics {\"StartTime\": 1749053128.6760898, \"EndTime\": 1749053128.6760988, \"Dimensions\": {\"Algorithm\": \"Linear Learner\", \"Host\": \"algo-1\", \"Operation\": \"training\", \"epoch\": 0, \"model\": 18}, \"Metrics\": {\"train_mse_objective\": {\"sum\": 0.97001845703125, \"count\": 1, \"min\": 0.97001845703125, \"max\": 0.97001845703125}}}\u001b[0m\n",
      "\u001b[34m#metrics {\"StartTime\": 1749053128.6761336, \"EndTime\": 1749053128.676143, \"Dimensions\": {\"Algorithm\": \"Linear Learner\", \"Host\": \"algo-1\", \"Operation\": \"training\", \"epoch\": 0, \"model\": 19}, \"Metrics\": {\"train_mse_objective\": {\"sum\": 1.0301016479492187, \"count\": 1, \"min\": 1.0301016479492187, \"max\": 1.0301016479492187}}}\u001b[0m\n",
      "\u001b[34m#metrics {\"StartTime\": 1749053128.676178, \"EndTime\": 1749053128.6761856, \"Dimensions\": {\"Algorithm\": \"Linear Learner\", \"Host\": \"algo-1\", \"Operation\": \"training\", \"epoch\": 0, \"model\": 20}, \"Metrics\": {\"train_mse_objective\": {\"sum\": 1.260418701171875, \"count\": 1, \"min\": 1.260418701171875, \"max\": 1.260418701171875}}}\u001b[0m\n",
      "\u001b[34m#metrics {\"StartTime\": 1749053128.6762538, \"EndTime\": 1749053128.6762652, \"Dimensions\": {\"Algorithm\": \"Linear Learner\", \"Host\": \"algo-1\", \"Operation\": \"training\", \"epoch\": 0, \"model\": 21}, \"Metrics\": {\"train_mse_objective\": {\"sum\": 1.2359267700195313, \"count\": 1, \"min\": 1.2359267700195313, \"max\": 1.2359267700195313}}}\u001b[0m\n",
      "\u001b[34m#metrics {\"StartTime\": 1749053128.676338, \"EndTime\": 1749053128.6763494, \"Dimensions\": {\"Algorithm\": \"Linear Learner\", \"Host\": \"algo-1\", \"Operation\": \"training\", \"epoch\": 0, \"model\": 22}, \"Metrics\": {\"train_mse_objective\": {\"sum\": 1.2661510498046875, \"count\": 1, \"min\": 1.2661510498046875, \"max\": 1.2661510498046875}}}\u001b[0m\n",
      "\u001b[34m#metrics {\"StartTime\": 1749053128.6764214, \"EndTime\": 1749053128.6764328, \"Dimensions\": {\"Algorithm\": \"Linear Learner\", \"Host\": \"algo-1\", \"Operation\": \"training\", \"epoch\": 0, \"model\": 23}, \"Metrics\": {\"train_mse_objective\": {\"sum\": 1.2299479125976562, \"count\": 1, \"min\": 1.2299479125976562, \"max\": 1.2299479125976562}}}\u001b[0m\n",
      "\u001b[34m#metrics {\"StartTime\": 1749053128.676503, \"EndTime\": 1749053128.6765144, \"Dimensions\": {\"Algorithm\": \"Linear Learner\", \"Host\": \"algo-1\", \"Operation\": \"training\", \"epoch\": 0, \"model\": 24}, \"Metrics\": {\"train_mse_objective\": {\"sum\": 0.9844285034179687, \"count\": 1, \"min\": 0.9844285034179687, \"max\": 0.9844285034179687}}}\u001b[0m\n",
      "\u001b[34m#metrics {\"StartTime\": 1749053128.6765707, \"EndTime\": 1749053128.676582, \"Dimensions\": {\"Algorithm\": \"Linear Learner\", \"Host\": \"algo-1\", \"Operation\": \"training\", \"epoch\": 0, \"model\": 25}, \"Metrics\": {\"train_mse_objective\": {\"sum\": 0.9752709716796875, \"count\": 1, \"min\": 0.9752709716796875, \"max\": 0.9752709716796875}}}\u001b[0m\n",
      "\u001b[34m#metrics {\"StartTime\": 1749053128.6766326, \"EndTime\": 1749053128.6766403, \"Dimensions\": {\"Algorithm\": \"Linear Learner\", \"Host\": \"algo-1\", \"Operation\": \"training\", \"epoch\": 0, \"model\": 26}, \"Metrics\": {\"train_mse_objective\": {\"sum\": 0.9849039672851563, \"count\": 1, \"min\": 0.9849039672851563, \"max\": 0.9849039672851563}}}\u001b[0m\n",
      "\u001b[34m#metrics {\"StartTime\": 1749053128.676695, \"EndTime\": 1749053128.6767054, \"Dimensions\": {\"Algorithm\": \"Linear Learner\", \"Host\": \"algo-1\", \"Operation\": \"training\", \"epoch\": 0, \"model\": 27}, \"Metrics\": {\"train_mse_objective\": {\"sum\": 0.99964794921875, \"count\": 1, \"min\": 0.99964794921875, \"max\": 0.99964794921875}}}\u001b[0m\n",
      "\u001b[34m#metrics {\"StartTime\": 1749053128.6767545, \"EndTime\": 1749053128.6767642, \"Dimensions\": {\"Algorithm\": \"Linear Learner\", \"Host\": \"algo-1\", \"Operation\": \"training\", \"epoch\": 0, \"model\": 28}, \"Metrics\": {\"train_mse_objective\": {\"sum\": 1.3921330078125, \"count\": 1, \"min\": 1.3921330078125, \"max\": 1.3921330078125}}}\u001b[0m\n",
      "\u001b[34m#metrics {\"StartTime\": 1749053128.6768167, \"EndTime\": 1749053128.676826, \"Dimensions\": {\"Algorithm\": \"Linear Learner\", \"Host\": \"algo-1\", \"Operation\": \"training\", \"epoch\": 0, \"model\": 29}, \"Metrics\": {\"train_mse_objective\": {\"sum\": 1.3901312622070312, \"count\": 1, \"min\": 1.3901312622070312, \"max\": 1.3901312622070312}}}\u001b[0m\n",
      "\u001b[34m#metrics {\"StartTime\": 1749053128.6768525, \"EndTime\": 1749053128.6768606, \"Dimensions\": {\"Algorithm\": \"Linear Learner\", \"Host\": \"algo-1\", \"Operation\": \"training\", \"epoch\": 0, \"model\": 30}, \"Metrics\": {\"train_mse_objective\": {\"sum\": 1.3915237426757812, \"count\": 1, \"min\": 1.3915237426757812, \"max\": 1.3915237426757812}}}\u001b[0m\n",
      "\u001b[34m#metrics {\"StartTime\": 1749053128.67689, \"EndTime\": 1749053128.6768982, \"Dimensions\": {\"Algorithm\": \"Linear Learner\", \"Host\": \"algo-1\", \"Operation\": \"training\", \"epoch\": 0, \"model\": 31}, \"Metrics\": {\"train_mse_objective\": {\"sum\": 1.3937173095703126, \"count\": 1, \"min\": 1.3937173095703126, \"max\": 1.3937173095703126}}}\u001b[0m\n",
      "\u001b[34m[06/04/2025 16:05:28 INFO 140352932898624] #quality_metric: host=algo-1, epoch=0, train mse_objective <loss>=1.000116015625\u001b[0m\n",
      "\u001b[34m[06/04/2025 16:05:28 INFO 140352932898624] #early_stopping_criteria_metric: host=algo-1, epoch=0, criteria=mse_objective, value=0.9074666137695313\u001b[0m\n",
      "\u001b[34m[06/04/2025 16:05:28 INFO 140352932898624] Epoch 0: Loss improved. Updating best model\u001b[0m\n",
      "\u001b[34m[06/04/2025 16:05:28 INFO 140352932898624] Saving model for epoch: 0\u001b[0m\n",
      "\u001b[34m[06/04/2025 16:05:28 INFO 140352932898624] Saved checkpoint to \"/tmp/tmpaghkyu8c/mx-mod-0000.params\"\u001b[0m\n",
      "\u001b[34m[06/04/2025 16:05:28 INFO 140352932898624] #progress_metric: host=algo-1, completed 6.666666666666667 % of epochs\u001b[0m\n",
      "\u001b[34m#metrics {\"StartTime\": 1749053128.5844088, \"EndTime\": 1749053128.684306, \"Dimensions\": {\"Algorithm\": \"Linear Learner\", \"Host\": \"algo-1\", \"Operation\": \"training\", \"epoch\": 0, \"Meta\": \"training_data_iter\"}, \"Metrics\": {\"Total Records Seen\": {\"sum\": 11394.0, \"count\": 1, \"min\": 11394, \"max\": 11394}, \"Total Batches Seen\": {\"sum\": 13.0, \"count\": 1, \"min\": 13, \"max\": 13}, \"Max Records Seen Between Resets\": {\"sum\": 5197.0, \"count\": 1, \"min\": 5197, \"max\": 5197}, \"Max Batches Seen Between Resets\": {\"sum\": 6.0, \"count\": 1, \"min\": 6, \"max\": 6}, \"Reset Count\": {\"sum\": 3.0, \"count\": 1, \"min\": 3, \"max\": 3}, \"Number of Records Since Last Reset\": {\"sum\": 5197.0, \"count\": 1, \"min\": 5197, \"max\": 5197}, \"Number of Batches Since Last Reset\": {\"sum\": 6.0, \"count\": 1, \"min\": 6, \"max\": 6}}}\u001b[0m\n",
      "\u001b[34m[06/04/2025 16:05:28 INFO 140352932898624] #throughput_metric: host=algo-1, train throughput=51958.03342335535 records/second\u001b[0m\n",
      "\u001b[34m[2025-06-04 16:05:28.754] [tensorio] [info] epoch_stats={\"data_pipeline\": \"/opt/ml/input/data/train\", \"epoch\": 6, \"duration\": 69, \"num_examples\": 6, \"num_bytes\": 457336}\u001b[0m\n",
      "\u001b[34m#metrics {\"StartTime\": 1749053128.754469, \"EndTime\": 1749053128.7545238, \"Dimensions\": {\"Algorithm\": \"Linear Learner\", \"Host\": \"algo-1\", \"Operation\": \"training\", \"epoch\": 1, \"model\": 0}, \"Metrics\": {\"train_mse_objective\": {\"sum\": 0.92802353515625, \"count\": 1, \"min\": 0.92802353515625, \"max\": 0.92802353515625}}}\u001b[0m\n",
      "\u001b[34m#metrics {\"StartTime\": 1749053128.7546089, \"EndTime\": 1749053128.7546217, \"Dimensions\": {\"Algorithm\": \"Linear Learner\", \"Host\": \"algo-1\", \"Operation\": \"training\", \"epoch\": 1, \"model\": 1}, \"Metrics\": {\"train_mse_objective\": {\"sum\": 0.8647055908203125, \"count\": 1, \"min\": 0.8647055908203125, \"max\": 0.8647055908203125}}}\u001b[0m\n",
      "\u001b[34m#metrics {\"StartTime\": 1749053128.7546654, \"EndTime\": 1749053128.7546756, \"Dimensions\": {\"Algorithm\": \"Linear Learner\", \"Host\": \"algo-1\", \"Operation\": \"training\", \"epoch\": 1, \"model\": 2}, \"Metrics\": {\"train_mse_objective\": {\"sum\": 0.9802101440429688, \"count\": 1, \"min\": 0.9802101440429688, \"max\": 0.9802101440429688}}}\u001b[0m\n",
      "\u001b[34m#metrics {\"StartTime\": 1749053128.7547066, \"EndTime\": 1749053128.7547143, \"Dimensions\": {\"Algorithm\": \"Linear Learner\", \"Host\": \"algo-1\", \"Operation\": \"training\", \"epoch\": 1, \"model\": 3}, \"Metrics\": {\"train_mse_objective\": {\"sum\": 0.8661563110351562, \"count\": 1, \"min\": 0.8661563110351562, \"max\": 0.8661563110351562}}}\u001b[0m\n",
      "\u001b[34m#metrics {\"StartTime\": 1749053128.7547746, \"EndTime\": 1749053128.7547853, \"Dimensions\": {\"Algorithm\": \"Linear Learner\", \"Host\": \"algo-1\", \"Operation\": \"training\", \"epoch\": 1, \"model\": 4}, \"Metrics\": {\"train_mse_objective\": {\"sum\": 0.9274478759765625, \"count\": 1, \"min\": 0.9274478759765625, \"max\": 0.9274478759765625}}}\u001b[0m\n",
      "\u001b[34m#metrics {\"StartTime\": 1749053128.754841, \"EndTime\": 1749053128.7548516, \"Dimensions\": {\"Algorithm\": \"Linear Learner\", \"Host\": \"algo-1\", \"Operation\": \"training\", \"epoch\": 1, \"model\": 5}, \"Metrics\": {\"train_mse_objective\": {\"sum\": 0.9359286743164063, \"count\": 1, \"min\": 0.9359286743164063, \"max\": 0.9359286743164063}}}\u001b[0m\n",
      "\u001b[34m#metrics {\"StartTime\": 1749053128.75491, \"EndTime\": 1749053128.7549202, \"Dimensions\": {\"Algorithm\": \"Linear Learner\", \"Host\": \"algo-1\", \"Operation\": \"training\", \"epoch\": 1, \"model\": 6}, \"Metrics\": {\"train_mse_objective\": {\"sum\": 0.9409606323242188, \"count\": 1, \"min\": 0.9409606323242188, \"max\": 0.9409606323242188}}}\u001b[0m\n",
      "\u001b[34m#metrics {\"StartTime\": 1749053128.754981, \"EndTime\": 1749053128.7549932, \"Dimensions\": {\"Algorithm\": \"Linear Learner\", \"Host\": \"algo-1\", \"Operation\": \"training\", \"epoch\": 1, \"model\": 7}, \"Metrics\": {\"train_mse_objective\": {\"sum\": 0.9310959716796875, \"count\": 1, \"min\": 0.9310959716796875, \"max\": 0.9310959716796875}}}\u001b[0m\n",
      "\u001b[34m#metrics {\"StartTime\": 1749053128.7550669, \"EndTime\": 1749053128.7550778, \"Dimensions\": {\"Algorithm\": \"Linear Learner\", \"Host\": \"algo-1\", \"Operation\": \"training\", \"epoch\": 1, \"model\": 8}, \"Metrics\": {\"train_mse_objective\": {\"sum\": 0.9261497924804688, \"count\": 1, \"min\": 0.9261497924804688, \"max\": 0.9261497924804688}}}\u001b[0m\n",
      "\u001b[34m#metrics {\"StartTime\": 1749053128.7551534, \"EndTime\": 1749053128.7551653, \"Dimensions\": {\"Algorithm\": \"Linear Learner\", \"Host\": \"algo-1\", \"Operation\": \"training\", \"epoch\": 1, \"model\": 9}, \"Metrics\": {\"train_mse_objective\": {\"sum\": 0.8741898803710938, \"count\": 1, \"min\": 0.8741898803710938, \"max\": 0.8741898803710938}}}\u001b[0m\n",
      "\u001b[34m#metrics {\"StartTime\": 1749053128.7552016, \"EndTime\": 1749053128.7552106, \"Dimensions\": {\"Algorithm\": \"Linear Learner\", \"Host\": \"algo-1\", \"Operation\": \"training\", \"epoch\": 1, \"model\": 10}, \"Metrics\": {\"train_mse_objective\": {\"sum\": 0.8555422973632812, \"count\": 1, \"min\": 0.8555422973632812, \"max\": 0.8555422973632812}}}\u001b[0m\n",
      "\u001b[34m#metrics {\"StartTime\": 1749053128.7552414, \"EndTime\": 1749053128.7552502, \"Dimensions\": {\"Algorithm\": \"Linear Learner\", \"Host\": \"algo-1\", \"Operation\": \"training\", \"epoch\": 1, \"model\": 11}, \"Metrics\": {\"train_mse_objective\": {\"sum\": 0.970393359375, \"count\": 1, \"min\": 0.970393359375, \"max\": 0.970393359375}}}\u001b[0m\n",
      "\u001b[34m#metrics {\"StartTime\": 1749053128.7553022, \"EndTime\": 1749053128.7553122, \"Dimensions\": {\"Algorithm\": \"Linear Learner\", \"Host\": \"algo-1\", \"Operation\": \"training\", \"epoch\": 1, \"model\": 12}, \"Metrics\": {\"train_mse_objective\": {\"sum\": 0.9452667236328125, \"count\": 1, \"min\": 0.9452667236328125, \"max\": 0.9452667236328125}}}\u001b[0m\n",
      "\u001b[34m#metrics {\"StartTime\": 1749053128.755383, \"EndTime\": 1749053128.7553906, \"Dimensions\": {\"Algorithm\": \"Linear Learner\", \"Host\": \"algo-1\", \"Operation\": \"training\", \"epoch\": 1, \"model\": 13}, \"Metrics\": {\"train_mse_objective\": {\"sum\": 0.9376757446289062, \"count\": 1, \"min\": 0.9376757446289062, \"max\": 0.9376757446289062}}}\u001b[0m\n",
      "\u001b[34m#metrics {\"StartTime\": 1749053128.7554233, \"EndTime\": 1749053128.7554312, \"Dimensions\": {\"Algorithm\": \"Linear Learner\", \"Host\": \"algo-1\", \"Operation\": \"training\", \"epoch\": 1, \"model\": 14}, \"Metrics\": {\"train_mse_objective\": {\"sum\": 0.94672802734375, \"count\": 1, \"min\": 0.94672802734375, \"max\": 0.94672802734375}}}\u001b[0m\n",
      "\u001b[34m#metrics {\"StartTime\": 1749053128.7554638, \"EndTime\": 1749053128.7554727, \"Dimensions\": {\"Algorithm\": \"Linear Learner\", \"Host\": \"algo-1\", \"Operation\": \"training\", \"epoch\": 1, \"model\": 15}, \"Metrics\": {\"train_mse_objective\": {\"sum\": 0.9390410400390625, \"count\": 1, \"min\": 0.9390410400390625, \"max\": 0.9390410400390625}}}\u001b[0m\n",
      "\u001b[34m#metrics {\"StartTime\": 1749053128.7555182, \"EndTime\": 1749053128.7555277, \"Dimensions\": {\"Algorithm\": \"Linear Learner\", \"Host\": \"algo-1\", \"Operation\": \"training\", \"epoch\": 1, \"model\": 16}, \"Metrics\": {\"train_mse_objective\": {\"sum\": 0.9129019653320313, \"count\": 1, \"min\": 0.9129019653320313, \"max\": 0.9129019653320313}}}\u001b[0m\n",
      "\u001b[34m#metrics {\"StartTime\": 1749053128.7555578, \"EndTime\": 1749053128.755566, \"Dimensions\": {\"Algorithm\": \"Linear Learner\", \"Host\": \"algo-1\", \"Operation\": \"training\", \"epoch\": 1, \"model\": 17}, \"Metrics\": {\"train_mse_objective\": {\"sum\": 0.9449332397460938, \"count\": 1, \"min\": 0.9449332397460938, \"max\": 0.9449332397460938}}}\u001b[0m\n",
      "\u001b[34m#metrics {\"StartTime\": 1749053128.7556174, \"EndTime\": 1749053128.755628, \"Dimensions\": {\"Algorithm\": \"Linear Learner\", \"Host\": \"algo-1\", \"Operation\": \"training\", \"epoch\": 1, \"model\": 18}, \"Metrics\": {\"train_mse_objective\": {\"sum\": 0.9098003540039062, \"count\": 1, \"min\": 0.9098003540039062, \"max\": 0.9098003540039062}}}\u001b[0m\n",
      "\u001b[34m#metrics {\"StartTime\": 1749053128.7556584, \"EndTime\": 1749053128.755667, \"Dimensions\": {\"Algorithm\": \"Linear Learner\", \"Host\": \"algo-1\", \"Operation\": \"training\", \"epoch\": 1, \"model\": 19}, \"Metrics\": {\"train_mse_objective\": {\"sum\": 0.963896484375, \"count\": 1, \"min\": 0.963896484375, \"max\": 0.963896484375}}}\u001b[0m\n",
      "\u001b[34m#metrics {\"StartTime\": 1749053128.755726, \"EndTime\": 1749053128.7557352, \"Dimensions\": {\"Algorithm\": \"Linear Learner\", \"Host\": \"algo-1\", \"Operation\": \"training\", \"epoch\": 1, \"model\": 20}, \"Metrics\": {\"train_mse_objective\": {\"sum\": 0.96440048828125, \"count\": 1, \"min\": 0.96440048828125, \"max\": 0.96440048828125}}}\u001b[0m\n",
      "\u001b[34m#metrics {\"StartTime\": 1749053128.7557666, \"EndTime\": 1749053128.7557745, \"Dimensions\": {\"Algorithm\": \"Linear Learner\", \"Host\": \"algo-1\", \"Operation\": \"training\", \"epoch\": 1, \"model\": 21}, \"Metrics\": {\"train_mse_objective\": {\"sum\": 1.0109227416992188, \"count\": 1, \"min\": 1.0109227416992188, \"max\": 1.0109227416992188}}}\u001b[0m\n",
      "\u001b[34m#metrics {\"StartTime\": 1749053128.7558072, \"EndTime\": 1749053128.7558157, \"Dimensions\": {\"Algorithm\": \"Linear Learner\", \"Host\": \"algo-1\", \"Operation\": \"training\", \"epoch\": 1, \"model\": 22}, \"Metrics\": {\"train_mse_objective\": {\"sum\": 0.96805166015625, \"count\": 1, \"min\": 0.96805166015625, \"max\": 0.96805166015625}}}\u001b[0m\n",
      "\u001b[34m#metrics {\"StartTime\": 1749053128.7558444, \"EndTime\": 1749053128.755853, \"Dimensions\": {\"Algorithm\": \"Linear Learner\", \"Host\": \"algo-1\", \"Operation\": \"training\", \"epoch\": 1, \"model\": 23}, \"Metrics\": {\"train_mse_objective\": {\"sum\": 0.979943603515625, \"count\": 1, \"min\": 0.979943603515625, \"max\": 0.979943603515625}}}\u001b[0m\n",
      "\u001b[34m#metrics {\"StartTime\": 1749053128.755895, \"EndTime\": 1749053128.7559042, \"Dimensions\": {\"Algorithm\": \"Linear Learner\", \"Host\": \"algo-1\", \"Operation\": \"training\", \"epoch\": 1, \"model\": 24}, \"Metrics\": {\"train_mse_objective\": {\"sum\": 0.999331884765625, \"count\": 1, \"min\": 0.999331884765625, \"max\": 0.999331884765625}}}\u001b[0m\n",
      "\u001b[34m#metrics {\"StartTime\": 1749053128.755966, \"EndTime\": 1749053128.7559726, \"Dimensions\": {\"Algorithm\": \"Linear Learner\", \"Host\": \"algo-1\", \"Operation\": \"training\", \"epoch\": 1, \"model\": 25}, \"Metrics\": {\"train_mse_objective\": {\"sum\": 0.9771067626953125, \"count\": 1, \"min\": 0.9771067626953125, \"max\": 0.9771067626953125}}}\u001b[0m\n",
      "\u001b[34m#metrics {\"StartTime\": 1749053128.7559974, \"EndTime\": 1749053128.7560046, \"Dimensions\": {\"Algorithm\": \"Linear Learner\", \"Host\": \"algo-1\", \"Operation\": \"training\", \"epoch\": 1, \"model\": 26}, \"Metrics\": {\"train_mse_objective\": {\"sum\": 0.9909677368164063, \"count\": 1, \"min\": 0.9909677368164063, \"max\": 0.9909677368164063}}}\u001b[0m\n",
      "\u001b[34m#metrics {\"StartTime\": 1749053128.756034, \"EndTime\": 1749053128.756042, \"Dimensions\": {\"Algorithm\": \"Linear Learner\", \"Host\": \"algo-1\", \"Operation\": \"training\", \"epoch\": 1, \"model\": 27}, \"Metrics\": {\"train_mse_objective\": {\"sum\": 1.0017475463867187, \"count\": 1, \"min\": 1.0017475463867187, \"max\": 1.0017475463867187}}}\u001b[0m\n",
      "\u001b[34m#metrics {\"StartTime\": 1749053128.7560687, \"EndTime\": 1749053128.756076, \"Dimensions\": {\"Algorithm\": \"Linear Learner\", \"Host\": \"algo-1\", \"Operation\": \"training\", \"epoch\": 1, \"model\": 28}, \"Metrics\": {\"train_mse_objective\": {\"sum\": 1.1761537353515625, \"count\": 1, \"min\": 1.1761537353515625, \"max\": 1.1761537353515625}}}\u001b[0m\n",
      "\u001b[34m#metrics {\"StartTime\": 1749053128.7561045, \"EndTime\": 1749053128.756112, \"Dimensions\": {\"Algorithm\": \"Linear Learner\", \"Host\": \"algo-1\", \"Operation\": \"training\", \"epoch\": 1, \"model\": 29}, \"Metrics\": {\"train_mse_objective\": {\"sum\": 1.196511279296875, \"count\": 1, \"min\": 1.196511279296875, \"max\": 1.196511279296875}}}\u001b[0m\n",
      "\u001b[34m#metrics {\"StartTime\": 1749053128.7561452, \"EndTime\": 1749053128.756153, \"Dimensions\": {\"Algorithm\": \"Linear Learner\", \"Host\": \"algo-1\", \"Operation\": \"training\", \"epoch\": 1, \"model\": 30}, \"Metrics\": {\"train_mse_objective\": {\"sum\": 1.1846984619140626, \"count\": 1, \"min\": 1.1846984619140626, \"max\": 1.1846984619140626}}}\u001b[0m\n",
      "\u001b[34m#metrics {\"StartTime\": 1749053128.7562025, \"EndTime\": 1749053128.7562118, \"Dimensions\": {\"Algorithm\": \"Linear Learner\", \"Host\": \"algo-1\", \"Operation\": \"training\", \"epoch\": 1, \"model\": 31}, \"Metrics\": {\"train_mse_objective\": {\"sum\": 1.1789865600585938, \"count\": 1, \"min\": 1.1789865600585938, \"max\": 1.1789865600585938}}}\u001b[0m\n",
      "\u001b[34m[06/04/2025 16:05:28 INFO 140352932898624] #quality_metric: host=algo-1, epoch=1, train mse_objective <loss>=0.92802353515625\u001b[0m\n",
      "\u001b[34m[06/04/2025 16:05:28 INFO 140352932898624] #early_stopping_criteria_metric: host=algo-1, epoch=1, criteria=mse_objective, value=0.8555422973632812\u001b[0m\n",
      "\u001b[34m[06/04/2025 16:05:28 INFO 140352932898624] Epoch 1: Loss improved. Updating best model\u001b[0m\n",
      "\u001b[34m[06/04/2025 16:05:28 INFO 140352932898624] Saving model for epoch: 1\u001b[0m\n",
      "\u001b[34m[06/04/2025 16:05:28 INFO 140352932898624] Saved checkpoint to \"/tmp/tmp766a2iwd/mx-mod-0000.params\"\u001b[0m\n",
      "\u001b[34m[06/04/2025 16:05:28 INFO 140352932898624] #progress_metric: host=algo-1, completed 13.333333333333334 % of epochs\u001b[0m\n",
      "\u001b[34m#metrics {\"StartTime\": 1749053128.6845646, \"EndTime\": 1749053128.7628152, \"Dimensions\": {\"Algorithm\": \"Linear Learner\", \"Host\": \"algo-1\", \"Operation\": \"training\", \"epoch\": 1, \"Meta\": \"training_data_iter\"}, \"Metrics\": {\"Total Records Seen\": {\"sum\": 16591.0, \"count\": 1, \"min\": 16591, \"max\": 16591}, \"Total Batches Seen\": {\"sum\": 19.0, \"count\": 1, \"min\": 19, \"max\": 19}, \"Max Records Seen Between Resets\": {\"sum\": 5197.0, \"count\": 1, \"min\": 5197, \"max\": 5197}, \"Max Batches Seen Between Resets\": {\"sum\": 6.0, \"count\": 1, \"min\": 6, \"max\": 6}, \"Reset Count\": {\"sum\": 4.0, \"count\": 1, \"min\": 4, \"max\": 4}, \"Number of Records Since Last Reset\": {\"sum\": 5197.0, \"count\": 1, \"min\": 5197, \"max\": 5197}, \"Number of Batches Since Last Reset\": {\"sum\": 6.0, \"count\": 1, \"min\": 6, \"max\": 6}}}\u001b[0m\n",
      "\u001b[34m[06/04/2025 16:05:28 INFO 140352932898624] #throughput_metric: host=algo-1, train throughput=66289.36066271728 records/second\u001b[0m\n",
      "\u001b[34m[2025-06-04 16:05:28.830] [tensorio] [info] epoch_stats={\"data_pipeline\": \"/opt/ml/input/data/train\", \"epoch\": 8, \"duration\": 67, \"num_examples\": 6, \"num_bytes\": 457336}\u001b[0m\n",
      "\u001b[34m#metrics {\"StartTime\": 1749053128.8305957, \"EndTime\": 1749053128.83065, \"Dimensions\": {\"Algorithm\": \"Linear Learner\", \"Host\": \"algo-1\", \"Operation\": \"training\", \"epoch\": 2, \"model\": 0}, \"Metrics\": {\"train_mse_objective\": {\"sum\": 0.8754628540039062, \"count\": 1, \"min\": 0.8754628540039062, \"max\": 0.8754628540039062}}}\u001b[0m\n",
      "\u001b[34m#metrics {\"StartTime\": 1749053128.8307447, \"EndTime\": 1749053128.8307593, \"Dimensions\": {\"Algorithm\": \"Linear Learner\", \"Host\": \"algo-1\", \"Operation\": \"training\", \"epoch\": 2, \"model\": 1}, \"Metrics\": {\"train_mse_objective\": {\"sum\": 0.8294835083007812, \"count\": 1, \"min\": 0.8294835083007812, \"max\": 0.8294835083007812}}}\u001b[0m\n",
      "\u001b[34m#metrics {\"StartTime\": 1749053128.8308406, \"EndTime\": 1749053128.8308537, \"Dimensions\": {\"Algorithm\": \"Linear Learner\", \"Host\": \"algo-1\", \"Operation\": \"training\", \"epoch\": 2, \"model\": 2}, \"Metrics\": {\"train_mse_objective\": {\"sum\": 0.925646630859375, \"count\": 1, \"min\": 0.925646630859375, \"max\": 0.925646630859375}}}\u001b[0m\n",
      "\u001b[34m#metrics {\"StartTime\": 1749053128.8309305, \"EndTime\": 1749053128.8309433, \"Dimensions\": {\"Algorithm\": \"Linear Learner\", \"Host\": \"algo-1\", \"Operation\": \"training\", \"epoch\": 2, \"model\": 3}, \"Metrics\": {\"train_mse_objective\": {\"sum\": 0.824347314453125, \"count\": 1, \"min\": 0.824347314453125, \"max\": 0.824347314453125}}}\u001b[0m\n",
      "\u001b[34m#metrics {\"StartTime\": 1749053128.8310165, \"EndTime\": 1749053128.8310287, \"Dimensions\": {\"Algorithm\": \"Linear Learner\", \"Host\": \"algo-1\", \"Operation\": \"training\", \"epoch\": 2, \"model\": 4}, \"Metrics\": {\"train_mse_objective\": {\"sum\": 0.854132080078125, \"count\": 1, \"min\": 0.854132080078125, \"max\": 0.854132080078125}}}\u001b[0m\n",
      "\u001b[34m#metrics {\"StartTime\": 1749053128.8311038, \"EndTime\": 1749053128.8311157, \"Dimensions\": {\"Algorithm\": \"Linear Learner\", \"Host\": \"algo-1\", \"Operation\": \"training\", \"epoch\": 2, \"model\": 5}, \"Metrics\": {\"train_mse_objective\": {\"sum\": 0.868823828125, \"count\": 1, \"min\": 0.868823828125, \"max\": 0.868823828125}}}\u001b[0m\n",
      "\u001b[34m#metrics {\"StartTime\": 1749053128.8311892, \"EndTime\": 1749053128.831201, \"Dimensions\": {\"Algorithm\": \"Linear Learner\", \"Host\": \"algo-1\", \"Operation\": \"training\", \"epoch\": 2, \"model\": 6}, \"Metrics\": {\"train_mse_objective\": {\"sum\": 0.8645626220703125, \"count\": 1, \"min\": 0.8645626220703125, \"max\": 0.8645626220703125}}}\u001b[0m\n",
      "\u001b[34m#metrics {\"StartTime\": 1749053128.8312747, \"EndTime\": 1749053128.831286, \"Dimensions\": {\"Algorithm\": \"Linear Learner\", \"Host\": \"algo-1\", \"Operation\": \"training\", \"epoch\": 2, \"model\": 7}, \"Metrics\": {\"train_mse_objective\": {\"sum\": 0.8649970581054688, \"count\": 1, \"min\": 0.8649970581054688, \"max\": 0.8649970581054688}}}\u001b[0m\n",
      "\u001b[34m#metrics {\"StartTime\": 1749053128.83136, \"EndTime\": 1749053128.8313704, \"Dimensions\": {\"Algorithm\": \"Linear Learner\", \"Host\": \"algo-1\", \"Operation\": \"training\", \"epoch\": 2, \"model\": 8}, \"Metrics\": {\"train_mse_objective\": {\"sum\": 0.873008203125, \"count\": 1, \"min\": 0.873008203125, \"max\": 0.873008203125}}}\u001b[0m\n",
      "\u001b[34m#metrics {\"StartTime\": 1749053128.831438, \"EndTime\": 1749053128.8314495, \"Dimensions\": {\"Algorithm\": \"Linear Learner\", \"Host\": \"algo-1\", \"Operation\": \"training\", \"epoch\": 2, \"model\": 9}, \"Metrics\": {\"train_mse_objective\": {\"sum\": 0.8346687133789062, \"count\": 1, \"min\": 0.8346687133789062, \"max\": 0.8346687133789062}}}\u001b[0m\n",
      "\u001b[34m#metrics {\"StartTime\": 1749053128.8315198, \"EndTime\": 1749053128.8315318, \"Dimensions\": {\"Algorithm\": \"Linear Learner\", \"Host\": \"algo-1\", \"Operation\": \"training\", \"epoch\": 2, \"model\": 10}, \"Metrics\": {\"train_mse_objective\": {\"sum\": 0.8197530395507813, \"count\": 1, \"min\": 0.8197530395507813, \"max\": 0.8197530395507813}}}\u001b[0m\n",
      "\u001b[34m#metrics {\"StartTime\": 1749053128.831604, \"EndTime\": 1749053128.8316162, \"Dimensions\": {\"Algorithm\": \"Linear Learner\", \"Host\": \"algo-1\", \"Operation\": \"training\", \"epoch\": 2, \"model\": 11}, \"Metrics\": {\"train_mse_objective\": {\"sum\": 0.9151100952148438, \"count\": 1, \"min\": 0.9151100952148438, \"max\": 0.9151100952148438}}}\u001b[0m\n",
      "\u001b[34m#metrics {\"StartTime\": 1749053128.8316872, \"EndTime\": 1749053128.8316987, \"Dimensions\": {\"Algorithm\": \"Linear Learner\", \"Host\": \"algo-1\", \"Operation\": \"training\", \"epoch\": 2, \"model\": 12}, \"Metrics\": {\"train_mse_objective\": {\"sum\": 0.8748783935546876, \"count\": 1, \"min\": 0.8748783935546876, \"max\": 0.8748783935546876}}}\u001b[0m\n",
      "\u001b[34m#metrics {\"StartTime\": 1749053128.8317778, \"EndTime\": 1749053128.8317895, \"Dimensions\": {\"Algorithm\": \"Linear Learner\", \"Host\": \"algo-1\", \"Operation\": \"training\", \"epoch\": 2, \"model\": 13}, \"Metrics\": {\"train_mse_objective\": {\"sum\": 0.8709723266601562, \"count\": 1, \"min\": 0.8709723266601562, \"max\": 0.8709723266601562}}}\u001b[0m\n",
      "\u001b[34m#metrics {\"StartTime\": 1749053128.831865, \"EndTime\": 1749053128.8318765, \"Dimensions\": {\"Algorithm\": \"Linear Learner\", \"Host\": \"algo-1\", \"Operation\": \"training\", \"epoch\": 2, \"model\": 14}, \"Metrics\": {\"train_mse_objective\": {\"sum\": 0.8650542724609375, \"count\": 1, \"min\": 0.8650542724609375, \"max\": 0.8650542724609375}}}\u001b[0m\n",
      "\u001b[34m#metrics {\"StartTime\": 1749053128.8319418, \"EndTime\": 1749053128.8319526, \"Dimensions\": {\"Algorithm\": \"Linear Learner\", \"Host\": \"algo-1\", \"Operation\": \"training\", \"epoch\": 2, \"model\": 15}, \"Metrics\": {\"train_mse_objective\": {\"sum\": 0.86102177734375, \"count\": 1, \"min\": 0.86102177734375, \"max\": 0.86102177734375}}}\u001b[0m\n",
      "\u001b[34m#metrics {\"StartTime\": 1749053128.8320217, \"EndTime\": 1749053128.8320334, \"Dimensions\": {\"Algorithm\": \"Linear Learner\", \"Host\": \"algo-1\", \"Operation\": \"training\", \"epoch\": 2, \"model\": 16}, \"Metrics\": {\"train_mse_objective\": {\"sum\": 0.8626504150390625, \"count\": 1, \"min\": 0.8626504150390625, \"max\": 0.8626504150390625}}}\u001b[0m\n",
      "\u001b[34m#metrics {\"StartTime\": 1749053128.832101, \"EndTime\": 1749053128.8321133, \"Dimensions\": {\"Algorithm\": \"Linear Learner\", \"Host\": \"algo-1\", \"Operation\": \"training\", \"epoch\": 2, \"model\": 17}, \"Metrics\": {\"train_mse_objective\": {\"sum\": 0.8979678100585937, \"count\": 1, \"min\": 0.8979678100585937, \"max\": 0.8979678100585937}}}\u001b[0m\n",
      "\u001b[34m#metrics {\"StartTime\": 1749053128.8321776, \"EndTime\": 1749053128.8321877, \"Dimensions\": {\"Algorithm\": \"Linear Learner\", \"Host\": \"algo-1\", \"Operation\": \"training\", \"epoch\": 2, \"model\": 18}, \"Metrics\": {\"train_mse_objective\": {\"sum\": 0.8650633544921875, \"count\": 1, \"min\": 0.8650633544921875, \"max\": 0.8650633544921875}}}\u001b[0m\n",
      "\u001b[34m#metrics {\"StartTime\": 1749053128.8322453, \"EndTime\": 1749053128.8322556, \"Dimensions\": {\"Algorithm\": \"Linear Learner\", \"Host\": \"algo-1\", \"Operation\": \"training\", \"epoch\": 2, \"model\": 19}, \"Metrics\": {\"train_mse_objective\": {\"sum\": 0.91587783203125, \"count\": 1, \"min\": 0.91587783203125, \"max\": 0.91587783203125}}}\u001b[0m\n",
      "\u001b[34m#metrics {\"StartTime\": 1749053128.8323278, \"EndTime\": 1749053128.8323393, \"Dimensions\": {\"Algorithm\": \"Linear Learner\", \"Host\": \"algo-1\", \"Operation\": \"training\", \"epoch\": 2, \"model\": 20}, \"Metrics\": {\"train_mse_objective\": {\"sum\": 0.9227719482421874, \"count\": 1, \"min\": 0.9227719482421874, \"max\": 0.9227719482421874}}}\u001b[0m\n",
      "\u001b[34m#metrics {\"StartTime\": 1749053128.8324072, \"EndTime\": 1749053128.8324182, \"Dimensions\": {\"Algorithm\": \"Linear Learner\", \"Host\": \"algo-1\", \"Operation\": \"training\", \"epoch\": 2, \"model\": 21}, \"Metrics\": {\"train_mse_objective\": {\"sum\": 0.9313864868164062, \"count\": 1, \"min\": 0.9313864868164062, \"max\": 0.9313864868164062}}}\u001b[0m\n",
      "\u001b[34m#metrics {\"StartTime\": 1749053128.832486, \"EndTime\": 1749053128.832497, \"Dimensions\": {\"Algorithm\": \"Linear Learner\", \"Host\": \"algo-1\", \"Operation\": \"training\", \"epoch\": 2, \"model\": 22}, \"Metrics\": {\"train_mse_objective\": {\"sum\": 0.9157781127929687, \"count\": 1, \"min\": 0.9157781127929687, \"max\": 0.9157781127929687}}}\u001b[0m\n",
      "\u001b[34m#metrics {\"StartTime\": 1749053128.832565, \"EndTime\": 1749053128.8325756, \"Dimensions\": {\"Algorithm\": \"Linear Learner\", \"Host\": \"algo-1\", \"Operation\": \"training\", \"epoch\": 2, \"model\": 23}, \"Metrics\": {\"train_mse_objective\": {\"sum\": 0.9415275634765625, \"count\": 1, \"min\": 0.9415275634765625, \"max\": 0.9415275634765625}}}\u001b[0m\n",
      "\u001b[34m#metrics {\"StartTime\": 1749053128.8326452, \"EndTime\": 1749053128.8326566, \"Dimensions\": {\"Algorithm\": \"Linear Learner\", \"Host\": \"algo-1\", \"Operation\": \"training\", \"epoch\": 2, \"model\": 24}, \"Metrics\": {\"train_mse_objective\": {\"sum\": 1.0037102783203125, \"count\": 1, \"min\": 1.0037102783203125, \"max\": 1.0037102783203125}}}\u001b[0m\n",
      "\u001b[34m#metrics {\"StartTime\": 1749053128.832728, \"EndTime\": 1749053128.8327394, \"Dimensions\": {\"Algorithm\": \"Linear Learner\", \"Host\": \"algo-1\", \"Operation\": \"training\", \"epoch\": 2, \"model\": 25}, \"Metrics\": {\"train_mse_objective\": {\"sum\": 0.9832085327148438, \"count\": 1, \"min\": 0.9832085327148438, \"max\": 0.9832085327148438}}}\u001b[0m\n",
      "\u001b[34m#metrics {\"StartTime\": 1749053128.8328013, \"EndTime\": 1749053128.8328125, \"Dimensions\": {\"Algorithm\": \"Linear Learner\", \"Host\": \"algo-1\", \"Operation\": \"training\", \"epoch\": 2, \"model\": 26}, \"Metrics\": {\"train_mse_objective\": {\"sum\": 0.99797626953125, \"count\": 1, \"min\": 0.99797626953125, \"max\": 0.99797626953125}}}\u001b[0m\n",
      "\u001b[34m#metrics {\"StartTime\": 1749053128.832883, \"EndTime\": 1749053128.8328955, \"Dimensions\": {\"Algorithm\": \"Linear Learner\", \"Host\": \"algo-1\", \"Operation\": \"training\", \"epoch\": 2, \"model\": 27}, \"Metrics\": {\"train_mse_objective\": {\"sum\": 1.0030210083007813, \"count\": 1, \"min\": 1.0030210083007813, \"max\": 1.0030210083007813}}}\u001b[0m\n",
      "\u001b[34m#metrics {\"StartTime\": 1749053128.8329568, \"EndTime\": 1749053128.832968, \"Dimensions\": {\"Algorithm\": \"Linear Learner\", \"Host\": \"algo-1\", \"Operation\": \"training\", \"epoch\": 2, \"model\": 28}, \"Metrics\": {\"train_mse_objective\": {\"sum\": 1.1249227172851564, \"count\": 1, \"min\": 1.1249227172851564, \"max\": 1.1249227172851564}}}\u001b[0m\n",
      "\u001b[34m#metrics {\"StartTime\": 1749053128.833042, \"EndTime\": 1749053128.833054, \"Dimensions\": {\"Algorithm\": \"Linear Learner\", \"Host\": \"algo-1\", \"Operation\": \"training\", \"epoch\": 2, \"model\": 29}, \"Metrics\": {\"train_mse_objective\": {\"sum\": 1.1093984130859376, \"count\": 1, \"min\": 1.1093984130859376, \"max\": 1.1093984130859376}}}\u001b[0m\n",
      "\u001b[34m#metrics {\"StartTime\": 1749053128.8331149, \"EndTime\": 1749053128.833126, \"Dimensions\": {\"Algorithm\": \"Linear Learner\", \"Host\": \"algo-1\", \"Operation\": \"training\", \"epoch\": 2, \"model\": 30}, \"Metrics\": {\"train_mse_objective\": {\"sum\": 1.0973414184570311, \"count\": 1, \"min\": 1.0973414184570311, \"max\": 1.0973414184570311}}}\u001b[0m\n",
      "\u001b[34m#metrics {\"StartTime\": 1749053128.8331866, \"EndTime\": 1749053128.8331976, \"Dimensions\": {\"Algorithm\": \"Linear Learner\", \"Host\": \"algo-1\", \"Operation\": \"training\", \"epoch\": 2, \"model\": 31}, \"Metrics\": {\"train_mse_objective\": {\"sum\": 1.1071631591796876, \"count\": 1, \"min\": 1.1071631591796876, \"max\": 1.1071631591796876}}}\u001b[0m\n",
      "\u001b[34m[06/04/2025 16:05:28 INFO 140352932898624] #quality_metric: host=algo-1, epoch=2, train mse_objective <loss>=0.8754628540039062\u001b[0m\n",
      "\u001b[34m[06/04/2025 16:05:28 INFO 140352932898624] #early_stopping_criteria_metric: host=algo-1, epoch=2, criteria=mse_objective, value=0.8197530395507813\u001b[0m\n",
      "\u001b[34m[06/04/2025 16:05:28 INFO 140352932898624] Epoch 2: Loss improved. Updating best model\u001b[0m\n",
      "\u001b[34m[06/04/2025 16:05:28 INFO 140352932898624] Saving model for epoch: 2\u001b[0m\n",
      "\u001b[34m[06/04/2025 16:05:28 INFO 140352932898624] Saved checkpoint to \"/tmp/tmpjb7guvva/mx-mod-0000.params\"\u001b[0m\n",
      "\u001b[34m[06/04/2025 16:05:28 INFO 140352932898624] #progress_metric: host=algo-1, completed 20.0 % of epochs\u001b[0m\n",
      "\u001b[34m#metrics {\"StartTime\": 1749053128.7630916, \"EndTime\": 1749053128.8392322, \"Dimensions\": {\"Algorithm\": \"Linear Learner\", \"Host\": \"algo-1\", \"Operation\": \"training\", \"epoch\": 2, \"Meta\": \"training_data_iter\"}, \"Metrics\": {\"Total Records Seen\": {\"sum\": 21788.0, \"count\": 1, \"min\": 21788, \"max\": 21788}, \"Total Batches Seen\": {\"sum\": 25.0, \"count\": 1, \"min\": 25, \"max\": 25}, \"Max Records Seen Between Resets\": {\"sum\": 5197.0, \"count\": 1, \"min\": 5197, \"max\": 5197}, \"Max Batches Seen Between Resets\": {\"sum\": 6.0, \"count\": 1, \"min\": 6, \"max\": 6}, \"Reset Count\": {\"sum\": 5.0, \"count\": 1, \"min\": 5, \"max\": 5}, \"Number of Records Since Last Reset\": {\"sum\": 5197.0, \"count\": 1, \"min\": 5197, \"max\": 5197}, \"Number of Batches Since Last Reset\": {\"sum\": 6.0, \"count\": 1, \"min\": 6, \"max\": 6}}}\u001b[0m\n",
      "\u001b[34m[06/04/2025 16:05:28 INFO 140352932898624] #throughput_metric: host=algo-1, train throughput=68117.47979862688 records/second\u001b[0m\n",
      "\u001b[34m[2025-06-04 16:05:28.897] [tensorio] [info] epoch_stats={\"data_pipeline\": \"/opt/ml/input/data/train\", \"epoch\": 10, \"duration\": 58, \"num_examples\": 6, \"num_bytes\": 457336}\u001b[0m\n",
      "\u001b[34m#metrics {\"StartTime\": 1749053128.8978152, \"EndTime\": 1749053128.8978684, \"Dimensions\": {\"Algorithm\": \"Linear Learner\", \"Host\": \"algo-1\", \"Operation\": \"training\", \"epoch\": 3, \"model\": 0}, \"Metrics\": {\"train_mse_objective\": {\"sum\": 0.838609033203125, \"count\": 1, \"min\": 0.838609033203125, \"max\": 0.838609033203125}}}\u001b[0m\n",
      "\u001b[34m#metrics {\"StartTime\": 1749053128.8979666, \"EndTime\": 1749053128.8979816, \"Dimensions\": {\"Algorithm\": \"Linear Learner\", \"Host\": \"algo-1\", \"Operation\": \"training\", \"epoch\": 3, \"model\": 1}, \"Metrics\": {\"train_mse_objective\": {\"sum\": 0.8037218627929688, \"count\": 1, \"min\": 0.8037218627929688, \"max\": 0.8037218627929688}}}\u001b[0m\n",
      "\u001b[34m#metrics {\"StartTime\": 1749053128.8980615, \"EndTime\": 1749053128.898076, \"Dimensions\": {\"Algorithm\": \"Linear Learner\", \"Host\": \"algo-1\", \"Operation\": \"training\", \"epoch\": 3, \"model\": 2}, \"Metrics\": {\"train_mse_objective\": {\"sum\": 0.8838202514648438, \"count\": 1, \"min\": 0.8838202514648438, \"max\": 0.8838202514648438}}}\u001b[0m\n",
      "\u001b[34m#metrics {\"StartTime\": 1749053128.8981342, \"EndTime\": 1749053128.8981454, \"Dimensions\": {\"Algorithm\": \"Linear Learner\", \"Host\": \"algo-1\", \"Operation\": \"training\", \"epoch\": 3, \"model\": 3}, \"Metrics\": {\"train_mse_objective\": {\"sum\": 0.7950939453125, \"count\": 1, \"min\": 0.7950939453125, \"max\": 0.7950939453125}}}\u001b[0m\n",
      "\u001b[34m#metrics {\"StartTime\": 1749053128.8982034, \"EndTime\": 1749053128.898214, \"Dimensions\": {\"Algorithm\": \"Linear Learner\", \"Host\": \"algo-1\", \"Operation\": \"training\", \"epoch\": 3, \"model\": 4}, \"Metrics\": {\"train_mse_objective\": {\"sum\": 0.7977328979492188, \"count\": 1, \"min\": 0.7977328979492188, \"max\": 0.7977328979492188}}}\u001b[0m\n",
      "\u001b[34m#metrics {\"StartTime\": 1749053128.8982804, \"EndTime\": 1749053128.8982923, \"Dimensions\": {\"Algorithm\": \"Linear Learner\", \"Host\": \"algo-1\", \"Operation\": \"training\", \"epoch\": 3, \"model\": 5}, \"Metrics\": {\"train_mse_objective\": {\"sum\": 0.8019560913085938, \"count\": 1, \"min\": 0.8019560913085938, \"max\": 0.8019560913085938}}}\u001b[0m\n",
      "\u001b[34m#metrics {\"StartTime\": 1749053128.8983421, \"EndTime\": 1749053128.8983517, \"Dimensions\": {\"Algorithm\": \"Linear Learner\", \"Host\": \"algo-1\", \"Operation\": \"training\", \"epoch\": 3, \"model\": 6}, \"Metrics\": {\"train_mse_objective\": {\"sum\": 0.8075325439453125, \"count\": 1, \"min\": 0.8075325439453125, \"max\": 0.8075325439453125}}}\u001b[0m\n",
      "\u001b[34m#metrics {\"StartTime\": 1749053128.8984113, \"EndTime\": 1749053128.8984218, \"Dimensions\": {\"Algorithm\": \"Linear Learner\", \"Host\": \"algo-1\", \"Operation\": \"training\", \"epoch\": 3, \"model\": 7}, \"Metrics\": {\"train_mse_objective\": {\"sum\": 0.8026015869140625, \"count\": 1, \"min\": 0.8026015869140625, \"max\": 0.8026015869140625}}}\u001b[0m\n",
      "\u001b[34m#metrics {\"StartTime\": 1749053128.8984945, \"EndTime\": 1749053128.8985066, \"Dimensions\": {\"Algorithm\": \"Linear Learner\", \"Host\": \"algo-1\", \"Operation\": \"training\", \"epoch\": 3, \"model\": 8}, \"Metrics\": {\"train_mse_objective\": {\"sum\": 0.8365529663085938, \"count\": 1, \"min\": 0.8365529663085938, \"max\": 0.8365529663085938}}}\u001b[0m\n",
      "\u001b[34m#metrics {\"StartTime\": 1749053128.8985662, \"EndTime\": 1749053128.898576, \"Dimensions\": {\"Algorithm\": \"Linear Learner\", \"Host\": \"algo-1\", \"Operation\": \"training\", \"epoch\": 3, \"model\": 9}, \"Metrics\": {\"train_mse_objective\": {\"sum\": 0.8064875244140625, \"count\": 1, \"min\": 0.8064875244140625, \"max\": 0.8064875244140625}}}\u001b[0m\n",
      "\u001b[34m#metrics {\"StartTime\": 1749053128.898643, \"EndTime\": 1749053128.8986533, \"Dimensions\": {\"Algorithm\": \"Linear Learner\", \"Host\": \"algo-1\", \"Operation\": \"training\", \"epoch\": 3, \"model\": 10}, \"Metrics\": {\"train_mse_objective\": {\"sum\": 0.7952679321289062, \"count\": 1, \"min\": 0.7952679321289062, \"max\": 0.7952679321289062}}}\u001b[0m\n",
      "\u001b[34m#metrics {\"StartTime\": 1749053128.898719, \"EndTime\": 1749053128.8987296, \"Dimensions\": {\"Algorithm\": \"Linear Learner\", \"Host\": \"algo-1\", \"Operation\": \"training\", \"epoch\": 3, \"model\": 11}, \"Metrics\": {\"train_mse_objective\": {\"sum\": 0.873011328125, \"count\": 1, \"min\": 0.873011328125, \"max\": 0.873011328125}}}\u001b[0m\n",
      "\u001b[34m#metrics {\"StartTime\": 1749053128.8987675, \"EndTime\": 1749053128.8987763, \"Dimensions\": {\"Algorithm\": \"Linear Learner\", \"Host\": \"algo-1\", \"Operation\": \"training\", \"epoch\": 3, \"model\": 12}, \"Metrics\": {\"train_mse_objective\": {\"sum\": 0.79977060546875, \"count\": 1, \"min\": 0.79977060546875, \"max\": 0.79977060546875}}}\u001b[0m\n",
      "\u001b[34m#metrics {\"StartTime\": 1749053128.8988423, \"EndTime\": 1749053128.8988533, \"Dimensions\": {\"Algorithm\": \"Linear Learner\", \"Host\": \"algo-1\", \"Operation\": \"training\", \"epoch\": 3, \"model\": 13}, \"Metrics\": {\"train_mse_objective\": {\"sum\": 0.8028808959960938, \"count\": 1, \"min\": 0.8028808959960938, \"max\": 0.8028808959960938}}}\u001b[0m\n",
      "\u001b[34m#metrics {\"StartTime\": 1749053128.898912, \"EndTime\": 1749053128.8989224, \"Dimensions\": {\"Algorithm\": \"Linear Learner\", \"Host\": \"algo-1\", \"Operation\": \"training\", \"epoch\": 3, \"model\": 14}, \"Metrics\": {\"train_mse_objective\": {\"sum\": 0.8042093872070313, \"count\": 1, \"min\": 0.8042093872070313, \"max\": 0.8042093872070313}}}\u001b[0m\n",
      "\u001b[34m#metrics {\"StartTime\": 1749053128.8989608, \"EndTime\": 1749053128.8989704, \"Dimensions\": {\"Algorithm\": \"Linear Learner\", \"Host\": \"algo-1\", \"Operation\": \"training\", \"epoch\": 3, \"model\": 15}, \"Metrics\": {\"train_mse_objective\": {\"sum\": 0.8014091430664062, \"count\": 1, \"min\": 0.8014091430664062, \"max\": 0.8014091430664062}}}\u001b[0m\n",
      "\u001b[34m#metrics {\"StartTime\": 1749053128.899032, \"EndTime\": 1749053128.8990421, \"Dimensions\": {\"Algorithm\": \"Linear Learner\", \"Host\": \"algo-1\", \"Operation\": \"training\", \"epoch\": 3, \"model\": 16}, \"Metrics\": {\"train_mse_objective\": {\"sum\": 0.8281219482421875, \"count\": 1, \"min\": 0.8281219482421875, \"max\": 0.8281219482421875}}}\u001b[0m\n",
      "\u001b[34m#metrics {\"StartTime\": 1749053128.899079, \"EndTime\": 1749053128.8990881, \"Dimensions\": {\"Algorithm\": \"Linear Learner\", \"Host\": \"algo-1\", \"Operation\": \"training\", \"epoch\": 3, \"model\": 17}, \"Metrics\": {\"train_mse_objective\": {\"sum\": 0.8636653930664062, \"count\": 1, \"min\": 0.8636653930664062, \"max\": 0.8636653930664062}}}\u001b[0m\n",
      "\u001b[34m#metrics {\"StartTime\": 1749053128.899158, \"EndTime\": 1749053128.899169, \"Dimensions\": {\"Algorithm\": \"Linear Learner\", \"Host\": \"algo-1\", \"Operation\": \"training\", \"epoch\": 3, \"model\": 18}, \"Metrics\": {\"train_mse_objective\": {\"sum\": 0.8326969970703125, \"count\": 1, \"min\": 0.8326969970703125, \"max\": 0.8326969970703125}}}\u001b[0m\n",
      "\u001b[34m#metrics {\"StartTime\": 1749053128.8992395, \"EndTime\": 1749053128.8992524, \"Dimensions\": {\"Algorithm\": \"Linear Learner\", \"Host\": \"algo-1\", \"Operation\": \"training\", \"epoch\": 3, \"model\": 19}, \"Metrics\": {\"train_mse_objective\": {\"sum\": 0.88091552734375, \"count\": 1, \"min\": 0.88091552734375, \"max\": 0.88091552734375}}}\u001b[0m\n",
      "\u001b[34m#metrics {\"StartTime\": 1749053128.8992918, \"EndTime\": 1749053128.8993013, \"Dimensions\": {\"Algorithm\": \"Linear Learner\", \"Host\": \"algo-1\", \"Operation\": \"training\", \"epoch\": 3, \"model\": 20}, \"Metrics\": {\"train_mse_objective\": {\"sum\": 0.8786491333007812, \"count\": 1, \"min\": 0.8786491333007812, \"max\": 0.8786491333007812}}}\u001b[0m\n",
      "\u001b[34m#metrics {\"StartTime\": 1749053128.8993695, \"EndTime\": 1749053128.89938, \"Dimensions\": {\"Algorithm\": \"Linear Learner\", \"Host\": \"algo-1\", \"Operation\": \"training\", \"epoch\": 3, \"model\": 21}, \"Metrics\": {\"train_mse_objective\": {\"sum\": 0.8676856201171875, \"count\": 1, \"min\": 0.8676856201171875, \"max\": 0.8676856201171875}}}\u001b[0m\n",
      "\u001b[34m#metrics {\"StartTime\": 1749053128.89945, \"EndTime\": 1749053128.8994625, \"Dimensions\": {\"Algorithm\": \"Linear Learner\", \"Host\": \"algo-1\", \"Operation\": \"training\", \"epoch\": 3, \"model\": 22}, \"Metrics\": {\"train_mse_objective\": {\"sum\": 0.8902784912109375, \"count\": 1, \"min\": 0.8902784912109375, \"max\": 0.8902784912109375}}}\u001b[0m\n",
      "\u001b[34m#metrics {\"StartTime\": 1749053128.8995016, \"EndTime\": 1749053128.8995106, \"Dimensions\": {\"Algorithm\": \"Linear Learner\", \"Host\": \"algo-1\", \"Operation\": \"training\", \"epoch\": 3, \"model\": 23}, \"Metrics\": {\"train_mse_objective\": {\"sum\": 0.85691875, \"count\": 1, \"min\": 0.85691875, \"max\": 0.85691875}}}\u001b[0m\n",
      "\u001b[34m#metrics {\"StartTime\": 1749053128.8995452, \"EndTime\": 1749053128.8995543, \"Dimensions\": {\"Algorithm\": \"Linear Learner\", \"Host\": \"algo-1\", \"Operation\": \"training\", \"epoch\": 3, \"model\": 24}, \"Metrics\": {\"train_mse_objective\": {\"sum\": 0.9955167358398438, \"count\": 1, \"min\": 0.9955167358398438, \"max\": 0.9955167358398438}}}\u001b[0m\n",
      "\u001b[34m#metrics {\"StartTime\": 1749053128.899589, \"EndTime\": 1749053128.8995976, \"Dimensions\": {\"Algorithm\": \"Linear Learner\", \"Host\": \"algo-1\", \"Operation\": \"training\", \"epoch\": 3, \"model\": 25}, \"Metrics\": {\"train_mse_objective\": {\"sum\": 0.9958002197265625, \"count\": 1, \"min\": 0.9958002197265625, \"max\": 0.9958002197265625}}}\u001b[0m\n",
      "\u001b[34m#metrics {\"StartTime\": 1749053128.899633, \"EndTime\": 1749053128.8996413, \"Dimensions\": {\"Algorithm\": \"Linear Learner\", \"Host\": \"algo-1\", \"Operation\": \"training\", \"epoch\": 3, \"model\": 26}, \"Metrics\": {\"train_mse_objective\": {\"sum\": 0.9952977172851563, \"count\": 1, \"min\": 0.9952977172851563, \"max\": 0.9952977172851563}}}\u001b[0m\n",
      "\u001b[34m#metrics {\"StartTime\": 1749053128.8996756, \"EndTime\": 1749053128.8996844, \"Dimensions\": {\"Algorithm\": \"Linear Learner\", \"Host\": \"algo-1\", \"Operation\": \"training\", \"epoch\": 3, \"model\": 27}, \"Metrics\": {\"train_mse_objective\": {\"sum\": 0.9957440063476563, \"count\": 1, \"min\": 0.9957440063476563, \"max\": 0.9957440063476563}}}\u001b[0m\n",
      "\u001b[34m#metrics {\"StartTime\": 1749053128.8997507, \"EndTime\": 1749053128.8997624, \"Dimensions\": {\"Algorithm\": \"Linear Learner\", \"Host\": \"algo-1\", \"Operation\": \"training\", \"epoch\": 3, \"model\": 28}, \"Metrics\": {\"train_mse_objective\": {\"sum\": 1.0506514282226562, \"count\": 1, \"min\": 1.0506514282226562, \"max\": 1.0506514282226562}}}\u001b[0m\n",
      "\u001b[34m#metrics {\"StartTime\": 1749053128.8998444, \"EndTime\": 1749053128.8998566, \"Dimensions\": {\"Algorithm\": \"Linear Learner\", \"Host\": \"algo-1\", \"Operation\": \"training\", \"epoch\": 3, \"model\": 29}, \"Metrics\": {\"train_mse_objective\": {\"sum\": 1.0682757934570313, \"count\": 1, \"min\": 1.0682757934570313, \"max\": 1.0682757934570313}}}\u001b[0m\n",
      "\u001b[34m#metrics {\"StartTime\": 1749053128.8998973, \"EndTime\": 1749053128.8999066, \"Dimensions\": {\"Algorithm\": \"Linear Learner\", \"Host\": \"algo-1\", \"Operation\": \"training\", \"epoch\": 3, \"model\": 30}, \"Metrics\": {\"train_mse_objective\": {\"sum\": 1.0745892822265626, \"count\": 1, \"min\": 1.0745892822265626, \"max\": 1.0745892822265626}}}\u001b[0m\n",
      "\u001b[34m#metrics {\"StartTime\": 1749053128.8999681, \"EndTime\": 1749053128.899979, \"Dimensions\": {\"Algorithm\": \"Linear Learner\", \"Host\": \"algo-1\", \"Operation\": \"training\", \"epoch\": 3, \"model\": 31}, \"Metrics\": {\"train_mse_objective\": {\"sum\": 1.074516455078125, \"count\": 1, \"min\": 1.074516455078125, \"max\": 1.074516455078125}}}\u001b[0m\n",
      "\u001b[34m[06/04/2025 16:05:28 INFO 140352932898624] #quality_metric: host=algo-1, epoch=3, train mse_objective <loss>=0.838609033203125\u001b[0m\n",
      "\u001b[34m[06/04/2025 16:05:28 INFO 140352932898624] #early_stopping_criteria_metric: host=algo-1, epoch=3, criteria=mse_objective, value=0.7950939453125\u001b[0m\n",
      "\u001b[34m[06/04/2025 16:05:28 INFO 140352932898624] Epoch 3: Loss improved. Updating best model\u001b[0m\n",
      "\u001b[34m[06/04/2025 16:05:28 INFO 140352932898624] Saving model for epoch: 3\u001b[0m\n",
      "\u001b[34m[06/04/2025 16:05:28 INFO 140352932898624] Saved checkpoint to \"/tmp/tmp9baupg47/mx-mod-0000.params\"\u001b[0m\n",
      "\u001b[34m[06/04/2025 16:05:28 INFO 140352932898624] #progress_metric: host=algo-1, completed 26.666666666666668 % of epochs\u001b[0m\n",
      "\u001b[34m#metrics {\"StartTime\": 1749053128.8395104, \"EndTime\": 1749053128.9058955, \"Dimensions\": {\"Algorithm\": \"Linear Learner\", \"Host\": \"algo-1\", \"Operation\": \"training\", \"epoch\": 3, \"Meta\": \"training_data_iter\"}, \"Metrics\": {\"Total Records Seen\": {\"sum\": 26985.0, \"count\": 1, \"min\": 26985, \"max\": 26985}, \"Total Batches Seen\": {\"sum\": 31.0, \"count\": 1, \"min\": 31, \"max\": 31}, \"Max Records Seen Between Resets\": {\"sum\": 5197.0, \"count\": 1, \"min\": 5197, \"max\": 5197}, \"Max Batches Seen Between Resets\": {\"sum\": 6.0, \"count\": 1, \"min\": 6, \"max\": 6}, \"Reset Count\": {\"sum\": 6.0, \"count\": 1, \"min\": 6, \"max\": 6}, \"Number of Records Since Last Reset\": {\"sum\": 5197.0, \"count\": 1, \"min\": 5197, \"max\": 5197}, \"Number of Batches Since Last Reset\": {\"sum\": 6.0, \"count\": 1, \"min\": 6, \"max\": 6}}}\u001b[0m\n",
      "\u001b[34m[06/04/2025 16:05:28 INFO 140352932898624] #throughput_metric: host=algo-1, train throughput=78147.91484601871 records/second\u001b[0m\n",
      "\u001b[34m[2025-06-04 16:05:28.977] [tensorio] [info] epoch_stats={\"data_pipeline\": \"/opt/ml/input/data/train\", \"epoch\": 12, \"duration\": 71, \"num_examples\": 6, \"num_bytes\": 457336}\u001b[0m\n",
      "\u001b[34m#metrics {\"StartTime\": 1749053128.9778845, \"EndTime\": 1749053128.9779248, \"Dimensions\": {\"Algorithm\": \"Linear Learner\", \"Host\": \"algo-1\", \"Operation\": \"training\", \"epoch\": 4, \"model\": 0}, \"Metrics\": {\"train_mse_objective\": {\"sum\": 0.8124223999023438, \"count\": 1, \"min\": 0.8124223999023438, \"max\": 0.8124223999023438}}}\u001b[0m\n",
      "\u001b[34m#metrics {\"StartTime\": 1749053128.9779825, \"EndTime\": 1749053128.9779937, \"Dimensions\": {\"Algorithm\": \"Linear Learner\", \"Host\": \"algo-1\", \"Operation\": \"training\", \"epoch\": 4, \"model\": 1}, \"Metrics\": {\"train_mse_objective\": {\"sum\": 0.7837950805664062, \"count\": 1, \"min\": 0.7837950805664062, \"max\": 0.7837950805664062}}}\u001b[0m\n",
      "\u001b[34m#metrics {\"StartTime\": 1749053128.9780562, \"EndTime\": 1749053128.9780679, \"Dimensions\": {\"Algorithm\": \"Linear Learner\", \"Host\": \"algo-1\", \"Operation\": \"training\", \"epoch\": 4, \"model\": 2}, \"Metrics\": {\"train_mse_objective\": {\"sum\": 0.8510576049804688, \"count\": 1, \"min\": 0.8510576049804688, \"max\": 0.8510576049804688}}}\u001b[0m\n",
      "\u001b[34m#metrics {\"StartTime\": 1749053128.978132, \"EndTime\": 1749053128.9781458, \"Dimensions\": {\"Algorithm\": \"Linear Learner\", \"Host\": \"algo-1\", \"Operation\": \"training\", \"epoch\": 4, \"model\": 3}, \"Metrics\": {\"train_mse_objective\": {\"sum\": 0.7747226318359375, \"count\": 1, \"min\": 0.7747226318359375, \"max\": 0.7747226318359375}}}\u001b[0m\n",
      "\u001b[34m#metrics {\"StartTime\": 1749053128.9782066, \"EndTime\": 1749053128.9782188, \"Dimensions\": {\"Algorithm\": \"Linear Learner\", \"Host\": \"algo-1\", \"Operation\": \"training\", \"epoch\": 4, \"model\": 4}, \"Metrics\": {\"train_mse_objective\": {\"sum\": 0.7676327880859375, \"count\": 1, \"min\": 0.7676327880859375, \"max\": 0.7676327880859375}}}\u001b[0m\n",
      "\u001b[34m#metrics {\"StartTime\": 1749053128.978267, \"EndTime\": 1749053128.9782777, \"Dimensions\": {\"Algorithm\": \"Linear Learner\", \"Host\": \"algo-1\", \"Operation\": \"training\", \"epoch\": 4, \"model\": 5}, \"Metrics\": {\"train_mse_objective\": {\"sum\": 0.7724790283203125, \"count\": 1, \"min\": 0.7724790283203125, \"max\": 0.7724790283203125}}}\u001b[0m\n",
      "\u001b[34m#metrics {\"StartTime\": 1749053128.9783337, \"EndTime\": 1749053128.9783437, \"Dimensions\": {\"Algorithm\": \"Linear Learner\", \"Host\": \"algo-1\", \"Operation\": \"training\", \"epoch\": 4, \"model\": 6}, \"Metrics\": {\"train_mse_objective\": {\"sum\": 0.7712679321289062, \"count\": 1, \"min\": 0.7712679321289062, \"max\": 0.7712679321289062}}}\u001b[0m\n",
      "\u001b[34m#metrics {\"StartTime\": 1749053128.9784038, \"EndTime\": 1749053128.9784114, \"Dimensions\": {\"Algorithm\": \"Linear Learner\", \"Host\": \"algo-1\", \"Operation\": \"training\", \"epoch\": 4, \"model\": 7}, \"Metrics\": {\"train_mse_objective\": {\"sum\": 0.7703608032226562, \"count\": 1, \"min\": 0.7703608032226562, \"max\": 0.7703608032226562}}}\u001b[0m\n",
      "\u001b[34m#metrics {\"StartTime\": 1749053128.978448, \"EndTime\": 1749053128.978457, \"Dimensions\": {\"Algorithm\": \"Linear Learner\", \"Host\": \"algo-1\", \"Operation\": \"training\", \"epoch\": 4, \"model\": 8}, \"Metrics\": {\"train_mse_objective\": {\"sum\": 0.8107999877929688, \"count\": 1, \"min\": 0.8107999877929688, \"max\": 0.8107999877929688}}}\u001b[0m\n",
      "\u001b[34m#metrics {\"StartTime\": 1749053128.9784915, \"EndTime\": 1749053128.9785008, \"Dimensions\": {\"Algorithm\": \"Linear Learner\", \"Host\": \"algo-1\", \"Operation\": \"training\", \"epoch\": 4, \"model\": 9}, \"Metrics\": {\"train_mse_objective\": {\"sum\": 0.78546572265625, \"count\": 1, \"min\": 0.78546572265625, \"max\": 0.78546572265625}}}\u001b[0m\n",
      "\u001b[34m#metrics {\"StartTime\": 1749053128.9785328, \"EndTime\": 1749053128.9785414, \"Dimensions\": {\"Algorithm\": \"Linear Learner\", \"Host\": \"algo-1\", \"Operation\": \"training\", \"epoch\": 4, \"model\": 10}, \"Metrics\": {\"train_mse_objective\": {\"sum\": 0.777954541015625, \"count\": 1, \"min\": 0.777954541015625, \"max\": 0.777954541015625}}}\u001b[0m\n",
      "\u001b[34m#metrics {\"StartTime\": 1749053128.9785755, \"EndTime\": 1749053128.9785836, \"Dimensions\": {\"Algorithm\": \"Linear Learner\", \"Host\": \"algo-1\", \"Operation\": \"training\", \"epoch\": 4, \"model\": 11}, \"Metrics\": {\"train_mse_objective\": {\"sum\": 0.840521484375, \"count\": 1, \"min\": 0.840521484375, \"max\": 0.840521484375}}}\u001b[0m\n",
      "\u001b[34m#metrics {\"StartTime\": 1749053128.9786167, \"EndTime\": 1749053128.978625, \"Dimensions\": {\"Algorithm\": \"Linear Learner\", \"Host\": \"algo-1\", \"Operation\": \"training\", \"epoch\": 4, \"model\": 12}, \"Metrics\": {\"train_mse_objective\": {\"sum\": 0.77272705078125, \"count\": 1, \"min\": 0.77272705078125, \"max\": 0.77272705078125}}}\u001b[0m\n",
      "\u001b[34m#metrics {\"StartTime\": 1749053128.9786916, \"EndTime\": 1749053128.978702, \"Dimensions\": {\"Algorithm\": \"Linear Learner\", \"Host\": \"algo-1\", \"Operation\": \"training\", \"epoch\": 4, \"model\": 13}, \"Metrics\": {\"train_mse_objective\": {\"sum\": 0.7731813354492187, \"count\": 1, \"min\": 0.7731813354492187, \"max\": 0.7731813354492187}}}\u001b[0m\n",
      "\u001b[34m#metrics {\"StartTime\": 1749053128.9787796, \"EndTime\": 1749053128.978793, \"Dimensions\": {\"Algorithm\": \"Linear Learner\", \"Host\": \"algo-1\", \"Operation\": \"training\", \"epoch\": 4, \"model\": 14}, \"Metrics\": {\"train_mse_objective\": {\"sum\": 0.7733473754882813, \"count\": 1, \"min\": 0.7733473754882813, \"max\": 0.7733473754882813}}}\u001b[0m\n",
      "\u001b[34m#metrics {\"StartTime\": 1749053128.9788554, \"EndTime\": 1749053128.9788666, \"Dimensions\": {\"Algorithm\": \"Linear Learner\", \"Host\": \"algo-1\", \"Operation\": \"training\", \"epoch\": 4, \"model\": 15}, \"Metrics\": {\"train_mse_objective\": {\"sum\": 0.7733152465820312, \"count\": 1, \"min\": 0.7733152465820312, \"max\": 0.7733152465820312}}}\u001b[0m\n",
      "\u001b[34m#metrics {\"StartTime\": 1749053128.9789429, \"EndTime\": 1749053128.978956, \"Dimensions\": {\"Algorithm\": \"Linear Learner\", \"Host\": \"algo-1\", \"Operation\": \"training\", \"epoch\": 4, \"model\": 16}, \"Metrics\": {\"train_mse_objective\": {\"sum\": 0.8051557861328125, \"count\": 1, \"min\": 0.8051557861328125, \"max\": 0.8051557861328125}}}\u001b[0m\n",
      "\u001b[34m#metrics {\"StartTime\": 1749053128.9790297, \"EndTime\": 1749053128.9790425, \"Dimensions\": {\"Algorithm\": \"Linear Learner\", \"Host\": \"algo-1\", \"Operation\": \"training\", \"epoch\": 4, \"model\": 17}, \"Metrics\": {\"train_mse_objective\": {\"sum\": 0.8383266967773437, \"count\": 1, \"min\": 0.8383266967773437, \"max\": 0.8383266967773437}}}\u001b[0m\n",
      "\u001b[34m#metrics {\"StartTime\": 1749053128.979084, \"EndTime\": 1749053128.9790936, \"Dimensions\": {\"Algorithm\": \"Linear Learner\", \"Host\": \"algo-1\", \"Operation\": \"training\", \"epoch\": 4, \"model\": 18}, \"Metrics\": {\"train_mse_objective\": {\"sum\": 0.8101173461914063, \"count\": 1, \"min\": 0.8101173461914063, \"max\": 0.8101173461914063}}}\u001b[0m\n",
      "\u001b[34m#metrics {\"StartTime\": 1749053128.9791288, \"EndTime\": 1749053128.9791372, \"Dimensions\": {\"Algorithm\": \"Linear Learner\", \"Host\": \"algo-1\", \"Operation\": \"training\", \"epoch\": 4, \"model\": 19}, \"Metrics\": {\"train_mse_objective\": {\"sum\": 0.8547379760742188, \"count\": 1, \"min\": 0.8547379760742188, \"max\": 0.8547379760742188}}}\u001b[0m\n",
      "\u001b[34m#metrics {\"StartTime\": 1749053128.979197, \"EndTime\": 1749053128.9792075, \"Dimensions\": {\"Algorithm\": \"Linear Learner\", \"Host\": \"algo-1\", \"Operation\": \"training\", \"epoch\": 4, \"model\": 20}, \"Metrics\": {\"train_mse_objective\": {\"sum\": 0.8241438354492188, \"count\": 1, \"min\": 0.8241438354492188, \"max\": 0.8241438354492188}}}\u001b[0m\n",
      "\u001b[34m#metrics {\"StartTime\": 1749053128.9792664, \"EndTime\": 1749053128.9792767, \"Dimensions\": {\"Algorithm\": \"Linear Learner\", \"Host\": \"algo-1\", \"Operation\": \"training\", \"epoch\": 4, \"model\": 21}, \"Metrics\": {\"train_mse_objective\": {\"sum\": 0.8402452392578125, \"count\": 1, \"min\": 0.8402452392578125, \"max\": 0.8402452392578125}}}\u001b[0m\n",
      "\u001b[34m#metrics {\"StartTime\": 1749053128.9793577, \"EndTime\": 1749053128.9793713, \"Dimensions\": {\"Algorithm\": \"Linear Learner\", \"Host\": \"algo-1\", \"Operation\": \"training\", \"epoch\": 4, \"model\": 22}, \"Metrics\": {\"train_mse_objective\": {\"sum\": 0.8331666870117187, \"count\": 1, \"min\": 0.8331666870117187, \"max\": 0.8331666870117187}}}\u001b[0m\n",
      "\u001b[34m#metrics {\"StartTime\": 1749053128.9794102, \"EndTime\": 1749053128.9794192, \"Dimensions\": {\"Algorithm\": \"Linear Learner\", \"Host\": \"algo-1\", \"Operation\": \"training\", \"epoch\": 4, \"model\": 23}, \"Metrics\": {\"train_mse_objective\": {\"sum\": 0.8303189819335938, \"count\": 1, \"min\": 0.8303189819335938, \"max\": 0.8303189819335938}}}\u001b[0m\n",
      "\u001b[34m#metrics {\"StartTime\": 1749053128.9794502, \"EndTime\": 1749053128.9794588, \"Dimensions\": {\"Algorithm\": \"Linear Learner\", \"Host\": \"algo-1\", \"Operation\": \"training\", \"epoch\": 4, \"model\": 24}, \"Metrics\": {\"train_mse_objective\": {\"sum\": 0.9880063598632812, \"count\": 1, \"min\": 0.9880063598632812, \"max\": 0.9880063598632812}}}\u001b[0m\n",
      "\u001b[34m#metrics {\"StartTime\": 1749053128.9794939, \"EndTime\": 1749053128.9795027, \"Dimensions\": {\"Algorithm\": \"Linear Learner\", \"Host\": \"algo-1\", \"Operation\": \"training\", \"epoch\": 4, \"model\": 25}, \"Metrics\": {\"train_mse_objective\": {\"sum\": 1.0030235595703125, \"count\": 1, \"min\": 1.0030235595703125, \"max\": 1.0030235595703125}}}\u001b[0m\n",
      "\u001b[34m#metrics {\"StartTime\": 1749053128.9795823, \"EndTime\": 1749053128.9795952, \"Dimensions\": {\"Algorithm\": \"Linear Learner\", \"Host\": \"algo-1\", \"Operation\": \"training\", \"epoch\": 4, \"model\": 26}, \"Metrics\": {\"train_mse_objective\": {\"sum\": 0.9913820068359375, \"count\": 1, \"min\": 0.9913820068359375, \"max\": 0.9913820068359375}}}\u001b[0m\n",
      "\u001b[34m#metrics {\"StartTime\": 1749053128.9796364, \"EndTime\": 1749053128.9796455, \"Dimensions\": {\"Algorithm\": \"Linear Learner\", \"Host\": \"algo-1\", \"Operation\": \"training\", \"epoch\": 4, \"model\": 27}, \"Metrics\": {\"train_mse_objective\": {\"sum\": 0.9861377563476562, \"count\": 1, \"min\": 0.9861377563476562, \"max\": 0.9861377563476562}}}\u001b[0m\n",
      "\u001b[34m#metrics {\"StartTime\": 1749053128.979676, \"EndTime\": 1749053128.9796846, \"Dimensions\": {\"Algorithm\": \"Linear Learner\", \"Host\": \"algo-1\", \"Operation\": \"training\", \"epoch\": 4, \"model\": 28}, \"Metrics\": {\"train_mse_objective\": {\"sum\": 1.0600840454101563, \"count\": 1, \"min\": 1.0600840454101563, \"max\": 1.0600840454101563}}}\u001b[0m\n",
      "\u001b[34m#metrics {\"StartTime\": 1749053128.9797196, \"EndTime\": 1749053128.979728, \"Dimensions\": {\"Algorithm\": \"Linear Learner\", \"Host\": \"algo-1\", \"Operation\": \"training\", \"epoch\": 4, \"model\": 29}, \"Metrics\": {\"train_mse_objective\": {\"sum\": 1.0484611206054688, \"count\": 1, \"min\": 1.0484611206054688, \"max\": 1.0484611206054688}}}\u001b[0m\n",
      "\u001b[34m#metrics {\"StartTime\": 1749053128.9797997, \"EndTime\": 1749053128.9798105, \"Dimensions\": {\"Algorithm\": \"Linear Learner\", \"Host\": \"algo-1\", \"Operation\": \"training\", \"epoch\": 4, \"model\": 30}, \"Metrics\": {\"train_mse_objective\": {\"sum\": 1.03187197265625, \"count\": 1, \"min\": 1.03187197265625, \"max\": 1.03187197265625}}}\u001b[0m\n",
      "\u001b[34m#metrics {\"StartTime\": 1749053128.9798787, \"EndTime\": 1749053128.9798913, \"Dimensions\": {\"Algorithm\": \"Linear Learner\", \"Host\": \"algo-1\", \"Operation\": \"training\", \"epoch\": 4, \"model\": 31}, \"Metrics\": {\"train_mse_objective\": {\"sum\": 1.0334691162109375, \"count\": 1, \"min\": 1.0334691162109375, \"max\": 1.0334691162109375}}}\u001b[0m\n",
      "\u001b[34m[06/04/2025 16:05:28 INFO 140352932898624] #quality_metric: host=algo-1, epoch=4, train mse_objective <loss>=0.8124223999023438\u001b[0m\n",
      "\u001b[34m[06/04/2025 16:05:28 INFO 140352932898624] #early_stopping_criteria_metric: host=algo-1, epoch=4, criteria=mse_objective, value=0.7676327880859375\u001b[0m\n",
      "\u001b[34m[06/04/2025 16:05:28 INFO 140352932898624] Epoch 4: Loss improved. Updating best model\u001b[0m\n",
      "\u001b[34m[06/04/2025 16:05:28 INFO 140352932898624] Saving model for epoch: 4\u001b[0m\n",
      "\u001b[34m[06/04/2025 16:05:28 INFO 140352932898624] Saved checkpoint to \"/tmp/tmp0789n22y/mx-mod-0000.params\"\u001b[0m\n",
      "\u001b[34m[06/04/2025 16:05:28 INFO 140352932898624] #progress_metric: host=algo-1, completed 33.333333333333336 % of epochs\u001b[0m\n",
      "\u001b[34m#metrics {\"StartTime\": 1749053128.9061143, \"EndTime\": 1749053128.9858599, \"Dimensions\": {\"Algorithm\": \"Linear Learner\", \"Host\": \"algo-1\", \"Operation\": \"training\", \"epoch\": 4, \"Meta\": \"training_data_iter\"}, \"Metrics\": {\"Total Records Seen\": {\"sum\": 32182.0, \"count\": 1, \"min\": 32182, \"max\": 32182}, \"Total Batches Seen\": {\"sum\": 37.0, \"count\": 1, \"min\": 37, \"max\": 37}, \"Max Records Seen Between Resets\": {\"sum\": 5197.0, \"count\": 1, \"min\": 5197, \"max\": 5197}, \"Max Batches Seen Between Resets\": {\"sum\": 6.0, \"count\": 1, \"min\": 6, \"max\": 6}, \"Reset Count\": {\"sum\": 7.0, \"count\": 1, \"min\": 7, \"max\": 7}, \"Number of Records Since Last Reset\": {\"sum\": 5197.0, \"count\": 1, \"min\": 5197, \"max\": 5197}, \"Number of Batches Since Last Reset\": {\"sum\": 6.0, \"count\": 1, \"min\": 6, \"max\": 6}}}\u001b[0m\n",
      "\u001b[34m[06/04/2025 16:05:28 INFO 140352932898624] #throughput_metric: host=algo-1, train throughput=65087.0938005745 records/second\u001b[0m\n",
      "\u001b[34m[2025-06-04 16:05:29.053] [tensorio] [info] epoch_stats={\"data_pipeline\": \"/opt/ml/input/data/train\", \"epoch\": 14, \"duration\": 66, \"num_examples\": 6, \"num_bytes\": 457336}\u001b[0m\n",
      "\u001b[34m#metrics {\"StartTime\": 1749053129.0530899, \"EndTime\": 1749053129.053135, \"Dimensions\": {\"Algorithm\": \"Linear Learner\", \"Host\": \"algo-1\", \"Operation\": \"training\", \"epoch\": 5, \"model\": 0}, \"Metrics\": {\"train_mse_objective\": {\"sum\": 0.7936647094726562, \"count\": 1, \"min\": 0.7936647094726562, \"max\": 0.7936647094726562}}}\u001b[0m\n",
      "\u001b[34m#metrics {\"StartTime\": 1749053129.0531876, \"EndTime\": 1749053129.053196, \"Dimensions\": {\"Algorithm\": \"Linear Learner\", \"Host\": \"algo-1\", \"Operation\": \"training\", \"epoch\": 5, \"model\": 1}, \"Metrics\": {\"train_mse_objective\": {\"sum\": 0.7683053955078125, \"count\": 1, \"min\": 0.7683053955078125, \"max\": 0.7683053955078125}}}\u001b[0m\n",
      "\u001b[34m#metrics {\"StartTime\": 1749053129.0532217, \"EndTime\": 1749053129.0532274, \"Dimensions\": {\"Algorithm\": \"Linear Learner\", \"Host\": \"algo-1\", \"Operation\": \"training\", \"epoch\": 5, \"model\": 2}, \"Metrics\": {\"train_mse_objective\": {\"sum\": 0.8254753662109375, \"count\": 1, \"min\": 0.8254753662109375, \"max\": 0.8254753662109375}}}\u001b[0m\n",
      "\u001b[34m#metrics {\"StartTime\": 1749053129.0532742, \"EndTime\": 1749053129.0532808, \"Dimensions\": {\"Algorithm\": \"Linear Learner\", \"Host\": \"algo-1\", \"Operation\": \"training\", \"epoch\": 5, \"model\": 3}, \"Metrics\": {\"train_mse_objective\": {\"sum\": 0.760732373046875, \"count\": 1, \"min\": 0.760732373046875, \"max\": 0.760732373046875}}}\u001b[0m\n",
      "\u001b[34m#metrics {\"StartTime\": 1749053129.0533073, \"EndTime\": 1749053129.053313, \"Dimensions\": {\"Algorithm\": \"Linear Learner\", \"Host\": \"algo-1\", \"Operation\": \"training\", \"epoch\": 5, \"model\": 4}, \"Metrics\": {\"train_mse_objective\": {\"sum\": 0.744534130859375, \"count\": 1, \"min\": 0.744534130859375, \"max\": 0.744534130859375}}}\u001b[0m\n",
      "\u001b[34m#metrics {\"StartTime\": 1749053129.0533376, \"EndTime\": 1749053129.0533433, \"Dimensions\": {\"Algorithm\": \"Linear Learner\", \"Host\": \"algo-1\", \"Operation\": \"training\", \"epoch\": 5, \"model\": 5}, \"Metrics\": {\"train_mse_objective\": {\"sum\": 0.7448974365234375, \"count\": 1, \"min\": 0.7448974365234375, \"max\": 0.7448974365234375}}}\u001b[0m\n",
      "\u001b[34m#metrics {\"StartTime\": 1749053129.0533674, \"EndTime\": 1749053129.0533729, \"Dimensions\": {\"Algorithm\": \"Linear Learner\", \"Host\": \"algo-1\", \"Operation\": \"training\", \"epoch\": 5, \"model\": 6}, \"Metrics\": {\"train_mse_objective\": {\"sum\": 0.7464034790039062, \"count\": 1, \"min\": 0.7464034790039062, \"max\": 0.7464034790039062}}}\u001b[0m\n",
      "\u001b[34m#metrics {\"StartTime\": 1749053129.0533974, \"EndTime\": 1749053129.053403, \"Dimensions\": {\"Algorithm\": \"Linear Learner\", \"Host\": \"algo-1\", \"Operation\": \"training\", \"epoch\": 5, \"model\": 7}, \"Metrics\": {\"train_mse_objective\": {\"sum\": 0.7444073852539063, \"count\": 1, \"min\": 0.7444073852539063, \"max\": 0.7444073852539063}}}\u001b[0m\n",
      "\u001b[34m#metrics {\"StartTime\": 1749053129.0534272, \"EndTime\": 1749053129.0534325, \"Dimensions\": {\"Algorithm\": \"Linear Learner\", \"Host\": \"algo-1\", \"Operation\": \"training\", \"epoch\": 5, \"model\": 8}, \"Metrics\": {\"train_mse_objective\": {\"sum\": 0.7925647094726562, \"count\": 1, \"min\": 0.7925647094726562, \"max\": 0.7925647094726562}}}\u001b[0m\n",
      "\u001b[34m#metrics {\"StartTime\": 1749053129.053453, \"EndTime\": 1749053129.0534582, \"Dimensions\": {\"Algorithm\": \"Linear Learner\", \"Host\": \"algo-1\", \"Operation\": \"training\", \"epoch\": 5, \"model\": 9}, \"Metrics\": {\"train_mse_objective\": {\"sum\": 0.7696957763671874, \"count\": 1, \"min\": 0.7696957763671874, \"max\": 0.7696957763671874}}}\u001b[0m\n",
      "\u001b[34m#metrics {\"StartTime\": 1749053129.0534782, \"EndTime\": 1749053129.0534832, \"Dimensions\": {\"Algorithm\": \"Linear Learner\", \"Host\": \"algo-1\", \"Operation\": \"training\", \"epoch\": 5, \"model\": 10}, \"Metrics\": {\"train_mse_objective\": {\"sum\": 0.7657341674804687, \"count\": 1, \"min\": 0.7657341674804687, \"max\": 0.7657341674804687}}}\u001b[0m\n",
      "\u001b[34m#metrics {\"StartTime\": 1749053129.053507, \"EndTime\": 1749053129.053512, \"Dimensions\": {\"Algorithm\": \"Linear Learner\", \"Host\": \"algo-1\", \"Operation\": \"training\", \"epoch\": 5, \"model\": 11}, \"Metrics\": {\"train_mse_objective\": {\"sum\": 0.8155914306640625, \"count\": 1, \"min\": 0.8155914306640625, \"max\": 0.8155914306640625}}}\u001b[0m\n",
      "\u001b[34m#metrics {\"StartTime\": 1749053129.0535362, \"EndTime\": 1749053129.0535414, \"Dimensions\": {\"Algorithm\": \"Linear Learner\", \"Host\": \"algo-1\", \"Operation\": \"training\", \"epoch\": 5, \"model\": 12}, \"Metrics\": {\"train_mse_objective\": {\"sum\": 0.7482714111328125, \"count\": 1, \"min\": 0.7482714111328125, \"max\": 0.7482714111328125}}}\u001b[0m\n",
      "\u001b[34m#metrics {\"StartTime\": 1749053129.0535655, \"EndTime\": 1749053129.0535705, \"Dimensions\": {\"Algorithm\": \"Linear Learner\", \"Host\": \"algo-1\", \"Operation\": \"training\", \"epoch\": 5, \"model\": 13}, \"Metrics\": {\"train_mse_objective\": {\"sum\": 0.7466804321289062, \"count\": 1, \"min\": 0.7466804321289062, \"max\": 0.7466804321289062}}}\u001b[0m\n",
      "\u001b[34m#metrics {\"StartTime\": 1749053129.0535908, \"EndTime\": 1749053129.053596, \"Dimensions\": {\"Algorithm\": \"Linear Learner\", \"Host\": \"algo-1\", \"Operation\": \"training\", \"epoch\": 5, \"model\": 14}, \"Metrics\": {\"train_mse_objective\": {\"sum\": 0.746961279296875, \"count\": 1, \"min\": 0.746961279296875, \"max\": 0.746961279296875}}}\u001b[0m\n",
      "\u001b[34m#metrics {\"StartTime\": 1749053129.0536156, \"EndTime\": 1749053129.0536208, \"Dimensions\": {\"Algorithm\": \"Linear Learner\", \"Host\": \"algo-1\", \"Operation\": \"training\", \"epoch\": 5, \"model\": 15}, \"Metrics\": {\"train_mse_objective\": {\"sum\": 0.7469092407226563, \"count\": 1, \"min\": 0.7469092407226563, \"max\": 0.7469092407226563}}}\u001b[0m\n",
      "\u001b[34m#metrics {\"StartTime\": 1749053129.0536442, \"EndTime\": 1749053129.0536497, \"Dimensions\": {\"Algorithm\": \"Linear Learner\", \"Host\": \"algo-1\", \"Operation\": \"training\", \"epoch\": 5, \"model\": 16}, \"Metrics\": {\"train_mse_objective\": {\"sum\": 0.7907045654296875, \"count\": 1, \"min\": 0.7907045654296875, \"max\": 0.7907045654296875}}}\u001b[0m\n",
      "\u001b[34m#metrics {\"StartTime\": 1749053129.0536735, \"EndTime\": 1749053129.0536788, \"Dimensions\": {\"Algorithm\": \"Linear Learner\", \"Host\": \"algo-1\", \"Operation\": \"training\", \"epoch\": 5, \"model\": 17}, \"Metrics\": {\"train_mse_objective\": {\"sum\": 0.8203725341796875, \"count\": 1, \"min\": 0.8203725341796875, \"max\": 0.8203725341796875}}}\u001b[0m\n",
      "\u001b[34m#metrics {\"StartTime\": 1749053129.0536988, \"EndTime\": 1749053129.053704, \"Dimensions\": {\"Algorithm\": \"Linear Learner\", \"Host\": \"algo-1\", \"Operation\": \"training\", \"epoch\": 5, \"model\": 18}, \"Metrics\": {\"train_mse_objective\": {\"sum\": 0.7959735961914063, \"count\": 1, \"min\": 0.7959735961914063, \"max\": 0.7959735961914063}}}\u001b[0m\n",
      "\u001b[34m#metrics {\"StartTime\": 1749053129.0537236, \"EndTime\": 1749053129.0537288, \"Dimensions\": {\"Algorithm\": \"Linear Learner\", \"Host\": \"algo-1\", \"Operation\": \"training\", \"epoch\": 5, \"model\": 19}, \"Metrics\": {\"train_mse_objective\": {\"sum\": 0.8355449829101562, \"count\": 1, \"min\": 0.8355449829101562, \"max\": 0.8355449829101562}}}\u001b[0m\n",
      "\u001b[34m#metrics {\"StartTime\": 1749053129.0537527, \"EndTime\": 1749053129.053758, \"Dimensions\": {\"Algorithm\": \"Linear Learner\", \"Host\": \"algo-1\", \"Operation\": \"training\", \"epoch\": 5, \"model\": 20}, \"Metrics\": {\"train_mse_objective\": {\"sum\": 0.805860888671875, \"count\": 1, \"min\": 0.805860888671875, \"max\": 0.805860888671875}}}\u001b[0m\n",
      "\u001b[34m#metrics {\"StartTime\": 1749053129.0537813, \"EndTime\": 1749053129.0537865, \"Dimensions\": {\"Algorithm\": \"Linear Learner\", \"Host\": \"algo-1\", \"Operation\": \"training\", \"epoch\": 5, \"model\": 21}, \"Metrics\": {\"train_mse_objective\": {\"sum\": 0.8192452026367187, \"count\": 1, \"min\": 0.8192452026367187, \"max\": 0.8192452026367187}}}\u001b[0m\n",
      "\u001b[34m#metrics {\"StartTime\": 1749053129.0538065, \"EndTime\": 1749053129.0538118, \"Dimensions\": {\"Algorithm\": \"Linear Learner\", \"Host\": \"algo-1\", \"Operation\": \"training\", \"epoch\": 5, \"model\": 22}, \"Metrics\": {\"train_mse_objective\": {\"sum\": 0.803032177734375, \"count\": 1, \"min\": 0.803032177734375, \"max\": 0.803032177734375}}}\u001b[0m\n",
      "\u001b[34m#metrics {\"StartTime\": 1749053129.053831, \"EndTime\": 1749053129.0538363, \"Dimensions\": {\"Algorithm\": \"Linear Learner\", \"Host\": \"algo-1\", \"Operation\": \"training\", \"epoch\": 5, \"model\": 23}, \"Metrics\": {\"train_mse_objective\": {\"sum\": 0.828411767578125, \"count\": 1, \"min\": 0.828411767578125, \"max\": 0.828411767578125}}}\u001b[0m\n",
      "\u001b[34m#metrics {\"StartTime\": 1749053129.05386, \"EndTime\": 1749053129.0538652, \"Dimensions\": {\"Algorithm\": \"Linear Learner\", \"Host\": \"algo-1\", \"Operation\": \"training\", \"epoch\": 5, \"model\": 24}, \"Metrics\": {\"train_mse_objective\": {\"sum\": 0.988903564453125, \"count\": 1, \"min\": 0.988903564453125, \"max\": 0.988903564453125}}}\u001b[0m\n",
      "\u001b[34m#metrics {\"StartTime\": 1749053129.0538888, \"EndTime\": 1749053129.053894, \"Dimensions\": {\"Algorithm\": \"Linear Learner\", \"Host\": \"algo-1\", \"Operation\": \"training\", \"epoch\": 5, \"model\": 25}, \"Metrics\": {\"train_mse_objective\": {\"sum\": 0.9992680419921876, \"count\": 1, \"min\": 0.9992680419921876, \"max\": 0.9992680419921876}}}\u001b[0m\n",
      "\u001b[34m#metrics {\"StartTime\": 1749053129.053914, \"EndTime\": 1749053129.0539193, \"Dimensions\": {\"Algorithm\": \"Linear Learner\", \"Host\": \"algo-1\", \"Operation\": \"training\", \"epoch\": 5, \"model\": 26}, \"Metrics\": {\"train_mse_objective\": {\"sum\": 0.9927616943359375, \"count\": 1, \"min\": 0.9927616943359375, \"max\": 0.9927616943359375}}}\u001b[0m\n",
      "\u001b[34m#metrics {\"StartTime\": 1749053129.053939, \"EndTime\": 1749053129.0539443, \"Dimensions\": {\"Algorithm\": \"Linear Learner\", \"Host\": \"algo-1\", \"Operation\": \"training\", \"epoch\": 5, \"model\": 27}, \"Metrics\": {\"train_mse_objective\": {\"sum\": 0.9857572998046875, \"count\": 1, \"min\": 0.9857572998046875, \"max\": 0.9857572998046875}}}\u001b[0m\n",
      "\u001b[34m#metrics {\"StartTime\": 1749053129.053968, \"EndTime\": 1749053129.0539732, \"Dimensions\": {\"Algorithm\": \"Linear Learner\", \"Host\": \"algo-1\", \"Operation\": \"training\", \"epoch\": 5, \"model\": 28}, \"Metrics\": {\"train_mse_objective\": {\"sum\": 1.0069697631835937, \"count\": 1, \"min\": 1.0069697631835937, \"max\": 1.0069697631835937}}}\u001b[0m\n",
      "\u001b[34m#metrics {\"StartTime\": 1749053129.0539973, \"EndTime\": 1749053129.0540028, \"Dimensions\": {\"Algorithm\": \"Linear Learner\", \"Host\": \"algo-1\", \"Operation\": \"training\", \"epoch\": 5, \"model\": 29}, \"Metrics\": {\"train_mse_objective\": {\"sum\": 1.0137711303710937, \"count\": 1, \"min\": 1.0137711303710937, \"max\": 1.0137711303710937}}}\u001b[0m\n",
      "\u001b[34m#metrics {\"StartTime\": 1749053129.054027, \"EndTime\": 1749053129.0540323, \"Dimensions\": {\"Algorithm\": \"Linear Learner\", \"Host\": \"algo-1\", \"Operation\": \"training\", \"epoch\": 5, \"model\": 30}, \"Metrics\": {\"train_mse_objective\": {\"sum\": 1.0270139526367188, \"count\": 1, \"min\": 1.0270139526367188, \"max\": 1.0270139526367188}}}\u001b[0m\n",
      "\u001b[34m#metrics {\"StartTime\": 1749053129.0540564, \"EndTime\": 1749053129.054062, \"Dimensions\": {\"Algorithm\": \"Linear Learner\", \"Host\": \"algo-1\", \"Operation\": \"training\", \"epoch\": 5, \"model\": 31}, \"Metrics\": {\"train_mse_objective\": {\"sum\": 1.027870849609375, \"count\": 1, \"min\": 1.027870849609375, \"max\": 1.027870849609375}}}\u001b[0m\n",
      "\u001b[34m[06/04/2025 16:05:29 INFO 140352932898624] #quality_metric: host=algo-1, epoch=5, train mse_objective <loss>=0.7936647094726562\u001b[0m\n",
      "\u001b[34m[06/04/2025 16:05:29 INFO 140352932898624] #early_stopping_criteria_metric: host=algo-1, epoch=5, criteria=mse_objective, value=0.7444073852539063\u001b[0m\n",
      "\u001b[34m[06/04/2025 16:05:29 INFO 140352932898624] Epoch 5: Loss improved. Updating best model\u001b[0m\n",
      "\u001b[34m[06/04/2025 16:05:29 INFO 140352932898624] Saving model for epoch: 5\u001b[0m\n",
      "\u001b[34m[06/04/2025 16:05:29 INFO 140352932898624] Saved checkpoint to \"/tmp/tmphbq37xmr/mx-mod-0000.params\"\u001b[0m\n",
      "\u001b[34m[06/04/2025 16:05:29 INFO 140352932898624] #progress_metric: host=algo-1, completed 40.0 % of epochs\u001b[0m\n",
      "\u001b[34m#metrics {\"StartTime\": 1749053128.9860685, \"EndTime\": 1749053129.0606282, \"Dimensions\": {\"Algorithm\": \"Linear Learner\", \"Host\": \"algo-1\", \"Operation\": \"training\", \"epoch\": 5, \"Meta\": \"training_data_iter\"}, \"Metrics\": {\"Total Records Seen\": {\"sum\": 37379.0, \"count\": 1, \"min\": 37379, \"max\": 37379}, \"Total Batches Seen\": {\"sum\": 43.0, \"count\": 1, \"min\": 43, \"max\": 43}, \"Max Records Seen Between Resets\": {\"sum\": 5197.0, \"count\": 1, \"min\": 5197, \"max\": 5197}, \"Max Batches Seen Between Resets\": {\"sum\": 6.0, \"count\": 1, \"min\": 6, \"max\": 6}, \"Reset Count\": {\"sum\": 8.0, \"count\": 1, \"min\": 8, \"max\": 8}, \"Number of Records Since Last Reset\": {\"sum\": 5197.0, \"count\": 1, \"min\": 5197, \"max\": 5197}, \"Number of Batches Since Last Reset\": {\"sum\": 6.0, \"count\": 1, \"min\": 6, \"max\": 6}}}\u001b[0m\n",
      "\u001b[34m[06/04/2025 16:05:29 INFO 140352932898624] #throughput_metric: host=algo-1, train throughput=69619.95128666196 records/second\u001b[0m\n",
      "\u001b[34m[2025-06-04 16:05:29.127] [tensorio] [info] epoch_stats={\"data_pipeline\": \"/opt/ml/input/data/train\", \"epoch\": 16, \"duration\": 66, \"num_examples\": 6, \"num_bytes\": 457336}\u001b[0m\n",
      "\u001b[34m#metrics {\"StartTime\": 1749053129.1271298, \"EndTime\": 1749053129.1272964, \"Dimensions\": {\"Algorithm\": \"Linear Learner\", \"Host\": \"algo-1\", \"Operation\": \"training\", \"epoch\": 6, \"model\": 0}, \"Metrics\": {\"train_mse_objective\": {\"sum\": 0.7796060180664063, \"count\": 1, \"min\": 0.7796060180664063, \"max\": 0.7796060180664063}}}\u001b[0m\n",
      "\u001b[34m#metrics {\"StartTime\": 1749053129.127361, \"EndTime\": 1749053129.1273732, \"Dimensions\": {\"Algorithm\": \"Linear Learner\", \"Host\": \"algo-1\", \"Operation\": \"training\", \"epoch\": 6, \"model\": 1}, \"Metrics\": {\"train_mse_objective\": {\"sum\": 0.7562820556640625, \"count\": 1, \"min\": 0.7562820556640625, \"max\": 0.7562820556640625}}}\u001b[0m\n",
      "\u001b[34m#metrics {\"StartTime\": 1749053129.1274164, \"EndTime\": 1749053129.127426, \"Dimensions\": {\"Algorithm\": \"Linear Learner\", \"Host\": \"algo-1\", \"Operation\": \"training\", \"epoch\": 6, \"model\": 2}, \"Metrics\": {\"train_mse_objective\": {\"sum\": 0.8053228881835938, \"count\": 1, \"min\": 0.8053228881835938, \"max\": 0.8053228881835938}}}\u001b[0m\n",
      "\u001b[34m#metrics {\"StartTime\": 1749053129.1274621, \"EndTime\": 1749053129.1274712, \"Dimensions\": {\"Algorithm\": \"Linear Learner\", \"Host\": \"algo-1\", \"Operation\": \"training\", \"epoch\": 6, \"model\": 3}, \"Metrics\": {\"train_mse_objective\": {\"sum\": 0.751075146484375, \"count\": 1, \"min\": 0.751075146484375, \"max\": 0.751075146484375}}}\u001b[0m\n",
      "\u001b[34m#metrics {\"StartTime\": 1749053129.1275094, \"EndTime\": 1749053129.1275182, \"Dimensions\": {\"Algorithm\": \"Linear Learner\", \"Host\": \"algo-1\", \"Operation\": \"training\", \"epoch\": 6, \"model\": 4}, \"Metrics\": {\"train_mse_objective\": {\"sum\": 0.729103515625, \"count\": 1, \"min\": 0.729103515625, \"max\": 0.729103515625}}}\u001b[0m\n",
      "\u001b[34m#metrics {\"StartTime\": 1749053129.1275544, \"EndTime\": 1749053129.127563, \"Dimensions\": {\"Algorithm\": \"Linear Learner\", \"Host\": \"algo-1\", \"Operation\": \"training\", \"epoch\": 6, \"model\": 5}, \"Metrics\": {\"train_mse_objective\": {\"sum\": 0.7337242797851562, \"count\": 1, \"min\": 0.7337242797851562, \"max\": 0.7337242797851562}}}\u001b[0m\n",
      "\u001b[34m#metrics {\"StartTime\": 1749053129.127595, \"EndTime\": 1749053129.1276035, \"Dimensions\": {\"Algorithm\": \"Linear Learner\", \"Host\": \"algo-1\", \"Operation\": \"training\", \"epoch\": 6, \"model\": 6}, \"Metrics\": {\"train_mse_objective\": {\"sum\": 0.731259375, \"count\": 1, \"min\": 0.731259375, \"max\": 0.731259375}}}\u001b[0m\n",
      "\u001b[34m#metrics {\"StartTime\": 1749053129.127636, \"EndTime\": 1749053129.1276443, \"Dimensions\": {\"Algorithm\": \"Linear Learner\", \"Host\": \"algo-1\", \"Operation\": \"training\", \"epoch\": 6, \"model\": 7}, \"Metrics\": {\"train_mse_objective\": {\"sum\": 0.7320890991210938, \"count\": 1, \"min\": 0.7320890991210938, \"max\": 0.7320890991210938}}}\u001b[0m\n",
      "\u001b[34m#metrics {\"StartTime\": 1749053129.1276808, \"EndTime\": 1749053129.1276894, \"Dimensions\": {\"Algorithm\": \"Linear Learner\", \"Host\": \"algo-1\", \"Operation\": \"training\", \"epoch\": 6, \"model\": 8}, \"Metrics\": {\"train_mse_objective\": {\"sum\": 0.779302783203125, \"count\": 1, \"min\": 0.779302783203125, \"max\": 0.779302783203125}}}\u001b[0m\n",
      "\u001b[34m#metrics {\"StartTime\": 1749053129.1277199, \"EndTime\": 1749053129.1277282, \"Dimensions\": {\"Algorithm\": \"Linear Learner\", \"Host\": \"algo-1\", \"Operation\": \"training\", \"epoch\": 6, \"model\": 9}, \"Metrics\": {\"train_mse_objective\": {\"sum\": 0.757810205078125, \"count\": 1, \"min\": 0.757810205078125, \"max\": 0.757810205078125}}}\u001b[0m\n",
      "\u001b[34m#metrics {\"StartTime\": 1749053129.1277637, \"EndTime\": 1749053129.1277723, \"Dimensions\": {\"Algorithm\": \"Linear Learner\", \"Host\": \"algo-1\", \"Operation\": \"training\", \"epoch\": 6, \"model\": 10}, \"Metrics\": {\"train_mse_objective\": {\"sum\": 0.7566150634765625, \"count\": 1, \"min\": 0.7566150634765625, \"max\": 0.7566150634765625}}}\u001b[0m\n",
      "\u001b[34m#metrics {\"StartTime\": 1749053129.127806, \"EndTime\": 1749053129.127814, \"Dimensions\": {\"Algorithm\": \"Linear Learner\", \"Host\": \"algo-1\", \"Operation\": \"training\", \"epoch\": 6, \"model\": 11}, \"Metrics\": {\"train_mse_objective\": {\"sum\": 0.7963570434570313, \"count\": 1, \"min\": 0.7963570434570313, \"max\": 0.7963570434570313}}}\u001b[0m\n",
      "\u001b[34m#metrics {\"StartTime\": 1749053129.127844, \"EndTime\": 1749053129.1278522, \"Dimensions\": {\"Algorithm\": \"Linear Learner\", \"Host\": \"algo-1\", \"Operation\": \"training\", \"epoch\": 6, \"model\": 12}, \"Metrics\": {\"train_mse_objective\": {\"sum\": 0.7302565551757813, \"count\": 1, \"min\": 0.7302565551757813, \"max\": 0.7302565551757813}}}\u001b[0m\n",
      "\u001b[34m#metrics {\"StartTime\": 1749053129.1278884, \"EndTime\": 1749053129.127897, \"Dimensions\": {\"Algorithm\": \"Linear Learner\", \"Host\": \"algo-1\", \"Operation\": \"training\", \"epoch\": 6, \"model\": 13}, \"Metrics\": {\"train_mse_objective\": {\"sum\": 0.7316387817382812, \"count\": 1, \"min\": 0.7316387817382812, \"max\": 0.7316387817382812}}}\u001b[0m\n",
      "\u001b[34m#metrics {\"StartTime\": 1749053129.1279323, \"EndTime\": 1749053129.1279414, \"Dimensions\": {\"Algorithm\": \"Linear Learner\", \"Host\": \"algo-1\", \"Operation\": \"training\", \"epoch\": 6, \"model\": 14}, \"Metrics\": {\"train_mse_objective\": {\"sum\": 0.7323581665039063, \"count\": 1, \"min\": 0.7323581665039063, \"max\": 0.7323581665039063}}}\u001b[0m\n",
      "\u001b[34m#metrics {\"StartTime\": 1749053129.1279724, \"EndTime\": 1749053129.1279807, \"Dimensions\": {\"Algorithm\": \"Linear Learner\", \"Host\": \"algo-1\", \"Operation\": \"training\", \"epoch\": 6, \"model\": 15}, \"Metrics\": {\"train_mse_objective\": {\"sum\": 0.7311745239257812, \"count\": 1, \"min\": 0.7311745239257812, \"max\": 0.7311745239257812}}}\u001b[0m\n",
      "\u001b[34m#metrics {\"StartTime\": 1749053129.1280155, \"EndTime\": 1749053129.1280243, \"Dimensions\": {\"Algorithm\": \"Linear Learner\", \"Host\": \"algo-1\", \"Operation\": \"training\", \"epoch\": 6, \"model\": 16}, \"Metrics\": {\"train_mse_objective\": {\"sum\": 0.7822047607421875, \"count\": 1, \"min\": 0.7822047607421875, \"max\": 0.7822047607421875}}}\u001b[0m\n",
      "\u001b[34m#metrics {\"StartTime\": 1749053129.1280565, \"EndTime\": 1749053129.1280649, \"Dimensions\": {\"Algorithm\": \"Linear Learner\", \"Host\": \"algo-1\", \"Operation\": \"training\", \"epoch\": 6, \"model\": 17}, \"Metrics\": {\"train_mse_objective\": {\"sum\": 0.8082172119140625, \"count\": 1, \"min\": 0.8082172119140625, \"max\": 0.8082172119140625}}}\u001b[0m\n",
      "\u001b[34m#metrics {\"StartTime\": 1749053129.128095, \"EndTime\": 1749053129.1281033, \"Dimensions\": {\"Algorithm\": \"Linear Learner\", \"Host\": \"algo-1\", \"Operation\": \"training\", \"epoch\": 6, \"model\": 18}, \"Metrics\": {\"train_mse_objective\": {\"sum\": 0.7881706909179688, \"count\": 1, \"min\": 0.7881706909179688, \"max\": 0.7881706909179688}}}\u001b[0m\n",
      "\u001b[34m#metrics {\"StartTime\": 1749053129.1281395, \"EndTime\": 1749053129.128148, \"Dimensions\": {\"Algorithm\": \"Linear Learner\", \"Host\": \"algo-1\", \"Operation\": \"training\", \"epoch\": 6, \"model\": 19}, \"Metrics\": {\"train_mse_objective\": {\"sum\": 0.8217883178710937, \"count\": 1, \"min\": 0.8217883178710937, \"max\": 0.8217883178710937}}}\u001b[0m\n",
      "\u001b[34m#metrics {\"StartTime\": 1749053129.1281822, \"EndTime\": 1749053129.1281908, \"Dimensions\": {\"Algorithm\": \"Linear Learner\", \"Host\": \"algo-1\", \"Operation\": \"training\", \"epoch\": 6, \"model\": 20}, \"Metrics\": {\"train_mse_objective\": {\"sum\": 0.8108216796875, \"count\": 1, \"min\": 0.8108216796875, \"max\": 0.8108216796875}}}\u001b[0m\n",
      "\u001b[34m#metrics {\"StartTime\": 1749053129.1282213, \"EndTime\": 1749053129.1282291, \"Dimensions\": {\"Algorithm\": \"Linear Learner\", \"Host\": \"algo-1\", \"Operation\": \"training\", \"epoch\": 6, \"model\": 21}, \"Metrics\": {\"train_mse_objective\": {\"sum\": 0.79726357421875, \"count\": 1, \"min\": 0.79726357421875, \"max\": 0.79726357421875}}}\u001b[0m\n",
      "\u001b[34m#metrics {\"StartTime\": 1749053129.1282616, \"EndTime\": 1749053129.1282692, \"Dimensions\": {\"Algorithm\": \"Linear Learner\", \"Host\": \"algo-1\", \"Operation\": \"training\", \"epoch\": 6, \"model\": 22}, \"Metrics\": {\"train_mse_objective\": {\"sum\": 0.8042503173828125, \"count\": 1, \"min\": 0.8042503173828125, \"max\": 0.8042503173828125}}}\u001b[0m\n",
      "\u001b[34m#metrics {\"StartTime\": 1749053129.1283016, \"EndTime\": 1749053129.1283097, \"Dimensions\": {\"Algorithm\": \"Linear Learner\", \"Host\": \"algo-1\", \"Operation\": \"training\", \"epoch\": 6, \"model\": 23}, \"Metrics\": {\"train_mse_objective\": {\"sum\": 0.7939324340820313, \"count\": 1, \"min\": 0.7939324340820313, \"max\": 0.7939324340820313}}}\u001b[0m\n",
      "\u001b[34m#metrics {\"StartTime\": 1749053129.1283433, \"EndTime\": 1749053129.1283514, \"Dimensions\": {\"Algorithm\": \"Linear Learner\", \"Host\": \"algo-1\", \"Operation\": \"training\", \"epoch\": 6, \"model\": 24}, \"Metrics\": {\"train_mse_objective\": {\"sum\": 0.9941319458007812, \"count\": 1, \"min\": 0.9941319458007812, \"max\": 0.9941319458007812}}}\u001b[0m\n",
      "\u001b[34m#metrics {\"StartTime\": 1749053129.1283872, \"EndTime\": 1749053129.1283958, \"Dimensions\": {\"Algorithm\": \"Linear Learner\", \"Host\": \"algo-1\", \"Operation\": \"training\", \"epoch\": 6, \"model\": 25}, \"Metrics\": {\"train_mse_objective\": {\"sum\": 0.9939955444335937, \"count\": 1, \"min\": 0.9939955444335937, \"max\": 0.9939955444335937}}}\u001b[0m\n",
      "\u001b[34m#metrics {\"StartTime\": 1749053129.12843, \"EndTime\": 1749053129.1284382, \"Dimensions\": {\"Algorithm\": \"Linear Learner\", \"Host\": \"algo-1\", \"Operation\": \"training\", \"epoch\": 6, \"model\": 26}, \"Metrics\": {\"train_mse_objective\": {\"sum\": 0.9957880493164063, \"count\": 1, \"min\": 0.9957880493164063, \"max\": 0.9957880493164063}}}\u001b[0m\n",
      "\u001b[34m#metrics {\"StartTime\": 1749053129.1284714, \"EndTime\": 1749053129.1284802, \"Dimensions\": {\"Algorithm\": \"Linear Learner\", \"Host\": \"algo-1\", \"Operation\": \"training\", \"epoch\": 6, \"model\": 27}, \"Metrics\": {\"train_mse_objective\": {\"sum\": 0.99178251953125, \"count\": 1, \"min\": 0.99178251953125, \"max\": 0.99178251953125}}}\u001b[0m\n",
      "\u001b[34m#metrics {\"StartTime\": 1749053129.1285162, \"EndTime\": 1749053129.1285245, \"Dimensions\": {\"Algorithm\": \"Linear Learner\", \"Host\": \"algo-1\", \"Operation\": \"training\", \"epoch\": 6, \"model\": 28}, \"Metrics\": {\"train_mse_objective\": {\"sum\": 1.0161552368164062, \"count\": 1, \"min\": 1.0161552368164062, \"max\": 1.0161552368164062}}}\u001b[0m\n",
      "\u001b[34m#metrics {\"StartTime\": 1749053129.1285572, \"EndTime\": 1749053129.128566, \"Dimensions\": {\"Algorithm\": \"Linear Learner\", \"Host\": \"algo-1\", \"Operation\": \"training\", \"epoch\": 6, \"model\": 29}, \"Metrics\": {\"train_mse_objective\": {\"sum\": 1.0104065063476562, \"count\": 1, \"min\": 1.0104065063476562, \"max\": 1.0104065063476562}}}\u001b[0m\n",
      "\u001b[34m#metrics {\"StartTime\": 1749053129.1285982, \"EndTime\": 1749053129.1286066, \"Dimensions\": {\"Algorithm\": \"Linear Learner\", \"Host\": \"algo-1\", \"Operation\": \"training\", \"epoch\": 6, \"model\": 30}, \"Metrics\": {\"train_mse_objective\": {\"sum\": 0.9969660522460938, \"count\": 1, \"min\": 0.9969660522460938, \"max\": 0.9969660522460938}}}\u001b[0m\n",
      "\u001b[34m#metrics {\"StartTime\": 1749053129.1286426, \"EndTime\": 1749053129.128651, \"Dimensions\": {\"Algorithm\": \"Linear Learner\", \"Host\": \"algo-1\", \"Operation\": \"training\", \"epoch\": 6, \"model\": 31}, \"Metrics\": {\"train_mse_objective\": {\"sum\": 0.99638095703125, \"count\": 1, \"min\": 0.99638095703125, \"max\": 0.99638095703125}}}\u001b[0m\n",
      "\u001b[34m[06/04/2025 16:05:29 INFO 140352932898624] #quality_metric: host=algo-1, epoch=6, train mse_objective <loss>=0.7796060180664063\u001b[0m\n",
      "\u001b[34m[06/04/2025 16:05:29 INFO 140352932898624] #early_stopping_criteria_metric: host=algo-1, epoch=6, criteria=mse_objective, value=0.729103515625\u001b[0m\n",
      "\u001b[34m[06/04/2025 16:05:29 INFO 140352932898624] Epoch 6: Loss improved. Updating best model\u001b[0m\n",
      "\u001b[34m[06/04/2025 16:05:29 INFO 140352932898624] Saving model for epoch: 6\u001b[0m\n",
      "\u001b[34m[06/04/2025 16:05:29 INFO 140352932898624] Saved checkpoint to \"/tmp/tmpdph8wp38/mx-mod-0000.params\"\u001b[0m\n",
      "\u001b[34m[06/04/2025 16:05:29 INFO 140352932898624] #progress_metric: host=algo-1, completed 46.666666666666664 % of epochs\u001b[0m\n",
      "\u001b[34m#metrics {\"StartTime\": 1749053129.0607884, \"EndTime\": 1749053129.1359258, \"Dimensions\": {\"Algorithm\": \"Linear Learner\", \"Host\": \"algo-1\", \"Operation\": \"training\", \"epoch\": 6, \"Meta\": \"training_data_iter\"}, \"Metrics\": {\"Total Records Seen\": {\"sum\": 42576.0, \"count\": 1, \"min\": 42576, \"max\": 42576}, \"Total Batches Seen\": {\"sum\": 49.0, \"count\": 1, \"min\": 49, \"max\": 49}, \"Max Records Seen Between Resets\": {\"sum\": 5197.0, \"count\": 1, \"min\": 5197, \"max\": 5197}, \"Max Batches Seen Between Resets\": {\"sum\": 6.0, \"count\": 1, \"min\": 6, \"max\": 6}, \"Reset Count\": {\"sum\": 9.0, \"count\": 1, \"min\": 9, \"max\": 9}, \"Number of Records Since Last Reset\": {\"sum\": 5197.0, \"count\": 1, \"min\": 5197, \"max\": 5197}, \"Number of Batches Since Last Reset\": {\"sum\": 6.0, \"count\": 1, \"min\": 6, \"max\": 6}}}\u001b[0m\n",
      "\u001b[34m[06/04/2025 16:05:29 INFO 140352932898624] #throughput_metric: host=algo-1, train throughput=69089.91118196888 records/second\u001b[0m\n",
      "\u001b[34m[2025-06-04 16:05:29.235] [tensorio] [info] epoch_stats={\"data_pipeline\": \"/opt/ml/input/data/train\", \"epoch\": 18, \"duration\": 99, \"num_examples\": 6, \"num_bytes\": 457336}\u001b[0m\n",
      "\u001b[34m#metrics {\"StartTime\": 1749053129.235828, \"EndTime\": 1749053129.2358894, \"Dimensions\": {\"Algorithm\": \"Linear Learner\", \"Host\": \"algo-1\", \"Operation\": \"training\", \"epoch\": 7, \"model\": 0}, \"Metrics\": {\"train_mse_objective\": {\"sum\": 0.768413720703125, \"count\": 1, \"min\": 0.768413720703125, \"max\": 0.768413720703125}}}\u001b[0m\n",
      "\u001b[34m#metrics {\"StartTime\": 1749053129.236203, \"EndTime\": 1749053129.2362454, \"Dimensions\": {\"Algorithm\": \"Linear Learner\", \"Host\": \"algo-1\", \"Operation\": \"training\", \"epoch\": 7, \"model\": 1}, \"Metrics\": {\"train_mse_objective\": {\"sum\": 0.7467868408203125, \"count\": 1, \"min\": 0.7467868408203125, \"max\": 0.7467868408203125}}}\u001b[0m\n",
      "\u001b[34m#metrics {\"StartTime\": 1749053129.2365344, \"EndTime\": 1749053129.2365766, \"Dimensions\": {\"Algorithm\": \"Linear Learner\", \"Host\": \"algo-1\", \"Operation\": \"training\", \"epoch\": 7, \"model\": 2}, \"Metrics\": {\"train_mse_objective\": {\"sum\": 0.7894537109375, \"count\": 1, \"min\": 0.7894537109375, \"max\": 0.7894537109375}}}\u001b[0m\n",
      "\u001b[34m#metrics {\"StartTime\": 1749053129.236858, \"EndTime\": 1749053129.236877, \"Dimensions\": {\"Algorithm\": \"Linear Learner\", \"Host\": \"algo-1\", \"Operation\": \"training\", \"epoch\": 7, \"model\": 3}, \"Metrics\": {\"train_mse_objective\": {\"sum\": 0.7438134033203125, \"count\": 1, \"min\": 0.7438134033203125, \"max\": 0.7438134033203125}}}\u001b[0m\n",
      "\u001b[34m#metrics {\"StartTime\": 1749053129.237179, \"EndTime\": 1749053129.2372203, \"Dimensions\": {\"Algorithm\": \"Linear Learner\", \"Host\": \"algo-1\", \"Operation\": \"training\", \"epoch\": 7, \"model\": 4}, \"Metrics\": {\"train_mse_objective\": {\"sum\": 0.7251006469726563, \"count\": 1, \"min\": 0.7251006469726563, \"max\": 0.7251006469726563}}}\u001b[0m\n",
      "\u001b[34m#metrics {\"StartTime\": 1749053129.2375243, \"EndTime\": 1749053129.2375662, \"Dimensions\": {\"Algorithm\": \"Linear Learner\", \"Host\": \"algo-1\", \"Operation\": \"training\", \"epoch\": 7, \"model\": 5}, \"Metrics\": {\"train_mse_objective\": {\"sum\": 0.7256681884765624, \"count\": 1, \"min\": 0.7256681884765624, \"max\": 0.7256681884765624}}}\u001b[0m\n",
      "\u001b[34m#metrics {\"StartTime\": 1749053129.2378497, \"EndTime\": 1749053129.237869, \"Dimensions\": {\"Algorithm\": \"Linear Learner\", \"Host\": \"algo-1\", \"Operation\": \"training\", \"epoch\": 7, \"model\": 6}, \"Metrics\": {\"train_mse_objective\": {\"sum\": 0.7263272827148437, \"count\": 1, \"min\": 0.7263272827148437, \"max\": 0.7263272827148437}}}\u001b[0m\n",
      "\u001b[34m#metrics {\"StartTime\": 1749053129.2381616, \"EndTime\": 1749053129.2381818, \"Dimensions\": {\"Algorithm\": \"Linear Learner\", \"Host\": \"algo-1\", \"Operation\": \"training\", \"epoch\": 7, \"model\": 7}, \"Metrics\": {\"train_mse_objective\": {\"sum\": 0.7256015869140625, \"count\": 1, \"min\": 0.7256015869140625, \"max\": 0.7256015869140625}}}\u001b[0m\n",
      "\u001b[34m#metrics {\"StartTime\": 1749053129.2384791, \"EndTime\": 1749053129.23852, \"Dimensions\": {\"Algorithm\": \"Linear Learner\", \"Host\": \"algo-1\", \"Operation\": \"training\", \"epoch\": 7, \"model\": 8}, \"Metrics\": {\"train_mse_objective\": {\"sum\": 0.7689965454101563, \"count\": 1, \"min\": 0.7689965454101563, \"max\": 0.7689965454101563}}}\u001b[0m\n",
      "\u001b[34m#metrics {\"StartTime\": 1749053129.238792, \"EndTime\": 1749053129.2388315, \"Dimensions\": {\"Algorithm\": \"Linear Learner\", \"Host\": \"algo-1\", \"Operation\": \"training\", \"epoch\": 7, \"model\": 9}, \"Metrics\": {\"train_mse_objective\": {\"sum\": 0.7484771850585937, \"count\": 1, \"min\": 0.7484771850585937, \"max\": 0.7484771850585937}}}\u001b[0m\n",
      "\u001b[34m#metrics {\"StartTime\": 1749053129.239112, \"EndTime\": 1749053129.239153, \"Dimensions\": {\"Algorithm\": \"Linear Learner\", \"Host\": \"algo-1\", \"Operation\": \"training\", \"epoch\": 7, \"model\": 10}, \"Metrics\": {\"train_mse_objective\": {\"sum\": 0.749072119140625, \"count\": 1, \"min\": 0.749072119140625, \"max\": 0.749072119140625}}}\u001b[0m\n",
      "\u001b[34m#metrics {\"StartTime\": 1749053129.2394488, \"EndTime\": 1749053129.2394903, \"Dimensions\": {\"Algorithm\": \"Linear Learner\", \"Host\": \"algo-1\", \"Operation\": \"training\", \"epoch\": 7, \"model\": 11}, \"Metrics\": {\"train_mse_objective\": {\"sum\": 0.781267041015625, \"count\": 1, \"min\": 0.781267041015625, \"max\": 0.781267041015625}}}\u001b[0m\n",
      "\u001b[34m#metrics {\"StartTime\": 1749053129.2397687, \"EndTime\": 1749053129.239788, \"Dimensions\": {\"Algorithm\": \"Linear Learner\", \"Host\": \"algo-1\", \"Operation\": \"training\", \"epoch\": 7, \"model\": 12}, \"Metrics\": {\"train_mse_objective\": {\"sum\": 0.7254115600585938, \"count\": 1, \"min\": 0.7254115600585938, \"max\": 0.7254115600585938}}}\u001b[0m\n",
      "\u001b[34m#metrics {\"StartTime\": 1749053129.240017, \"EndTime\": 1749053129.2400362, \"Dimensions\": {\"Algorithm\": \"Linear Learner\", \"Host\": \"algo-1\", \"Operation\": \"training\", \"epoch\": 7, \"model\": 13}, \"Metrics\": {\"train_mse_objective\": {\"sum\": 0.7253621459960937, \"count\": 1, \"min\": 0.7253621459960937, \"max\": 0.7253621459960937}}}\u001b[0m\n",
      "\u001b[34m#metrics {\"StartTime\": 1749053129.2401097, \"EndTime\": 1749053129.240138, \"Dimensions\": {\"Algorithm\": \"Linear Learner\", \"Host\": \"algo-1\", \"Operation\": \"training\", \"epoch\": 7, \"model\": 14}, \"Metrics\": {\"train_mse_objective\": {\"sum\": 0.7252969482421875, \"count\": 1, \"min\": 0.7252969482421875, \"max\": 0.7252969482421875}}}\u001b[0m\n",
      "\u001b[34m#metrics {\"StartTime\": 1749053129.240211, \"EndTime\": 1749053129.2402232, \"Dimensions\": {\"Algorithm\": \"Linear Learner\", \"Host\": \"algo-1\", \"Operation\": \"training\", \"epoch\": 7, \"model\": 15}, \"Metrics\": {\"train_mse_objective\": {\"sum\": 0.7256288696289063, \"count\": 1, \"min\": 0.7256288696289063, \"max\": 0.7256288696289063}}}\u001b[0m\n",
      "\u001b[34m#metrics {\"StartTime\": 1749053129.2403553, \"EndTime\": 1749053129.240369, \"Dimensions\": {\"Algorithm\": \"Linear Learner\", \"Host\": \"algo-1\", \"Operation\": \"training\", \"epoch\": 7, \"model\": 16}, \"Metrics\": {\"train_mse_objective\": {\"sum\": 0.7779732666015625, \"count\": 1, \"min\": 0.7779732666015625, \"max\": 0.7779732666015625}}}\u001b[0m\n",
      "\u001b[34m#metrics {\"StartTime\": 1749053129.2404454, \"EndTime\": 1749053129.2404573, \"Dimensions\": {\"Algorithm\": \"Linear Learner\", \"Host\": \"algo-1\", \"Operation\": \"training\", \"epoch\": 7, \"model\": 17}, \"Metrics\": {\"train_mse_objective\": {\"sum\": 0.8000356689453125, \"count\": 1, \"min\": 0.8000356689453125, \"max\": 0.8000356689453125}}}\u001b[0m\n",
      "\u001b[34m#metrics {\"StartTime\": 1749053129.2405255, \"EndTime\": 1749053129.2405362, \"Dimensions\": {\"Algorithm\": \"Linear Learner\", \"Host\": \"algo-1\", \"Operation\": \"training\", \"epoch\": 7, \"model\": 18}, \"Metrics\": {\"train_mse_objective\": {\"sum\": 0.7846228149414063, \"count\": 1, \"min\": 0.7846228149414063, \"max\": 0.7846228149414063}}}\u001b[0m\n",
      "\u001b[34m#metrics {\"StartTime\": 1749053129.2405772, \"EndTime\": 1749053129.2405858, \"Dimensions\": {\"Algorithm\": \"Linear Learner\", \"Host\": \"algo-1\", \"Operation\": \"training\", \"epoch\": 7, \"model\": 19}, \"Metrics\": {\"train_mse_objective\": {\"sum\": 0.8118913818359375, \"count\": 1, \"min\": 0.8118913818359375, \"max\": 0.8118913818359375}}}\u001b[0m\n",
      "\u001b[34m#metrics {\"StartTime\": 1749053129.2406166, \"EndTime\": 1749053129.2406244, \"Dimensions\": {\"Algorithm\": \"Linear Learner\", \"Host\": \"algo-1\", \"Operation\": \"training\", \"epoch\": 7, \"model\": 20}, \"Metrics\": {\"train_mse_objective\": {\"sum\": 0.789573046875, \"count\": 1, \"min\": 0.789573046875, \"max\": 0.789573046875}}}\u001b[0m\n",
      "\u001b[34m#metrics {\"StartTime\": 1749053129.2406855, \"EndTime\": 1749053129.2406945, \"Dimensions\": {\"Algorithm\": \"Linear Learner\", \"Host\": \"algo-1\", \"Operation\": \"training\", \"epoch\": 7, \"model\": 21}, \"Metrics\": {\"train_mse_objective\": {\"sum\": 0.7961048461914062, \"count\": 1, \"min\": 0.7961048461914062, \"max\": 0.7961048461914062}}}\u001b[0m\n",
      "\u001b[34m#metrics {\"StartTime\": 1749053129.240765, \"EndTime\": 1749053129.2407763, \"Dimensions\": {\"Algorithm\": \"Linear Learner\", \"Host\": \"algo-1\", \"Operation\": \"training\", \"epoch\": 7, \"model\": 22}, \"Metrics\": {\"train_mse_objective\": {\"sum\": 0.79765556640625, \"count\": 1, \"min\": 0.79765556640625, \"max\": 0.79765556640625}}}\u001b[0m\n",
      "\u001b[34m#metrics {\"StartTime\": 1749053129.240836, \"EndTime\": 1749053129.2408452, \"Dimensions\": {\"Algorithm\": \"Linear Learner\", \"Host\": \"algo-1\", \"Operation\": \"training\", \"epoch\": 7, \"model\": 23}, \"Metrics\": {\"train_mse_objective\": {\"sum\": 0.7916926879882813, \"count\": 1, \"min\": 0.7916926879882813, \"max\": 0.7916926879882813}}}\u001b[0m\n",
      "\u001b[34m#metrics {\"StartTime\": 1749053129.2409022, \"EndTime\": 1749053129.2409112, \"Dimensions\": {\"Algorithm\": \"Linear Learner\", \"Host\": \"algo-1\", \"Operation\": \"training\", \"epoch\": 7, \"model\": 24}, \"Metrics\": {\"train_mse_objective\": {\"sum\": 0.9957652954101562, \"count\": 1, \"min\": 0.9957652954101562, \"max\": 0.9957652954101562}}}\u001b[0m\n",
      "\u001b[34m#metrics {\"StartTime\": 1749053129.2409673, \"EndTime\": 1749053129.2409859, \"Dimensions\": {\"Algorithm\": \"Linear Learner\", \"Host\": \"algo-1\", \"Operation\": \"training\", \"epoch\": 7, \"model\": 25}, \"Metrics\": {\"train_mse_objective\": {\"sum\": 0.9932085327148438, \"count\": 1, \"min\": 0.9932085327148438, \"max\": 0.9932085327148438}}}\u001b[0m\n",
      "\u001b[34m#metrics {\"StartTime\": 1749053129.2410252, \"EndTime\": 1749053129.241035, \"Dimensions\": {\"Algorithm\": \"Linear Learner\", \"Host\": \"algo-1\", \"Operation\": \"training\", \"epoch\": 7, \"model\": 26}, \"Metrics\": {\"train_mse_objective\": {\"sum\": 0.9957478637695313, \"count\": 1, \"min\": 0.9957478637695313, \"max\": 0.9957478637695313}}}\u001b[0m\n",
      "\u001b[34m#metrics {\"StartTime\": 1749053129.2411056, \"EndTime\": 1749053129.2411175, \"Dimensions\": {\"Algorithm\": \"Linear Learner\", \"Host\": \"algo-1\", \"Operation\": \"training\", \"epoch\": 7, \"model\": 27}, \"Metrics\": {\"train_mse_objective\": {\"sum\": 0.993902294921875, \"count\": 1, \"min\": 0.993902294921875, \"max\": 0.993902294921875}}}\u001b[0m\n",
      "\u001b[34m#metrics {\"StartTime\": 1749053129.2411761, \"EndTime\": 1749053129.241186, \"Dimensions\": {\"Algorithm\": \"Linear Learner\", \"Host\": \"algo-1\", \"Operation\": \"training\", \"epoch\": 7, \"model\": 28}, \"Metrics\": {\"train_mse_objective\": {\"sum\": 0.9945942504882812, \"count\": 1, \"min\": 0.9945942504882812, \"max\": 0.9945942504882812}}}\u001b[0m\n",
      "\u001b[34m#metrics {\"StartTime\": 1749053129.2412713, \"EndTime\": 1749053129.2412837, \"Dimensions\": {\"Algorithm\": \"Linear Learner\", \"Host\": \"algo-1\", \"Operation\": \"training\", \"epoch\": 7, \"model\": 29}, \"Metrics\": {\"train_mse_objective\": {\"sum\": 0.9982141235351563, \"count\": 1, \"min\": 0.9982141235351563, \"max\": 0.9982141235351563}}}\u001b[0m\n",
      "\u001b[34m#metrics {\"StartTime\": 1749053129.2413485, \"EndTime\": 1749053129.241359, \"Dimensions\": {\"Algorithm\": \"Linear Learner\", \"Host\": \"algo-1\", \"Operation\": \"training\", \"epoch\": 7, \"model\": 30}, \"Metrics\": {\"train_mse_objective\": {\"sum\": 1.0071217407226563, \"count\": 1, \"min\": 1.0071217407226563, \"max\": 1.0071217407226563}}}\u001b[0m\n",
      "\u001b[34m#metrics {\"StartTime\": 1749053129.2414289, \"EndTime\": 1749053129.2414405, \"Dimensions\": {\"Algorithm\": \"Linear Learner\", \"Host\": \"algo-1\", \"Operation\": \"training\", \"epoch\": 7, \"model\": 31}, \"Metrics\": {\"train_mse_objective\": {\"sum\": 1.0086695556640626, \"count\": 1, \"min\": 1.0086695556640626, \"max\": 1.0086695556640626}}}\u001b[0m\n",
      "\u001b[34m[06/04/2025 16:05:29 INFO 140352932898624] #quality_metric: host=algo-1, epoch=7, train mse_objective <loss>=0.768413720703125\u001b[0m\n",
      "\u001b[34m[06/04/2025 16:05:29 INFO 140352932898624] #early_stopping_criteria_metric: host=algo-1, epoch=7, criteria=mse_objective, value=0.7251006469726563\u001b[0m\n",
      "\u001b[34m[06/04/2025 16:05:29 INFO 140352932898624] Epoch 7: Loss improved. Updating best model\u001b[0m\n",
      "\u001b[34m[06/04/2025 16:05:29 INFO 140352932898624] Saving model for epoch: 7\u001b[0m\n",
      "\u001b[34m[06/04/2025 16:05:29 INFO 140352932898624] Saved checkpoint to \"/tmp/tmpl9e6_cvh/mx-mod-0000.params\"\u001b[0m\n",
      "\u001b[34m[06/04/2025 16:05:29 INFO 140352932898624] #progress_metric: host=algo-1, completed 53.333333333333336 % of epochs\u001b[0m\n",
      "\u001b[34m#metrics {\"StartTime\": 1749053129.136088, \"EndTime\": 1749053129.2502618, \"Dimensions\": {\"Algorithm\": \"Linear Learner\", \"Host\": \"algo-1\", \"Operation\": \"training\", \"epoch\": 7, \"Meta\": \"training_data_iter\"}, \"Metrics\": {\"Total Records Seen\": {\"sum\": 47773.0, \"count\": 1, \"min\": 47773, \"max\": 47773}, \"Total Batches Seen\": {\"sum\": 55.0, \"count\": 1, \"min\": 55, \"max\": 55}, \"Max Records Seen Between Resets\": {\"sum\": 5197.0, \"count\": 1, \"min\": 5197, \"max\": 5197}, \"Max Batches Seen Between Resets\": {\"sum\": 6.0, \"count\": 1, \"min\": 6, \"max\": 6}, \"Reset Count\": {\"sum\": 10.0, \"count\": 1, \"min\": 10, \"max\": 10}, \"Number of Records Since Last Reset\": {\"sum\": 5197.0, \"count\": 1, \"min\": 5197, \"max\": 5197}, \"Number of Batches Since Last Reset\": {\"sum\": 6.0, \"count\": 1, \"min\": 6, \"max\": 6}}}\u001b[0m\n",
      "\u001b[34m[06/04/2025 16:05:29 INFO 140352932898624] #throughput_metric: host=algo-1, train throughput=45476.693735682784 records/second\u001b[0m\n",
      "\u001b[34m[2025-06-04 16:05:29.319] [tensorio] [info] epoch_stats={\"data_pipeline\": \"/opt/ml/input/data/train\", \"epoch\": 20, \"duration\": 68, \"num_examples\": 6, \"num_bytes\": 457336}\u001b[0m\n",
      "\u001b[34m#metrics {\"StartTime\": 1749053129.3193402, \"EndTime\": 1749053129.3193822, \"Dimensions\": {\"Algorithm\": \"Linear Learner\", \"Host\": \"algo-1\", \"Operation\": \"training\", \"epoch\": 8, \"model\": 0}, \"Metrics\": {\"train_mse_objective\": {\"sum\": 0.75917841796875, \"count\": 1, \"min\": 0.75917841796875, \"max\": 0.75917841796875}}}\u001b[0m\n",
      "\u001b[34m#metrics {\"StartTime\": 1749053129.3194675, \"EndTime\": 1749053129.3194768, \"Dimensions\": {\"Algorithm\": \"Linear Learner\", \"Host\": \"algo-1\", \"Operation\": \"training\", \"epoch\": 8, \"model\": 1}, \"Metrics\": {\"train_mse_objective\": {\"sum\": 0.7392436279296875, \"count\": 1, \"min\": 0.7392436279296875, \"max\": 0.7392436279296875}}}\u001b[0m\n",
      "\u001b[34m#metrics {\"StartTime\": 1749053129.3195326, \"EndTime\": 1749053129.3195407, \"Dimensions\": {\"Algorithm\": \"Linear Learner\", \"Host\": \"algo-1\", \"Operation\": \"training\", \"epoch\": 8, \"model\": 2}, \"Metrics\": {\"train_mse_objective\": {\"sum\": 0.7767686767578125, \"count\": 1, \"min\": 0.7767686767578125, \"max\": 0.7767686767578125}}}\u001b[0m\n",
      "\u001b[34m#metrics {\"StartTime\": 1749053129.3195941, \"EndTime\": 1749053129.319602, \"Dimensions\": {\"Algorithm\": \"Linear Learner\", \"Host\": \"algo-1\", \"Operation\": \"training\", \"epoch\": 8, \"model\": 3}, \"Metrics\": {\"train_mse_objective\": {\"sum\": 0.7380143676757812, \"count\": 1, \"min\": 0.7380143676757812, \"max\": 0.7380143676757812}}}\u001b[0m\n",
      "\u001b[34m#metrics {\"StartTime\": 1749053129.3196445, \"EndTime\": 1749053129.3196507, \"Dimensions\": {\"Algorithm\": \"Linear Learner\", \"Host\": \"algo-1\", \"Operation\": \"training\", \"epoch\": 8, \"model\": 4}, \"Metrics\": {\"train_mse_objective\": {\"sum\": 0.7191032348632812, \"count\": 1, \"min\": 0.7191032348632812, \"max\": 0.7191032348632812}}}\u001b[0m\n",
      "\u001b[34m#metrics {\"StartTime\": 1749053129.3196912, \"EndTime\": 1749053129.3196971, \"Dimensions\": {\"Algorithm\": \"Linear Learner\", \"Host\": \"algo-1\", \"Operation\": \"training\", \"epoch\": 8, \"model\": 5}, \"Metrics\": {\"train_mse_objective\": {\"sum\": 0.7197509643554687, \"count\": 1, \"min\": 0.7197509643554687, \"max\": 0.7197509643554687}}}\u001b[0m\n",
      "\u001b[34m#metrics {\"StartTime\": 1749053129.3197367, \"EndTime\": 1749053129.3197424, \"Dimensions\": {\"Algorithm\": \"Linear Learner\", \"Host\": \"algo-1\", \"Operation\": \"training\", \"epoch\": 8, \"model\": 6}, \"Metrics\": {\"train_mse_objective\": {\"sum\": 0.719213623046875, \"count\": 1, \"min\": 0.719213623046875, \"max\": 0.719213623046875}}}\u001b[0m\n",
      "\u001b[34m#metrics {\"StartTime\": 1749053129.3197837, \"EndTime\": 1749053129.3197896, \"Dimensions\": {\"Algorithm\": \"Linear Learner\", \"Host\": \"algo-1\", \"Operation\": \"training\", \"epoch\": 8, \"model\": 7}, \"Metrics\": {\"train_mse_objective\": {\"sum\": 0.72025390625, \"count\": 1, \"min\": 0.72025390625, \"max\": 0.72025390625}}}\u001b[0m\n",
      "\u001b[34m#metrics {\"StartTime\": 1749053129.3198364, \"EndTime\": 1749053129.3198433, \"Dimensions\": {\"Algorithm\": \"Linear Learner\", \"Host\": \"algo-1\", \"Operation\": \"training\", \"epoch\": 8, \"model\": 8}, \"Metrics\": {\"train_mse_objective\": {\"sum\": 0.760400830078125, \"count\": 1, \"min\": 0.760400830078125, \"max\": 0.760400830078125}}}\u001b[0m\n",
      "\u001b[34m#metrics {\"StartTime\": 1749053129.319894, \"EndTime\": 1749053129.319901, \"Dimensions\": {\"Algorithm\": \"Linear Learner\", \"Host\": \"algo-1\", \"Operation\": \"training\", \"epoch\": 8, \"model\": 9}, \"Metrics\": {\"train_mse_objective\": {\"sum\": 0.740927685546875, \"count\": 1, \"min\": 0.740927685546875, \"max\": 0.740927685546875}}}\u001b[0m\n",
      "\u001b[34m#metrics {\"StartTime\": 1749053129.3199422, \"EndTime\": 1749053129.3199477, \"Dimensions\": {\"Algorithm\": \"Linear Learner\", \"Host\": \"algo-1\", \"Operation\": \"training\", \"epoch\": 8, \"model\": 10}, \"Metrics\": {\"train_mse_objective\": {\"sum\": 0.7425755126953125, \"count\": 1, \"min\": 0.7425755126953125, \"max\": 0.7425755126953125}}}\u001b[0m\n",
      "\u001b[34m#metrics {\"StartTime\": 1749053129.3200014, \"EndTime\": 1749053129.3200088, \"Dimensions\": {\"Algorithm\": \"Linear Learner\", \"Host\": \"algo-1\", \"Operation\": \"training\", \"epoch\": 8, \"model\": 11}, \"Metrics\": {\"train_mse_objective\": {\"sum\": 0.7691796752929687, \"count\": 1, \"min\": 0.7691796752929687, \"max\": 0.7691796752929687}}}\u001b[0m\n",
      "\u001b[34m#metrics {\"StartTime\": 1749053129.32005, \"EndTime\": 1749053129.3200557, \"Dimensions\": {\"Algorithm\": \"Linear Learner\", \"Host\": \"algo-1\", \"Operation\": \"training\", \"epoch\": 8, \"model\": 12}, \"Metrics\": {\"train_mse_objective\": {\"sum\": 0.7189300659179687, \"count\": 1, \"min\": 0.7189300659179687, \"max\": 0.7189300659179687}}}\u001b[0m\n",
      "\u001b[34m#metrics {\"StartTime\": 1749053129.3200984, \"EndTime\": 1749053129.3201041, \"Dimensions\": {\"Algorithm\": \"Linear Learner\", \"Host\": \"algo-1\", \"Operation\": \"training\", \"epoch\": 8, \"model\": 13}, \"Metrics\": {\"train_mse_objective\": {\"sum\": 0.7191871704101562, \"count\": 1, \"min\": 0.7191871704101562, \"max\": 0.7191871704101562}}}\u001b[0m\n",
      "\u001b[34m#metrics {\"StartTime\": 1749053129.3201435, \"EndTime\": 1749053129.320149, \"Dimensions\": {\"Algorithm\": \"Linear Learner\", \"Host\": \"algo-1\", \"Operation\": \"training\", \"epoch\": 8, \"model\": 14}, \"Metrics\": {\"train_mse_objective\": {\"sum\": 0.7191316162109375, \"count\": 1, \"min\": 0.7191316162109375, \"max\": 0.7191316162109375}}}\u001b[0m\n",
      "\u001b[34m#metrics {\"StartTime\": 1749053129.3201969, \"EndTime\": 1749053129.3202038, \"Dimensions\": {\"Algorithm\": \"Linear Learner\", \"Host\": \"algo-1\", \"Operation\": \"training\", \"epoch\": 8, \"model\": 15}, \"Metrics\": {\"train_mse_objective\": {\"sum\": 0.7192916015625, \"count\": 1, \"min\": 0.7192916015625, \"max\": 0.7192916015625}}}\u001b[0m\n",
      "\u001b[34m#metrics {\"StartTime\": 1749053129.320246, \"EndTime\": 1749053129.320252, \"Dimensions\": {\"Algorithm\": \"Linear Learner\", \"Host\": \"algo-1\", \"Operation\": \"training\", \"epoch\": 8, \"model\": 16}, \"Metrics\": {\"train_mse_objective\": {\"sum\": 0.7768792846679687, \"count\": 1, \"min\": 0.7768792846679687, \"max\": 0.7768792846679687}}}\u001b[0m\n",
      "\u001b[34m#metrics {\"StartTime\": 1749053129.320296, \"EndTime\": 1749053129.3203015, \"Dimensions\": {\"Algorithm\": \"Linear Learner\", \"Host\": \"algo-1\", \"Operation\": \"training\", \"epoch\": 8, \"model\": 17}, \"Metrics\": {\"train_mse_objective\": {\"sum\": 0.7944197265625, \"count\": 1, \"min\": 0.7944197265625, \"max\": 0.7944197265625}}}\u001b[0m\n",
      "\u001b[34m#metrics {\"StartTime\": 1749053129.320342, \"EndTime\": 1749053129.3203478, \"Dimensions\": {\"Algorithm\": \"Linear Learner\", \"Host\": \"algo-1\", \"Operation\": \"training\", \"epoch\": 8, \"model\": 18}, \"Metrics\": {\"train_mse_objective\": {\"sum\": 0.78360009765625, \"count\": 1, \"min\": 0.78360009765625, \"max\": 0.78360009765625}}}\u001b[0m\n",
      "\u001b[34m#metrics {\"StartTime\": 1749053129.320395, \"EndTime\": 1749053129.320401, \"Dimensions\": {\"Algorithm\": \"Linear Learner\", \"Host\": \"algo-1\", \"Operation\": \"training\", \"epoch\": 8, \"model\": 19}, \"Metrics\": {\"train_mse_objective\": {\"sum\": 0.8045843017578125, \"count\": 1, \"min\": 0.8045843017578125, \"max\": 0.8045843017578125}}}\u001b[0m\n",
      "\u001b[34m#metrics {\"StartTime\": 1749053129.320447, \"EndTime\": 1749053129.3204541, \"Dimensions\": {\"Algorithm\": \"Linear Learner\", \"Host\": \"algo-1\", \"Operation\": \"training\", \"epoch\": 8, \"model\": 20}, \"Metrics\": {\"train_mse_objective\": {\"sum\": 0.7877121704101563, \"count\": 1, \"min\": 0.7877121704101563, \"max\": 0.7877121704101563}}}\u001b[0m\n",
      "\u001b[34m#metrics {\"StartTime\": 1749053129.3205018, \"EndTime\": 1749053129.320509, \"Dimensions\": {\"Algorithm\": \"Linear Learner\", \"Host\": \"algo-1\", \"Operation\": \"training\", \"epoch\": 8, \"model\": 21}, \"Metrics\": {\"train_mse_objective\": {\"sum\": 0.7892207397460937, \"count\": 1, \"min\": 0.7892207397460937, \"max\": 0.7892207397460937}}}\u001b[0m\n",
      "\u001b[34m#metrics {\"StartTime\": 1749053129.3205545, \"EndTime\": 1749053129.3205605, \"Dimensions\": {\"Algorithm\": \"Linear Learner\", \"Host\": \"algo-1\", \"Operation\": \"training\", \"epoch\": 8, \"model\": 22}, \"Metrics\": {\"train_mse_objective\": {\"sum\": 0.7830670532226562, \"count\": 1, \"min\": 0.7830670532226562, \"max\": 0.7830670532226562}}}\u001b[0m\n",
      "\u001b[34m#metrics {\"StartTime\": 1749053129.3206024, \"EndTime\": 1749053129.3206093, \"Dimensions\": {\"Algorithm\": \"Linear Learner\", \"Host\": \"algo-1\", \"Operation\": \"training\", \"epoch\": 8, \"model\": 23}, \"Metrics\": {\"train_mse_objective\": {\"sum\": 0.7954356567382812, \"count\": 1, \"min\": 0.7954356567382812, \"max\": 0.7954356567382812}}}\u001b[0m\n",
      "\u001b[34m#metrics {\"StartTime\": 1749053129.3206496, \"EndTime\": 1749053129.3206556, \"Dimensions\": {\"Algorithm\": \"Linear Learner\", \"Host\": \"algo-1\", \"Operation\": \"training\", \"epoch\": 8, \"model\": 24}, \"Metrics\": {\"train_mse_objective\": {\"sum\": 0.9927052612304688, \"count\": 1, \"min\": 0.9927052612304688, \"max\": 0.9927052612304688}}}\u001b[0m\n",
      "\u001b[34m#metrics {\"StartTime\": 1749053129.3207037, \"EndTime\": 1749053129.32071, \"Dimensions\": {\"Algorithm\": \"Linear Learner\", \"Host\": \"algo-1\", \"Operation\": \"training\", \"epoch\": 8, \"model\": 25}, \"Metrics\": {\"train_mse_objective\": {\"sum\": 0.992149560546875, \"count\": 1, \"min\": 0.992149560546875, \"max\": 0.992149560546875}}}\u001b[0m\n",
      "\u001b[34m#metrics {\"StartTime\": 1749053129.3207498, \"EndTime\": 1749053129.3207557, \"Dimensions\": {\"Algorithm\": \"Linear Learner\", \"Host\": \"algo-1\", \"Operation\": \"training\", \"epoch\": 8, \"model\": 26}, \"Metrics\": {\"train_mse_objective\": {\"sum\": 0.9923448364257812, \"count\": 1, \"min\": 0.9923448364257812, \"max\": 0.9923448364257812}}}\u001b[0m\n",
      "\u001b[34m#metrics {\"StartTime\": 1749053129.320796, \"EndTime\": 1749053129.3208017, \"Dimensions\": {\"Algorithm\": \"Linear Learner\", \"Host\": \"algo-1\", \"Operation\": \"training\", \"epoch\": 8, \"model\": 27}, \"Metrics\": {\"train_mse_objective\": {\"sum\": 0.9925062622070312, \"count\": 1, \"min\": 0.9925062622070312, \"max\": 0.9925062622070312}}}\u001b[0m\n",
      "\u001b[34m#metrics {\"StartTime\": 1749053129.3208418, \"EndTime\": 1749053129.3208475, \"Dimensions\": {\"Algorithm\": \"Linear Learner\", \"Host\": \"algo-1\", \"Operation\": \"training\", \"epoch\": 8, \"model\": 28}, \"Metrics\": {\"train_mse_objective\": {\"sum\": 1.0019530517578126, \"count\": 1, \"min\": 1.0019530517578126, \"max\": 1.0019530517578126}}}\u001b[0m\n",
      "\u001b[34m#metrics {\"StartTime\": 1749053129.3208883, \"EndTime\": 1749053129.320894, \"Dimensions\": {\"Algorithm\": \"Linear Learner\", \"Host\": \"algo-1\", \"Operation\": \"training\", \"epoch\": 8, \"model\": 29}, \"Metrics\": {\"train_mse_objective\": {\"sum\": 0.9977387939453125, \"count\": 1, \"min\": 0.9977387939453125, \"max\": 0.9977387939453125}}}\u001b[0m\n",
      "\u001b[34m#metrics {\"StartTime\": 1749053129.3209343, \"EndTime\": 1749053129.32094, \"Dimensions\": {\"Algorithm\": \"Linear Learner\", \"Host\": \"algo-1\", \"Operation\": \"training\", \"epoch\": 8, \"model\": 30}, \"Metrics\": {\"train_mse_objective\": {\"sum\": 0.992395654296875, \"count\": 1, \"min\": 0.992395654296875, \"max\": 0.992395654296875}}}\u001b[0m\n",
      "\u001b[34m#metrics {\"StartTime\": 1749053129.320992, \"EndTime\": 1749053129.3209999, \"Dimensions\": {\"Algorithm\": \"Linear Learner\", \"Host\": \"algo-1\", \"Operation\": \"training\", \"epoch\": 8, \"model\": 31}, \"Metrics\": {\"train_mse_objective\": {\"sum\": 0.990531298828125, \"count\": 1, \"min\": 0.990531298828125, \"max\": 0.990531298828125}}}\u001b[0m\n",
      "\u001b[34m[06/04/2025 16:05:29 INFO 140352932898624] #quality_metric: host=algo-1, epoch=8, train mse_objective <loss>=0.75917841796875\u001b[0m\n",
      "\u001b[34m[06/04/2025 16:05:29 INFO 140352932898624] #early_stopping_criteria_metric: host=algo-1, epoch=8, criteria=mse_objective, value=0.7189300659179687\u001b[0m\n",
      "\u001b[34m[06/04/2025 16:05:29 INFO 140352932898624] Epoch 8: Loss improved. Updating best model\u001b[0m\n",
      "\u001b[34m[06/04/2025 16:05:29 INFO 140352932898624] Saving model for epoch: 8\u001b[0m\n",
      "\u001b[34m[06/04/2025 16:05:29 INFO 140352932898624] Saved checkpoint to \"/tmp/tmp7i1orasq/mx-mod-0000.params\"\u001b[0m\n",
      "\u001b[34m[06/04/2025 16:05:29 INFO 140352932898624] #progress_metric: host=algo-1, completed 60.0 % of epochs\u001b[0m\n",
      "\u001b[34m#metrics {\"StartTime\": 1749053129.2505136, \"EndTime\": 1749053129.3276885, \"Dimensions\": {\"Algorithm\": \"Linear Learner\", \"Host\": \"algo-1\", \"Operation\": \"training\", \"epoch\": 8, \"Meta\": \"training_data_iter\"}, \"Metrics\": {\"Total Records Seen\": {\"sum\": 52970.0, \"count\": 1, \"min\": 52970, \"max\": 52970}, \"Total Batches Seen\": {\"sum\": 61.0, \"count\": 1, \"min\": 61, \"max\": 61}, \"Max Records Seen Between Resets\": {\"sum\": 5197.0, \"count\": 1, \"min\": 5197, \"max\": 5197}, \"Max Batches Seen Between Resets\": {\"sum\": 6.0, \"count\": 1, \"min\": 6, \"max\": 6}, \"Reset Count\": {\"sum\": 11.0, \"count\": 1, \"min\": 11, \"max\": 11}, \"Number of Records Since Last Reset\": {\"sum\": 5197.0, \"count\": 1, \"min\": 5197, \"max\": 5197}, \"Number of Batches Since Last Reset\": {\"sum\": 6.0, \"count\": 1, \"min\": 6, \"max\": 6}}}\u001b[0m\n",
      "\u001b[34m[06/04/2025 16:05:29 INFO 140352932898624] #throughput_metric: host=algo-1, train throughput=67261.58416415953 records/second\u001b[0m\n",
      "\u001b[34m[2025-06-04 16:05:29.394] [tensorio] [info] epoch_stats={\"data_pipeline\": \"/opt/ml/input/data/train\", \"epoch\": 22, \"duration\": 66, \"num_examples\": 6, \"num_bytes\": 457336}\u001b[0m\n",
      "\u001b[34m#metrics {\"StartTime\": 1749053129.3945267, \"EndTime\": 1749053129.3945677, \"Dimensions\": {\"Algorithm\": \"Linear Learner\", \"Host\": \"algo-1\", \"Operation\": \"training\", \"epoch\": 9, \"model\": 0}, \"Metrics\": {\"train_mse_objective\": {\"sum\": 0.7515834350585937, \"count\": 1, \"min\": 0.7515834350585937, \"max\": 0.7515834350585937}}}\u001b[0m\n",
      "\u001b[34m#metrics {\"StartTime\": 1749053129.3946457, \"EndTime\": 1749053129.3946548, \"Dimensions\": {\"Algorithm\": \"Linear Learner\", \"Host\": \"algo-1\", \"Operation\": \"training\", \"epoch\": 9, \"model\": 1}, \"Metrics\": {\"train_mse_objective\": {\"sum\": 0.7333487426757812, \"count\": 1, \"min\": 0.7333487426757812, \"max\": 0.7333487426757812}}}\u001b[0m\n",
      "\u001b[34m#metrics {\"StartTime\": 1749053129.3947017, \"EndTime\": 1749053129.3947086, \"Dimensions\": {\"Algorithm\": \"Linear Learner\", \"Host\": \"algo-1\", \"Operation\": \"training\", \"epoch\": 9, \"model\": 2}, \"Metrics\": {\"train_mse_objective\": {\"sum\": 0.766606591796875, \"count\": 1, \"min\": 0.766606591796875, \"max\": 0.766606591796875}}}\u001b[0m\n",
      "\u001b[34m#metrics {\"StartTime\": 1749053129.3947568, \"EndTime\": 1749053129.3947632, \"Dimensions\": {\"Algorithm\": \"Linear Learner\", \"Host\": \"algo-1\", \"Operation\": \"training\", \"epoch\": 9, \"model\": 3}, \"Metrics\": {\"train_mse_objective\": {\"sum\": 0.7332845947265625, \"count\": 1, \"min\": 0.7332845947265625, \"max\": 0.7332845947265625}}}\u001b[0m\n",
      "\u001b[34m#metrics {\"StartTime\": 1749053129.3948038, \"EndTime\": 1749053129.3948095, \"Dimensions\": {\"Algorithm\": \"Linear Learner\", \"Host\": \"algo-1\", \"Operation\": \"training\", \"epoch\": 9, \"model\": 4}, \"Metrics\": {\"train_mse_objective\": {\"sum\": 0.7190781982421875, \"count\": 1, \"min\": 0.7190781982421875, \"max\": 0.7190781982421875}}}\u001b[0m\n",
      "\u001b[34m#metrics {\"StartTime\": 1749053129.39485, \"EndTime\": 1749053129.394856, \"Dimensions\": {\"Algorithm\": \"Linear Learner\", \"Host\": \"algo-1\", \"Operation\": \"training\", \"epoch\": 9, \"model\": 5}, \"Metrics\": {\"train_mse_objective\": {\"sum\": 0.719753857421875, \"count\": 1, \"min\": 0.719753857421875, \"max\": 0.719753857421875}}}\u001b[0m\n",
      "\u001b[34m#metrics {\"StartTime\": 1749053129.3948994, \"EndTime\": 1749053129.3949053, \"Dimensions\": {\"Algorithm\": \"Linear Learner\", \"Host\": \"algo-1\", \"Operation\": \"training\", \"epoch\": 9, \"model\": 6}, \"Metrics\": {\"train_mse_objective\": {\"sum\": 0.72007587890625, \"count\": 1, \"min\": 0.72007587890625, \"max\": 0.72007587890625}}}\u001b[0m\n",
      "\u001b[34m#metrics {\"StartTime\": 1749053129.3949454, \"EndTime\": 1749053129.3949513, \"Dimensions\": {\"Algorithm\": \"Linear Learner\", \"Host\": \"algo-1\", \"Operation\": \"training\", \"epoch\": 9, \"model\": 7}, \"Metrics\": {\"train_mse_objective\": {\"sum\": 0.7189646362304688, \"count\": 1, \"min\": 0.7189646362304688, \"max\": 0.7189646362304688}}}\u001b[0m\n",
      "\u001b[34m#metrics {\"StartTime\": 1749053129.3949912, \"EndTime\": 1749053129.394997, \"Dimensions\": {\"Algorithm\": \"Linear Learner\", \"Host\": \"algo-1\", \"Operation\": \"training\", \"epoch\": 9, \"model\": 8}, \"Metrics\": {\"train_mse_objective\": {\"sum\": 0.7530626220703125, \"count\": 1, \"min\": 0.7530626220703125, \"max\": 0.7530626220703125}}}\u001b[0m\n",
      "\u001b[34m#metrics {\"StartTime\": 1749053129.3950393, \"EndTime\": 1749053129.395045, \"Dimensions\": {\"Algorithm\": \"Linear Learner\", \"Host\": \"algo-1\", \"Operation\": \"training\", \"epoch\": 9, \"model\": 9}, \"Metrics\": {\"train_mse_objective\": {\"sum\": 0.7348590698242188, \"count\": 1, \"min\": 0.7348590698242188, \"max\": 0.7348590698242188}}}\u001b[0m\n",
      "\u001b[34m#metrics {\"StartTime\": 1749053129.395088, \"EndTime\": 1749053129.3950937, \"Dimensions\": {\"Algorithm\": \"Linear Learner\", \"Host\": \"algo-1\", \"Operation\": \"training\", \"epoch\": 9, \"model\": 10}, \"Metrics\": {\"train_mse_objective\": {\"sum\": 0.7370675048828125, \"count\": 1, \"min\": 0.7370675048828125, \"max\": 0.7370675048828125}}}\u001b[0m\n",
      "\u001b[34m#metrics {\"StartTime\": 1749053129.3951383, \"EndTime\": 1749053129.3951442, \"Dimensions\": {\"Algorithm\": \"Linear Learner\", \"Host\": \"algo-1\", \"Operation\": \"training\", \"epoch\": 9, \"model\": 11}, \"Metrics\": {\"train_mse_objective\": {\"sum\": 0.7594891235351563, \"count\": 1, \"min\": 0.7594891235351563, \"max\": 0.7594891235351563}}}\u001b[0m\n",
      "\u001b[34m#metrics {\"StartTime\": 1749053129.395185, \"EndTime\": 1749053129.3951907, \"Dimensions\": {\"Algorithm\": \"Linear Learner\", \"Host\": \"algo-1\", \"Operation\": \"training\", \"epoch\": 9, \"model\": 12}, \"Metrics\": {\"train_mse_objective\": {\"sum\": 0.7199169799804688, \"count\": 1, \"min\": 0.7199169799804688, \"max\": 0.7199169799804688}}}\u001b[0m\n",
      "\u001b[34m#metrics {\"StartTime\": 1749053129.3952343, \"EndTime\": 1749053129.3952398, \"Dimensions\": {\"Algorithm\": \"Linear Learner\", \"Host\": \"algo-1\", \"Operation\": \"training\", \"epoch\": 9, \"model\": 13}, \"Metrics\": {\"train_mse_objective\": {\"sum\": 0.7203957153320313, \"count\": 1, \"min\": 0.7203957153320313, \"max\": 0.7203957153320313}}}\u001b[0m\n",
      "\u001b[34m#metrics {\"StartTime\": 1749053129.3952825, \"EndTime\": 1749053129.3952882, \"Dimensions\": {\"Algorithm\": \"Linear Learner\", \"Host\": \"algo-1\", \"Operation\": \"training\", \"epoch\": 9, \"model\": 14}, \"Metrics\": {\"train_mse_objective\": {\"sum\": 0.7201281127929687, \"count\": 1, \"min\": 0.7201281127929687, \"max\": 0.7201281127929687}}}\u001b[0m\n",
      "\u001b[34m#metrics {\"StartTime\": 1749053129.3953311, \"EndTime\": 1749053129.3953369, \"Dimensions\": {\"Algorithm\": \"Linear Learner\", \"Host\": \"algo-1\", \"Operation\": \"training\", \"epoch\": 9, \"model\": 15}, \"Metrics\": {\"train_mse_objective\": {\"sum\": 0.71946826171875, \"count\": 1, \"min\": 0.71946826171875, \"max\": 0.71946826171875}}}\u001b[0m\n",
      "\u001b[34m#metrics {\"StartTime\": 1749053129.3953798, \"EndTime\": 1749053129.3953855, \"Dimensions\": {\"Algorithm\": \"Linear Learner\", \"Host\": \"algo-1\", \"Operation\": \"training\", \"epoch\": 9, \"model\": 16}, \"Metrics\": {\"train_mse_objective\": {\"sum\": 0.7778919677734375, \"count\": 1, \"min\": 0.7778919677734375, \"max\": 0.7778919677734375}}}\u001b[0m\n",
      "\u001b[34m#metrics {\"StartTime\": 1749053129.3954308, \"EndTime\": 1749053129.3954368, \"Dimensions\": {\"Algorithm\": \"Linear Learner\", \"Host\": \"algo-1\", \"Operation\": \"training\", \"epoch\": 9, \"model\": 17}, \"Metrics\": {\"train_mse_objective\": {\"sum\": 0.7906073608398437, \"count\": 1, \"min\": 0.7906073608398437, \"max\": 0.7906073608398437}}}\u001b[0m\n",
      "\u001b[34m#metrics {\"StartTime\": 1749053129.3954818, \"EndTime\": 1749053129.3954878, \"Dimensions\": {\"Algorithm\": \"Linear Learner\", \"Host\": \"algo-1\", \"Operation\": \"training\", \"epoch\": 9, \"model\": 18}, \"Metrics\": {\"train_mse_objective\": {\"sum\": 0.7839025024414062, \"count\": 1, \"min\": 0.7839025024414062, \"max\": 0.7839025024414062}}}\u001b[0m\n",
      "\u001b[34m#metrics {\"StartTime\": 1749053129.3955307, \"EndTime\": 1749053129.395537, \"Dimensions\": {\"Algorithm\": \"Linear Learner\", \"Host\": \"algo-1\", \"Operation\": \"training\", \"epoch\": 9, \"model\": 19}, \"Metrics\": {\"train_mse_objective\": {\"sum\": 0.7991965942382813, \"count\": 1, \"min\": 0.7991965942382813, \"max\": 0.7991965942382813}}}\u001b[0m\n",
      "\u001b[34m#metrics {\"StartTime\": 1749053129.3955784, \"EndTime\": 1749053129.395584, \"Dimensions\": {\"Algorithm\": \"Linear Learner\", \"Host\": \"algo-1\", \"Operation\": \"training\", \"epoch\": 9, \"model\": 20}, \"Metrics\": {\"train_mse_objective\": {\"sum\": 0.7899977416992188, \"count\": 1, \"min\": 0.7899977416992188, \"max\": 0.7899977416992188}}}\u001b[0m\n",
      "\u001b[34m#metrics {\"StartTime\": 1749053129.395626, \"EndTime\": 1749053129.3956316, \"Dimensions\": {\"Algorithm\": \"Linear Learner\", \"Host\": \"algo-1\", \"Operation\": \"training\", \"epoch\": 9, \"model\": 21}, \"Metrics\": {\"train_mse_objective\": {\"sum\": 0.789068896484375, \"count\": 1, \"min\": 0.789068896484375, \"max\": 0.789068896484375}}}\u001b[0m\n",
      "\u001b[34m#metrics {\"StartTime\": 1749053129.3956738, \"EndTime\": 1749053129.3956797, \"Dimensions\": {\"Algorithm\": \"Linear Learner\", \"Host\": \"algo-1\", \"Operation\": \"training\", \"epoch\": 9, \"model\": 22}, \"Metrics\": {\"train_mse_objective\": {\"sum\": 0.7926960693359375, \"count\": 1, \"min\": 0.7926960693359375, \"max\": 0.7926960693359375}}}\u001b[0m\n",
      "\u001b[34m#metrics {\"StartTime\": 1749053129.3957229, \"EndTime\": 1749053129.3957286, \"Dimensions\": {\"Algorithm\": \"Linear Learner\", \"Host\": \"algo-1\", \"Operation\": \"training\", \"epoch\": 9, \"model\": 23}, \"Metrics\": {\"train_mse_objective\": {\"sum\": 0.7861072387695313, \"count\": 1, \"min\": 0.7861072387695313, \"max\": 0.7861072387695313}}}\u001b[0m\n",
      "\u001b[34m#metrics {\"StartTime\": 1749053129.3957684, \"EndTime\": 1749053129.395774, \"Dimensions\": {\"Algorithm\": \"Linear Learner\", \"Host\": \"algo-1\", \"Operation\": \"training\", \"epoch\": 9, \"model\": 24}, \"Metrics\": {\"train_mse_objective\": {\"sum\": 0.9898338256835938, \"count\": 1, \"min\": 0.9898338256835938, \"max\": 0.9898338256835938}}}\u001b[0m\n",
      "\u001b[34m#metrics {\"StartTime\": 1749053129.395822, \"EndTime\": 1749053129.3958294, \"Dimensions\": {\"Algorithm\": \"Linear Learner\", \"Host\": \"algo-1\", \"Operation\": \"training\", \"epoch\": 9, \"model\": 25}, \"Metrics\": {\"train_mse_objective\": {\"sum\": 0.98966552734375, \"count\": 1, \"min\": 0.98966552734375, \"max\": 0.98966552734375}}}\u001b[0m\n",
      "\u001b[34m#metrics {\"StartTime\": 1749053129.3958704, \"EndTime\": 1749053129.3958762, \"Dimensions\": {\"Algorithm\": \"Linear Learner\", \"Host\": \"algo-1\", \"Operation\": \"training\", \"epoch\": 9, \"model\": 26}, \"Metrics\": {\"train_mse_objective\": {\"sum\": 0.9889578369140625, \"count\": 1, \"min\": 0.9889578369140625, \"max\": 0.9889578369140625}}}\u001b[0m\n",
      "\u001b[34m#metrics {\"StartTime\": 1749053129.3959224, \"EndTime\": 1749053129.3959296, \"Dimensions\": {\"Algorithm\": \"Linear Learner\", \"Host\": \"algo-1\", \"Operation\": \"training\", \"epoch\": 9, \"model\": 27}, \"Metrics\": {\"train_mse_objective\": {\"sum\": 0.9931163330078125, \"count\": 1, \"min\": 0.9931163330078125, \"max\": 0.9931163330078125}}}\u001b[0m\n",
      "\u001b[34m#metrics {\"StartTime\": 1749053129.3959703, \"EndTime\": 1749053129.3959758, \"Dimensions\": {\"Algorithm\": \"Linear Learner\", \"Host\": \"algo-1\", \"Operation\": \"training\", \"epoch\": 9, \"model\": 28}, \"Metrics\": {\"train_mse_objective\": {\"sum\": 0.993351904296875, \"count\": 1, \"min\": 0.993351904296875, \"max\": 0.993351904296875}}}\u001b[0m\n",
      "\u001b[34m#metrics {\"StartTime\": 1749053129.396022, \"EndTime\": 1749053129.3960292, \"Dimensions\": {\"Algorithm\": \"Linear Learner\", \"Host\": \"algo-1\", \"Operation\": \"training\", \"epoch\": 9, \"model\": 29}, \"Metrics\": {\"train_mse_objective\": {\"sum\": 0.9975571533203125, \"count\": 1, \"min\": 0.9975571533203125, \"max\": 0.9975571533203125}}}\u001b[0m\n",
      "\u001b[34m#metrics {\"StartTime\": 1749053129.3960695, \"EndTime\": 1749053129.3960752, \"Dimensions\": {\"Algorithm\": \"Linear Learner\", \"Host\": \"algo-1\", \"Operation\": \"training\", \"epoch\": 9, \"model\": 30}, \"Metrics\": {\"train_mse_objective\": {\"sum\": 0.997632177734375, \"count\": 1, \"min\": 0.997632177734375, \"max\": 0.997632177734375}}}\u001b[0m\n",
      "\u001b[34m#metrics {\"StartTime\": 1749053129.3961213, \"EndTime\": 1749053129.3961282, \"Dimensions\": {\"Algorithm\": \"Linear Learner\", \"Host\": \"algo-1\", \"Operation\": \"training\", \"epoch\": 9, \"model\": 31}, \"Metrics\": {\"train_mse_objective\": {\"sum\": 1.0002507446289062, \"count\": 1, \"min\": 1.0002507446289062, \"max\": 1.0002507446289062}}}\u001b[0m\n",
      "\u001b[34m[06/04/2025 16:05:29 INFO 140352932898624] #quality_metric: host=algo-1, epoch=9, train mse_objective <loss>=0.7515834350585937\u001b[0m\n",
      "\u001b[34m[06/04/2025 16:05:29 INFO 140352932898624] #early_stopping_criteria_metric: host=algo-1, epoch=9, criteria=mse_objective, value=0.7189646362304688\u001b[0m\n",
      "\u001b[34m[06/04/2025 16:05:29 INFO 140352932898624] Saving model for epoch: 9\u001b[0m\n",
      "\u001b[34m[06/04/2025 16:05:29 INFO 140352932898624] Saved checkpoint to \"/tmp/tmpg04jytgr/mx-mod-0000.params\"\u001b[0m\n",
      "\u001b[34m[06/04/2025 16:05:29 INFO 140352932898624] #progress_metric: host=algo-1, completed 66.66666666666667 % of epochs\u001b[0m\n",
      "\u001b[34m#metrics {\"StartTime\": 1749053129.3278768, \"EndTime\": 1749053129.4021883, \"Dimensions\": {\"Algorithm\": \"Linear Learner\", \"Host\": \"algo-1\", \"Operation\": \"training\", \"epoch\": 9, \"Meta\": \"training_data_iter\"}, \"Metrics\": {\"Total Records Seen\": {\"sum\": 58167.0, \"count\": 1, \"min\": 58167, \"max\": 58167}, \"Total Batches Seen\": {\"sum\": 67.0, \"count\": 1, \"min\": 67, \"max\": 67}, \"Max Records Seen Between Resets\": {\"sum\": 5197.0, \"count\": 1, \"min\": 5197, \"max\": 5197}, \"Max Batches Seen Between Resets\": {\"sum\": 6.0, \"count\": 1, \"min\": 6, \"max\": 6}, \"Reset Count\": {\"sum\": 12.0, \"count\": 1, \"min\": 12, \"max\": 12}, \"Number of Records Since Last Reset\": {\"sum\": 5197.0, \"count\": 1, \"min\": 5197, \"max\": 5197}, \"Number of Batches Since Last Reset\": {\"sum\": 6.0, \"count\": 1, \"min\": 6, \"max\": 6}}}\u001b[0m\n",
      "\u001b[34m[06/04/2025 16:05:29 INFO 140352932898624] #throughput_metric: host=algo-1, train throughput=69815.73154740743 records/second\u001b[0m\n",
      "\u001b[34m[2025-06-04 16:05:29.470] [tensorio] [info] epoch_stats={\"data_pipeline\": \"/opt/ml/input/data/train\", \"epoch\": 24, \"duration\": 68, \"num_examples\": 6, \"num_bytes\": 457336}\u001b[0m\n",
      "\u001b[34m#metrics {\"StartTime\": 1749053129.4710116, \"EndTime\": 1749053129.4710555, \"Dimensions\": {\"Algorithm\": \"Linear Learner\", \"Host\": \"algo-1\", \"Operation\": \"training\", \"epoch\": 10, \"model\": 0}, \"Metrics\": {\"train_mse_objective\": {\"sum\": 0.745339990234375, \"count\": 1, \"min\": 0.745339990234375, \"max\": 0.745339990234375}}}\u001b[0m\n",
      "\u001b[34m#metrics {\"StartTime\": 1749053129.4711435, \"EndTime\": 1749053129.4711554, \"Dimensions\": {\"Algorithm\": \"Linear Learner\", \"Host\": \"algo-1\", \"Operation\": \"training\", \"epoch\": 10, \"model\": 1}, \"Metrics\": {\"train_mse_objective\": {\"sum\": 0.7288115356445313, \"count\": 1, \"min\": 0.7288115356445313, \"max\": 0.7288115356445313}}}\u001b[0m\n",
      "\u001b[34m#metrics {\"StartTime\": 1749053129.4712167, \"EndTime\": 1749053129.4712272, \"Dimensions\": {\"Algorithm\": \"Linear Learner\", \"Host\": \"algo-1\", \"Operation\": \"training\", \"epoch\": 10, \"model\": 2}, \"Metrics\": {\"train_mse_objective\": {\"sum\": 0.75837685546875, \"count\": 1, \"min\": 0.75837685546875, \"max\": 0.75837685546875}}}\u001b[0m\n",
      "\u001b[34m#metrics {\"StartTime\": 1749053129.4713035, \"EndTime\": 1749053129.4713159, \"Dimensions\": {\"Algorithm\": \"Linear Learner\", \"Host\": \"algo-1\", \"Operation\": \"training\", \"epoch\": 10, \"model\": 3}, \"Metrics\": {\"train_mse_objective\": {\"sum\": 0.7293968017578125, \"count\": 1, \"min\": 0.7293968017578125, \"max\": 0.7293968017578125}}}\u001b[0m\n",
      "\u001b[34m#metrics {\"StartTime\": 1749053129.4713924, \"EndTime\": 1749053129.4714057, \"Dimensions\": {\"Algorithm\": \"Linear Learner\", \"Host\": \"algo-1\", \"Operation\": \"training\", \"epoch\": 10, \"model\": 4}, \"Metrics\": {\"train_mse_objective\": {\"sum\": 0.7161717041015625, \"count\": 1, \"min\": 0.7161717041015625, \"max\": 0.7161717041015625}}}\u001b[0m\n",
      "\u001b[34m#metrics {\"StartTime\": 1749053129.4714632, \"EndTime\": 1749053129.4714737, \"Dimensions\": {\"Algorithm\": \"Linear Learner\", \"Host\": \"algo-1\", \"Operation\": \"training\", \"epoch\": 10, \"model\": 5}, \"Metrics\": {\"train_mse_objective\": {\"sum\": 0.7159579833984375, \"count\": 1, \"min\": 0.7159579833984375, \"max\": 0.7159579833984375}}}\u001b[0m\n",
      "\u001b[34m#metrics {\"StartTime\": 1749053129.4715068, \"EndTime\": 1749053129.4715154, \"Dimensions\": {\"Algorithm\": \"Linear Learner\", \"Host\": \"algo-1\", \"Operation\": \"training\", \"epoch\": 10, \"model\": 6}, \"Metrics\": {\"train_mse_objective\": {\"sum\": 0.7164233520507812, \"count\": 1, \"min\": 0.7164233520507812, \"max\": 0.7164233520507812}}}\u001b[0m\n",
      "\u001b[34m#metrics {\"StartTime\": 1749053129.471547, \"EndTime\": 1749053129.471556, \"Dimensions\": {\"Algorithm\": \"Linear Learner\", \"Host\": \"algo-1\", \"Operation\": \"training\", \"epoch\": 10, \"model\": 7}, \"Metrics\": {\"train_mse_objective\": {\"sum\": 0.7159582153320313, \"count\": 1, \"min\": 0.7159582153320313, \"max\": 0.7159582153320313}}}\u001b[0m\n",
      "\u001b[34m#metrics {\"StartTime\": 1749053129.4716032, \"EndTime\": 1749053129.471613, \"Dimensions\": {\"Algorithm\": \"Linear Learner\", \"Host\": \"algo-1\", \"Operation\": \"training\", \"epoch\": 10, \"model\": 8}, \"Metrics\": {\"train_mse_objective\": {\"sum\": 0.7467447998046876, \"count\": 1, \"min\": 0.7467447998046876, \"max\": 0.7467447998046876}}}\u001b[0m\n",
      "\u001b[34m#metrics {\"StartTime\": 1749053129.4716456, \"EndTime\": 1749053129.471654, \"Dimensions\": {\"Algorithm\": \"Linear Learner\", \"Host\": \"algo-1\", \"Operation\": \"training\", \"epoch\": 10, \"model\": 9}, \"Metrics\": {\"train_mse_objective\": {\"sum\": 0.7300890991210938, \"count\": 1, \"min\": 0.7300890991210938, \"max\": 0.7300890991210938}}}\u001b[0m\n",
      "\u001b[34m#metrics {\"StartTime\": 1749053129.4716816, \"EndTime\": 1749053129.4716897, \"Dimensions\": {\"Algorithm\": \"Linear Learner\", \"Host\": \"algo-1\", \"Operation\": \"training\", \"epoch\": 10, \"model\": 10}, \"Metrics\": {\"train_mse_objective\": {\"sum\": 0.7324854614257813, \"count\": 1, \"min\": 0.7324854614257813, \"max\": 0.7324854614257813}}}\u001b[0m\n",
      "\u001b[34m#metrics {\"StartTime\": 1749053129.4717162, \"EndTime\": 1749053129.4717233, \"Dimensions\": {\"Algorithm\": \"Linear Learner\", \"Host\": \"algo-1\", \"Operation\": \"training\", \"epoch\": 10, \"model\": 11}, \"Metrics\": {\"train_mse_objective\": {\"sum\": 0.7517543823242188, \"count\": 1, \"min\": 0.7517543823242188, \"max\": 0.7517543823242188}}}\u001b[0m\n",
      "\u001b[34m#metrics {\"StartTime\": 1749053129.4717832, \"EndTime\": 1749053129.4717903, \"Dimensions\": {\"Algorithm\": \"Linear Learner\", \"Host\": \"algo-1\", \"Operation\": \"training\", \"epoch\": 10, \"model\": 12}, \"Metrics\": {\"train_mse_objective\": {\"sum\": 0.7164080444335937, \"count\": 1, \"min\": 0.7164080444335937, \"max\": 0.7164080444335937}}}\u001b[0m\n",
      "\u001b[34m#metrics {\"StartTime\": 1749053129.4718459, \"EndTime\": 1749053129.4718554, \"Dimensions\": {\"Algorithm\": \"Linear Learner\", \"Host\": \"algo-1\", \"Operation\": \"training\", \"epoch\": 10, \"model\": 13}, \"Metrics\": {\"train_mse_objective\": {\"sum\": 0.7160152221679688, \"count\": 1, \"min\": 0.7160152221679688, \"max\": 0.7160152221679688}}}\u001b[0m\n",
      "\u001b[34m#metrics {\"StartTime\": 1749053129.4718928, \"EndTime\": 1749053129.4719017, \"Dimensions\": {\"Algorithm\": \"Linear Learner\", \"Host\": \"algo-1\", \"Operation\": \"training\", \"epoch\": 10, \"model\": 14}, \"Metrics\": {\"train_mse_objective\": {\"sum\": 0.7156452392578125, \"count\": 1, \"min\": 0.7156452392578125, \"max\": 0.7156452392578125}}}\u001b[0m\n",
      "\u001b[34m#metrics {\"StartTime\": 1749053129.471933, \"EndTime\": 1749053129.4719408, \"Dimensions\": {\"Algorithm\": \"Linear Learner\", \"Host\": \"algo-1\", \"Operation\": \"training\", \"epoch\": 10, \"model\": 15}, \"Metrics\": {\"train_mse_objective\": {\"sum\": 0.7160808227539063, \"count\": 1, \"min\": 0.7160808227539063, \"max\": 0.7160808227539063}}}\u001b[0m\n",
      "\u001b[34m#metrics {\"StartTime\": 1749053129.4719968, \"EndTime\": 1749053129.4720056, \"Dimensions\": {\"Algorithm\": \"Linear Learner\", \"Host\": \"algo-1\", \"Operation\": \"training\", \"epoch\": 10, \"model\": 16}, \"Metrics\": {\"train_mse_objective\": {\"sum\": 0.7798851684570313, \"count\": 1, \"min\": 0.7798851684570313, \"max\": 0.7798851684570313}}}\u001b[0m\n",
      "\u001b[34m#metrics {\"StartTime\": 1749053129.4720693, \"EndTime\": 1749053129.4720812, \"Dimensions\": {\"Algorithm\": \"Linear Learner\", \"Host\": \"algo-1\", \"Operation\": \"training\", \"epoch\": 10, \"model\": 17}, \"Metrics\": {\"train_mse_objective\": {\"sum\": 0.7880823852539063, \"count\": 1, \"min\": 0.7880823852539063, \"max\": 0.7880823852539063}}}\u001b[0m\n",
      "\u001b[34m#metrics {\"StartTime\": 1749053129.4721134, \"EndTime\": 1749053129.4721212, \"Dimensions\": {\"Algorithm\": \"Linear Learner\", \"Host\": \"algo-1\", \"Operation\": \"training\", \"epoch\": 10, \"model\": 18}, \"Metrics\": {\"train_mse_objective\": {\"sum\": 0.7846621337890625, \"count\": 1, \"min\": 0.7846621337890625, \"max\": 0.7846621337890625}}}\u001b[0m\n",
      "\u001b[34m#metrics {\"StartTime\": 1749053129.47218, \"EndTime\": 1749053129.4721906, \"Dimensions\": {\"Algorithm\": \"Linear Learner\", \"Host\": \"algo-1\", \"Operation\": \"training\", \"epoch\": 10, \"model\": 19}, \"Metrics\": {\"train_mse_objective\": {\"sum\": 0.7952748413085937, \"count\": 1, \"min\": 0.7952748413085937, \"max\": 0.7952748413085937}}}\u001b[0m\n",
      "\u001b[34m#metrics {\"StartTime\": 1749053129.4722388, \"EndTime\": 1749053129.472248, \"Dimensions\": {\"Algorithm\": \"Linear Learner\", \"Host\": \"algo-1\", \"Operation\": \"training\", \"epoch\": 10, \"model\": 20}, \"Metrics\": {\"train_mse_objective\": {\"sum\": 0.7896190307617188, \"count\": 1, \"min\": 0.7896190307617188, \"max\": 0.7896190307617188}}}\u001b[0m\n",
      "\u001b[34m#metrics {\"StartTime\": 1749053129.4722843, \"EndTime\": 1749053129.4722927, \"Dimensions\": {\"Algorithm\": \"Linear Learner\", \"Host\": \"algo-1\", \"Operation\": \"training\", \"epoch\": 10, \"model\": 21}, \"Metrics\": {\"train_mse_objective\": {\"sum\": 0.7884526611328125, \"count\": 1, \"min\": 0.7884526611328125, \"max\": 0.7884526611328125}}}\u001b[0m\n",
      "\u001b[34m#metrics {\"StartTime\": 1749053129.472355, \"EndTime\": 1749053129.472364, \"Dimensions\": {\"Algorithm\": \"Linear Learner\", \"Host\": \"algo-1\", \"Operation\": \"training\", \"epoch\": 10, \"model\": 22}, \"Metrics\": {\"train_mse_objective\": {\"sum\": 0.786744970703125, \"count\": 1, \"min\": 0.786744970703125, \"max\": 0.786744970703125}}}\u001b[0m\n",
      "\u001b[34m#metrics {\"StartTime\": 1749053129.4724207, \"EndTime\": 1749053129.4724302, \"Dimensions\": {\"Algorithm\": \"Linear Learner\", \"Host\": \"algo-1\", \"Operation\": \"training\", \"epoch\": 10, \"model\": 23}, \"Metrics\": {\"train_mse_objective\": {\"sum\": 0.7875417724609375, \"count\": 1, \"min\": 0.7875417724609375, \"max\": 0.7875417724609375}}}\u001b[0m\n",
      "\u001b[34m#metrics {\"StartTime\": 1749053129.4724987, \"EndTime\": 1749053129.4725108, \"Dimensions\": {\"Algorithm\": \"Linear Learner\", \"Host\": \"algo-1\", \"Operation\": \"training\", \"epoch\": 10, \"model\": 24}, \"Metrics\": {\"train_mse_objective\": {\"sum\": 0.9900831665039063, \"count\": 1, \"min\": 0.9900831665039063, \"max\": 0.9900831665039063}}}\u001b[0m\n",
      "\u001b[34m#metrics {\"StartTime\": 1749053129.4725506, \"EndTime\": 1749053129.4725587, \"Dimensions\": {\"Algorithm\": \"Linear Learner\", \"Host\": \"algo-1\", \"Operation\": \"training\", \"epoch\": 10, \"model\": 25}, \"Metrics\": {\"train_mse_objective\": {\"sum\": 0.98919873046875, \"count\": 1, \"min\": 0.98919873046875, \"max\": 0.98919873046875}}}\u001b[0m\n",
      "\u001b[34m#metrics {\"StartTime\": 1749053129.472619, \"EndTime\": 1749053129.4726305, \"Dimensions\": {\"Algorithm\": \"Linear Learner\", \"Host\": \"algo-1\", \"Operation\": \"training\", \"epoch\": 10, \"model\": 26}, \"Metrics\": {\"train_mse_objective\": {\"sum\": 0.989103955078125, \"count\": 1, \"min\": 0.989103955078125, \"max\": 0.989103955078125}}}\u001b[0m\n",
      "\u001b[34m#metrics {\"StartTime\": 1749053129.4726663, \"EndTime\": 1749053129.472675, \"Dimensions\": {\"Algorithm\": \"Linear Learner\", \"Host\": \"algo-1\", \"Operation\": \"training\", \"epoch\": 10, \"model\": 27}, \"Metrics\": {\"train_mse_objective\": {\"sum\": 0.993448291015625, \"count\": 1, \"min\": 0.993448291015625, \"max\": 0.993448291015625}}}\u001b[0m\n",
      "\u001b[34m#metrics {\"StartTime\": 1749053129.47271, \"EndTime\": 1749053129.4727182, \"Dimensions\": {\"Algorithm\": \"Linear Learner\", \"Host\": \"algo-1\", \"Operation\": \"training\", \"epoch\": 10, \"model\": 28}, \"Metrics\": {\"train_mse_objective\": {\"sum\": 0.995783349609375, \"count\": 1, \"min\": 0.995783349609375, \"max\": 0.995783349609375}}}\u001b[0m\n",
      "\u001b[34m#metrics {\"StartTime\": 1749053129.4727523, \"EndTime\": 1749053129.472761, \"Dimensions\": {\"Algorithm\": \"Linear Learner\", \"Host\": \"algo-1\", \"Operation\": \"training\", \"epoch\": 10, \"model\": 29}, \"Metrics\": {\"train_mse_objective\": {\"sum\": 0.9913877197265625, \"count\": 1, \"min\": 0.9913877197265625, \"max\": 0.9913877197265625}}}\u001b[0m\n",
      "\u001b[34m#metrics {\"StartTime\": 1749053129.4728203, \"EndTime\": 1749053129.4728308, \"Dimensions\": {\"Algorithm\": \"Linear Learner\", \"Host\": \"algo-1\", \"Operation\": \"training\", \"epoch\": 10, \"model\": 30}, \"Metrics\": {\"train_mse_objective\": {\"sum\": 0.9939952758789062, \"count\": 1, \"min\": 0.9939952758789062, \"max\": 0.9939952758789062}}}\u001b[0m\n",
      "\u001b[34m#metrics {\"StartTime\": 1749053129.4728687, \"EndTime\": 1749053129.4728775, \"Dimensions\": {\"Algorithm\": \"Linear Learner\", \"Host\": \"algo-1\", \"Operation\": \"training\", \"epoch\": 10, \"model\": 31}, \"Metrics\": {\"train_mse_objective\": {\"sum\": 0.991297705078125, \"count\": 1, \"min\": 0.991297705078125, \"max\": 0.991297705078125}}}\u001b[0m\n",
      "\u001b[34m[06/04/2025 16:05:29 INFO 140352932898624] #quality_metric: host=algo-1, epoch=10, train mse_objective <loss>=0.745339990234375\u001b[0m\n",
      "\u001b[34m[06/04/2025 16:05:29 INFO 140352932898624] #early_stopping_criteria_metric: host=algo-1, epoch=10, criteria=mse_objective, value=0.7156452392578125\u001b[0m\n",
      "\u001b[34m[06/04/2025 16:05:29 INFO 140352932898624] Epoch 10: Loss improved. Updating best model\u001b[0m\n",
      "\u001b[34m[06/04/2025 16:05:29 INFO 140352932898624] Saving model for epoch: 10\u001b[0m\n",
      "\u001b[34m[06/04/2025 16:05:29 INFO 140352932898624] Saved checkpoint to \"/tmp/tmp3lfz_zw5/mx-mod-0000.params\"\u001b[0m\n",
      "\u001b[34m[06/04/2025 16:05:29 INFO 140352932898624] #progress_metric: host=algo-1, completed 73.33333333333333 % of epochs\u001b[0m\n",
      "\u001b[34m#metrics {\"StartTime\": 1749053129.4024162, \"EndTime\": 1749053129.4790637, \"Dimensions\": {\"Algorithm\": \"Linear Learner\", \"Host\": \"algo-1\", \"Operation\": \"training\", \"epoch\": 10, \"Meta\": \"training_data_iter\"}, \"Metrics\": {\"Total Records Seen\": {\"sum\": 63364.0, \"count\": 1, \"min\": 63364, \"max\": 63364}, \"Total Batches Seen\": {\"sum\": 73.0, \"count\": 1, \"min\": 73, \"max\": 73}, \"Max Records Seen Between Resets\": {\"sum\": 5197.0, \"count\": 1, \"min\": 5197, \"max\": 5197}, \"Max Batches Seen Between Resets\": {\"sum\": 6.0, \"count\": 1, \"min\": 6, \"max\": 6}, \"Reset Count\": {\"sum\": 13.0, \"count\": 1, \"min\": 13, \"max\": 13}, \"Number of Records Since Last Reset\": {\"sum\": 5197.0, \"count\": 1, \"min\": 5197, \"max\": 5197}, \"Number of Batches Since Last Reset\": {\"sum\": 6.0, \"count\": 1, \"min\": 6, \"max\": 6}}}\u001b[0m\n",
      "\u001b[34m[06/04/2025 16:05:29 INFO 140352932898624] #throughput_metric: host=algo-1, train throughput=67715.8439644487 records/second\u001b[0m\n",
      "\u001b[34m[2025-06-04 16:05:29.546] [tensorio] [info] epoch_stats={\"data_pipeline\": \"/opt/ml/input/data/train\", \"epoch\": 26, \"duration\": 67, \"num_examples\": 6, \"num_bytes\": 457336}\u001b[0m\n",
      "\u001b[34m#metrics {\"StartTime\": 1749053129.5468416, \"EndTime\": 1749053129.5468936, \"Dimensions\": {\"Algorithm\": \"Linear Learner\", \"Host\": \"algo-1\", \"Operation\": \"training\", \"epoch\": 11, \"model\": 0}, \"Metrics\": {\"train_mse_objective\": {\"sum\": 0.7401530151367187, \"count\": 1, \"min\": 0.7401530151367187, \"max\": 0.7401530151367187}}}\u001b[0m\n",
      "\u001b[34m#metrics {\"StartTime\": 1749053129.5469956, \"EndTime\": 1749053129.547011, \"Dimensions\": {\"Algorithm\": \"Linear Learner\", \"Host\": \"algo-1\", \"Operation\": \"training\", \"epoch\": 11, \"model\": 1}, \"Metrics\": {\"train_mse_objective\": {\"sum\": 0.7252510498046875, \"count\": 1, \"min\": 0.7252510498046875, \"max\": 0.7252510498046875}}}\u001b[0m\n",
      "\u001b[34m#metrics {\"StartTime\": 1749053129.5470543, \"EndTime\": 1749053129.5470638, \"Dimensions\": {\"Algorithm\": \"Linear Learner\", \"Host\": \"algo-1\", \"Operation\": \"training\", \"epoch\": 11, \"model\": 2}, \"Metrics\": {\"train_mse_objective\": {\"sum\": 0.7516133178710938, \"count\": 1, \"min\": 0.7516133178710938, \"max\": 0.7516133178710938}}}\u001b[0m\n",
      "\u001b[34m#metrics {\"StartTime\": 1749053129.547149, \"EndTime\": 1749053129.5471625, \"Dimensions\": {\"Algorithm\": \"Linear Learner\", \"Host\": \"algo-1\", \"Operation\": \"training\", \"epoch\": 11, \"model\": 3}, \"Metrics\": {\"train_mse_objective\": {\"sum\": 0.7261481201171875, \"count\": 1, \"min\": 0.7261481201171875, \"max\": 0.7261481201171875}}}\u001b[0m\n",
      "\u001b[34m#metrics {\"StartTime\": 1749053129.5472274, \"EndTime\": 1749053129.5472388, \"Dimensions\": {\"Algorithm\": \"Linear Learner\", \"Host\": \"algo-1\", \"Operation\": \"training\", \"epoch\": 11, \"model\": 4}, \"Metrics\": {\"train_mse_objective\": {\"sum\": 0.717168408203125, \"count\": 1, \"min\": 0.717168408203125, \"max\": 0.717168408203125}}}\u001b[0m\n",
      "\u001b[34m#metrics {\"StartTime\": 1749053129.5473027, \"EndTime\": 1749053129.5473137, \"Dimensions\": {\"Algorithm\": \"Linear Learner\", \"Host\": \"algo-1\", \"Operation\": \"training\", \"epoch\": 11, \"model\": 5}, \"Metrics\": {\"train_mse_objective\": {\"sum\": 0.7167574951171874, \"count\": 1, \"min\": 0.7167574951171874, \"max\": 0.7167574951171874}}}\u001b[0m\n",
      "\u001b[34m#metrics {\"StartTime\": 1749053129.5473766, \"EndTime\": 1749053129.547388, \"Dimensions\": {\"Algorithm\": \"Linear Learner\", \"Host\": \"algo-1\", \"Operation\": \"training\", \"epoch\": 11, \"model\": 6}, \"Metrics\": {\"train_mse_objective\": {\"sum\": 0.7172146362304688, \"count\": 1, \"min\": 0.7172146362304688, \"max\": 0.7172146362304688}}}\u001b[0m\n",
      "\u001b[34m#metrics {\"StartTime\": 1749053129.547461, \"EndTime\": 1749053129.5474734, \"Dimensions\": {\"Algorithm\": \"Linear Learner\", \"Host\": \"algo-1\", \"Operation\": \"training\", \"epoch\": 11, \"model\": 7}, \"Metrics\": {\"train_mse_objective\": {\"sum\": 0.7172317504882812, \"count\": 1, \"min\": 0.7172317504882812, \"max\": 0.7172317504882812}}}\u001b[0m\n",
      "\u001b[34m#metrics {\"StartTime\": 1749053129.5475395, \"EndTime\": 1749053129.5475516, \"Dimensions\": {\"Algorithm\": \"Linear Learner\", \"Host\": \"algo-1\", \"Operation\": \"training\", \"epoch\": 11, \"model\": 8}, \"Metrics\": {\"train_mse_objective\": {\"sum\": 0.7412882934570313, \"count\": 1, \"min\": 0.7412882934570313, \"max\": 0.7412882934570313}}}\u001b[0m\n",
      "\u001b[34m#metrics {\"StartTime\": 1749053129.54762, \"EndTime\": 1749053129.5476313, \"Dimensions\": {\"Algorithm\": \"Linear Learner\", \"Host\": \"algo-1\", \"Operation\": \"training\", \"epoch\": 11, \"model\": 9}, \"Metrics\": {\"train_mse_objective\": {\"sum\": 0.72631865234375, \"count\": 1, \"min\": 0.72631865234375, \"max\": 0.72631865234375}}}\u001b[0m\n",
      "\u001b[34m#metrics {\"StartTime\": 1749053129.5477006, \"EndTime\": 1749053129.547714, \"Dimensions\": {\"Algorithm\": \"Linear Learner\", \"Host\": \"algo-1\", \"Operation\": \"training\", \"epoch\": 11, \"model\": 10}, \"Metrics\": {\"train_mse_objective\": {\"sum\": 0.728691259765625, \"count\": 1, \"min\": 0.728691259765625, \"max\": 0.728691259765625}}}\u001b[0m\n",
      "\u001b[34m#metrics {\"StartTime\": 1749053129.5477686, \"EndTime\": 1749053129.5477793, \"Dimensions\": {\"Algorithm\": \"Linear Learner\", \"Host\": \"algo-1\", \"Operation\": \"training\", \"epoch\": 11, \"model\": 11}, \"Metrics\": {\"train_mse_objective\": {\"sum\": 0.745497705078125, \"count\": 1, \"min\": 0.745497705078125, \"max\": 0.745497705078125}}}\u001b[0m\n",
      "\u001b[34m#metrics {\"StartTime\": 1749053129.547842, \"EndTime\": 1749053129.5478535, \"Dimensions\": {\"Algorithm\": \"Linear Learner\", \"Host\": \"algo-1\", \"Operation\": \"training\", \"epoch\": 11, \"model\": 12}, \"Metrics\": {\"train_mse_objective\": {\"sum\": 0.717388037109375, \"count\": 1, \"min\": 0.717388037109375, \"max\": 0.717388037109375}}}\u001b[0m\n",
      "\u001b[34m#metrics {\"StartTime\": 1749053129.5478895, \"EndTime\": 1749053129.5478983, \"Dimensions\": {\"Algorithm\": \"Linear Learner\", \"Host\": \"algo-1\", \"Operation\": \"training\", \"epoch\": 11, \"model\": 13}, \"Metrics\": {\"train_mse_objective\": {\"sum\": 0.7174299560546875, \"count\": 1, \"min\": 0.7174299560546875, \"max\": 0.7174299560546875}}}\u001b[0m\n",
      "\u001b[34m#metrics {\"StartTime\": 1749053129.547935, \"EndTime\": 1749053129.5479438, \"Dimensions\": {\"Algorithm\": \"Linear Learner\", \"Host\": \"algo-1\", \"Operation\": \"training\", \"epoch\": 11, \"model\": 14}, \"Metrics\": {\"train_mse_objective\": {\"sum\": 0.7168056518554687, \"count\": 1, \"min\": 0.7168056518554687, \"max\": 0.7168056518554687}}}\u001b[0m\n",
      "\u001b[34m#metrics {\"StartTime\": 1749053129.5480084, \"EndTime\": 1749053129.548019, \"Dimensions\": {\"Algorithm\": \"Linear Learner\", \"Host\": \"algo-1\", \"Operation\": \"training\", \"epoch\": 11, \"model\": 15}, \"Metrics\": {\"train_mse_objective\": {\"sum\": 0.7174598754882813, \"count\": 1, \"min\": 0.7174598754882813, \"max\": 0.7174598754882813}}}\u001b[0m\n",
      "\u001b[34m#metrics {\"StartTime\": 1749053129.5480962, \"EndTime\": 1749053129.548109, \"Dimensions\": {\"Algorithm\": \"Linear Learner\", \"Host\": \"algo-1\", \"Operation\": \"training\", \"epoch\": 11, \"model\": 16}, \"Metrics\": {\"train_mse_objective\": {\"sum\": 0.7818699340820312, \"count\": 1, \"min\": 0.7818699340820312, \"max\": 0.7818699340820312}}}\u001b[0m\n",
      "\u001b[34m#metrics {\"StartTime\": 1749053129.5481474, \"EndTime\": 1749053129.5481567, \"Dimensions\": {\"Algorithm\": \"Linear Learner\", \"Host\": \"algo-1\", \"Operation\": \"training\", \"epoch\": 11, \"model\": 17}, \"Metrics\": {\"train_mse_objective\": {\"sum\": 0.7863476440429688, \"count\": 1, \"min\": 0.7863476440429688, \"max\": 0.7863476440429688}}}\u001b[0m\n",
      "\u001b[34m#metrics {\"StartTime\": 1749053129.5482204, \"EndTime\": 1749053129.5482306, \"Dimensions\": {\"Algorithm\": \"Linear Learner\", \"Host\": \"algo-1\", \"Operation\": \"training\", \"epoch\": 11, \"model\": 18}, \"Metrics\": {\"train_mse_objective\": {\"sum\": 0.7852361572265625, \"count\": 1, \"min\": 0.7852361572265625, \"max\": 0.7852361572265625}}}\u001b[0m\n",
      "\u001b[34m#metrics {\"StartTime\": 1749053129.548311, \"EndTime\": 1749053129.5483234, \"Dimensions\": {\"Algorithm\": \"Linear Learner\", \"Host\": \"algo-1\", \"Operation\": \"training\", \"epoch\": 11, \"model\": 19}, \"Metrics\": {\"train_mse_objective\": {\"sum\": 0.7923362182617187, \"count\": 1, \"min\": 0.7923362182617187, \"max\": 0.7923362182617187}}}\u001b[0m\n",
      "\u001b[34m#metrics {\"StartTime\": 1749053129.5483594, \"EndTime\": 1749053129.5483675, \"Dimensions\": {\"Algorithm\": \"Linear Learner\", \"Host\": \"algo-1\", \"Operation\": \"training\", \"epoch\": 11, \"model\": 20}, \"Metrics\": {\"train_mse_objective\": {\"sum\": 0.7842826049804688, \"count\": 1, \"min\": 0.7842826049804688, \"max\": 0.7842826049804688}}}\u001b[0m\n",
      "\u001b[34m#metrics {\"StartTime\": 1749053129.5484018, \"EndTime\": 1749053129.5484107, \"Dimensions\": {\"Algorithm\": \"Linear Learner\", \"Host\": \"algo-1\", \"Operation\": \"training\", \"epoch\": 11, \"model\": 21}, \"Metrics\": {\"train_mse_objective\": {\"sum\": 0.7848419189453125, \"count\": 1, \"min\": 0.7848419189453125, \"max\": 0.7848419189453125}}}\u001b[0m\n",
      "\u001b[34m#metrics {\"StartTime\": 1749053129.5484426, \"EndTime\": 1749053129.5484507, \"Dimensions\": {\"Algorithm\": \"Linear Learner\", \"Host\": \"algo-1\", \"Operation\": \"training\", \"epoch\": 11, \"model\": 22}, \"Metrics\": {\"train_mse_objective\": {\"sum\": 0.786851318359375, \"count\": 1, \"min\": 0.786851318359375, \"max\": 0.786851318359375}}}\u001b[0m\n",
      "\u001b[34m#metrics {\"StartTime\": 1749053129.5484793, \"EndTime\": 1749053129.5484872, \"Dimensions\": {\"Algorithm\": \"Linear Learner\", \"Host\": \"algo-1\", \"Operation\": \"training\", \"epoch\": 11, \"model\": 23}, \"Metrics\": {\"train_mse_objective\": {\"sum\": 0.78928310546875, \"count\": 1, \"min\": 0.78928310546875, \"max\": 0.78928310546875}}}\u001b[0m\n",
      "\u001b[34m#metrics {\"StartTime\": 1749053129.54855, \"EndTime\": 1749053129.5485609, \"Dimensions\": {\"Algorithm\": \"Linear Learner\", \"Host\": \"algo-1\", \"Operation\": \"training\", \"epoch\": 11, \"model\": 24}, \"Metrics\": {\"train_mse_objective\": {\"sum\": 0.9920958129882812, \"count\": 1, \"min\": 0.9920958129882812, \"max\": 0.9920958129882812}}}\u001b[0m\n",
      "\u001b[34m#metrics {\"StartTime\": 1749053129.5486205, \"EndTime\": 1749053129.548631, \"Dimensions\": {\"Algorithm\": \"Linear Learner\", \"Host\": \"algo-1\", \"Operation\": \"training\", \"epoch\": 11, \"model\": 25}, \"Metrics\": {\"train_mse_objective\": {\"sum\": 0.9910182495117188, \"count\": 1, \"min\": 0.9910182495117188, \"max\": 0.9910182495117188}}}\u001b[0m\n",
      "\u001b[34m#metrics {\"StartTime\": 1749053129.548698, \"EndTime\": 1749053129.5487201, \"Dimensions\": {\"Algorithm\": \"Linear Learner\", \"Host\": \"algo-1\", \"Operation\": \"training\", \"epoch\": 11, \"model\": 26}, \"Metrics\": {\"train_mse_objective\": {\"sum\": 0.9919918579101562, \"count\": 1, \"min\": 0.9919918579101562, \"max\": 0.9919918579101562}}}\u001b[0m\n",
      "\u001b[34m#metrics {\"StartTime\": 1749053129.5487719, \"EndTime\": 1749053129.5487819, \"Dimensions\": {\"Algorithm\": \"Linear Learner\", \"Host\": \"algo-1\", \"Operation\": \"training\", \"epoch\": 11, \"model\": 27}, \"Metrics\": {\"train_mse_objective\": {\"sum\": 0.9915127075195312, \"count\": 1, \"min\": 0.9915127075195312, \"max\": 0.9915127075195312}}}\u001b[0m\n",
      "\u001b[34m#metrics {\"StartTime\": 1749053129.5488186, \"EndTime\": 1749053129.5488281, \"Dimensions\": {\"Algorithm\": \"Linear Learner\", \"Host\": \"algo-1\", \"Operation\": \"training\", \"epoch\": 11, \"model\": 28}, \"Metrics\": {\"train_mse_objective\": {\"sum\": 0.9932010009765625, \"count\": 1, \"min\": 0.9932010009765625, \"max\": 0.9932010009765625}}}\u001b[0m\n",
      "\u001b[34m#metrics {\"StartTime\": 1749053129.5488882, \"EndTime\": 1749053129.548898, \"Dimensions\": {\"Algorithm\": \"Linear Learner\", \"Host\": \"algo-1\", \"Operation\": \"training\", \"epoch\": 11, \"model\": 29}, \"Metrics\": {\"train_mse_objective\": {\"sum\": 0.9973044067382812, \"count\": 1, \"min\": 0.9973044067382812, \"max\": 0.9973044067382812}}}\u001b[0m\n",
      "\u001b[34m#metrics {\"StartTime\": 1749053129.5489538, \"EndTime\": 1749053129.5489638, \"Dimensions\": {\"Algorithm\": \"Linear Learner\", \"Host\": \"algo-1\", \"Operation\": \"training\", \"epoch\": 11, \"model\": 30}, \"Metrics\": {\"train_mse_objective\": {\"sum\": 0.9931345703125, \"count\": 1, \"min\": 0.9931345703125, \"max\": 0.9931345703125}}}\u001b[0m\n",
      "\u001b[34m#metrics {\"StartTime\": 1749053129.5490062, \"EndTime\": 1749053129.5490158, \"Dimensions\": {\"Algorithm\": \"Linear Learner\", \"Host\": \"algo-1\", \"Operation\": \"training\", \"epoch\": 11, \"model\": 31}, \"Metrics\": {\"train_mse_objective\": {\"sum\": 0.9957544921875, \"count\": 1, \"min\": 0.9957544921875, \"max\": 0.9957544921875}}}\u001b[0m\n",
      "\u001b[34m[06/04/2025 16:05:29 INFO 140352932898624] #quality_metric: host=algo-1, epoch=11, train mse_objective <loss>=0.7401530151367187\u001b[0m\n",
      "\u001b[34m[06/04/2025 16:05:29 INFO 140352932898624] #early_stopping_criteria_metric: host=algo-1, epoch=11, criteria=mse_objective, value=0.7167574951171874\u001b[0m\n",
      "\u001b[34m[06/04/2025 16:05:29 INFO 140352932898624] Saving model for epoch: 11\u001b[0m\n",
      "\u001b[34m[06/04/2025 16:05:29 INFO 140352932898624] Saved checkpoint to \"/tmp/tmpbt27_w3o/mx-mod-0000.params\"\u001b[0m\n",
      "\u001b[34m[06/04/2025 16:05:29 INFO 140352932898624] #progress_metric: host=algo-1, completed 80.0 % of epochs\u001b[0m\n",
      "\u001b[34m#metrics {\"StartTime\": 1749053129.4792688, \"EndTime\": 1749053129.554796, \"Dimensions\": {\"Algorithm\": \"Linear Learner\", \"Host\": \"algo-1\", \"Operation\": \"training\", \"epoch\": 11, \"Meta\": \"training_data_iter\"}, \"Metrics\": {\"Total Records Seen\": {\"sum\": 68561.0, \"count\": 1, \"min\": 68561, \"max\": 68561}, \"Total Batches Seen\": {\"sum\": 79.0, \"count\": 1, \"min\": 79, \"max\": 79}, \"Max Records Seen Between Resets\": {\"sum\": 5197.0, \"count\": 1, \"min\": 5197, \"max\": 5197}, \"Max Batches Seen Between Resets\": {\"sum\": 6.0, \"count\": 1, \"min\": 6, \"max\": 6}, \"Reset Count\": {\"sum\": 14.0, \"count\": 1, \"min\": 14, \"max\": 14}, \"Number of Records Since Last Reset\": {\"sum\": 5197.0, \"count\": 1, \"min\": 5197, \"max\": 5197}, \"Number of Batches Since Last Reset\": {\"sum\": 6.0, \"count\": 1, \"min\": 6, \"max\": 6}}}\u001b[0m\n",
      "\u001b[34m[06/04/2025 16:05:29 INFO 140352932898624] #throughput_metric: host=algo-1, train throughput=68715.29728042772 records/second\u001b[0m\n",
      "\u001b[34m[2025-06-04 16:05:29.618] [tensorio] [info] epoch_stats={\"data_pipeline\": \"/opt/ml/input/data/train\", \"epoch\": 28, \"duration\": 63, \"num_examples\": 6, \"num_bytes\": 457336}\u001b[0m\n",
      "\u001b[34m#metrics {\"StartTime\": 1749053129.6182282, \"EndTime\": 1749053129.6182768, \"Dimensions\": {\"Algorithm\": \"Linear Learner\", \"Host\": \"algo-1\", \"Operation\": \"training\", \"epoch\": 12, \"model\": 0}, \"Metrics\": {\"train_mse_objective\": {\"sum\": 0.735827978515625, \"count\": 1, \"min\": 0.735827978515625, \"max\": 0.735827978515625}}}\u001b[0m\n",
      "\u001b[34m#metrics {\"StartTime\": 1749053129.6183624, \"EndTime\": 1749053129.618375, \"Dimensions\": {\"Algorithm\": \"Linear Learner\", \"Host\": \"algo-1\", \"Operation\": \"training\", \"epoch\": 12, \"model\": 1}, \"Metrics\": {\"train_mse_objective\": {\"sum\": 0.722458056640625, \"count\": 1, \"min\": 0.722458056640625, \"max\": 0.722458056640625}}}\u001b[0m\n",
      "\u001b[34m#metrics {\"StartTime\": 1749053129.6184175, \"EndTime\": 1749053129.618427, \"Dimensions\": {\"Algorithm\": \"Linear Learner\", \"Host\": \"algo-1\", \"Operation\": \"training\", \"epoch\": 12, \"model\": 2}, \"Metrics\": {\"train_mse_objective\": {\"sum\": 0.745949658203125, \"count\": 1, \"min\": 0.745949658203125, \"max\": 0.745949658203125}}}\u001b[0m\n",
      "\u001b[34m#metrics {\"StartTime\": 1749053129.6184616, \"EndTime\": 1749053129.6184702, \"Dimensions\": {\"Algorithm\": \"Linear Learner\", \"Host\": \"algo-1\", \"Operation\": \"training\", \"epoch\": 12, \"model\": 3}, \"Metrics\": {\"train_mse_objective\": {\"sum\": 0.7234977783203125, \"count\": 1, \"min\": 0.7234977783203125, \"max\": 0.7234977783203125}}}\u001b[0m\n",
      "\u001b[34m#metrics {\"StartTime\": 1749053129.6185408, \"EndTime\": 1749053129.6185532, \"Dimensions\": {\"Algorithm\": \"Linear Learner\", \"Host\": \"algo-1\", \"Operation\": \"training\", \"epoch\": 12, \"model\": 4}, \"Metrics\": {\"train_mse_objective\": {\"sum\": 0.7154420654296875, \"count\": 1, \"min\": 0.7154420654296875, \"max\": 0.7154420654296875}}}\u001b[0m\n",
      "\u001b[34m#metrics {\"StartTime\": 1749053129.6185932, \"EndTime\": 1749053129.6186025, \"Dimensions\": {\"Algorithm\": \"Linear Learner\", \"Host\": \"algo-1\", \"Operation\": \"training\", \"epoch\": 12, \"model\": 5}, \"Metrics\": {\"train_mse_objective\": {\"sum\": 0.7152310424804688, \"count\": 1, \"min\": 0.7152310424804688, \"max\": 0.7152310424804688}}}\u001b[0m\n",
      "\u001b[34m#metrics {\"StartTime\": 1749053129.618638, \"EndTime\": 1749053129.6186469, \"Dimensions\": {\"Algorithm\": \"Linear Learner\", \"Host\": \"algo-1\", \"Operation\": \"training\", \"epoch\": 12, \"model\": 6}, \"Metrics\": {\"train_mse_objective\": {\"sum\": 0.7155423828125, \"count\": 1, \"min\": 0.7155423828125, \"max\": 0.7155423828125}}}\u001b[0m\n",
      "\u001b[34m#metrics {\"StartTime\": 1749053129.6186826, \"EndTime\": 1749053129.6186914, \"Dimensions\": {\"Algorithm\": \"Linear Learner\", \"Host\": \"algo-1\", \"Operation\": \"training\", \"epoch\": 12, \"model\": 7}, \"Metrics\": {\"train_mse_objective\": {\"sum\": 0.7155200561523437, \"count\": 1, \"min\": 0.7155200561523437, \"max\": 0.7155200561523437}}}\u001b[0m\n",
      "\u001b[34m#metrics {\"StartTime\": 1749053129.6187708, \"EndTime\": 1749053129.618784, \"Dimensions\": {\"Algorithm\": \"Linear Learner\", \"Host\": \"algo-1\", \"Operation\": \"training\", \"epoch\": 12, \"model\": 8}, \"Metrics\": {\"train_mse_objective\": {\"sum\": 0.7366309692382812, \"count\": 1, \"min\": 0.7366309692382812, \"max\": 0.7366309692382812}}}\u001b[0m\n",
      "\u001b[34m#metrics {\"StartTime\": 1749053129.6188262, \"EndTime\": 1749053129.6188354, \"Dimensions\": {\"Algorithm\": \"Linear Learner\", \"Host\": \"algo-1\", \"Operation\": \"training\", \"epoch\": 12, \"model\": 9}, \"Metrics\": {\"train_mse_objective\": {\"sum\": 0.7233534790039062, \"count\": 1, \"min\": 0.7233534790039062, \"max\": 0.7233534790039062}}}\u001b[0m\n",
      "\u001b[34m#metrics {\"StartTime\": 1749053129.6189, \"EndTime\": 1749053129.618912, \"Dimensions\": {\"Algorithm\": \"Linear Learner\", \"Host\": \"algo-1\", \"Operation\": \"training\", \"epoch\": 12, \"model\": 10}, \"Metrics\": {\"train_mse_objective\": {\"sum\": 0.7255972534179688, \"count\": 1, \"min\": 0.7255972534179688, \"max\": 0.7255972534179688}}}\u001b[0m\n",
      "\u001b[34m#metrics {\"StartTime\": 1749053129.6189523, \"EndTime\": 1749053129.6189616, \"Dimensions\": {\"Algorithm\": \"Linear Learner\", \"Host\": \"algo-1\", \"Operation\": \"training\", \"epoch\": 12, \"model\": 11}, \"Metrics\": {\"train_mse_objective\": {\"sum\": 0.740387353515625, \"count\": 1, \"min\": 0.740387353515625, \"max\": 0.740387353515625}}}\u001b[0m\n",
      "\u001b[34m#metrics {\"StartTime\": 1749053129.618995, \"EndTime\": 1749053129.619004, \"Dimensions\": {\"Algorithm\": \"Linear Learner\", \"Host\": \"algo-1\", \"Operation\": \"training\", \"epoch\": 12, \"model\": 12}, \"Metrics\": {\"train_mse_objective\": {\"sum\": 0.7152341918945313, \"count\": 1, \"min\": 0.7152341918945313, \"max\": 0.7152341918945313}}}\u001b[0m\n",
      "\u001b[34m#metrics {\"StartTime\": 1749053129.6190667, \"EndTime\": 1749053129.6190784, \"Dimensions\": {\"Algorithm\": \"Linear Learner\", \"Host\": \"algo-1\", \"Operation\": \"training\", \"epoch\": 12, \"model\": 13}, \"Metrics\": {\"train_mse_objective\": {\"sum\": 0.7155682373046875, \"count\": 1, \"min\": 0.7155682373046875, \"max\": 0.7155682373046875}}}\u001b[0m\n",
      "\u001b[34m#metrics {\"StartTime\": 1749053129.6191106, \"EndTime\": 1749053129.619119, \"Dimensions\": {\"Algorithm\": \"Linear Learner\", \"Host\": \"algo-1\", \"Operation\": \"training\", \"epoch\": 12, \"model\": 14}, \"Metrics\": {\"train_mse_objective\": {\"sum\": 0.71502666015625, \"count\": 1, \"min\": 0.71502666015625, \"max\": 0.71502666015625}}}\u001b[0m\n",
      "\u001b[34m#metrics {\"StartTime\": 1749053129.619148, \"EndTime\": 1749053129.6191561, \"Dimensions\": {\"Algorithm\": \"Linear Learner\", \"Host\": \"algo-1\", \"Operation\": \"training\", \"epoch\": 12, \"model\": 15}, \"Metrics\": {\"train_mse_objective\": {\"sum\": 0.7154801879882813, \"count\": 1, \"min\": 0.7154801879882813, \"max\": 0.7154801879882813}}}\u001b[0m\n",
      "\u001b[34m#metrics {\"StartTime\": 1749053129.6192198, \"EndTime\": 1749053129.6192303, \"Dimensions\": {\"Algorithm\": \"Linear Learner\", \"Host\": \"algo-1\", \"Operation\": \"training\", \"epoch\": 12, \"model\": 16}, \"Metrics\": {\"train_mse_objective\": {\"sum\": 0.783347412109375, \"count\": 1, \"min\": 0.783347412109375, \"max\": 0.783347412109375}}}\u001b[0m\n",
      "\u001b[34m#metrics {\"StartTime\": 1749053129.6192932, \"EndTime\": 1749053129.6193032, \"Dimensions\": {\"Algorithm\": \"Linear Learner\", \"Host\": \"algo-1\", \"Operation\": \"training\", \"epoch\": 12, \"model\": 17}, \"Metrics\": {\"train_mse_objective\": {\"sum\": 0.7851527465820313, \"count\": 1, \"min\": 0.7851527465820313, \"max\": 0.7851527465820313}}}\u001b[0m\n",
      "\u001b[34m#metrics {\"StartTime\": 1749053129.6193624, \"EndTime\": 1749053129.6193721, \"Dimensions\": {\"Algorithm\": \"Linear Learner\", \"Host\": \"algo-1\", \"Operation\": \"training\", \"epoch\": 12, \"model\": 18}, \"Metrics\": {\"train_mse_objective\": {\"sum\": 0.7853459350585937, \"count\": 1, \"min\": 0.7853459350585937, \"max\": 0.7853459350585937}}}\u001b[0m\n",
      "\u001b[34m#metrics {\"StartTime\": 1749053129.6194403, \"EndTime\": 1749053129.6194522, \"Dimensions\": {\"Algorithm\": \"Linear Learner\", \"Host\": \"algo-1\", \"Operation\": \"training\", \"epoch\": 12, \"model\": 19}, \"Metrics\": {\"train_mse_objective\": {\"sum\": 0.7900718627929687, \"count\": 1, \"min\": 0.7900718627929687, \"max\": 0.7900718627929687}}}\u001b[0m\n",
      "\u001b[34m#metrics {\"StartTime\": 1749053129.6195128, \"EndTime\": 1749053129.619523, \"Dimensions\": {\"Algorithm\": \"Linear Learner\", \"Host\": \"algo-1\", \"Operation\": \"training\", \"epoch\": 12, \"model\": 20}, \"Metrics\": {\"train_mse_objective\": {\"sum\": 0.7867310302734375, \"count\": 1, \"min\": 0.7867310302734375, \"max\": 0.7867310302734375}}}\u001b[0m\n",
      "\u001b[34m#metrics {\"StartTime\": 1749053129.6195934, \"EndTime\": 1749053129.6196063, \"Dimensions\": {\"Algorithm\": \"Linear Learner\", \"Host\": \"algo-1\", \"Operation\": \"training\", \"epoch\": 12, \"model\": 21}, \"Metrics\": {\"train_mse_objective\": {\"sum\": 0.7876266967773438, \"count\": 1, \"min\": 0.7876266967773438, \"max\": 0.7876266967773438}}}\u001b[0m\n",
      "\u001b[34m#metrics {\"StartTime\": 1749053129.6196709, \"EndTime\": 1749053129.6196823, \"Dimensions\": {\"Algorithm\": \"Linear Learner\", \"Host\": \"algo-1\", \"Operation\": \"training\", \"epoch\": 12, \"model\": 22}, \"Metrics\": {\"train_mse_objective\": {\"sum\": 0.785426513671875, \"count\": 1, \"min\": 0.785426513671875, \"max\": 0.785426513671875}}}\u001b[0m\n",
      "\u001b[34m#metrics {\"StartTime\": 1749053129.6197195, \"EndTime\": 1749053129.619728, \"Dimensions\": {\"Algorithm\": \"Linear Learner\", \"Host\": \"algo-1\", \"Operation\": \"training\", \"epoch\": 12, \"model\": 23}, \"Metrics\": {\"train_mse_objective\": {\"sum\": 0.7838383056640625, \"count\": 1, \"min\": 0.7838383056640625, \"max\": 0.7838383056640625}}}\u001b[0m\n",
      "\u001b[34m#metrics {\"StartTime\": 1749053129.6197581, \"EndTime\": 1749053129.6197662, \"Dimensions\": {\"Algorithm\": \"Linear Learner\", \"Host\": \"algo-1\", \"Operation\": \"training\", \"epoch\": 12, \"model\": 24}, \"Metrics\": {\"train_mse_objective\": {\"sum\": 0.9930712646484375, \"count\": 1, \"min\": 0.9930712646484375, \"max\": 0.9930712646484375}}}\u001b[0m\n",
      "\u001b[34m#metrics {\"StartTime\": 1749053129.619834, \"EndTime\": 1749053129.6198442, \"Dimensions\": {\"Algorithm\": \"Linear Learner\", \"Host\": \"algo-1\", \"Operation\": \"training\", \"epoch\": 12, \"model\": 25}, \"Metrics\": {\"train_mse_objective\": {\"sum\": 0.9928873901367188, \"count\": 1, \"min\": 0.9928873901367188, \"max\": 0.9928873901367188}}}\u001b[0m\n",
      "\u001b[34m#metrics {\"StartTime\": 1749053129.6199195, \"EndTime\": 1749053129.6199303, \"Dimensions\": {\"Algorithm\": \"Linear Learner\", \"Host\": \"algo-1\", \"Operation\": \"training\", \"epoch\": 12, \"model\": 26}, \"Metrics\": {\"train_mse_objective\": {\"sum\": 0.9937711059570312, \"count\": 1, \"min\": 0.9937711059570312, \"max\": 0.9937711059570312}}}\u001b[0m\n",
      "\u001b[34m#metrics {\"StartTime\": 1749053129.6199656, \"EndTime\": 1749053129.619974, \"Dimensions\": {\"Algorithm\": \"Linear Learner\", \"Host\": \"algo-1\", \"Operation\": \"training\", \"epoch\": 12, \"model\": 27}, \"Metrics\": {\"train_mse_objective\": {\"sum\": 0.99053681640625, \"count\": 1, \"min\": 0.99053681640625, \"max\": 0.99053681640625}}}\u001b[0m\n",
      "\u001b[34m#metrics {\"StartTime\": 1749053129.6200333, \"EndTime\": 1749053129.6200438, \"Dimensions\": {\"Algorithm\": \"Linear Learner\", \"Host\": \"algo-1\", \"Operation\": \"training\", \"epoch\": 12, \"model\": 28}, \"Metrics\": {\"train_mse_objective\": {\"sum\": 0.99378046875, \"count\": 1, \"min\": 0.99378046875, \"max\": 0.99378046875}}}\u001b[0m\n",
      "\u001b[34m#metrics {\"StartTime\": 1749053129.620106, \"EndTime\": 1749053129.6201165, \"Dimensions\": {\"Algorithm\": \"Linear Learner\", \"Host\": \"algo-1\", \"Operation\": \"training\", \"epoch\": 12, \"model\": 29}, \"Metrics\": {\"train_mse_objective\": {\"sum\": 0.99057216796875, \"count\": 1, \"min\": 0.99057216796875, \"max\": 0.99057216796875}}}\u001b[0m\n",
      "\u001b[34m#metrics {\"StartTime\": 1749053129.6201777, \"EndTime\": 1749053129.620189, \"Dimensions\": {\"Algorithm\": \"Linear Learner\", \"Host\": \"algo-1\", \"Operation\": \"training\", \"epoch\": 12, \"model\": 30}, \"Metrics\": {\"train_mse_objective\": {\"sum\": 0.9935772216796875, \"count\": 1, \"min\": 0.9935772216796875, \"max\": 0.9935772216796875}}}\u001b[0m\n",
      "\u001b[34m#metrics {\"StartTime\": 1749053129.6202285, \"EndTime\": 1749053129.6202378, \"Dimensions\": {\"Algorithm\": \"Linear Learner\", \"Host\": \"algo-1\", \"Operation\": \"training\", \"epoch\": 12, \"model\": 31}, \"Metrics\": {\"train_mse_objective\": {\"sum\": 0.9915466674804687, \"count\": 1, \"min\": 0.9915466674804687, \"max\": 0.9915466674804687}}}\u001b[0m\n",
      "\u001b[34m[06/04/2025 16:05:29 INFO 140352932898624] #quality_metric: host=algo-1, epoch=12, train mse_objective <loss>=0.735827978515625\u001b[0m\n",
      "\u001b[34m[06/04/2025 16:05:29 INFO 140352932898624] #early_stopping_criteria_metric: host=algo-1, epoch=12, criteria=mse_objective, value=0.71502666015625\u001b[0m\n",
      "\u001b[34m[06/04/2025 16:05:29 INFO 140352932898624] Saving model for epoch: 12\u001b[0m\n",
      "\u001b[34m[06/04/2025 16:05:29 INFO 140352932898624] Saved checkpoint to \"/tmp/tmpkx7lzgpg/mx-mod-0000.params\"\u001b[0m\n",
      "\u001b[34m[06/04/2025 16:05:29 INFO 140352932898624] #progress_metric: host=algo-1, completed 86.66666666666667 % of epochs\u001b[0m\n",
      "\u001b[34m#metrics {\"StartTime\": 1749053129.5550683, \"EndTime\": 1749053129.6259725, \"Dimensions\": {\"Algorithm\": \"Linear Learner\", \"Host\": \"algo-1\", \"Operation\": \"training\", \"epoch\": 12, \"Meta\": \"training_data_iter\"}, \"Metrics\": {\"Total Records Seen\": {\"sum\": 73758.0, \"count\": 1, \"min\": 73758, \"max\": 73758}, \"Total Batches Seen\": {\"sum\": 85.0, \"count\": 1, \"min\": 85, \"max\": 85}, \"Max Records Seen Between Resets\": {\"sum\": 5197.0, \"count\": 1, \"min\": 5197, \"max\": 5197}, \"Max Batches Seen Between Resets\": {\"sum\": 6.0, \"count\": 1, \"min\": 6, \"max\": 6}, \"Reset Count\": {\"sum\": 15.0, \"count\": 1, \"min\": 15, \"max\": 15}, \"Number of Records Since Last Reset\": {\"sum\": 5197.0, \"count\": 1, \"min\": 5197, \"max\": 5197}, \"Number of Batches Since Last Reset\": {\"sum\": 6.0, \"count\": 1, \"min\": 6, \"max\": 6}}}\u001b[0m\n",
      "\u001b[34m[06/04/2025 16:05:29 INFO 140352932898624] #throughput_metric: host=algo-1, train throughput=73176.68545953222 records/second\u001b[0m\n",
      "\u001b[34m[2025-06-04 16:05:29.687] [tensorio] [info] epoch_stats={\"data_pipeline\": \"/opt/ml/input/data/train\", \"epoch\": 30, \"duration\": 60, \"num_examples\": 6, \"num_bytes\": 457336}\u001b[0m\n",
      "\u001b[34m#metrics {\"StartTime\": 1749053129.687245, \"EndTime\": 1749053129.687282, \"Dimensions\": {\"Algorithm\": \"Linear Learner\", \"Host\": \"algo-1\", \"Operation\": \"training\", \"epoch\": 13, \"model\": 0}, \"Metrics\": {\"train_mse_objective\": {\"sum\": 0.7322553466796875, \"count\": 1, \"min\": 0.7322553466796875, \"max\": 0.7322553466796875}}}\u001b[0m\n",
      "\u001b[34m#metrics {\"StartTime\": 1749053129.687337, \"EndTime\": 1749053129.687349, \"Dimensions\": {\"Algorithm\": \"Linear Learner\", \"Host\": \"algo-1\", \"Operation\": \"training\", \"epoch\": 13, \"model\": 1}, \"Metrics\": {\"train_mse_objective\": {\"sum\": 0.7203086547851563, \"count\": 1, \"min\": 0.7203086547851563, \"max\": 0.7203086547851563}}}\u001b[0m\n",
      "\u001b[34m#metrics {\"StartTime\": 1749053129.687458, \"EndTime\": 1749053129.6874723, \"Dimensions\": {\"Algorithm\": \"Linear Learner\", \"Host\": \"algo-1\", \"Operation\": \"training\", \"epoch\": 13, \"model\": 2}, \"Metrics\": {\"train_mse_objective\": {\"sum\": 0.7412038208007813, \"count\": 1, \"min\": 0.7412038208007813, \"max\": 0.7412038208007813}}}\u001b[0m\n",
      "\u001b[34m#metrics {\"StartTime\": 1749053129.6875086, \"EndTime\": 1749053129.6875176, \"Dimensions\": {\"Algorithm\": \"Linear Learner\", \"Host\": \"algo-1\", \"Operation\": \"training\", \"epoch\": 13, \"model\": 3}, \"Metrics\": {\"train_mse_objective\": {\"sum\": 0.7213789916992187, \"count\": 1, \"min\": 0.7213789916992187, \"max\": 0.7213789916992187}}}\u001b[0m\n",
      "\u001b[34m#metrics {\"StartTime\": 1749053129.6876514, \"EndTime\": 1749053129.6876657, \"Dimensions\": {\"Algorithm\": \"Linear Learner\", \"Host\": \"algo-1\", \"Operation\": \"training\", \"epoch\": 13, \"model\": 4}, \"Metrics\": {\"train_mse_objective\": {\"sum\": 0.71596494140625, \"count\": 1, \"min\": 0.71596494140625, \"max\": 0.71596494140625}}}\u001b[0m\n",
      "\u001b[34m#metrics {\"StartTime\": 1749053129.6877913, \"EndTime\": 1749053129.6878035, \"Dimensions\": {\"Algorithm\": \"Linear Learner\", \"Host\": \"algo-1\", \"Operation\": \"training\", \"epoch\": 13, \"model\": 5}, \"Metrics\": {\"train_mse_objective\": {\"sum\": 0.7159273315429687, \"count\": 1, \"min\": 0.7159273315429687, \"max\": 0.7159273315429687}}}\u001b[0m\n",
      "\u001b[34m#metrics {\"StartTime\": 1749053129.687877, \"EndTime\": 1749053129.6878884, \"Dimensions\": {\"Algorithm\": \"Linear Learner\", \"Host\": \"algo-1\", \"Operation\": \"training\", \"epoch\": 13, \"model\": 6}, \"Metrics\": {\"train_mse_objective\": {\"sum\": 0.716047802734375, \"count\": 1, \"min\": 0.716047802734375, \"max\": 0.716047802734375}}}\u001b[0m\n",
      "\u001b[34m#metrics {\"StartTime\": 1749053129.6879218, \"EndTime\": 1749053129.68793, \"Dimensions\": {\"Algorithm\": \"Linear Learner\", \"Host\": \"algo-1\", \"Operation\": \"training\", \"epoch\": 13, \"model\": 7}, \"Metrics\": {\"train_mse_objective\": {\"sum\": 0.7160027954101562, \"count\": 1, \"min\": 0.7160027954101562, \"max\": 0.7160027954101562}}}\u001b[0m\n",
      "\u001b[34m#metrics {\"StartTime\": 1749053129.687966, \"EndTime\": 1749053129.687975, \"Dimensions\": {\"Algorithm\": \"Linear Learner\", \"Host\": \"algo-1\", \"Operation\": \"training\", \"epoch\": 13, \"model\": 8}, \"Metrics\": {\"train_mse_objective\": {\"sum\": 0.7327528442382812, \"count\": 1, \"min\": 0.7327528442382812, \"max\": 0.7327528442382812}}}\u001b[0m\n",
      "\u001b[34m#metrics {\"StartTime\": 1749053129.688038, \"EndTime\": 1749053129.6880481, \"Dimensions\": {\"Algorithm\": \"Linear Learner\", \"Host\": \"algo-1\", \"Operation\": \"training\", \"epoch\": 13, \"model\": 9}, \"Metrics\": {\"train_mse_objective\": {\"sum\": 0.7210543212890625, \"count\": 1, \"min\": 0.7210543212890625, \"max\": 0.7210543212890625}}}\u001b[0m\n",
      "\u001b[34m#metrics {\"StartTime\": 1749053129.6881156, \"EndTime\": 1749053129.6881278, \"Dimensions\": {\"Algorithm\": \"Linear Learner\", \"Host\": \"algo-1\", \"Operation\": \"training\", \"epoch\": 13, \"model\": 10}, \"Metrics\": {\"train_mse_objective\": {\"sum\": 0.7231327758789062, \"count\": 1, \"min\": 0.7231327758789062, \"max\": 0.7231327758789062}}}\u001b[0m\n",
      "\u001b[34m#metrics {\"StartTime\": 1749053129.6881988, \"EndTime\": 1749053129.6882112, \"Dimensions\": {\"Algorithm\": \"Linear Learner\", \"Host\": \"algo-1\", \"Operation\": \"training\", \"epoch\": 13, \"model\": 11}, \"Metrics\": {\"train_mse_objective\": {\"sum\": 0.7362048583984375, \"count\": 1, \"min\": 0.7362048583984375, \"max\": 0.7362048583984375}}}\u001b[0m\n",
      "\u001b[34m#metrics {\"StartTime\": 1749053129.6882508, \"EndTime\": 1749053129.6882608, \"Dimensions\": {\"Algorithm\": \"Linear Learner\", \"Host\": \"algo-1\", \"Operation\": \"training\", \"epoch\": 13, \"model\": 12}, \"Metrics\": {\"train_mse_objective\": {\"sum\": 0.7160200805664062, \"count\": 1, \"min\": 0.7160200805664062, \"max\": 0.7160200805664062}}}\u001b[0m\n",
      "\u001b[34m#metrics {\"StartTime\": 1749053129.688297, \"EndTime\": 1749053129.6883047, \"Dimensions\": {\"Algorithm\": \"Linear Learner\", \"Host\": \"algo-1\", \"Operation\": \"training\", \"epoch\": 13, \"model\": 13}, \"Metrics\": {\"train_mse_objective\": {\"sum\": 0.716191357421875, \"count\": 1, \"min\": 0.716191357421875, \"max\": 0.716191357421875}}}\u001b[0m\n",
      "\u001b[34m#metrics {\"StartTime\": 1749053129.6883326, \"EndTime\": 1749053129.6883404, \"Dimensions\": {\"Algorithm\": \"Linear Learner\", \"Host\": \"algo-1\", \"Operation\": \"training\", \"epoch\": 13, \"model\": 14}, \"Metrics\": {\"train_mse_objective\": {\"sum\": 0.71600166015625, \"count\": 1, \"min\": 0.71600166015625, \"max\": 0.71600166015625}}}\u001b[0m\n",
      "\u001b[34m#metrics {\"StartTime\": 1749053129.6883745, \"EndTime\": 1749053129.6883833, \"Dimensions\": {\"Algorithm\": \"Linear Learner\", \"Host\": \"algo-1\", \"Operation\": \"training\", \"epoch\": 13, \"model\": 15}, \"Metrics\": {\"train_mse_objective\": {\"sum\": 0.7160486083984375, \"count\": 1, \"min\": 0.7160486083984375, \"max\": 0.7160486083984375}}}\u001b[0m\n",
      "\u001b[34m#metrics {\"StartTime\": 1749053129.6884167, \"EndTime\": 1749053129.688426, \"Dimensions\": {\"Algorithm\": \"Linear Learner\", \"Host\": \"algo-1\", \"Operation\": \"training\", \"epoch\": 13, \"model\": 16}, \"Metrics\": {\"train_mse_objective\": {\"sum\": 0.78421376953125, \"count\": 1, \"min\": 0.78421376953125, \"max\": 0.78421376953125}}}\u001b[0m\n",
      "\u001b[34m#metrics {\"StartTime\": 1749053129.688498, \"EndTime\": 1749053129.6885085, \"Dimensions\": {\"Algorithm\": \"Linear Learner\", \"Host\": \"algo-1\", \"Operation\": \"training\", \"epoch\": 13, \"model\": 17}, \"Metrics\": {\"train_mse_objective\": {\"sum\": 0.7843913330078125, \"count\": 1, \"min\": 0.7843913330078125, \"max\": 0.7843913330078125}}}\u001b[0m\n",
      "\u001b[34m#metrics {\"StartTime\": 1749053129.6885467, \"EndTime\": 1749053129.6885552, \"Dimensions\": {\"Algorithm\": \"Linear Learner\", \"Host\": \"algo-1\", \"Operation\": \"training\", \"epoch\": 13, \"model\": 18}, \"Metrics\": {\"train_mse_objective\": {\"sum\": 0.7850209228515626, \"count\": 1, \"min\": 0.7850209228515626, \"max\": 0.7850209228515626}}}\u001b[0m\n",
      "\u001b[34m#metrics {\"StartTime\": 1749053129.6886132, \"EndTime\": 1749053129.6886237, \"Dimensions\": {\"Algorithm\": \"Linear Learner\", \"Host\": \"algo-1\", \"Operation\": \"training\", \"epoch\": 13, \"model\": 19}, \"Metrics\": {\"train_mse_objective\": {\"sum\": 0.7883412475585938, \"count\": 1, \"min\": 0.7883412475585938, \"max\": 0.7883412475585938}}}\u001b[0m\n",
      "\u001b[34m#metrics {\"StartTime\": 1749053129.6886957, \"EndTime\": 1749053129.6887078, \"Dimensions\": {\"Algorithm\": \"Linear Learner\", \"Host\": \"algo-1\", \"Operation\": \"training\", \"epoch\": 13, \"model\": 20}, \"Metrics\": {\"train_mse_objective\": {\"sum\": 0.787150537109375, \"count\": 1, \"min\": 0.787150537109375, \"max\": 0.787150537109375}}}\u001b[0m\n",
      "\u001b[34m#metrics {\"StartTime\": 1749053129.688747, \"EndTime\": 1749053129.6887565, \"Dimensions\": {\"Algorithm\": \"Linear Learner\", \"Host\": \"algo-1\", \"Operation\": \"training\", \"epoch\": 13, \"model\": 21}, \"Metrics\": {\"train_mse_objective\": {\"sum\": 0.7855699340820312, \"count\": 1, \"min\": 0.7855699340820312, \"max\": 0.7855699340820312}}}\u001b[0m\n",
      "\u001b[34m#metrics {\"StartTime\": 1749053129.688788, \"EndTime\": 1749053129.6887965, \"Dimensions\": {\"Algorithm\": \"Linear Learner\", \"Host\": \"algo-1\", \"Operation\": \"training\", \"epoch\": 13, \"model\": 22}, \"Metrics\": {\"train_mse_objective\": {\"sum\": 0.7871962524414062, \"count\": 1, \"min\": 0.7871962524414062, \"max\": 0.7871962524414062}}}\u001b[0m\n",
      "\u001b[34m#metrics {\"StartTime\": 1749053129.6888304, \"EndTime\": 1749053129.688839, \"Dimensions\": {\"Algorithm\": \"Linear Learner\", \"Host\": \"algo-1\", \"Operation\": \"training\", \"epoch\": 13, \"model\": 23}, \"Metrics\": {\"train_mse_objective\": {\"sum\": 0.7883754516601562, \"count\": 1, \"min\": 0.7883754516601562, \"max\": 0.7883754516601562}}}\u001b[0m\n",
      "\u001b[34m#metrics {\"StartTime\": 1749053129.6889093, \"EndTime\": 1749053129.6889198, \"Dimensions\": {\"Algorithm\": \"Linear Learner\", \"Host\": \"algo-1\", \"Operation\": \"training\", \"epoch\": 13, \"model\": 24}, \"Metrics\": {\"train_mse_objective\": {\"sum\": 0.992469482421875, \"count\": 1, \"min\": 0.992469482421875, \"max\": 0.992469482421875}}}\u001b[0m\n",
      "\u001b[34m#metrics {\"StartTime\": 1749053129.6889863, \"EndTime\": 1749053129.6889973, \"Dimensions\": {\"Algorithm\": \"Linear Learner\", \"Host\": \"algo-1\", \"Operation\": \"training\", \"epoch\": 13, \"model\": 25}, \"Metrics\": {\"train_mse_objective\": {\"sum\": 0.9932596801757813, \"count\": 1, \"min\": 0.9932596801757813, \"max\": 0.9932596801757813}}}\u001b[0m\n",
      "\u001b[34m#metrics {\"StartTime\": 1749053129.689035, \"EndTime\": 1749053129.6890442, \"Dimensions\": {\"Algorithm\": \"Linear Learner\", \"Host\": \"algo-1\", \"Operation\": \"training\", \"epoch\": 13, \"model\": 26}, \"Metrics\": {\"train_mse_objective\": {\"sum\": 0.9930491088867187, \"count\": 1, \"min\": 0.9930491088867187, \"max\": 0.9930491088867187}}}\u001b[0m\n",
      "\u001b[34m#metrics {\"StartTime\": 1749053129.689107, \"EndTime\": 1749053129.689118, \"Dimensions\": {\"Algorithm\": \"Linear Learner\", \"Host\": \"algo-1\", \"Operation\": \"training\", \"epoch\": 13, \"model\": 27}, \"Metrics\": {\"train_mse_objective\": {\"sum\": 0.9915567260742187, \"count\": 1, \"min\": 0.9915567260742187, \"max\": 0.9915567260742187}}}\u001b[0m\n",
      "\u001b[34m#metrics {\"StartTime\": 1749053129.6891558, \"EndTime\": 1749053129.6891649, \"Dimensions\": {\"Algorithm\": \"Linear Learner\", \"Host\": \"algo-1\", \"Operation\": \"training\", \"epoch\": 13, \"model\": 28}, \"Metrics\": {\"train_mse_objective\": {\"sum\": 0.992056982421875, \"count\": 1, \"min\": 0.992056982421875, \"max\": 0.992056982421875}}}\u001b[0m\n",
      "\u001b[34m#metrics {\"StartTime\": 1749053129.6891947, \"EndTime\": 1749053129.6892037, \"Dimensions\": {\"Algorithm\": \"Linear Learner\", \"Host\": \"algo-1\", \"Operation\": \"training\", \"epoch\": 13, \"model\": 29}, \"Metrics\": {\"train_mse_objective\": {\"sum\": 0.9944203491210938, \"count\": 1, \"min\": 0.9944203491210938, \"max\": 0.9944203491210938}}}\u001b[0m\n",
      "\u001b[34m#metrics {\"StartTime\": 1749053129.6892903, \"EndTime\": 1749053129.6893039, \"Dimensions\": {\"Algorithm\": \"Linear Learner\", \"Host\": \"algo-1\", \"Operation\": \"training\", \"epoch\": 13, \"model\": 30}, \"Metrics\": {\"train_mse_objective\": {\"sum\": 0.9928751953125, \"count\": 1, \"min\": 0.9928751953125, \"max\": 0.9928751953125}}}\u001b[0m\n",
      "\u001b[34m#metrics {\"StartTime\": 1749053129.6893747, \"EndTime\": 1749053129.6893868, \"Dimensions\": {\"Algorithm\": \"Linear Learner\", \"Host\": \"algo-1\", \"Operation\": \"training\", \"epoch\": 13, \"model\": 31}, \"Metrics\": {\"train_mse_objective\": {\"sum\": 0.99420634765625, \"count\": 1, \"min\": 0.99420634765625, \"max\": 0.99420634765625}}}\u001b[0m\n",
      "\u001b[34m[06/04/2025 16:05:29 INFO 140352932898624] #quality_metric: host=algo-1, epoch=13, train mse_objective <loss>=0.7322553466796875\u001b[0m\n",
      "\u001b[34m[06/04/2025 16:05:29 INFO 140352932898624] #early_stopping_criteria_metric: host=algo-1, epoch=13, criteria=mse_objective, value=0.7159273315429687\u001b[0m\n",
      "\u001b[34m[06/04/2025 16:05:29 INFO 140352932898624] Saving model for epoch: 13\u001b[0m\n",
      "\u001b[34m[06/04/2025 16:05:29 INFO 140352932898624] Saved checkpoint to \"/tmp/tmpfv_v631n/mx-mod-0000.params\"\u001b[0m\n",
      "\u001b[34m[06/04/2025 16:05:29 INFO 140352932898624] #progress_metric: host=algo-1, completed 93.33333333333333 % of epochs\u001b[0m\n",
      "\u001b[34m#metrics {\"StartTime\": 1749053129.6262114, \"EndTime\": 1749053129.6947515, \"Dimensions\": {\"Algorithm\": \"Linear Learner\", \"Host\": \"algo-1\", \"Operation\": \"training\", \"epoch\": 13, \"Meta\": \"training_data_iter\"}, \"Metrics\": {\"Total Records Seen\": {\"sum\": 78955.0, \"count\": 1, \"min\": 78955, \"max\": 78955}, \"Total Batches Seen\": {\"sum\": 91.0, \"count\": 1, \"min\": 91, \"max\": 91}, \"Max Records Seen Between Resets\": {\"sum\": 5197.0, \"count\": 1, \"min\": 5197, \"max\": 5197}, \"Max Batches Seen Between Resets\": {\"sum\": 6.0, \"count\": 1, \"min\": 6, \"max\": 6}, \"Reset Count\": {\"sum\": 16.0, \"count\": 1, \"min\": 16, \"max\": 16}, \"Number of Records Since Last Reset\": {\"sum\": 5197.0, \"count\": 1, \"min\": 5197, \"max\": 5197}, \"Number of Batches Since Last Reset\": {\"sum\": 6.0, \"count\": 1, \"min\": 6, \"max\": 6}}}\u001b[0m\n",
      "\u001b[34m[06/04/2025 16:05:29 INFO 140352932898624] #throughput_metric: host=algo-1, train throughput=75663.41612487807 records/second\u001b[0m\n",
      "\u001b[34m[2025-06-04 16:05:29.761] [tensorio] [info] epoch_stats={\"data_pipeline\": \"/opt/ml/input/data/train\", \"epoch\": 32, \"duration\": 66, \"num_examples\": 6, \"num_bytes\": 457336}\u001b[0m\n",
      "\u001b[34m#metrics {\"StartTime\": 1749053129.7612832, \"EndTime\": 1749053129.7613256, \"Dimensions\": {\"Algorithm\": \"Linear Learner\", \"Host\": \"algo-1\", \"Operation\": \"training\", \"epoch\": 14, \"model\": 0}, \"Metrics\": {\"train_mse_objective\": {\"sum\": 0.7292690307617188, \"count\": 1, \"min\": 0.7292690307617188, \"max\": 0.7292690307617188}}}\u001b[0m\n",
      "\u001b[34m#metrics {\"StartTime\": 1749053129.761414, \"EndTime\": 1749053129.7614255, \"Dimensions\": {\"Algorithm\": \"Linear Learner\", \"Host\": \"algo-1\", \"Operation\": \"training\", \"epoch\": 14, \"model\": 1}, \"Metrics\": {\"train_mse_objective\": {\"sum\": 0.7186595336914062, \"count\": 1, \"min\": 0.7186595336914062, \"max\": 0.7186595336914062}}}\u001b[0m\n",
      "\u001b[34m#metrics {\"StartTime\": 1749053129.761464, \"EndTime\": 1749053129.761473, \"Dimensions\": {\"Algorithm\": \"Linear Learner\", \"Host\": \"algo-1\", \"Operation\": \"training\", \"epoch\": 14, \"model\": 2}, \"Metrics\": {\"train_mse_objective\": {\"sum\": 0.7371921630859375, \"count\": 1, \"min\": 0.7371921630859375, \"max\": 0.7371921630859375}}}\u001b[0m\n",
      "\u001b[34m#metrics {\"StartTime\": 1749053129.7615094, \"EndTime\": 1749053129.761518, \"Dimensions\": {\"Algorithm\": \"Linear Learner\", \"Host\": \"algo-1\", \"Operation\": \"training\", \"epoch\": 14, \"model\": 3}, \"Metrics\": {\"train_mse_objective\": {\"sum\": 0.7196537841796875, \"count\": 1, \"min\": 0.7196537841796875, \"max\": 0.7196537841796875}}}\u001b[0m\n",
      "\u001b[34m#metrics {\"StartTime\": 1749053129.761551, \"EndTime\": 1749053129.7615592, \"Dimensions\": {\"Algorithm\": \"Linear Learner\", \"Host\": \"algo-1\", \"Operation\": \"training\", \"epoch\": 14, \"model\": 4}, \"Metrics\": {\"train_mse_objective\": {\"sum\": 0.714886865234375, \"count\": 1, \"min\": 0.714886865234375, \"max\": 0.714886865234375}}}\u001b[0m\n",
      "\u001b[34m#metrics {\"StartTime\": 1749053129.7615907, \"EndTime\": 1749053129.7615995, \"Dimensions\": {\"Algorithm\": \"Linear Learner\", \"Host\": \"algo-1\", \"Operation\": \"training\", \"epoch\": 14, \"model\": 5}, \"Metrics\": {\"train_mse_objective\": {\"sum\": 0.715158154296875, \"count\": 1, \"min\": 0.715158154296875, \"max\": 0.715158154296875}}}\u001b[0m\n",
      "\u001b[34m#metrics {\"StartTime\": 1749053129.76166, \"EndTime\": 1749053129.7616687, \"Dimensions\": {\"Algorithm\": \"Linear Learner\", \"Host\": \"algo-1\", \"Operation\": \"training\", \"epoch\": 14, \"model\": 6}, \"Metrics\": {\"train_mse_objective\": {\"sum\": 0.7151047729492187, \"count\": 1, \"min\": 0.7151047729492187, \"max\": 0.7151047729492187}}}\u001b[0m\n",
      "\u001b[34m#metrics {\"StartTime\": 1749053129.7616973, \"EndTime\": 1749053129.7617044, \"Dimensions\": {\"Algorithm\": \"Linear Learner\", \"Host\": \"algo-1\", \"Operation\": \"training\", \"epoch\": 14, \"model\": 7}, \"Metrics\": {\"train_mse_objective\": {\"sum\": 0.7152401245117187, \"count\": 1, \"min\": 0.7152401245117187, \"max\": 0.7152401245117187}}}\u001b[0m\n",
      "\u001b[34m#metrics {\"StartTime\": 1749053129.761733, \"EndTime\": 1749053129.7617412, \"Dimensions\": {\"Algorithm\": \"Linear Learner\", \"Host\": \"algo-1\", \"Operation\": \"training\", \"epoch\": 14, \"model\": 8}, \"Metrics\": {\"train_mse_objective\": {\"sum\": 0.72951953125, \"count\": 1, \"min\": 0.72951953125, \"max\": 0.72951953125}}}\u001b[0m\n",
      "\u001b[34m#metrics {\"StartTime\": 1749053129.7617695, \"EndTime\": 1749053129.7617776, \"Dimensions\": {\"Algorithm\": \"Linear Learner\", \"Host\": \"algo-1\", \"Operation\": \"training\", \"epoch\": 14, \"model\": 9}, \"Metrics\": {\"train_mse_objective\": {\"sum\": 0.7192683471679687, \"count\": 1, \"min\": 0.7192683471679687, \"max\": 0.7192683471679687}}}\u001b[0m\n",
      "\u001b[34m#metrics {\"StartTime\": 1749053129.7618353, \"EndTime\": 1749053129.7618444, \"Dimensions\": {\"Algorithm\": \"Linear Learner\", \"Host\": \"algo-1\", \"Operation\": \"training\", \"epoch\": 14, \"model\": 10}, \"Metrics\": {\"train_mse_objective\": {\"sum\": 0.7211417602539063, \"count\": 1, \"min\": 0.7211417602539063, \"max\": 0.7211417602539063}}}\u001b[0m\n",
      "\u001b[34m#metrics {\"StartTime\": 1749053129.7619047, \"EndTime\": 1749053129.7619143, \"Dimensions\": {\"Algorithm\": \"Linear Learner\", \"Host\": \"algo-1\", \"Operation\": \"training\", \"epoch\": 14, \"model\": 11}, \"Metrics\": {\"train_mse_objective\": {\"sum\": 0.7327439086914063, \"count\": 1, \"min\": 0.7327439086914063, \"max\": 0.7327439086914063}}}\u001b[0m\n",
      "\u001b[34m#metrics {\"StartTime\": 1749053129.7619536, \"EndTime\": 1749053129.7619624, \"Dimensions\": {\"Algorithm\": \"Linear Learner\", \"Host\": \"algo-1\", \"Operation\": \"training\", \"epoch\": 14, \"model\": 12}, \"Metrics\": {\"train_mse_objective\": {\"sum\": 0.7150989135742187, \"count\": 1, \"min\": 0.7150989135742187, \"max\": 0.7150989135742187}}}\u001b[0m\n",
      "\u001b[34m#metrics {\"StartTime\": 1749053129.7619915, \"EndTime\": 1749053129.7619996, \"Dimensions\": {\"Algorithm\": \"Linear Learner\", \"Host\": \"algo-1\", \"Operation\": \"training\", \"epoch\": 14, \"model\": 13}, \"Metrics\": {\"train_mse_objective\": {\"sum\": 0.7154099975585938, \"count\": 1, \"min\": 0.7154099975585938, \"max\": 0.7154099975585938}}}\u001b[0m\n",
      "\u001b[34m#metrics {\"StartTime\": 1749053129.762062, \"EndTime\": 1749053129.7620735, \"Dimensions\": {\"Algorithm\": \"Linear Learner\", \"Host\": \"algo-1\", \"Operation\": \"training\", \"epoch\": 14, \"model\": 14}, \"Metrics\": {\"train_mse_objective\": {\"sum\": 0.7147379272460938, \"count\": 1, \"min\": 0.7147379272460938, \"max\": 0.7147379272460938}}}\u001b[0m\n",
      "\u001b[34m#metrics {\"StartTime\": 1749053129.7621071, \"EndTime\": 1749053129.7621162, \"Dimensions\": {\"Algorithm\": \"Linear Learner\", \"Host\": \"algo-1\", \"Operation\": \"training\", \"epoch\": 14, \"model\": 15}, \"Metrics\": {\"train_mse_objective\": {\"sum\": 0.7151006103515625, \"count\": 1, \"min\": 0.7151006103515625, \"max\": 0.7151006103515625}}}\u001b[0m\n",
      "\u001b[34m#metrics {\"StartTime\": 1749053129.76219, \"EndTime\": 1749053129.7622023, \"Dimensions\": {\"Algorithm\": \"Linear Learner\", \"Host\": \"algo-1\", \"Operation\": \"training\", \"epoch\": 14, \"model\": 16}, \"Metrics\": {\"train_mse_objective\": {\"sum\": 0.7845603881835937, \"count\": 1, \"min\": 0.7845603881835937, \"max\": 0.7845603881835937}}}\u001b[0m\n",
      "\u001b[34m#metrics {\"StartTime\": 1749053129.762243, \"EndTime\": 1749053129.7622523, \"Dimensions\": {\"Algorithm\": \"Linear Learner\", \"Host\": \"algo-1\", \"Operation\": \"training\", \"epoch\": 14, \"model\": 17}, \"Metrics\": {\"train_mse_objective\": {\"sum\": 0.7839639526367187, \"count\": 1, \"min\": 0.7839639526367187, \"max\": 0.7839639526367187}}}\u001b[0m\n",
      "\u001b[34m#metrics {\"StartTime\": 1749053129.762308, \"EndTime\": 1749053129.7623184, \"Dimensions\": {\"Algorithm\": \"Linear Learner\", \"Host\": \"algo-1\", \"Operation\": \"training\", \"epoch\": 14, \"model\": 18}, \"Metrics\": {\"train_mse_objective\": {\"sum\": 0.7844328979492188, \"count\": 1, \"min\": 0.7844328979492188, \"max\": 0.7844328979492188}}}\u001b[0m\n",
      "\u001b[34m#metrics {\"StartTime\": 1749053129.762393, \"EndTime\": 1749053129.7624052, \"Dimensions\": {\"Algorithm\": \"Linear Learner\", \"Host\": \"algo-1\", \"Operation\": \"training\", \"epoch\": 14, \"model\": 19}, \"Metrics\": {\"train_mse_objective\": {\"sum\": 0.7870516723632812, \"count\": 1, \"min\": 0.7870516723632812, \"max\": 0.7870516723632812}}}\u001b[0m\n",
      "\u001b[34m#metrics {\"StartTime\": 1749053129.7624438, \"EndTime\": 1749053129.7624533, \"Dimensions\": {\"Algorithm\": \"Linear Learner\", \"Host\": \"algo-1\", \"Operation\": \"training\", \"epoch\": 14, \"model\": 20}, \"Metrics\": {\"train_mse_objective\": {\"sum\": 0.7846634887695313, \"count\": 1, \"min\": 0.7846634887695313, \"max\": 0.7846634887695313}}}\u001b[0m\n",
      "\u001b[34m#metrics {\"StartTime\": 1749053129.762519, \"EndTime\": 1749053129.7625291, \"Dimensions\": {\"Algorithm\": \"Linear Learner\", \"Host\": \"algo-1\", \"Operation\": \"training\", \"epoch\": 14, \"model\": 21}, \"Metrics\": {\"train_mse_objective\": {\"sum\": 0.7852347534179688, \"count\": 1, \"min\": 0.7852347534179688, \"max\": 0.7852347534179688}}}\u001b[0m\n",
      "\u001b[34m#metrics {\"StartTime\": 1749053129.7625995, \"EndTime\": 1749053129.7626114, \"Dimensions\": {\"Algorithm\": \"Linear Learner\", \"Host\": \"algo-1\", \"Operation\": \"training\", \"epoch\": 14, \"model\": 22}, \"Metrics\": {\"train_mse_objective\": {\"sum\": 0.7850337890625, \"count\": 1, \"min\": 0.7850337890625, \"max\": 0.7850337890625}}}\u001b[0m\n",
      "\u001b[34m#metrics {\"StartTime\": 1749053129.7626772, \"EndTime\": 1749053129.7626877, \"Dimensions\": {\"Algorithm\": \"Linear Learner\", \"Host\": \"algo-1\", \"Operation\": \"training\", \"epoch\": 14, \"model\": 23}, \"Metrics\": {\"train_mse_objective\": {\"sum\": 0.7848904541015626, \"count\": 1, \"min\": 0.7848904541015626, \"max\": 0.7848904541015626}}}\u001b[0m\n",
      "\u001b[34m#metrics {\"StartTime\": 1749053129.7627575, \"EndTime\": 1749053129.7627702, \"Dimensions\": {\"Algorithm\": \"Linear Learner\", \"Host\": \"algo-1\", \"Operation\": \"training\", \"epoch\": 14, \"model\": 24}, \"Metrics\": {\"train_mse_objective\": {\"sum\": 0.991884619140625, \"count\": 1, \"min\": 0.991884619140625, \"max\": 0.991884619140625}}}\u001b[0m\n",
      "\u001b[34m#metrics {\"StartTime\": 1749053129.762833, \"EndTime\": 1749053129.762844, \"Dimensions\": {\"Algorithm\": \"Linear Learner\", \"Host\": \"algo-1\", \"Operation\": \"training\", \"epoch\": 14, \"model\": 25}, \"Metrics\": {\"train_mse_objective\": {\"sum\": 0.99232294921875, \"count\": 1, \"min\": 0.99232294921875, \"max\": 0.99232294921875}}}\u001b[0m\n",
      "\u001b[34m#metrics {\"StartTime\": 1749053129.762878, \"EndTime\": 1749053129.762887, \"Dimensions\": {\"Algorithm\": \"Linear Learner\", \"Host\": \"algo-1\", \"Operation\": \"training\", \"epoch\": 14, \"model\": 26}, \"Metrics\": {\"train_mse_objective\": {\"sum\": 0.9915713500976563, \"count\": 1, \"min\": 0.9915713500976563, \"max\": 0.9915713500976563}}}\u001b[0m\n",
      "\u001b[34m#metrics {\"StartTime\": 1749053129.7629504, \"EndTime\": 1749053129.7629616, \"Dimensions\": {\"Algorithm\": \"Linear Learner\", \"Host\": \"algo-1\", \"Operation\": \"training\", \"epoch\": 14, \"model\": 27}, \"Metrics\": {\"train_mse_objective\": {\"sum\": 0.99247734375, \"count\": 1, \"min\": 0.99247734375, \"max\": 0.99247734375}}}\u001b[0m\n",
      "\u001b[34m#metrics {\"StartTime\": 1749053129.7630382, \"EndTime\": 1749053129.7630506, \"Dimensions\": {\"Algorithm\": \"Linear Learner\", \"Host\": \"algo-1\", \"Operation\": \"training\", \"epoch\": 14, \"model\": 28}, \"Metrics\": {\"train_mse_objective\": {\"sum\": 0.9939984619140625, \"count\": 1, \"min\": 0.9939984619140625, \"max\": 0.9939984619140625}}}\u001b[0m\n",
      "\u001b[34m#metrics {\"StartTime\": 1749053129.7631187, \"EndTime\": 1749053129.7631302, \"Dimensions\": {\"Algorithm\": \"Linear Learner\", \"Host\": \"algo-1\", \"Operation\": \"training\", \"epoch\": 14, \"model\": 29}, \"Metrics\": {\"train_mse_objective\": {\"sum\": 0.9926324462890626, \"count\": 1, \"min\": 0.9926324462890626, \"max\": 0.9926324462890626}}}\u001b[0m\n",
      "\u001b[34m#metrics {\"StartTime\": 1749053129.7631922, \"EndTime\": 1749053129.7632039, \"Dimensions\": {\"Algorithm\": \"Linear Learner\", \"Host\": \"algo-1\", \"Operation\": \"training\", \"epoch\": 14, \"model\": 30}, \"Metrics\": {\"train_mse_objective\": {\"sum\": 0.99264609375, \"count\": 1, \"min\": 0.99264609375, \"max\": 0.99264609375}}}\u001b[0m\n",
      "\u001b[34m#metrics {\"StartTime\": 1749053129.76324, \"EndTime\": 1749053129.763249, \"Dimensions\": {\"Algorithm\": \"Linear Learner\", \"Host\": \"algo-1\", \"Operation\": \"training\", \"epoch\": 14, \"model\": 31}, \"Metrics\": {\"train_mse_objective\": {\"sum\": 0.9923163940429688, \"count\": 1, \"min\": 0.9923163940429688, \"max\": 0.9923163940429688}}}\u001b[0m\n",
      "\u001b[34m[06/04/2025 16:05:29 INFO 140352932898624] #quality_metric: host=algo-1, epoch=14, train mse_objective <loss>=0.7292690307617188\u001b[0m\n",
      "\u001b[34m[06/04/2025 16:05:29 INFO 140352932898624] #early_stopping_criteria_metric: host=algo-1, epoch=14, criteria=mse_objective, value=0.7147379272460938\u001b[0m\n",
      "\u001b[34m[06/04/2025 16:05:29 INFO 140352932898624] Saving model for epoch: 14\u001b[0m\n",
      "\u001b[34m[06/04/2025 16:05:29 INFO 140352932898624] Saved checkpoint to \"/tmp/tmpm5fbx5bj/mx-mod-0000.params\"\u001b[0m\n",
      "\u001b[34m[06/04/2025 16:05:29 INFO 140352932898624] Early stop condition met. Stopping training.\u001b[0m\n",
      "\u001b[34m[06/04/2025 16:05:29 INFO 140352932898624] #progress_metric: host=algo-1, completed 100 % epochs\u001b[0m\n",
      "\u001b[34m#metrics {\"StartTime\": 1749053129.6950023, \"EndTime\": 1749053129.7685783, \"Dimensions\": {\"Algorithm\": \"Linear Learner\", \"Host\": \"algo-1\", \"Operation\": \"training\", \"epoch\": 14, \"Meta\": \"training_data_iter\"}, \"Metrics\": {\"Total Records Seen\": {\"sum\": 84152.0, \"count\": 1, \"min\": 84152, \"max\": 84152}, \"Total Batches Seen\": {\"sum\": 97.0, \"count\": 1, \"min\": 97, \"max\": 97}, \"Max Records Seen Between Resets\": {\"sum\": 5197.0, \"count\": 1, \"min\": 5197, \"max\": 5197}, \"Max Batches Seen Between Resets\": {\"sum\": 6.0, \"count\": 1, \"min\": 6, \"max\": 6}, \"Reset Count\": {\"sum\": 17.0, \"count\": 1, \"min\": 17, \"max\": 17}, \"Number of Records Since Last Reset\": {\"sum\": 5197.0, \"count\": 1, \"min\": 5197, \"max\": 5197}, \"Number of Batches Since Last Reset\": {\"sum\": 6.0, \"count\": 1, \"min\": 6, \"max\": 6}}}\u001b[0m\n",
      "\u001b[34m[06/04/2025 16:05:29 INFO 140352932898624] #throughput_metric: host=algo-1, train throughput=70534.58934690668 records/second\u001b[0m\n",
      "\u001b[34m[06/04/2025 16:05:29 WARNING 140352932898624] wait_for_all_workers will not sync workers since the kv store is not running distributed\u001b[0m\n",
      "\u001b[34m[06/04/2025 16:05:29 WARNING 140352932898624] wait_for_all_workers will not sync workers since the kv store is not running distributed\u001b[0m\n",
      "\u001b[34m[2025-06-04 16:05:29.772] [tensorio] [info] epoch_stats={\"data_pipeline\": \"/opt/ml/input/data/train\", \"epoch\": 34, \"duration\": 3, \"num_examples\": 1, \"num_bytes\": 88000}\u001b[0m\n",
      "\u001b[34m[2025-06-04 16:05:29.785] [tensorio] [info] epoch_stats={\"data_pipeline\": \"/opt/ml/input/data/train\", \"epoch\": 36, \"duration\": 11, \"num_examples\": 6, \"num_bytes\": 457336}\u001b[0m\n",
      "\u001b[34m[06/04/2025 16:05:29 INFO 140352932898624] #train_score (algo-1) : ('mse_objective', 0.5504523242967322)\u001b[0m\n",
      "\u001b[34m[06/04/2025 16:05:29 INFO 140352932898624] #train_score (algo-1) : ('mse', 0.5504523242967322)\u001b[0m\n",
      "\u001b[34m[06/04/2025 16:05:29 INFO 140352932898624] #train_score (algo-1) : ('absolute_loss', 0.5730426752363142)\u001b[0m\n",
      "\u001b[34m[06/04/2025 16:05:29 INFO 140352932898624] #train_score (algo-1) : ('rmse', 0.7419247430142306)\u001b[0m\n",
      "\u001b[34m[06/04/2025 16:05:29 INFO 140352932898624] #train_score (algo-1) : ('r2', 0.2847215970195003)\u001b[0m\n",
      "\u001b[34m[06/04/2025 16:05:29 INFO 140352932898624] #train_score (algo-1) : ('mae', 0.5730426620239704)\u001b[0m\n",
      "\u001b[34m[06/04/2025 16:05:29 INFO 140352932898624] #quality_metric: host=algo-1, train mse_objective <loss>=0.5504523242967322\u001b[0m\n",
      "\u001b[34m[06/04/2025 16:05:29 INFO 140352932898624] #quality_metric: host=algo-1, train mse <loss>=0.5504523242967322\u001b[0m\n",
      "\u001b[34m[06/04/2025 16:05:29 INFO 140352932898624] #quality_metric: host=algo-1, train absolute_loss <loss>=0.5730426752363142\u001b[0m\n",
      "\u001b[34m[06/04/2025 16:05:29 INFO 140352932898624] #quality_metric: host=algo-1, train rmse <loss>=0.7419247430142306\u001b[0m\n",
      "\u001b[34m[06/04/2025 16:05:29 INFO 140352932898624] #quality_metric: host=algo-1, train r2 <loss>=0.2847215970195003\u001b[0m\n",
      "\u001b[34m[06/04/2025 16:05:29 INFO 140352932898624] #quality_metric: host=algo-1, train mae <loss>=0.5730426620239704\u001b[0m\n",
      "\u001b[34m[06/04/2025 16:05:29 INFO 140352932898624] Best model found for hyperparameters: {\"optimizer\": \"adam\", \"learning_rate\": 0.1, \"wd\": 0.01, \"l1\": 0.0, \"lr_scheduler_step\": 10, \"lr_scheduler_factor\": 0.99, \"lr_scheduler_minimum_lr\": 0.0001}\u001b[0m\n",
      "\u001b[34m[06/04/2025 16:05:29 INFO 140352932898624] Saved checkpoint to \"/tmp/tmpktmlxfcs/mx-mod-0000.params\"\u001b[0m\n",
      "\u001b[34m[06/04/2025 16:05:29 INFO 140352932898624] Test data is not provided.\u001b[0m\n",
      "\u001b[34m#metrics {\"StartTime\": 1749053128.4510427, \"EndTime\": 1749053129.7906046, \"Dimensions\": {\"Algorithm\": \"Linear Learner\", \"Host\": \"algo-1\", \"Operation\": \"training\"}, \"Metrics\": {\"initialize.time\": {\"sum\": 130.93137741088867, \"count\": 1, \"min\": 130.93137741088867, \"max\": 130.93137741088867}, \"epochs\": {\"sum\": 15.0, \"count\": 1, \"min\": 15, \"max\": 15}, \"check_early_stopping.time\": {\"sum\": 8.547782897949219, \"count\": 15, \"min\": 0.13303756713867188, \"max\": 0.9920597076416016}, \"update.time\": {\"sum\": 1151.641607284546, \"count\": 15, \"min\": 64.5751953125, \"max\": 111.62519454956055}, \"finalize.time\": {\"sum\": 17.903804779052734, \"count\": 1, \"min\": 17.903804779052734, \"max\": 17.903804779052734}, \"setuptime\": {\"sum\": 1.9538402557373047, \"count\": 1, \"min\": 1.9538402557373047, \"max\": 1.9538402557373047}, \"totaltime\": {\"sum\": 1441.2024021148682, \"count\": 1, \"min\": 1441.2024021148682, \"max\": 1441.2024021148682}}}\u001b[0m\n",
      "\n",
      "2025-06-04 16:05:44 Uploading - Uploading generated training model\n",
      "2025-06-04 16:05:44 Completed - Training job completed\n",
      "Training seconds: 136\n",
      "Billable seconds: 136\n"
     ]
    }
   ],
   "source": [
    "linear = LinearLearner(\n",
    "    role=role,\n",
    "    instance_count=1,\n",
    "    instance_type='ml.m5.xlarge',\n",
    "    predictor_type='regressor',\n",
    "    output_path=output_path)\n",
    "\n",
    "record_set = linear.record_set(X_train_np, labels=y_train_np)\n",
    "linear.fit(record_set)"
   ]
  },
  {
   "cell_type": "markdown",
   "metadata": {},
   "source": [
    "## Deploy model"
   ]
  },
  {
   "cell_type": "code",
   "execution_count": 7,
   "metadata": {},
   "outputs": [
    {
     "data": {
      "text/html": [
       "<pre style=\"white-space:pre;overflow-x:auto;line-height:normal;font-family:Menlo,'DejaVu Sans Mono',consolas,'Courier New',monospace\"><span style=\"color: #7fbfbf; text-decoration-color: #7fbfbf\">[06/04/25 16:06:04] </span><span style=\"color: #0069ff; text-decoration-color: #0069ff; font-weight: bold\">INFO    </span> Same images used for training and inference. Defaulting to image     <a href=\"file:///home/ec2-user/anaconda3/envs/python3/lib/python3.10/site-packages/sagemaker/image_uris.py\" target=\"_blank\"><span style=\"color: #7f7f7f; text-decoration-color: #7f7f7f\">image_uris.py</span></a><span style=\"color: #7f7f7f; text-decoration-color: #7f7f7f\">:</span><a href=\"file:///home/ec2-user/anaconda3/envs/python3/lib/python3.10/site-packages/sagemaker/image_uris.py#393\" target=\"_blank\"><span style=\"color: #7f7f7f; text-decoration-color: #7f7f7f\">393</span></a>\n",
       "<span style=\"color: #7fbfbf; text-decoration-color: #7fbfbf\">                    </span>         scope: inference.                                                    <span style=\"color: #7f7f7f; text-decoration-color: #7f7f7f\">                 </span>\n",
       "</pre>\n"
      ],
      "text/plain": [
       "\u001b[2;36m[06/04/25 16:06:04]\u001b[0m\u001b[2;36m \u001b[0m\u001b[1;38;2;0;105;255mINFO    \u001b[0m Same images used for training and inference. Defaulting to image     \u001b]8;id=166859;file:///home/ec2-user/anaconda3/envs/python3/lib/python3.10/site-packages/sagemaker/image_uris.py\u001b\\\u001b[2mimage_uris.py\u001b[0m\u001b]8;;\u001b\\\u001b[2m:\u001b[0m\u001b]8;id=153793;file:///home/ec2-user/anaconda3/envs/python3/lib/python3.10/site-packages/sagemaker/image_uris.py#393\u001b\\\u001b[2m393\u001b[0m\u001b]8;;\u001b\\\n",
       "\u001b[2;36m                    \u001b[0m         scope: inference.                                                    \u001b[2m                 \u001b[0m\n"
      ]
     },
     "metadata": {},
     "output_type": "display_data"
    },
    {
     "data": {
      "text/html": [
       "<pre style=\"white-space:pre;overflow-x:auto;line-height:normal;font-family:Menlo,'DejaVu Sans Mono',consolas,'Courier New',monospace\"><span style=\"color: #7fbfbf; text-decoration-color: #7fbfbf\">                    </span><span style=\"color: #0069ff; text-decoration-color: #0069ff; font-weight: bold\">INFO    </span> Ignoring unnecessary instance type: <span style=\"color: #e100e1; text-decoration-color: #e100e1; font-style: italic\">None</span>.                            <a href=\"file:///home/ec2-user/anaconda3/envs/python3/lib/python3.10/site-packages/sagemaker/image_uris.py\" target=\"_blank\"><span style=\"color: #7f7f7f; text-decoration-color: #7f7f7f\">image_uris.py</span></a><span style=\"color: #7f7f7f; text-decoration-color: #7f7f7f\">:</span><a href=\"file:///home/ec2-user/anaconda3/envs/python3/lib/python3.10/site-packages/sagemaker/image_uris.py#530\" target=\"_blank\"><span style=\"color: #7f7f7f; text-decoration-color: #7f7f7f\">530</span></a>\n",
       "</pre>\n"
      ],
      "text/plain": [
       "\u001b[2;36m                   \u001b[0m\u001b[2;36m \u001b[0m\u001b[1;38;2;0;105;255mINFO    \u001b[0m Ignoring unnecessary instance type: \u001b[3;38;2;225;0;225mNone\u001b[0m.                            \u001b]8;id=908487;file:///home/ec2-user/anaconda3/envs/python3/lib/python3.10/site-packages/sagemaker/image_uris.py\u001b\\\u001b[2mimage_uris.py\u001b[0m\u001b]8;;\u001b\\\u001b[2m:\u001b[0m\u001b]8;id=22565;file:///home/ec2-user/anaconda3/envs/python3/lib/python3.10/site-packages/sagemaker/image_uris.py#530\u001b\\\u001b[2m530\u001b[0m\u001b]8;;\u001b\\\n"
      ]
     },
     "metadata": {},
     "output_type": "display_data"
    },
    {
     "data": {
      "text/html": [
       "<pre style=\"white-space:pre;overflow-x:auto;line-height:normal;font-family:Menlo,'DejaVu Sans Mono',consolas,'Courier New',monospace\"><span style=\"color: #7fbfbf; text-decoration-color: #7fbfbf\">                    </span><span style=\"color: #0069ff; text-decoration-color: #0069ff; font-weight: bold\">INFO    </span> Creating model with name: linear-learner-<span style=\"color: #008080; text-decoration-color: #008080; font-weight: bold\">2025</span>-06-04-16-06-04-786       <a href=\"file:///home/ec2-user/anaconda3/envs/python3/lib/python3.10/site-packages/sagemaker/session.py\" target=\"_blank\"><span style=\"color: #7f7f7f; text-decoration-color: #7f7f7f\">session.py</span></a><span style=\"color: #7f7f7f; text-decoration-color: #7f7f7f\">:</span><a href=\"file:///home/ec2-user/anaconda3/envs/python3/lib/python3.10/site-packages/sagemaker/session.py#4094\" target=\"_blank\"><span style=\"color: #7f7f7f; text-decoration-color: #7f7f7f\">4094</span></a>\n",
       "</pre>\n"
      ],
      "text/plain": [
       "\u001b[2;36m                   \u001b[0m\u001b[2;36m \u001b[0m\u001b[1;38;2;0;105;255mINFO    \u001b[0m Creating model with name: linear-learner-\u001b[1;36m2025\u001b[0m-06-04-16-06-04-786       \u001b]8;id=986759;file:///home/ec2-user/anaconda3/envs/python3/lib/python3.10/site-packages/sagemaker/session.py\u001b\\\u001b[2msession.py\u001b[0m\u001b]8;;\u001b\\\u001b[2m:\u001b[0m\u001b]8;id=369022;file:///home/ec2-user/anaconda3/envs/python3/lib/python3.10/site-packages/sagemaker/session.py#4094\u001b\\\u001b[2m4094\u001b[0m\u001b]8;;\u001b\\\n"
      ]
     },
     "metadata": {},
     "output_type": "display_data"
    },
    {
     "data": {
      "text/html": [
       "<pre style=\"white-space:pre;overflow-x:auto;line-height:normal;font-family:Menlo,'DejaVu Sans Mono',consolas,'Courier New',monospace\"><span style=\"color: #7fbfbf; text-decoration-color: #7fbfbf\">[06/04/25 16:06:05] </span><span style=\"color: #0069ff; text-decoration-color: #0069ff; font-weight: bold\">INFO    </span> Creating endpoint-config with name                                     <a href=\"file:///home/ec2-user/anaconda3/envs/python3/lib/python3.10/site-packages/sagemaker/session.py\" target=\"_blank\"><span style=\"color: #7f7f7f; text-decoration-color: #7f7f7f\">session.py</span></a><span style=\"color: #7f7f7f; text-decoration-color: #7f7f7f\">:</span><a href=\"file:///home/ec2-user/anaconda3/envs/python3/lib/python3.10/site-packages/sagemaker/session.py#6019\" target=\"_blank\"><span style=\"color: #7f7f7f; text-decoration-color: #7f7f7f\">6019</span></a>\n",
       "<span style=\"color: #7fbfbf; text-decoration-color: #7fbfbf\">                    </span>         linear-learner-<span style=\"color: #008080; text-decoration-color: #008080; font-weight: bold\">2025</span>-06-04-16-06-04-786                                 <span style=\"color: #7f7f7f; text-decoration-color: #7f7f7f\">               </span>\n",
       "</pre>\n"
      ],
      "text/plain": [
       "\u001b[2;36m[06/04/25 16:06:05]\u001b[0m\u001b[2;36m \u001b[0m\u001b[1;38;2;0;105;255mINFO    \u001b[0m Creating endpoint-config with name                                     \u001b]8;id=124265;file:///home/ec2-user/anaconda3/envs/python3/lib/python3.10/site-packages/sagemaker/session.py\u001b\\\u001b[2msession.py\u001b[0m\u001b]8;;\u001b\\\u001b[2m:\u001b[0m\u001b]8;id=571840;file:///home/ec2-user/anaconda3/envs/python3/lib/python3.10/site-packages/sagemaker/session.py#6019\u001b\\\u001b[2m6019\u001b[0m\u001b]8;;\u001b\\\n",
       "\u001b[2;36m                    \u001b[0m         linear-learner-\u001b[1;36m2025\u001b[0m-06-04-16-06-04-786                                 \u001b[2m               \u001b[0m\n"
      ]
     },
     "metadata": {},
     "output_type": "display_data"
    },
    {
     "data": {
      "text/html": [
       "<pre style=\"white-space:pre;overflow-x:auto;line-height:normal;font-family:Menlo,'DejaVu Sans Mono',consolas,'Courier New',monospace\"><span style=\"color: #7fbfbf; text-decoration-color: #7fbfbf\">                    </span><span style=\"color: #0069ff; text-decoration-color: #0069ff; font-weight: bold\">INFO    </span> Creating endpoint with name linear-learner-<span style=\"color: #008080; text-decoration-color: #008080; font-weight: bold\">2025</span>-06-04-16-06-04-786     <a href=\"file:///home/ec2-user/anaconda3/envs/python3/lib/python3.10/site-packages/sagemaker/session.py\" target=\"_blank\"><span style=\"color: #7f7f7f; text-decoration-color: #7f7f7f\">session.py</span></a><span style=\"color: #7f7f7f; text-decoration-color: #7f7f7f\">:</span><a href=\"file:///home/ec2-user/anaconda3/envs/python3/lib/python3.10/site-packages/sagemaker/session.py#4841\" target=\"_blank\"><span style=\"color: #7f7f7f; text-decoration-color: #7f7f7f\">4841</span></a>\n",
       "</pre>\n"
      ],
      "text/plain": [
       "\u001b[2;36m                   \u001b[0m\u001b[2;36m \u001b[0m\u001b[1;38;2;0;105;255mINFO    \u001b[0m Creating endpoint with name linear-learner-\u001b[1;36m2025\u001b[0m-06-04-16-06-04-786     \u001b]8;id=568014;file:///home/ec2-user/anaconda3/envs/python3/lib/python3.10/site-packages/sagemaker/session.py\u001b\\\u001b[2msession.py\u001b[0m\u001b]8;;\u001b\\\u001b[2m:\u001b[0m\u001b]8;id=943286;file:///home/ec2-user/anaconda3/envs/python3/lib/python3.10/site-packages/sagemaker/session.py#4841\u001b\\\u001b[2m4841\u001b[0m\u001b]8;;\u001b\\\n"
      ]
     },
     "metadata": {},
     "output_type": "display_data"
    },
    {
     "name": "stdout",
     "output_type": "stream",
     "text": [
      "-------!"
     ]
    }
   ],
   "source": [
    "predictor = linear.deploy(instance_type='ml.m5.xlarge', \n",
    "                          initial_instance_count=1, \n",
    "                          serializer = CSVSerializer())"
   ]
  },
  {
   "cell_type": "markdown",
   "metadata": {},
   "source": [
    "## Run prediction"
   ]
  },
  {
   "cell_type": "code",
   "execution_count": 8,
   "metadata": {},
   "outputs": [
    {
     "name": "stdout",
     "output_type": "stream",
     "text": [
      "Predicted wine quality: 5.0\n"
     ]
    }
   ],
   "source": [
    "# Attach deserializer\n",
    "predictor.serializer = CSVSerializer()\n",
    "predictor.deserializer = JSONDeserializer()\n",
    "\n",
    "# (CSV-formatted string or 2D array)\n",
    "QUALITY_CHECK = [5, 1.02, 0.04, 1.4, 0.045, 41, 85, 0.9938, 3.75, 0.48, 10.5]\n",
    "result = predictor.predict(QUALITY_CHECK)\n",
    "\n",
    "# Display\n",
    "predicted_quality = round(result['predictions'][0]['score'], 1)\n",
    "print(f\"Predicted wine quality: {predicted_quality}\")"
   ]
  },
  {
   "cell_type": "markdown",
   "metadata": {},
   "source": [
    "# Run multiple(switch cell back to code)\n",
    "batch_input = [[5, 1.02, 0.04, 1.4, 0.045, 41, 85, 0.9938, 3.75, 0.48, 10.5],\n",
    "               [8.5, 0.26, 0.21, 16.2, 0.074, 41, 197, 0.998, 3.02, 0.5, 9.8],\n",
    "               [6.9, 0.36, 0.34, 4.2, 0.018, 57, 119, 0.9898, 3.28, 0.36, 12.7]]\n",
    "result = predictor.predict(batch_input)\n",
    "\n",
    "# Extract and round scores\n",
    "for i, record in enumerate(result['predictions']):\n",
    "    score = round(record['score'], 1)\n",
    "    print(f\"Predicted wine quality for sample {i+1}: {score}\")"
   ]
  },
  {
   "cell_type": "markdown",
   "metadata": {},
   "source": [
    "## Clean up"
   ]
  },
  {
   "cell_type": "code",
   "execution_count": 9,
   "metadata": {},
   "outputs": [
    {
     "data": {
      "text/html": [
       "<pre style=\"white-space:pre;overflow-x:auto;line-height:normal;font-family:Menlo,'DejaVu Sans Mono',consolas,'Courier New',monospace\"><span style=\"color: #7fbfbf; text-decoration-color: #7fbfbf\">[06/04/25 16:10:07] </span><span style=\"color: #0069ff; text-decoration-color: #0069ff; font-weight: bold\">INFO    </span> Deleting endpoint with name: linear-learner-<span style=\"color: #008080; text-decoration-color: #008080; font-weight: bold\">2025</span>-05-30-22-12-19-871    <a href=\"file:///home/ec2-user/anaconda3/envs/python3/lib/python3.10/site-packages/sagemaker/session.py\" target=\"_blank\"><span style=\"color: #7f7f7f; text-decoration-color: #7f7f7f\">session.py</span></a><span style=\"color: #7f7f7f; text-decoration-color: #7f7f7f\">:</span><a href=\"file:///home/ec2-user/anaconda3/envs/python3/lib/python3.10/site-packages/sagemaker/session.py#4985\" target=\"_blank\"><span style=\"color: #7f7f7f; text-decoration-color: #7f7f7f\">4985</span></a>\n",
       "</pre>\n"
      ],
      "text/plain": [
       "\u001b[2;36m[06/04/25 16:10:07]\u001b[0m\u001b[2;36m \u001b[0m\u001b[1;38;2;0;105;255mINFO    \u001b[0m Deleting endpoint with name: linear-learner-\u001b[1;36m2025\u001b[0m-05-30-22-12-19-871    \u001b]8;id=705790;file:///home/ec2-user/anaconda3/envs/python3/lib/python3.10/site-packages/sagemaker/session.py\u001b\\\u001b[2msession.py\u001b[0m\u001b]8;;\u001b\\\u001b[2m:\u001b[0m\u001b]8;id=947656;file:///home/ec2-user/anaconda3/envs/python3/lib/python3.10/site-packages/sagemaker/session.py#4985\u001b\\\u001b[2m4985\u001b[0m\u001b]8;;\u001b\\\n"
      ]
     },
     "metadata": {},
     "output_type": "display_data"
    },
    {
     "data": {
      "text/html": [
       "<pre style=\"white-space:pre;overflow-x:auto;line-height:normal;font-family:Menlo,'DejaVu Sans Mono',consolas,'Courier New',monospace\"><span style=\"color: #ff0000; text-decoration-color: #ff0000\">╭─────────────────────────────── </span><span style=\"color: #ff0000; text-decoration-color: #ff0000; font-weight: bold\">Traceback </span><span style=\"color: #ff7f7f; text-decoration-color: #ff7f7f; font-weight: bold\">(most recent call last)</span><span style=\"color: #ff0000; text-decoration-color: #ff0000\"> ────────────────────────────────╮</span>\n",
       "<span style=\"color: #ff0000; text-decoration-color: #ff0000\">│</span> in <span style=\"color: #00ff00; text-decoration-color: #00ff00\">&lt;module&gt;</span>:<span style=\"color: #0000ff; text-decoration-color: #0000ff\">2</span>                                                                                    <span style=\"color: #ff0000; text-decoration-color: #ff0000\">│</span>\n",
       "<span style=\"color: #ff0000; text-decoration-color: #ff0000\">│</span>                                                                                                  <span style=\"color: #ff0000; text-decoration-color: #ff0000\">│</span>\n",
       "<span style=\"color: #ff0000; text-decoration-color: #ff0000\">│</span>   <span style=\"color: #7f7f7f; text-decoration-color: #7f7f7f\">1 # Delete endpoint</span>                                                                            <span style=\"color: #ff0000; text-decoration-color: #ff0000\">│</span>\n",
       "<span style=\"color: #ff0000; text-decoration-color: #ff0000\">│</span> <span style=\"color: #800000; text-decoration-color: #800000\">❱ </span>2 Session().delete_endpoint(<span style=\"color: #808000; text-decoration-color: #808000\">'linear-learner-2025-05-30-22-12-19-871'</span>)                          <span style=\"color: #ff0000; text-decoration-color: #ff0000\">│</span>\n",
       "<span style=\"color: #ff0000; text-decoration-color: #ff0000\">│</span>   <span style=\"color: #7f7f7f; text-decoration-color: #7f7f7f\">3 </span>                                                                                             <span style=\"color: #ff0000; text-decoration-color: #ff0000\">│</span>\n",
       "<span style=\"color: #ff0000; text-decoration-color: #ff0000\">│</span>                                                                                                  <span style=\"color: #ff0000; text-decoration-color: #ff0000\">│</span>\n",
       "<span style=\"color: #ff0000; text-decoration-color: #ff0000\">│</span> <span style=\"color: #bfbf7f; text-decoration-color: #bfbf7f\">/home/ec2-user/anaconda3/envs/python3/lib/python3.10/site-packages/sagemaker/</span><span style=\"color: #808000; text-decoration-color: #808000; font-weight: bold\">session.py</span>:<span style=\"color: #0000ff; text-decoration-color: #0000ff\">4986</span> in  <span style=\"color: #ff0000; text-decoration-color: #ff0000\">│</span>\n",
       "<span style=\"color: #ff0000; text-decoration-color: #ff0000\">│</span> <span style=\"color: #00ff00; text-decoration-color: #00ff00\">delete_endpoint</span>                                                                                  <span style=\"color: #ff0000; text-decoration-color: #ff0000\">│</span>\n",
       "<span style=\"color: #ff0000; text-decoration-color: #ff0000\">│</span>                                                                                                  <span style=\"color: #ff0000; text-decoration-color: #ff0000\">│</span>\n",
       "<span style=\"color: #ff0000; text-decoration-color: #ff0000\">│</span>   <span style=\"color: #7f7f7f; text-decoration-color: #7f7f7f\">4983 </span><span style=\"color: #bfbf7f; text-decoration-color: #bfbf7f\">│   │   │   </span><span style=\"color: #808000; text-decoration-color: #808000\">endpoint_name (str): Name of the Amazon SageMaker ``Endpoint`` to delete.</span>     <span style=\"color: #ff0000; text-decoration-color: #ff0000\">│</span>\n",
       "<span style=\"color: #ff0000; text-decoration-color: #ff0000\">│</span>   <span style=\"color: #7f7f7f; text-decoration-color: #7f7f7f\">4984 </span><span style=\"color: #bfbf7f; text-decoration-color: #bfbf7f\">│   │   </span><span style=\"color: #808000; text-decoration-color: #808000\">\"\"\"</span>                                                                               <span style=\"color: #ff0000; text-decoration-color: #ff0000\">│</span>\n",
       "<span style=\"color: #ff0000; text-decoration-color: #ff0000\">│</span>   <span style=\"color: #7f7f7f; text-decoration-color: #7f7f7f\">4985 </span><span style=\"color: #7f7f7f; text-decoration-color: #7f7f7f\">│   │   </span>logger.info(<span style=\"color: #808000; text-decoration-color: #808000\">\"Deleting endpoint with name: %s\"</span>, endpoint_name)                     <span style=\"color: #ff0000; text-decoration-color: #ff0000\">│</span>\n",
       "<span style=\"color: #ff0000; text-decoration-color: #ff0000\">│</span> <span style=\"color: #800000; text-decoration-color: #800000\">❱ </span>4986 <span style=\"color: #7f7f7f; text-decoration-color: #7f7f7f\">│   │   </span><span style=\"color: #00ffff; text-decoration-color: #00ffff\">self</span>.sagemaker_client.delete_endpoint(EndpointName=endpoint_name)                 <span style=\"color: #ff0000; text-decoration-color: #ff0000\">│</span>\n",
       "<span style=\"color: #ff0000; text-decoration-color: #ff0000\">│</span>   <span style=\"color: #7f7f7f; text-decoration-color: #7f7f7f\">4987 </span><span style=\"color: #7f7f7f; text-decoration-color: #7f7f7f\">│   </span>                                                                                      <span style=\"color: #ff0000; text-decoration-color: #ff0000\">│</span>\n",
       "<span style=\"color: #ff0000; text-decoration-color: #ff0000\">│</span>   <span style=\"color: #7f7f7f; text-decoration-color: #7f7f7f\">4988 </span><span style=\"color: #7f7f7f; text-decoration-color: #7f7f7f\">│   </span><span style=\"color: #0000ff; text-decoration-color: #0000ff\">def</span><span style=\"color: #808080; text-decoration-color: #808080\"> </span><span style=\"color: #00ff00; text-decoration-color: #00ff00\">delete_endpoint_config</span>(<span style=\"color: #00ffff; text-decoration-color: #00ffff\">self</span>, endpoint_config_name):                               <span style=\"color: #ff0000; text-decoration-color: #ff0000\">│</span>\n",
       "<span style=\"color: #ff0000; text-decoration-color: #ff0000\">│</span>   <span style=\"color: #7f7f7f; text-decoration-color: #7f7f7f\">4989 </span><span style=\"color: #bfbfbf; text-decoration-color: #bfbfbf\">│   │   </span><span style=\"color: #808000; text-decoration-color: #808000\">\"\"\"Delete an Amazon SageMaker endpoint configuration.</span>                             <span style=\"color: #ff0000; text-decoration-color: #ff0000\">│</span>\n",
       "<span style=\"color: #ff0000; text-decoration-color: #ff0000\">│</span>                                                                                                  <span style=\"color: #ff0000; text-decoration-color: #ff0000\">│</span>\n",
       "<span style=\"color: #ff0000; text-decoration-color: #ff0000\">│</span> <span style=\"color: #bfbf7f; text-decoration-color: #bfbf7f\">/home/ec2-user/anaconda3/envs/python3/lib/python3.10/site-packages/botocore/</span><span style=\"color: #808000; text-decoration-color: #808000; font-weight: bold\">client.py</span>:<span style=\"color: #0000ff; text-decoration-color: #0000ff\">570</span> in     <span style=\"color: #ff0000; text-decoration-color: #ff0000\">│</span>\n",
       "<span style=\"color: #ff0000; text-decoration-color: #ff0000\">│</span> <span style=\"color: #00ff00; text-decoration-color: #00ff00\">_api_call</span>                                                                                        <span style=\"color: #ff0000; text-decoration-color: #ff0000\">│</span>\n",
       "<span style=\"color: #ff0000; text-decoration-color: #ff0000\">│</span>                                                                                                  <span style=\"color: #ff0000; text-decoration-color: #ff0000\">│</span>\n",
       "<span style=\"color: #ff0000; text-decoration-color: #ff0000\">│</span>   <span style=\"color: #7f7f7f; text-decoration-color: #7f7f7f\"> 567 </span><span style=\"color: #7f7f7f; text-decoration-color: #7f7f7f\">│   │   │   │   │   </span><span style=\"color: #808000; text-decoration-color: #808000\">f\"{</span>py_operation_name<span style=\"color: #808000; text-decoration-color: #808000\">}() only accepts keyword arguments.\"</span>              <span style=\"color: #ff0000; text-decoration-color: #ff0000\">│</span>\n",
       "<span style=\"color: #ff0000; text-decoration-color: #ff0000\">│</span>   <span style=\"color: #7f7f7f; text-decoration-color: #7f7f7f\"> 568 </span><span style=\"color: #7f7f7f; text-decoration-color: #7f7f7f\">│   │   │   │   </span>)                                                                         <span style=\"color: #ff0000; text-decoration-color: #ff0000\">│</span>\n",
       "<span style=\"color: #ff0000; text-decoration-color: #ff0000\">│</span>   <span style=\"color: #7f7f7f; text-decoration-color: #7f7f7f\"> 569 </span><span style=\"color: #7f7f7f; text-decoration-color: #7f7f7f\">│   │   │   </span><span style=\"color: #7f7f7f; text-decoration-color: #7f7f7f\"># The \"self\" in this scope is referring to the BaseClient.</span>                    <span style=\"color: #ff0000; text-decoration-color: #ff0000\">│</span>\n",
       "<span style=\"color: #ff0000; text-decoration-color: #ff0000\">│</span> <span style=\"color: #800000; text-decoration-color: #800000\">❱ </span> 570 <span style=\"color: #7f7f7f; text-decoration-color: #7f7f7f\">│   │   │   </span><span style=\"color: #0000ff; text-decoration-color: #0000ff\">return</span> <span style=\"color: #00ffff; text-decoration-color: #00ffff\">self</span>._make_api_call(operation_name, kwargs)                            <span style=\"color: #ff0000; text-decoration-color: #ff0000\">│</span>\n",
       "<span style=\"color: #ff0000; text-decoration-color: #ff0000\">│</span>   <span style=\"color: #7f7f7f; text-decoration-color: #7f7f7f\"> 571 </span><span style=\"color: #7f7f7f; text-decoration-color: #7f7f7f\">│   │   </span>                                                                                  <span style=\"color: #ff0000; text-decoration-color: #ff0000\">│</span>\n",
       "<span style=\"color: #ff0000; text-decoration-color: #ff0000\">│</span>   <span style=\"color: #7f7f7f; text-decoration-color: #7f7f7f\"> 572 </span><span style=\"color: #7f7f7f; text-decoration-color: #7f7f7f\">│   │   </span>_api_call.<span style=\"color: #ff0000; text-decoration-color: #ff0000\">__name__</span> = <span style=\"color: #00ffff; text-decoration-color: #00ffff\">str</span>(py_operation_name)                                       <span style=\"color: #ff0000; text-decoration-color: #ff0000\">│</span>\n",
       "<span style=\"color: #ff0000; text-decoration-color: #ff0000\">│</span>   <span style=\"color: #7f7f7f; text-decoration-color: #7f7f7f\"> 573 </span>                                                                                          <span style=\"color: #ff0000; text-decoration-color: #ff0000\">│</span>\n",
       "<span style=\"color: #ff0000; text-decoration-color: #ff0000\">│</span>                                                                                                  <span style=\"color: #ff0000; text-decoration-color: #ff0000\">│</span>\n",
       "<span style=\"color: #ff0000; text-decoration-color: #ff0000\">│</span> <span style=\"color: #bfbf7f; text-decoration-color: #bfbf7f\">/home/ec2-user/anaconda3/envs/python3/lib/python3.10/site-packages/botocore/</span><span style=\"color: #808000; text-decoration-color: #808000; font-weight: bold\">context.py</span>:<span style=\"color: #0000ff; text-decoration-color: #0000ff\">123</span> in    <span style=\"color: #ff0000; text-decoration-color: #ff0000\">│</span>\n",
       "<span style=\"color: #ff0000; text-decoration-color: #ff0000\">│</span> <span style=\"color: #00ff00; text-decoration-color: #00ff00\">wrapper</span>                                                                                          <span style=\"color: #ff0000; text-decoration-color: #ff0000\">│</span>\n",
       "<span style=\"color: #ff0000; text-decoration-color: #ff0000\">│</span>                                                                                                  <span style=\"color: #ff0000; text-decoration-color: #ff0000\">│</span>\n",
       "<span style=\"color: #ff0000; text-decoration-color: #ff0000\">│</span>   <span style=\"color: #7f7f7f; text-decoration-color: #7f7f7f\">120 </span><span style=\"color: #7f7f7f; text-decoration-color: #7f7f7f\">│   │   │   </span><span style=\"color: #0000ff; text-decoration-color: #0000ff\">with</span> start_as_current_context():                                               <span style=\"color: #ff0000; text-decoration-color: #ff0000\">│</span>\n",
       "<span style=\"color: #ff0000; text-decoration-color: #ff0000\">│</span>   <span style=\"color: #7f7f7f; text-decoration-color: #7f7f7f\">121 </span><span style=\"color: #7f7f7f; text-decoration-color: #7f7f7f\">│   │   │   │   </span><span style=\"color: #0000ff; text-decoration-color: #0000ff\">if</span> hook:                                                                   <span style=\"color: #ff0000; text-decoration-color: #ff0000\">│</span>\n",
       "<span style=\"color: #ff0000; text-decoration-color: #ff0000\">│</span>   <span style=\"color: #7f7f7f; text-decoration-color: #7f7f7f\">122 </span><span style=\"color: #7f7f7f; text-decoration-color: #7f7f7f\">│   │   │   │   │   </span>hook()                                                                 <span style=\"color: #ff0000; text-decoration-color: #ff0000\">│</span>\n",
       "<span style=\"color: #ff0000; text-decoration-color: #ff0000\">│</span> <span style=\"color: #800000; text-decoration-color: #800000\">❱ </span>123 <span style=\"color: #7f7f7f; text-decoration-color: #7f7f7f\">│   │   │   │   </span><span style=\"color: #0000ff; text-decoration-color: #0000ff\">return</span> func(*args, **kwargs)                                               <span style=\"color: #ff0000; text-decoration-color: #ff0000\">│</span>\n",
       "<span style=\"color: #ff0000; text-decoration-color: #ff0000\">│</span>   <span style=\"color: #7f7f7f; text-decoration-color: #7f7f7f\">124 </span><span style=\"color: #7f7f7f; text-decoration-color: #7f7f7f\">│   │   </span>                                                                                   <span style=\"color: #ff0000; text-decoration-color: #ff0000\">│</span>\n",
       "<span style=\"color: #ff0000; text-decoration-color: #ff0000\">│</span>   <span style=\"color: #7f7f7f; text-decoration-color: #7f7f7f\">125 </span><span style=\"color: #7f7f7f; text-decoration-color: #7f7f7f\">│   │   </span><span style=\"color: #0000ff; text-decoration-color: #0000ff\">return</span> wrapper                                                                     <span style=\"color: #ff0000; text-decoration-color: #ff0000\">│</span>\n",
       "<span style=\"color: #ff0000; text-decoration-color: #ff0000\">│</span>   <span style=\"color: #7f7f7f; text-decoration-color: #7f7f7f\">126 </span>                                                                                           <span style=\"color: #ff0000; text-decoration-color: #ff0000\">│</span>\n",
       "<span style=\"color: #ff0000; text-decoration-color: #ff0000\">│</span>                                                                                                  <span style=\"color: #ff0000; text-decoration-color: #ff0000\">│</span>\n",
       "<span style=\"color: #ff0000; text-decoration-color: #ff0000\">│</span> <span style=\"color: #bfbf7f; text-decoration-color: #bfbf7f\">/home/ec2-user/anaconda3/envs/python3/lib/python3.10/site-packages/botocore/</span><span style=\"color: #808000; text-decoration-color: #808000; font-weight: bold\">client.py</span>:<span style=\"color: #0000ff; text-decoration-color: #0000ff\">1031</span> in    <span style=\"color: #ff0000; text-decoration-color: #ff0000\">│</span>\n",
       "<span style=\"color: #ff0000; text-decoration-color: #ff0000\">│</span> <span style=\"color: #00ff00; text-decoration-color: #00ff00\">_make_api_call</span>                                                                                   <span style=\"color: #ff0000; text-decoration-color: #ff0000\">│</span>\n",
       "<span style=\"color: #ff0000; text-decoration-color: #ff0000\">│</span>                                                                                                  <span style=\"color: #ff0000; text-decoration-color: #ff0000\">│</span>\n",
       "<span style=\"color: #ff0000; text-decoration-color: #ff0000\">│</span>   <span style=\"color: #7f7f7f; text-decoration-color: #7f7f7f\">1028 </span><span style=\"color: #7f7f7f; text-decoration-color: #7f7f7f\">│   │   │   │   </span><span style=\"color: #808000; text-decoration-color: #808000\">\"Code\"</span>                                                                    <span style=\"color: #ff0000; text-decoration-color: #ff0000\">│</span>\n",
       "<span style=\"color: #ff0000; text-decoration-color: #ff0000\">│</span>   <span style=\"color: #7f7f7f; text-decoration-color: #7f7f7f\">1029 </span><span style=\"color: #7f7f7f; text-decoration-color: #7f7f7f\">│   │   │   </span>)                                                                             <span style=\"color: #ff0000; text-decoration-color: #ff0000\">│</span>\n",
       "<span style=\"color: #ff0000; text-decoration-color: #ff0000\">│</span>   <span style=\"color: #7f7f7f; text-decoration-color: #7f7f7f\">1030 </span><span style=\"color: #7f7f7f; text-decoration-color: #7f7f7f\">│   │   │   </span>error_class = <span style=\"color: #00ffff; text-decoration-color: #00ffff\">self</span>.exceptions.from_code(error_code)                           <span style=\"color: #ff0000; text-decoration-color: #ff0000\">│</span>\n",
       "<span style=\"color: #ff0000; text-decoration-color: #ff0000\">│</span> <span style=\"color: #800000; text-decoration-color: #800000\">❱ </span>1031 <span style=\"color: #7f7f7f; text-decoration-color: #7f7f7f\">│   │   │   </span><span style=\"color: #0000ff; text-decoration-color: #0000ff\">raise</span> error_class(parsed_response, operation_name)                            <span style=\"color: #ff0000; text-decoration-color: #ff0000\">│</span>\n",
       "<span style=\"color: #ff0000; text-decoration-color: #ff0000\">│</span>   <span style=\"color: #7f7f7f; text-decoration-color: #7f7f7f\">1032 </span><span style=\"color: #7f7f7f; text-decoration-color: #7f7f7f\">│   │   </span><span style=\"color: #0000ff; text-decoration-color: #0000ff\">else</span>:                                                                             <span style=\"color: #ff0000; text-decoration-color: #ff0000\">│</span>\n",
       "<span style=\"color: #ff0000; text-decoration-color: #ff0000\">│</span>   <span style=\"color: #7f7f7f; text-decoration-color: #7f7f7f\">1033 </span><span style=\"color: #7f7f7f; text-decoration-color: #7f7f7f\">│   │   │   </span><span style=\"color: #0000ff; text-decoration-color: #0000ff\">return</span> parsed_response                                                        <span style=\"color: #ff0000; text-decoration-color: #ff0000\">│</span>\n",
       "<span style=\"color: #ff0000; text-decoration-color: #ff0000\">│</span>   <span style=\"color: #7f7f7f; text-decoration-color: #7f7f7f\">1034 </span>                                                                                          <span style=\"color: #ff0000; text-decoration-color: #ff0000\">│</span>\n",
       "<span style=\"color: #ff0000; text-decoration-color: #ff0000\">╰──────────────────────────────────────────────────────────────────────────────────────────────────╯</span>\n",
       "<span style=\"color: #ff0000; text-decoration-color: #ff0000; font-weight: bold\">ClientError: </span>An error occurred <span style=\"font-weight: bold\">(</span>ValidationException<span style=\"font-weight: bold\">)</span> when calling the DeleteEndpoint operation: Could not find \n",
       "endpoint <span style=\"color: #008700; text-decoration-color: #008700\">\"linear-learner-2025-05-30-22-12-19-871\"</span>.\n",
       "</pre>\n"
      ],
      "text/plain": [
       "\u001b[38;2;255;0;0m╭─\u001b[0m\u001b[38;2;255;0;0m──────────────────────────────\u001b[0m\u001b[38;2;255;0;0m \u001b[0m\u001b[1;38;2;255;0;0mTraceback \u001b[0m\u001b[1;2;38;2;255;0;0m(most recent call last)\u001b[0m\u001b[38;2;255;0;0m \u001b[0m\u001b[38;2;255;0;0m───────────────────────────────\u001b[0m\u001b[38;2;255;0;0m─╮\u001b[0m\n",
       "\u001b[38;2;255;0;0m│\u001b[0m in \u001b[92m<module>\u001b[0m:\u001b[94m2\u001b[0m                                                                                    \u001b[38;2;255;0;0m│\u001b[0m\n",
       "\u001b[38;2;255;0;0m│\u001b[0m                                                                                                  \u001b[38;2;255;0;0m│\u001b[0m\n",
       "\u001b[38;2;255;0;0m│\u001b[0m   \u001b[2m1 \u001b[0m\u001b[2m# Delete endpoint\u001b[0m                                                                            \u001b[38;2;255;0;0m│\u001b[0m\n",
       "\u001b[38;2;255;0;0m│\u001b[0m \u001b[31m❱ \u001b[0m2 Session().delete_endpoint(\u001b[33m'\u001b[0m\u001b[33mlinear-learner-2025-05-30-22-12-19-871\u001b[0m\u001b[33m'\u001b[0m)                          \u001b[38;2;255;0;0m│\u001b[0m\n",
       "\u001b[38;2;255;0;0m│\u001b[0m   \u001b[2m3 \u001b[0m                                                                                             \u001b[38;2;255;0;0m│\u001b[0m\n",
       "\u001b[38;2;255;0;0m│\u001b[0m                                                                                                  \u001b[38;2;255;0;0m│\u001b[0m\n",
       "\u001b[38;2;255;0;0m│\u001b[0m \u001b[2;33m/home/ec2-user/anaconda3/envs/python3/lib/python3.10/site-packages/sagemaker/\u001b[0m\u001b[1;33msession.py\u001b[0m:\u001b[94m4986\u001b[0m in  \u001b[38;2;255;0;0m│\u001b[0m\n",
       "\u001b[38;2;255;0;0m│\u001b[0m \u001b[92mdelete_endpoint\u001b[0m                                                                                  \u001b[38;2;255;0;0m│\u001b[0m\n",
       "\u001b[38;2;255;0;0m│\u001b[0m                                                                                                  \u001b[38;2;255;0;0m│\u001b[0m\n",
       "\u001b[38;2;255;0;0m│\u001b[0m   \u001b[2m4983 \u001b[0m\u001b[2;33m│   │   │   \u001b[0m\u001b[33mendpoint_name (str): Name of the Amazon SageMaker ``Endpoint`` to delete.\u001b[0m     \u001b[38;2;255;0;0m│\u001b[0m\n",
       "\u001b[38;2;255;0;0m│\u001b[0m   \u001b[2m4984 \u001b[0m\u001b[2;33m│   │   \u001b[0m\u001b[33m\"\"\"\u001b[0m                                                                               \u001b[38;2;255;0;0m│\u001b[0m\n",
       "\u001b[38;2;255;0;0m│\u001b[0m   \u001b[2m4985 \u001b[0m\u001b[2m│   │   \u001b[0mlogger.info(\u001b[33m\"\u001b[0m\u001b[33mDeleting endpoint with name: \u001b[0m\u001b[33m%s\u001b[0m\u001b[33m\"\u001b[0m, endpoint_name)                     \u001b[38;2;255;0;0m│\u001b[0m\n",
       "\u001b[38;2;255;0;0m│\u001b[0m \u001b[31m❱ \u001b[0m4986 \u001b[2m│   │   \u001b[0m\u001b[96mself\u001b[0m.sagemaker_client.delete_endpoint(EndpointName=endpoint_name)                 \u001b[38;2;255;0;0m│\u001b[0m\n",
       "\u001b[38;2;255;0;0m│\u001b[0m   \u001b[2m4987 \u001b[0m\u001b[2m│   \u001b[0m                                                                                      \u001b[38;2;255;0;0m│\u001b[0m\n",
       "\u001b[38;2;255;0;0m│\u001b[0m   \u001b[2m4988 \u001b[0m\u001b[2m│   \u001b[0m\u001b[94mdef\u001b[0m\u001b[90m \u001b[0m\u001b[92mdelete_endpoint_config\u001b[0m(\u001b[96mself\u001b[0m, endpoint_config_name):                               \u001b[38;2;255;0;0m│\u001b[0m\n",
       "\u001b[38;2;255;0;0m│\u001b[0m   \u001b[2m4989 \u001b[0m\u001b[2;90m│   │   \u001b[0m\u001b[33m\"\"\"Delete an Amazon SageMaker endpoint configuration.\u001b[0m                             \u001b[38;2;255;0;0m│\u001b[0m\n",
       "\u001b[38;2;255;0;0m│\u001b[0m                                                                                                  \u001b[38;2;255;0;0m│\u001b[0m\n",
       "\u001b[38;2;255;0;0m│\u001b[0m \u001b[2;33m/home/ec2-user/anaconda3/envs/python3/lib/python3.10/site-packages/botocore/\u001b[0m\u001b[1;33mclient.py\u001b[0m:\u001b[94m570\u001b[0m in     \u001b[38;2;255;0;0m│\u001b[0m\n",
       "\u001b[38;2;255;0;0m│\u001b[0m \u001b[92m_api_call\u001b[0m                                                                                        \u001b[38;2;255;0;0m│\u001b[0m\n",
       "\u001b[38;2;255;0;0m│\u001b[0m                                                                                                  \u001b[38;2;255;0;0m│\u001b[0m\n",
       "\u001b[38;2;255;0;0m│\u001b[0m   \u001b[2m 567 \u001b[0m\u001b[2m│   │   │   │   │   \u001b[0m\u001b[33mf\u001b[0m\u001b[33m\"\u001b[0m\u001b[33m{\u001b[0mpy_operation_name\u001b[33m}\u001b[0m\u001b[33m() only accepts keyword arguments.\u001b[0m\u001b[33m\"\u001b[0m              \u001b[38;2;255;0;0m│\u001b[0m\n",
       "\u001b[38;2;255;0;0m│\u001b[0m   \u001b[2m 568 \u001b[0m\u001b[2m│   │   │   │   \u001b[0m)                                                                         \u001b[38;2;255;0;0m│\u001b[0m\n",
       "\u001b[38;2;255;0;0m│\u001b[0m   \u001b[2m 569 \u001b[0m\u001b[2m│   │   │   \u001b[0m\u001b[2m# The \"self\" in this scope is referring to the BaseClient.\u001b[0m                    \u001b[38;2;255;0;0m│\u001b[0m\n",
       "\u001b[38;2;255;0;0m│\u001b[0m \u001b[31m❱ \u001b[0m 570 \u001b[2m│   │   │   \u001b[0m\u001b[94mreturn\u001b[0m \u001b[96mself\u001b[0m._make_api_call(operation_name, kwargs)                            \u001b[38;2;255;0;0m│\u001b[0m\n",
       "\u001b[38;2;255;0;0m│\u001b[0m   \u001b[2m 571 \u001b[0m\u001b[2m│   │   \u001b[0m                                                                                  \u001b[38;2;255;0;0m│\u001b[0m\n",
       "\u001b[38;2;255;0;0m│\u001b[0m   \u001b[2m 572 \u001b[0m\u001b[2m│   │   \u001b[0m_api_call.\u001b[91m__name__\u001b[0m = \u001b[96mstr\u001b[0m(py_operation_name)                                       \u001b[38;2;255;0;0m│\u001b[0m\n",
       "\u001b[38;2;255;0;0m│\u001b[0m   \u001b[2m 573 \u001b[0m                                                                                          \u001b[38;2;255;0;0m│\u001b[0m\n",
       "\u001b[38;2;255;0;0m│\u001b[0m                                                                                                  \u001b[38;2;255;0;0m│\u001b[0m\n",
       "\u001b[38;2;255;0;0m│\u001b[0m \u001b[2;33m/home/ec2-user/anaconda3/envs/python3/lib/python3.10/site-packages/botocore/\u001b[0m\u001b[1;33mcontext.py\u001b[0m:\u001b[94m123\u001b[0m in    \u001b[38;2;255;0;0m│\u001b[0m\n",
       "\u001b[38;2;255;0;0m│\u001b[0m \u001b[92mwrapper\u001b[0m                                                                                          \u001b[38;2;255;0;0m│\u001b[0m\n",
       "\u001b[38;2;255;0;0m│\u001b[0m                                                                                                  \u001b[38;2;255;0;0m│\u001b[0m\n",
       "\u001b[38;2;255;0;0m│\u001b[0m   \u001b[2m120 \u001b[0m\u001b[2m│   │   │   \u001b[0m\u001b[94mwith\u001b[0m start_as_current_context():                                               \u001b[38;2;255;0;0m│\u001b[0m\n",
       "\u001b[38;2;255;0;0m│\u001b[0m   \u001b[2m121 \u001b[0m\u001b[2m│   │   │   │   \u001b[0m\u001b[94mif\u001b[0m hook:                                                                   \u001b[38;2;255;0;0m│\u001b[0m\n",
       "\u001b[38;2;255;0;0m│\u001b[0m   \u001b[2m122 \u001b[0m\u001b[2m│   │   │   │   │   \u001b[0mhook()                                                                 \u001b[38;2;255;0;0m│\u001b[0m\n",
       "\u001b[38;2;255;0;0m│\u001b[0m \u001b[31m❱ \u001b[0m123 \u001b[2m│   │   │   │   \u001b[0m\u001b[94mreturn\u001b[0m func(*args, **kwargs)                                               \u001b[38;2;255;0;0m│\u001b[0m\n",
       "\u001b[38;2;255;0;0m│\u001b[0m   \u001b[2m124 \u001b[0m\u001b[2m│   │   \u001b[0m                                                                                   \u001b[38;2;255;0;0m│\u001b[0m\n",
       "\u001b[38;2;255;0;0m│\u001b[0m   \u001b[2m125 \u001b[0m\u001b[2m│   │   \u001b[0m\u001b[94mreturn\u001b[0m wrapper                                                                     \u001b[38;2;255;0;0m│\u001b[0m\n",
       "\u001b[38;2;255;0;0m│\u001b[0m   \u001b[2m126 \u001b[0m                                                                                           \u001b[38;2;255;0;0m│\u001b[0m\n",
       "\u001b[38;2;255;0;0m│\u001b[0m                                                                                                  \u001b[38;2;255;0;0m│\u001b[0m\n",
       "\u001b[38;2;255;0;0m│\u001b[0m \u001b[2;33m/home/ec2-user/anaconda3/envs/python3/lib/python3.10/site-packages/botocore/\u001b[0m\u001b[1;33mclient.py\u001b[0m:\u001b[94m1031\u001b[0m in    \u001b[38;2;255;0;0m│\u001b[0m\n",
       "\u001b[38;2;255;0;0m│\u001b[0m \u001b[92m_make_api_call\u001b[0m                                                                                   \u001b[38;2;255;0;0m│\u001b[0m\n",
       "\u001b[38;2;255;0;0m│\u001b[0m                                                                                                  \u001b[38;2;255;0;0m│\u001b[0m\n",
       "\u001b[38;2;255;0;0m│\u001b[0m   \u001b[2m1028 \u001b[0m\u001b[2m│   │   │   │   \u001b[0m\u001b[33m\"\u001b[0m\u001b[33mCode\u001b[0m\u001b[33m\"\u001b[0m                                                                    \u001b[38;2;255;0;0m│\u001b[0m\n",
       "\u001b[38;2;255;0;0m│\u001b[0m   \u001b[2m1029 \u001b[0m\u001b[2m│   │   │   \u001b[0m)                                                                             \u001b[38;2;255;0;0m│\u001b[0m\n",
       "\u001b[38;2;255;0;0m│\u001b[0m   \u001b[2m1030 \u001b[0m\u001b[2m│   │   │   \u001b[0merror_class = \u001b[96mself\u001b[0m.exceptions.from_code(error_code)                           \u001b[38;2;255;0;0m│\u001b[0m\n",
       "\u001b[38;2;255;0;0m│\u001b[0m \u001b[31m❱ \u001b[0m1031 \u001b[2m│   │   │   \u001b[0m\u001b[94mraise\u001b[0m error_class(parsed_response, operation_name)                            \u001b[38;2;255;0;0m│\u001b[0m\n",
       "\u001b[38;2;255;0;0m│\u001b[0m   \u001b[2m1032 \u001b[0m\u001b[2m│   │   \u001b[0m\u001b[94melse\u001b[0m:                                                                             \u001b[38;2;255;0;0m│\u001b[0m\n",
       "\u001b[38;2;255;0;0m│\u001b[0m   \u001b[2m1033 \u001b[0m\u001b[2m│   │   │   \u001b[0m\u001b[94mreturn\u001b[0m parsed_response                                                        \u001b[38;2;255;0;0m│\u001b[0m\n",
       "\u001b[38;2;255;0;0m│\u001b[0m   \u001b[2m1034 \u001b[0m                                                                                          \u001b[38;2;255;0;0m│\u001b[0m\n",
       "\u001b[38;2;255;0;0m╰──────────────────────────────────────────────────────────────────────────────────────────────────╯\u001b[0m\n",
       "\u001b[1;91mClientError: \u001b[0mAn error occurred \u001b[1m(\u001b[0mValidationException\u001b[1m)\u001b[0m when calling the DeleteEndpoint operation: Could not find \n",
       "endpoint \u001b[38;2;0;135;0m\"linear-learner-2025-05-30-22-12-19-871\"\u001b[0m.\n"
      ]
     },
     "metadata": {},
     "output_type": "display_data"
    }
   ],
   "source": [
    "# Delete endpoint\n",
    "Session().delete_endpoint('linear-learner-2025-05-30-22-12-19-871')"
   ]
  },
  {
   "cell_type": "markdown",
   "metadata": {},
   "source": [
    "## <u>Linear regression WITH containers (model_2)</u>"
   ]
  },
  {
   "cell_type": "code",
   "execution_count": 10,
   "metadata": {},
   "outputs": [],
   "source": [
    "import os\n",
    "import io\n",
    "import boto3\n",
    "import argparse\n",
    "import time\n",
    "import numpy as np\n",
    "from joblib import dump\n",
    "from sklearn.model_selection import train_test_split\n",
    "from sklearn.linear_model import LinearRegression\n",
    "from sagemaker import get_execution_role, Session\n",
    "from sagemaker.sklearn.estimator import SKLearn\n",
    "from sagemaker.sklearn.model import SKLearnModel\n",
    "from sagemaker.model import Model\n",
    "from sagemaker.predictor import Predictor\n",
    "from sagemaker.inputs import TrainingInput\n",
    "from sagemaker.serializers import CSVSerializer\n",
    "from sagemaker.deserializers import CSVDeserializer"
   ]
  },
  {
   "cell_type": "code",
   "execution_count": 11,
   "metadata": {},
   "outputs": [],
   "source": [
    "# Combine X_train and y_train for training CSV\n",
    "wine_train = pd.concat([y_train.reset_index(drop=True), X_train.reset_index(drop=True)], axis=1)\n",
    "wine_train.to_csv(\"train.csv\", index=False, encoding='utf-8')"
   ]
  },
  {
   "cell_type": "code",
   "execution_count": 12,
   "metadata": {},
   "outputs": [
    {
     "data": {
      "text/html": [
       "<div>\n",
       "<style scoped>\n",
       "    .dataframe tbody tr th:only-of-type {\n",
       "        vertical-align: middle;\n",
       "    }\n",
       "\n",
       "    .dataframe tbody tr th {\n",
       "        vertical-align: top;\n",
       "    }\n",
       "\n",
       "    .dataframe thead th {\n",
       "        text-align: right;\n",
       "    }\n",
       "</style>\n",
       "<table border=\"1\" class=\"dataframe\">\n",
       "  <thead>\n",
       "    <tr style=\"text-align: right;\">\n",
       "      <th></th>\n",
       "      <th>quality</th>\n",
       "      <th>fixed acidity</th>\n",
       "      <th>volatile acidity</th>\n",
       "      <th>citric acid</th>\n",
       "      <th>residual sugar</th>\n",
       "      <th>chlorides</th>\n",
       "      <th>free sulfur dioxide</th>\n",
       "      <th>total sulfur dioxide</th>\n",
       "      <th>density</th>\n",
       "      <th>pH</th>\n",
       "      <th>sulphates</th>\n",
       "      <th>alcohol</th>\n",
       "    </tr>\n",
       "  </thead>\n",
       "  <tbody>\n",
       "    <tr>\n",
       "      <th>0</th>\n",
       "      <td>6</td>\n",
       "      <td>9.3</td>\n",
       "      <td>0.36</td>\n",
       "      <td>0.39</td>\n",
       "      <td>1.5</td>\n",
       "      <td>0.080</td>\n",
       "      <td>41.0</td>\n",
       "      <td>55.0</td>\n",
       "      <td>0.99652</td>\n",
       "      <td>3.47</td>\n",
       "      <td>0.73</td>\n",
       "      <td>10.9</td>\n",
       "    </tr>\n",
       "    <tr>\n",
       "      <th>1</th>\n",
       "      <td>6</td>\n",
       "      <td>7.6</td>\n",
       "      <td>0.27</td>\n",
       "      <td>0.25</td>\n",
       "      <td>13.9</td>\n",
       "      <td>0.050</td>\n",
       "      <td>45.0</td>\n",
       "      <td>199.0</td>\n",
       "      <td>0.99840</td>\n",
       "      <td>3.34</td>\n",
       "      <td>0.50</td>\n",
       "      <td>9.8</td>\n",
       "    </tr>\n",
       "    <tr>\n",
       "      <th>2</th>\n",
       "      <td>5</td>\n",
       "      <td>6.4</td>\n",
       "      <td>0.25</td>\n",
       "      <td>0.57</td>\n",
       "      <td>1.0</td>\n",
       "      <td>0.062</td>\n",
       "      <td>21.0</td>\n",
       "      <td>122.0</td>\n",
       "      <td>0.99238</td>\n",
       "      <td>3.00</td>\n",
       "      <td>0.40</td>\n",
       "      <td>9.5</td>\n",
       "    </tr>\n",
       "    <tr>\n",
       "      <th>3</th>\n",
       "      <td>5</td>\n",
       "      <td>7.4</td>\n",
       "      <td>0.67</td>\n",
       "      <td>0.12</td>\n",
       "      <td>1.6</td>\n",
       "      <td>0.186</td>\n",
       "      <td>5.0</td>\n",
       "      <td>21.0</td>\n",
       "      <td>0.99600</td>\n",
       "      <td>3.39</td>\n",
       "      <td>0.54</td>\n",
       "      <td>9.5</td>\n",
       "    </tr>\n",
       "    <tr>\n",
       "      <th>4</th>\n",
       "      <td>6</td>\n",
       "      <td>9.0</td>\n",
       "      <td>0.26</td>\n",
       "      <td>0.34</td>\n",
       "      <td>6.7</td>\n",
       "      <td>0.029</td>\n",
       "      <td>21.0</td>\n",
       "      <td>162.0</td>\n",
       "      <td>0.99497</td>\n",
       "      <td>3.08</td>\n",
       "      <td>0.50</td>\n",
       "      <td>10.6</td>\n",
       "    </tr>\n",
       "  </tbody>\n",
       "</table>\n",
       "</div>"
      ],
      "text/plain": [
       "   quality  fixed acidity  volatile acidity  citric acid  residual sugar  \\\n",
       "0        6            9.3              0.36         0.39             1.5   \n",
       "1        6            7.6              0.27         0.25            13.9   \n",
       "2        5            6.4              0.25         0.57             1.0   \n",
       "3        5            7.4              0.67         0.12             1.6   \n",
       "4        6            9.0              0.26         0.34             6.7   \n",
       "\n",
       "   chlorides  free sulfur dioxide  total sulfur dioxide  density    pH  \\\n",
       "0      0.080                 41.0                  55.0  0.99652  3.47   \n",
       "1      0.050                 45.0                 199.0  0.99840  3.34   \n",
       "2      0.062                 21.0                 122.0  0.99238  3.00   \n",
       "3      0.186                  5.0                  21.0  0.99600  3.39   \n",
       "4      0.029                 21.0                 162.0  0.99497  3.08   \n",
       "\n",
       "   sulphates  alcohol  \n",
       "0       0.73     10.9  \n",
       "1       0.50      9.8  \n",
       "2       0.40      9.5  \n",
       "3       0.54      9.5  \n",
       "4       0.50     10.6  "
      ]
     },
     "execution_count": 12,
     "metadata": {},
     "output_type": "execute_result"
    }
   ],
   "source": [
    "train_2 = pd.read_csv(\"train.csv\")\n",
    "train_2.head()"
   ]
  },
  {
   "cell_type": "markdown",
   "metadata": {},
   "source": [
    "# Model_2 session"
   ]
  },
  {
   "cell_type": "code",
   "execution_count": 13,
   "metadata": {},
   "outputs": [],
   "source": [
    "role = get_execution_role()\n",
    "session = Session()\n",
    "bucket = \"sagemaker-us-east-1-421498156986\"\n",
    "prefix = \"linear-regression-wine\"\n",
    "output_path = f's3://{bucket}/linear-regression-output'"
   ]
  },
  {
   "cell_type": "code",
   "execution_count": 14,
   "metadata": {},
   "outputs": [],
   "source": [
    "s3_train2_path = session.upload_data(\"train.csv\", bucket=bucket, key_prefix=prefix)\n",
    "train2_input = TrainingInput(s3_train2_path, content_type=\"text/csv\")"
   ]
  },
  {
   "cell_type": "markdown",
   "metadata": {},
   "source": [
    "# Train model_2"
   ]
  },
  {
   "cell_type": "code",
   "execution_count": 15,
   "metadata": {},
   "outputs": [
    {
     "data": {
      "text/html": [
       "<pre style=\"white-space:pre;overflow-x:auto;line-height:normal;font-family:Menlo,'DejaVu Sans Mono',consolas,'Courier New',monospace\"><span style=\"color: #7fbfbf; text-decoration-color: #7fbfbf\">[06/04/25 16:10:58] </span><span style=\"color: #0069ff; text-decoration-color: #0069ff; font-weight: bold\">INFO    </span> SageMaker Python SDK will collect telemetry to help us better  <a href=\"file:///home/ec2-user/anaconda3/envs/python3/lib/python3.10/site-packages/sagemaker/telemetry/telemetry_logging.py\" target=\"_blank\"><span style=\"color: #7f7f7f; text-decoration-color: #7f7f7f\">telemetry_logging.py</span></a><span style=\"color: #7f7f7f; text-decoration-color: #7f7f7f\">:</span><a href=\"file:///home/ec2-user/anaconda3/envs/python3/lib/python3.10/site-packages/sagemaker/telemetry/telemetry_logging.py#91\" target=\"_blank\"><span style=\"color: #7f7f7f; text-decoration-color: #7f7f7f\">91</span></a>\n",
       "<span style=\"color: #7fbfbf; text-decoration-color: #7fbfbf\">                    </span>         understand our user's needs, diagnose issues, and deliver      <span style=\"color: #7f7f7f; text-decoration-color: #7f7f7f\">                       </span>\n",
       "<span style=\"color: #7fbfbf; text-decoration-color: #7fbfbf\">                    </span>         additional features.                                           <span style=\"color: #7f7f7f; text-decoration-color: #7f7f7f\">                       </span>\n",
       "<span style=\"color: #7fbfbf; text-decoration-color: #7fbfbf\">                    </span>         To opt out of telemetry, please disable via TelemetryOptOut    <span style=\"color: #7f7f7f; text-decoration-color: #7f7f7f\">                       </span>\n",
       "<span style=\"color: #7fbfbf; text-decoration-color: #7fbfbf\">                    </span>         parameter in SDK defaults config. For more information, refer  <span style=\"color: #7f7f7f; text-decoration-color: #7f7f7f\">                       </span>\n",
       "<span style=\"color: #7fbfbf; text-decoration-color: #7fbfbf\">                    </span>         to                                                             <span style=\"color: #7f7f7f; text-decoration-color: #7f7f7f\">                       </span>\n",
       "<span style=\"color: #7fbfbf; text-decoration-color: #7fbfbf\">                    </span>         <span style=\"color: #0069ff; text-decoration-color: #0069ff; text-decoration: underline\">https://sagemaker.readthedocs.io/en/stable/overview.html#confi</span> <span style=\"color: #7f7f7f; text-decoration-color: #7f7f7f\">                       </span>\n",
       "<span style=\"color: #7fbfbf; text-decoration-color: #7fbfbf\">                    </span>         <span style=\"color: #0069ff; text-decoration-color: #0069ff; text-decoration: underline\">guring-and-using-defaults-with-the-sagemaker-python-sdk.</span>       <span style=\"color: #7f7f7f; text-decoration-color: #7f7f7f\">                       </span>\n",
       "</pre>\n"
      ],
      "text/plain": [
       "\u001b[2;36m[06/04/25 16:10:58]\u001b[0m\u001b[2;36m \u001b[0m\u001b[1;38;2;0;105;255mINFO    \u001b[0m SageMaker Python SDK will collect telemetry to help us better  \u001b]8;id=859120;file:///home/ec2-user/anaconda3/envs/python3/lib/python3.10/site-packages/sagemaker/telemetry/telemetry_logging.py\u001b\\\u001b[2mtelemetry_logging.py\u001b[0m\u001b]8;;\u001b\\\u001b[2m:\u001b[0m\u001b]8;id=757959;file:///home/ec2-user/anaconda3/envs/python3/lib/python3.10/site-packages/sagemaker/telemetry/telemetry_logging.py#91\u001b\\\u001b[2m91\u001b[0m\u001b]8;;\u001b\\\n",
       "\u001b[2;36m                    \u001b[0m         understand our user's needs, diagnose issues, and deliver      \u001b[2m                       \u001b[0m\n",
       "\u001b[2;36m                    \u001b[0m         additional features.                                           \u001b[2m                       \u001b[0m\n",
       "\u001b[2;36m                    \u001b[0m         To opt out of telemetry, please disable via TelemetryOptOut    \u001b[2m                       \u001b[0m\n",
       "\u001b[2;36m                    \u001b[0m         parameter in SDK defaults config. For more information, refer  \u001b[2m                       \u001b[0m\n",
       "\u001b[2;36m                    \u001b[0m         to                                                             \u001b[2m                       \u001b[0m\n",
       "\u001b[2;36m                    \u001b[0m         \u001b[4;38;2;0;105;255mhttps://sagemaker.readthedocs.io/en/stable/overview.html#confi\u001b[0m \u001b[2m                       \u001b[0m\n",
       "\u001b[2;36m                    \u001b[0m         \u001b[4;38;2;0;105;255mguring-and-using-defaults-with-the-sagemaker-python-sdk.\u001b[0m       \u001b[2m                       \u001b[0m\n"
      ]
     },
     "metadata": {},
     "output_type": "display_data"
    },
    {
     "data": {
      "text/html": [
       "<pre style=\"white-space:pre;overflow-x:auto;line-height:normal;font-family:Menlo,'DejaVu Sans Mono',consolas,'Courier New',monospace\"><span style=\"color: #7fbfbf; text-decoration-color: #7fbfbf\">[06/04/25 16:10:59] </span><span style=\"color: #0069ff; text-decoration-color: #0069ff; font-weight: bold\">INFO    </span> Creating training-job with name:                                       <a href=\"file:///home/ec2-user/anaconda3/envs/python3/lib/python3.10/site-packages/sagemaker/session.py\" target=\"_blank\"><span style=\"color: #7f7f7f; text-decoration-color: #7f7f7f\">session.py</span></a><span style=\"color: #7f7f7f; text-decoration-color: #7f7f7f\">:</span><a href=\"file:///home/ec2-user/anaconda3/envs/python3/lib/python3.10/site-packages/sagemaker/session.py#1042\" target=\"_blank\"><span style=\"color: #7f7f7f; text-decoration-color: #7f7f7f\">1042</span></a>\n",
       "<span style=\"color: #7fbfbf; text-decoration-color: #7fbfbf\">                    </span>         sagemaker-scikit-learn-<span style=\"color: #008080; text-decoration-color: #008080; font-weight: bold\">2025</span>-06-04-16-10-58-093                         <span style=\"color: #7f7f7f; text-decoration-color: #7f7f7f\">               </span>\n",
       "</pre>\n"
      ],
      "text/plain": [
       "\u001b[2;36m[06/04/25 16:10:59]\u001b[0m\u001b[2;36m \u001b[0m\u001b[1;38;2;0;105;255mINFO    \u001b[0m Creating training-job with name:                                       \u001b]8;id=379457;file:///home/ec2-user/anaconda3/envs/python3/lib/python3.10/site-packages/sagemaker/session.py\u001b\\\u001b[2msession.py\u001b[0m\u001b]8;;\u001b\\\u001b[2m:\u001b[0m\u001b]8;id=605991;file:///home/ec2-user/anaconda3/envs/python3/lib/python3.10/site-packages/sagemaker/session.py#1042\u001b\\\u001b[2m1042\u001b[0m\u001b]8;;\u001b\\\n",
       "\u001b[2;36m                    \u001b[0m         sagemaker-scikit-learn-\u001b[1;36m2025\u001b[0m-06-04-16-10-58-093                         \u001b[2m               \u001b[0m\n"
      ]
     },
     "metadata": {},
     "output_type": "display_data"
    },
    {
     "name": "stdout",
     "output_type": "stream",
     "text": [
      "2025-06-04 16:11:05 Starting - Starting the training job...\n",
      "2025-06-04 16:11:20 Starting - Preparing the instances for training...\n",
      "2025-06-04 16:12:00 Downloading - Downloading the training image...\n",
      "2025-06-04 16:12:30 Training - Training image download completed. Training in progress..\u001b[34m2025-06-04 16:12:38,857 sagemaker-containers INFO     Imported framework sagemaker_sklearn_container.training\u001b[0m\n",
      "\u001b[34m2025-06-04 16:12:38,860 sagemaker-training-toolkit INFO     No GPUs detected (normal if no gpus installed)\u001b[0m\n",
      "\u001b[34m2025-06-04 16:12:38,900 sagemaker_sklearn_container.training INFO     Invoking user training script.\u001b[0m\n",
      "\u001b[34m2025-06-04 16:12:39,324 sagemaker-training-toolkit INFO     Installing dependencies from requirements.txt:\u001b[0m\n",
      "\u001b[34m/miniconda3/bin/python -m pip install -r requirements.txt\u001b[0m\n",
      "\u001b[34mRequirement already satisfied: pandas in /miniconda3/lib/python3.7/site-packages (from -r requirements.txt (line 1)) (1.1.3)\u001b[0m\n",
      "\u001b[34mRequirement already satisfied: scikit-learn in /miniconda3/lib/python3.7/site-packages (from -r requirements.txt (line 2)) (0.23.2)\u001b[0m\n",
      "\u001b[34mRequirement already satisfied: numpy in /miniconda3/lib/python3.7/site-packages (from -r requirements.txt (line 3)) (1.19.2)\u001b[0m\n",
      "\u001b[34mRequirement already satisfied: joblib in /miniconda3/lib/python3.7/site-packages (from -r requirements.txt (line 4)) (1.2.0)\u001b[0m\n",
      "\u001b[34mRequirement already satisfied: pytz>=2017.2 in /miniconda3/lib/python3.7/site-packages (from pandas->-r requirements.txt (line 1)) (2022.7.1)\u001b[0m\n",
      "\u001b[34mRequirement already satisfied: python-dateutil>=2.7.3 in /miniconda3/lib/python3.7/site-packages (from pandas->-r requirements.txt (line 1)) (2.8.1)\u001b[0m\n",
      "\u001b[34mRequirement already satisfied: threadpoolctl>=2.0.0 in /miniconda3/lib/python3.7/site-packages (from scikit-learn->-r requirements.txt (line 2)) (3.1.0)\u001b[0m\n",
      "\u001b[34mRequirement already satisfied: scipy>=0.19.1 in /miniconda3/lib/python3.7/site-packages (from scikit-learn->-r requirements.txt (line 2)) (1.5.3)\u001b[0m\n",
      "\u001b[34mRequirement already satisfied: six>=1.5 in /miniconda3/lib/python3.7/site-packages (from python-dateutil>=2.7.3->pandas->-r requirements.txt (line 1)) (1.15.0)\u001b[0m\n",
      "\u001b[34mWARNING: Running pip as the 'root' user can result in broken permissions and conflicting behaviour with the system package manager. It is recommended to use a virtual environment instead: https://pip.pypa.io/warnings/venv\u001b[0m\n",
      "\u001b[34m[notice] A new release of pip is available: 23.0 -> 24.0\u001b[0m\n",
      "\u001b[34m[notice] To update, run: pip install --upgrade pip\u001b[0m\n",
      "\u001b[34m2025-06-04 16:12:40,280 sagemaker-training-toolkit INFO     No GPUs detected (normal if no gpus installed)\u001b[0m\n",
      "\u001b[34m2025-06-04 16:12:40,292 sagemaker-training-toolkit INFO     No GPUs detected (normal if no gpus installed)\u001b[0m\n",
      "\u001b[34m2025-06-04 16:12:40,304 sagemaker-training-toolkit INFO     No GPUs detected (normal if no gpus installed)\u001b[0m\n",
      "\u001b[34m2025-06-04 16:12:40,313 sagemaker-training-toolkit INFO     Invoking user script\u001b[0m\n",
      "\u001b[34mTraining Env:\u001b[0m\n",
      "\u001b[34m{\n",
      "    \"additional_framework_parameters\": {},\n",
      "    \"channel_input_dirs\": {\n",
      "        \"train\": \"/opt/ml/input/data/train\"\n",
      "    },\n",
      "    \"current_host\": \"algo-1\",\n",
      "    \"framework_module\": \"sagemaker_sklearn_container.training:main\",\n",
      "    \"hosts\": [\n",
      "        \"algo-1\"\n",
      "    ],\n",
      "    \"hyperparameters\": {},\n",
      "    \"input_config_dir\": \"/opt/ml/input/config\",\n",
      "    \"input_data_config\": {\n",
      "        \"train\": {\n",
      "            \"ContentType\": \"text/csv\",\n",
      "            \"TrainingInputMode\": \"File\",\n",
      "            \"S3DistributionType\": \"FullyReplicated\",\n",
      "            \"RecordWrapperType\": \"None\"\n",
      "        }\n",
      "    },\n",
      "    \"input_dir\": \"/opt/ml/input\",\n",
      "    \"is_master\": true,\n",
      "    \"job_name\": \"sagemaker-scikit-learn-2025-06-04-16-10-58-093\",\n",
      "    \"log_level\": 20,\n",
      "    \"master_hostname\": \"algo-1\",\n",
      "    \"model_dir\": \"/opt/ml/model\",\n",
      "    \"module_dir\": \"s3://sagemaker-us-east-1-421498156986/sagemaker-scikit-learn-2025-06-04-16-10-58-093/source/sourcedir.tar.gz\",\n",
      "    \"module_name\": \"train_script\",\n",
      "    \"network_interface_name\": \"eth0\",\n",
      "    \"num_cpus\": 4,\n",
      "    \"num_gpus\": 0,\n",
      "    \"output_data_dir\": \"/opt/ml/output/data\",\n",
      "    \"output_dir\": \"/opt/ml/output\",\n",
      "    \"output_intermediate_dir\": \"/opt/ml/output/intermediate\",\n",
      "    \"resource_config\": {\n",
      "        \"current_host\": \"algo-1\",\n",
      "        \"current_instance_type\": \"ml.m5.xlarge\",\n",
      "        \"current_group_name\": \"homogeneousCluster\",\n",
      "        \"hosts\": [\n",
      "            \"algo-1\"\n",
      "        ],\n",
      "        \"instance_groups\": [\n",
      "            {\n",
      "                \"instance_group_name\": \"homogeneousCluster\",\n",
      "                \"instance_type\": \"ml.m5.xlarge\",\n",
      "                \"hosts\": [\n",
      "                    \"algo-1\"\n",
      "                ]\n",
      "            }\n",
      "        ],\n",
      "        \"network_interface_name\": \"eth0\",\n",
      "        \"topology\": null\n",
      "    },\n",
      "    \"user_entry_point\": \"train_script.py\"\u001b[0m\n",
      "\u001b[34m}\u001b[0m\n",
      "\u001b[34mEnvironment variables:\u001b[0m\n",
      "\u001b[34mSM_HOSTS=[\"algo-1\"]\u001b[0m\n",
      "\u001b[34mSM_NETWORK_INTERFACE_NAME=eth0\u001b[0m\n",
      "\u001b[34mSM_HPS={}\u001b[0m\n",
      "\u001b[34mSM_USER_ENTRY_POINT=train_script.py\u001b[0m\n",
      "\u001b[34mSM_FRAMEWORK_PARAMS={}\u001b[0m\n",
      "\u001b[34mSM_RESOURCE_CONFIG={\"current_group_name\":\"homogeneousCluster\",\"current_host\":\"algo-1\",\"current_instance_type\":\"ml.m5.xlarge\",\"hosts\":[\"algo-1\"],\"instance_groups\":[{\"hosts\":[\"algo-1\"],\"instance_group_name\":\"homogeneousCluster\",\"instance_type\":\"ml.m5.xlarge\"}],\"network_interface_name\":\"eth0\",\"topology\":null}\u001b[0m\n",
      "\u001b[34mSM_INPUT_DATA_CONFIG={\"train\":{\"ContentType\":\"text/csv\",\"RecordWrapperType\":\"None\",\"S3DistributionType\":\"FullyReplicated\",\"TrainingInputMode\":\"File\"}}\u001b[0m\n",
      "\u001b[34mSM_OUTPUT_DATA_DIR=/opt/ml/output/data\u001b[0m\n",
      "\u001b[34mSM_CHANNELS=[\"train\"]\u001b[0m\n",
      "\u001b[34mSM_CURRENT_HOST=algo-1\u001b[0m\n",
      "\u001b[34mSM_MODULE_NAME=train_script\u001b[0m\n",
      "\u001b[34mSM_LOG_LEVEL=20\u001b[0m\n",
      "\u001b[34mSM_FRAMEWORK_MODULE=sagemaker_sklearn_container.training:main\u001b[0m\n",
      "\u001b[34mSM_INPUT_DIR=/opt/ml/input\u001b[0m\n",
      "\u001b[34mSM_INPUT_CONFIG_DIR=/opt/ml/input/config\u001b[0m\n",
      "\u001b[34mSM_OUTPUT_DIR=/opt/ml/output\u001b[0m\n",
      "\u001b[34mSM_NUM_CPUS=4\u001b[0m\n",
      "\u001b[34mSM_NUM_GPUS=0\u001b[0m\n",
      "\u001b[34mSM_MODEL_DIR=/opt/ml/model\u001b[0m\n",
      "\u001b[34mSM_MODULE_DIR=s3://sagemaker-us-east-1-421498156986/sagemaker-scikit-learn-2025-06-04-16-10-58-093/source/sourcedir.tar.gz\u001b[0m\n",
      "\u001b[34mSM_TRAINING_ENV={\"additional_framework_parameters\":{},\"channel_input_dirs\":{\"train\":\"/opt/ml/input/data/train\"},\"current_host\":\"algo-1\",\"framework_module\":\"sagemaker_sklearn_container.training:main\",\"hosts\":[\"algo-1\"],\"hyperparameters\":{},\"input_config_dir\":\"/opt/ml/input/config\",\"input_data_config\":{\"train\":{\"ContentType\":\"text/csv\",\"RecordWrapperType\":\"None\",\"S3DistributionType\":\"FullyReplicated\",\"TrainingInputMode\":\"File\"}},\"input_dir\":\"/opt/ml/input\",\"is_master\":true,\"job_name\":\"sagemaker-scikit-learn-2025-06-04-16-10-58-093\",\"log_level\":20,\"master_hostname\":\"algo-1\",\"model_dir\":\"/opt/ml/model\",\"module_dir\":\"s3://sagemaker-us-east-1-421498156986/sagemaker-scikit-learn-2025-06-04-16-10-58-093/source/sourcedir.tar.gz\",\"module_name\":\"train_script\",\"network_interface_name\":\"eth0\",\"num_cpus\":4,\"num_gpus\":0,\"output_data_dir\":\"/opt/ml/output/data\",\"output_dir\":\"/opt/ml/output\",\"output_intermediate_dir\":\"/opt/ml/output/intermediate\",\"resource_config\":{\"current_group_name\":\"homogeneousCluster\",\"current_host\":\"algo-1\",\"current_instance_type\":\"ml.m5.xlarge\",\"hosts\":[\"algo-1\"],\"instance_groups\":[{\"hosts\":[\"algo-1\"],\"instance_group_name\":\"homogeneousCluster\",\"instance_type\":\"ml.m5.xlarge\"}],\"network_interface_name\":\"eth0\",\"topology\":null},\"user_entry_point\":\"train_script.py\"}\u001b[0m\n",
      "\u001b[34mSM_USER_ARGS=[]\u001b[0m\n",
      "\u001b[34mSM_OUTPUT_INTERMEDIATE_DIR=/opt/ml/output/intermediate\u001b[0m\n",
      "\u001b[34mSM_CHANNEL_TRAIN=/opt/ml/input/data/train\u001b[0m\n",
      "\u001b[34mPYTHONPATH=/opt/ml/code:/miniconda3/bin:/miniconda3/lib/python37.zip:/miniconda3/lib/python3.7:/miniconda3/lib/python3.7/lib-dynload:/miniconda3/lib/python3.7/site-packages\u001b[0m\n",
      "\u001b[34mInvoking script with the following command:\u001b[0m\n",
      "\u001b[34m/miniconda3/bin/python train_script.py\u001b[0m\n",
      "\u001b[34m2025-06-04 16:12:41,272 sagemaker-containers INFO     Reporting training SUCCESS\u001b[0m\n",
      "\n",
      "2025-06-04 16:12:59 Uploading - Uploading generated training model\n",
      "2025-06-04 16:12:59 Completed - Training job completed\n",
      "Training seconds: 79\n",
      "Billable seconds: 79\n"
     ]
    }
   ],
   "source": [
    "sklearn_model = SKLearn(\n",
    "    role=role,\n",
    "    entry_point=\"train_script.py\",\n",
    "    source_dir=\".\",\n",
    "    instance_type=\"ml.m5.xlarge\",\n",
    "    framework_version=\"0.23-1\",\n",
    "    script_mode=True,\n",
    "    output_path=f\"s3://{bucket}/{prefix}/output\",\n",
    "    sagemaker_session=session)\n",
    "\n",
    "sklearn_model.fit({\"train\": train2_input})"
   ]
  },
  {
   "cell_type": "markdown",
   "metadata": {},
   "source": [
    "# Deploy model"
   ]
  },
  {
   "cell_type": "code",
   "execution_count": 16,
   "metadata": {
    "scrolled": true
   },
   "outputs": [
    {
     "data": {
      "text/html": [
       "<pre style=\"white-space:pre;overflow-x:auto;line-height:normal;font-family:Menlo,'DejaVu Sans Mono',consolas,'Courier New',monospace\"><span style=\"color: #7fbfbf; text-decoration-color: #7fbfbf\">[06/04/25 16:13:18] </span><span style=\"color: #0069ff; text-decoration-color: #0069ff; font-weight: bold\">INFO    </span> Creating model with name:                                              <a href=\"file:///home/ec2-user/anaconda3/envs/python3/lib/python3.10/site-packages/sagemaker/session.py\" target=\"_blank\"><span style=\"color: #7f7f7f; text-decoration-color: #7f7f7f\">session.py</span></a><span style=\"color: #7f7f7f; text-decoration-color: #7f7f7f\">:</span><a href=\"file:///home/ec2-user/anaconda3/envs/python3/lib/python3.10/site-packages/sagemaker/session.py#4094\" target=\"_blank\"><span style=\"color: #7f7f7f; text-decoration-color: #7f7f7f\">4094</span></a>\n",
       "<span style=\"color: #7fbfbf; text-decoration-color: #7fbfbf\">                    </span>         sagemaker-scikit-learn-<span style=\"color: #008080; text-decoration-color: #008080; font-weight: bold\">2025</span>-06-04-16-13-16-734                         <span style=\"color: #7f7f7f; text-decoration-color: #7f7f7f\">               </span>\n",
       "</pre>\n"
      ],
      "text/plain": [
       "\u001b[2;36m[06/04/25 16:13:18]\u001b[0m\u001b[2;36m \u001b[0m\u001b[1;38;2;0;105;255mINFO    \u001b[0m Creating model with name:                                              \u001b]8;id=618521;file:///home/ec2-user/anaconda3/envs/python3/lib/python3.10/site-packages/sagemaker/session.py\u001b\\\u001b[2msession.py\u001b[0m\u001b]8;;\u001b\\\u001b[2m:\u001b[0m\u001b]8;id=413883;file:///home/ec2-user/anaconda3/envs/python3/lib/python3.10/site-packages/sagemaker/session.py#4094\u001b\\\u001b[2m4094\u001b[0m\u001b]8;;\u001b\\\n",
       "\u001b[2;36m                    \u001b[0m         sagemaker-scikit-learn-\u001b[1;36m2025\u001b[0m-06-04-16-13-16-734                         \u001b[2m               \u001b[0m\n"
      ]
     },
     "metadata": {},
     "output_type": "display_data"
    },
    {
     "data": {
      "text/html": [
       "<pre style=\"white-space:pre;overflow-x:auto;line-height:normal;font-family:Menlo,'DejaVu Sans Mono',consolas,'Courier New',monospace\"><span style=\"color: #7fbfbf; text-decoration-color: #7fbfbf\">[06/04/25 16:13:19] </span><span style=\"color: #0069ff; text-decoration-color: #0069ff; font-weight: bold\">INFO    </span> Creating endpoint-config with name wine-quality-endpoint-<span style=\"color: #008080; text-decoration-color: #008080; font-weight: bold\">1749053596</span>    <a href=\"file:///home/ec2-user/anaconda3/envs/python3/lib/python3.10/site-packages/sagemaker/session.py\" target=\"_blank\"><span style=\"color: #7f7f7f; text-decoration-color: #7f7f7f\">session.py</span></a><span style=\"color: #7f7f7f; text-decoration-color: #7f7f7f\">:</span><a href=\"file:///home/ec2-user/anaconda3/envs/python3/lib/python3.10/site-packages/sagemaker/session.py#6019\" target=\"_blank\"><span style=\"color: #7f7f7f; text-decoration-color: #7f7f7f\">6019</span></a>\n",
       "</pre>\n"
      ],
      "text/plain": [
       "\u001b[2;36m[06/04/25 16:13:19]\u001b[0m\u001b[2;36m \u001b[0m\u001b[1;38;2;0;105;255mINFO    \u001b[0m Creating endpoint-config with name wine-quality-endpoint-\u001b[1;36m1749053596\u001b[0m    \u001b]8;id=962016;file:///home/ec2-user/anaconda3/envs/python3/lib/python3.10/site-packages/sagemaker/session.py\u001b\\\u001b[2msession.py\u001b[0m\u001b]8;;\u001b\\\u001b[2m:\u001b[0m\u001b]8;id=597964;file:///home/ec2-user/anaconda3/envs/python3/lib/python3.10/site-packages/sagemaker/session.py#6019\u001b\\\u001b[2m6019\u001b[0m\u001b]8;;\u001b\\\n"
      ]
     },
     "metadata": {},
     "output_type": "display_data"
    },
    {
     "data": {
      "text/html": [
       "<pre style=\"white-space:pre;overflow-x:auto;line-height:normal;font-family:Menlo,'DejaVu Sans Mono',consolas,'Courier New',monospace\"><span style=\"color: #7fbfbf; text-decoration-color: #7fbfbf\">                    </span><span style=\"color: #0069ff; text-decoration-color: #0069ff; font-weight: bold\">INFO    </span> Creating endpoint with name wine-quality-endpoint-<span style=\"color: #008080; text-decoration-color: #008080; font-weight: bold\">1749053596</span>           <a href=\"file:///home/ec2-user/anaconda3/envs/python3/lib/python3.10/site-packages/sagemaker/session.py\" target=\"_blank\"><span style=\"color: #7f7f7f; text-decoration-color: #7f7f7f\">session.py</span></a><span style=\"color: #7f7f7f; text-decoration-color: #7f7f7f\">:</span><a href=\"file:///home/ec2-user/anaconda3/envs/python3/lib/python3.10/site-packages/sagemaker/session.py#4841\" target=\"_blank\"><span style=\"color: #7f7f7f; text-decoration-color: #7f7f7f\">4841</span></a>\n",
       "</pre>\n"
      ],
      "text/plain": [
       "\u001b[2;36m                   \u001b[0m\u001b[2;36m \u001b[0m\u001b[1;38;2;0;105;255mINFO    \u001b[0m Creating endpoint with name wine-quality-endpoint-\u001b[1;36m1749053596\u001b[0m           \u001b]8;id=85933;file:///home/ec2-user/anaconda3/envs/python3/lib/python3.10/site-packages/sagemaker/session.py\u001b\\\u001b[2msession.py\u001b[0m\u001b]8;;\u001b\\\u001b[2m:\u001b[0m\u001b]8;id=632699;file:///home/ec2-user/anaconda3/envs/python3/lib/python3.10/site-packages/sagemaker/session.py#4841\u001b\\\u001b[2m4841\u001b[0m\u001b]8;;\u001b\\\n"
      ]
     },
     "metadata": {},
     "output_type": "display_data"
    },
    {
     "name": "stdout",
     "output_type": "stream",
     "text": [
      "-----!"
     ]
    }
   ],
   "source": [
    "\n",
    "# Create a deployable model object from the trained estimator\n",
    "deployable_model = sklearn_model.create_model(\n",
    "    entry_point=\"inference.py\",\n",
    "    source_dir=\".\",)\n",
    "\n",
    "# Deploy the model\n",
    "predictor = deployable_model.deploy(\n",
    "    initial_instance_count=1,\n",
    "    instance_type=\"ml.m5.large\",\n",
    "    serializer=CSVSerializer(),\n",
    "    deserializer=CSVDeserializer(),\n",
    "    endpoint_name=f\"wine-quality-endpoint-{int(time.time())}\")"
   ]
  },
  {
   "cell_type": "markdown",
   "metadata": {},
   "source": [
    "# Predict"
   ]
  },
  {
   "cell_type": "code",
   "execution_count": 17,
   "metadata": {},
   "outputs": [
    {
     "name": "stdout",
     "output_type": "stream",
     "text": [
      "An error occurred during prediction: \n",
      "An error occurred (ModelError) when calling the InvokeEndpoint operation: Received server error (500) from primary with message \"<!DOCTYPE HTML PUBLIC \"-//W3C//DTD HTML 3.2 Final//EN\">\n",
      "<title>500 Internal Server Error</title>\n",
      "<h1>Internal Server Error</h1>\n",
      "<p>The server encountered an internal error and was unable to complete your request. Either the server is overloaded or there is an error in the application.</p>\n",
      "\". See https://us-east-1.console.aws.amazon.com/cloudwatch/home?region=us-east-1#logEventViewer:group=/aws/sagemaker/Endpoints/wine-quality-endpoint-1749053596 in account 421498156986 for more information.\n"
     ]
    }
   ],
   "source": [
    "input_data = (7, 0.27, 0.36, 20.7, 0.045, 45, 170, 1.001, 3, 0.45, 8.8)\n",
    "\n",
    "try:\n",
    "    prediction = predictor.predict(input_data)\n",
    "    print(\"Predicted wine quality:\", prediction)\n",
    "\n",
    "except Exception as e:\n",
    "    print(f\"An error occurred during prediction: \\n{e}\")\n"
   ]
  },
  {
   "cell_type": "code",
   "execution_count": 18,
   "metadata": {},
   "outputs": [
    {
     "name": "stdout",
     "output_type": "stream",
     "text": [
      "[['5.194891936235308', '5.857477399025498', '5.738887889233851', '5.645412771567791']]\n"
     ]
    }
   ],
   "source": [
    "predictor.serializer = CSVSerializer()\n",
    "predictor.deserializer = CSVDeserializer()\n",
    "\n",
    "# Example prediction\n",
    "sample = X_test.iloc[:5]\n",
    "response = predictor.predict(sample.to_csv(index=False, header=False))\n",
    "print(response)"
   ]
  },
  {
   "cell_type": "code",
   "execution_count": 19,
   "metadata": {},
   "outputs": [
    {
     "data": {
      "text/html": [
       "<pre style=\"white-space:pre;overflow-x:auto;line-height:normal;font-family:Menlo,'DejaVu Sans Mono',consolas,'Courier New',monospace\"><span style=\"color: #ff0000; text-decoration-color: #ff0000\">╭─────────────────────────────── </span><span style=\"color: #ff0000; text-decoration-color: #ff0000; font-weight: bold\">Traceback </span><span style=\"color: #ff7f7f; text-decoration-color: #ff7f7f; font-weight: bold\">(most recent call last)</span><span style=\"color: #ff0000; text-decoration-color: #ff0000\"> ────────────────────────────────╮</span>\n",
       "<span style=\"color: #ff0000; text-decoration-color: #ff0000\">│</span> in <span style=\"color: #00ff00; text-decoration-color: #00ff00\">&lt;module&gt;</span>:<span style=\"color: #0000ff; text-decoration-color: #0000ff\">5</span>                                                                                    <span style=\"color: #ff0000; text-decoration-color: #ff0000\">│</span>\n",
       "<span style=\"color: #ff0000; text-decoration-color: #ff0000\">│</span>                                                                                                  <span style=\"color: #ff0000; text-decoration-color: #ff0000\">│</span>\n",
       "<span style=\"color: #ff0000; text-decoration-color: #ff0000\">│</span>   <span style=\"color: #7f7f7f; text-decoration-color: #7f7f7f\"> 2 </span>                                                                                            <span style=\"color: #ff0000; text-decoration-color: #ff0000\">│</span>\n",
       "<span style=\"color: #ff0000; text-decoration-color: #ff0000\">│</span>   <span style=\"color: #7f7f7f; text-decoration-color: #7f7f7f\"> 3 # Option A: Pass as a list of lists</span>                                                         <span style=\"color: #ff0000; text-decoration-color: #ff0000\">│</span>\n",
       "<span style=\"color: #ff0000; text-decoration-color: #ff0000\">│</span>   <span style=\"color: #7f7f7f; text-decoration-color: #7f7f7f\"> 4 </span>input_data_for_prediction = [input_values]                                                  <span style=\"color: #ff0000; text-decoration-color: #ff0000\">│</span>\n",
       "<span style=\"color: #ff0000; text-decoration-color: #ff0000\">│</span> <span style=\"color: #800000; text-decoration-color: #800000\">❱ </span> 5 response = predictor.predict(input_data_for_prediction)                                     <span style=\"color: #ff0000; text-decoration-color: #ff0000\">│</span>\n",
       "<span style=\"color: #ff0000; text-decoration-color: #ff0000\">│</span>   <span style=\"color: #7f7f7f; text-decoration-color: #7f7f7f\"> 6 </span><span style=\"color: #00ffff; text-decoration-color: #00ffff\">print</span>(<span style=\"color: #808000; text-decoration-color: #808000\">\"\\nPredicted output (List of Lists):\"</span>, response)                                      <span style=\"color: #ff0000; text-decoration-color: #ff0000\">│</span>\n",
       "<span style=\"color: #ff0000; text-decoration-color: #ff0000\">│</span>   <span style=\"color: #7f7f7f; text-decoration-color: #7f7f7f\"> 7 </span>                                                                                            <span style=\"color: #ff0000; text-decoration-color: #ff0000\">│</span>\n",
       "<span style=\"color: #ff0000; text-decoration-color: #ff0000\">│</span>   <span style=\"color: #7f7f7f; text-decoration-color: #7f7f7f\"> 8 # Option B: Pass as a 2D NumPy array</span>                                                        <span style=\"color: #ff0000; text-decoration-color: #ff0000\">│</span>\n",
       "<span style=\"color: #ff0000; text-decoration-color: #ff0000\">│</span>                                                                                                  <span style=\"color: #ff0000; text-decoration-color: #ff0000\">│</span>\n",
       "<span style=\"color: #ff0000; text-decoration-color: #ff0000\">│</span> <span style=\"color: #bfbf7f; text-decoration-color: #bfbf7f\">/home/ec2-user/anaconda3/envs/python3/lib/python3.10/site-packages/sagemaker/</span><span style=\"color: #808000; text-decoration-color: #808000; font-weight: bold\">base_predictor.py</span>:<span style=\"color: #0000ff; text-decoration-color: #0000ff\">2</span> <span style=\"color: #ff0000; text-decoration-color: #ff0000\">│</span>\n",
       "<span style=\"color: #ff0000; text-decoration-color: #ff0000\">│</span> <span style=\"color: #0000ff; text-decoration-color: #0000ff\">12</span> in <span style=\"color: #00ff00; text-decoration-color: #00ff00\">predict</span>                                                                                    <span style=\"color: #ff0000; text-decoration-color: #ff0000\">│</span>\n",
       "<span style=\"color: #ff0000; text-decoration-color: #ff0000\">│</span>                                                                                                  <span style=\"color: #ff0000; text-decoration-color: #ff0000\">│</span>\n",
       "<span style=\"color: #ff0000; text-decoration-color: #ff0000\">│</span>   <span style=\"color: #7f7f7f; text-decoration-color: #7f7f7f\">209 </span><span style=\"color: #7f7f7f; text-decoration-color: #7f7f7f\">│   │   </span><span style=\"color: #0000ff; text-decoration-color: #0000ff\">if</span> inference_component_name:                                                       <span style=\"color: #ff0000; text-decoration-color: #ff0000\">│</span>\n",
       "<span style=\"color: #ff0000; text-decoration-color: #ff0000\">│</span>   <span style=\"color: #7f7f7f; text-decoration-color: #7f7f7f\">210 </span><span style=\"color: #7f7f7f; text-decoration-color: #7f7f7f\">│   │   │   </span>request_args[<span style=\"color: #808000; text-decoration-color: #808000\">\"InferenceComponentName\"</span>] = inference_component_name              <span style=\"color: #ff0000; text-decoration-color: #ff0000\">│</span>\n",
       "<span style=\"color: #ff0000; text-decoration-color: #ff0000\">│</span>   <span style=\"color: #7f7f7f; text-decoration-color: #7f7f7f\">211 </span><span style=\"color: #7f7f7f; text-decoration-color: #7f7f7f\">│   │   </span>                                                                                   <span style=\"color: #ff0000; text-decoration-color: #ff0000\">│</span>\n",
       "<span style=\"color: #ff0000; text-decoration-color: #ff0000\">│</span> <span style=\"color: #800000; text-decoration-color: #800000\">❱ </span>212 <span style=\"color: #7f7f7f; text-decoration-color: #7f7f7f\">│   │   </span>response = <span style=\"color: #00ffff; text-decoration-color: #00ffff\">self</span>.sagemaker_session.sagemaker_runtime_client.invoke_endpoint(**req   <span style=\"color: #ff0000; text-decoration-color: #ff0000\">│</span>\n",
       "<span style=\"color: #ff0000; text-decoration-color: #ff0000\">│</span>   <span style=\"color: #7f7f7f; text-decoration-color: #7f7f7f\">213 </span><span style=\"color: #7f7f7f; text-decoration-color: #7f7f7f\">│   │   </span><span style=\"color: #0000ff; text-decoration-color: #0000ff\">return</span> <span style=\"color: #00ffff; text-decoration-color: #00ffff\">self</span>._handle_response(response)                                             <span style=\"color: #ff0000; text-decoration-color: #ff0000\">│</span>\n",
       "<span style=\"color: #ff0000; text-decoration-color: #ff0000\">│</span>   <span style=\"color: #7f7f7f; text-decoration-color: #7f7f7f\">214 </span><span style=\"color: #7f7f7f; text-decoration-color: #7f7f7f\">│   </span>                                                                                       <span style=\"color: #ff0000; text-decoration-color: #ff0000\">│</span>\n",
       "<span style=\"color: #ff0000; text-decoration-color: #ff0000\">│</span>   <span style=\"color: #7f7f7f; text-decoration-color: #7f7f7f\">215 </span><span style=\"color: #7f7f7f; text-decoration-color: #7f7f7f\">│   </span><span style=\"color: #0000ff; text-decoration-color: #0000ff\">def</span><span style=\"color: #808080; text-decoration-color: #808080\"> </span><span style=\"color: #00ff00; text-decoration-color: #00ff00\">_handle_response</span>(<span style=\"color: #00ffff; text-decoration-color: #00ffff\">self</span>, response):                                                  <span style=\"color: #ff0000; text-decoration-color: #ff0000\">│</span>\n",
       "<span style=\"color: #ff0000; text-decoration-color: #ff0000\">│</span>                                                                                                  <span style=\"color: #ff0000; text-decoration-color: #ff0000\">│</span>\n",
       "<span style=\"color: #ff0000; text-decoration-color: #ff0000\">│</span> <span style=\"color: #bfbf7f; text-decoration-color: #bfbf7f\">/home/ec2-user/anaconda3/envs/python3/lib/python3.10/site-packages/botocore/</span><span style=\"color: #808000; text-decoration-color: #808000; font-weight: bold\">client.py</span>:<span style=\"color: #0000ff; text-decoration-color: #0000ff\">570</span> in     <span style=\"color: #ff0000; text-decoration-color: #ff0000\">│</span>\n",
       "<span style=\"color: #ff0000; text-decoration-color: #ff0000\">│</span> <span style=\"color: #00ff00; text-decoration-color: #00ff00\">_api_call</span>                                                                                        <span style=\"color: #ff0000; text-decoration-color: #ff0000\">│</span>\n",
       "<span style=\"color: #ff0000; text-decoration-color: #ff0000\">│</span>                                                                                                  <span style=\"color: #ff0000; text-decoration-color: #ff0000\">│</span>\n",
       "<span style=\"color: #ff0000; text-decoration-color: #ff0000\">│</span>   <span style=\"color: #7f7f7f; text-decoration-color: #7f7f7f\"> 567 </span><span style=\"color: #7f7f7f; text-decoration-color: #7f7f7f\">│   │   │   │   │   </span><span style=\"color: #808000; text-decoration-color: #808000\">f\"{</span>py_operation_name<span style=\"color: #808000; text-decoration-color: #808000\">}() only accepts keyword arguments.\"</span>              <span style=\"color: #ff0000; text-decoration-color: #ff0000\">│</span>\n",
       "<span style=\"color: #ff0000; text-decoration-color: #ff0000\">│</span>   <span style=\"color: #7f7f7f; text-decoration-color: #7f7f7f\"> 568 </span><span style=\"color: #7f7f7f; text-decoration-color: #7f7f7f\">│   │   │   │   </span>)                                                                         <span style=\"color: #ff0000; text-decoration-color: #ff0000\">│</span>\n",
       "<span style=\"color: #ff0000; text-decoration-color: #ff0000\">│</span>   <span style=\"color: #7f7f7f; text-decoration-color: #7f7f7f\"> 569 </span><span style=\"color: #7f7f7f; text-decoration-color: #7f7f7f\">│   │   │   </span><span style=\"color: #7f7f7f; text-decoration-color: #7f7f7f\"># The \"self\" in this scope is referring to the BaseClient.</span>                    <span style=\"color: #ff0000; text-decoration-color: #ff0000\">│</span>\n",
       "<span style=\"color: #ff0000; text-decoration-color: #ff0000\">│</span> <span style=\"color: #800000; text-decoration-color: #800000\">❱ </span> 570 <span style=\"color: #7f7f7f; text-decoration-color: #7f7f7f\">│   │   │   </span><span style=\"color: #0000ff; text-decoration-color: #0000ff\">return</span> <span style=\"color: #00ffff; text-decoration-color: #00ffff\">self</span>._make_api_call(operation_name, kwargs)                            <span style=\"color: #ff0000; text-decoration-color: #ff0000\">│</span>\n",
       "<span style=\"color: #ff0000; text-decoration-color: #ff0000\">│</span>   <span style=\"color: #7f7f7f; text-decoration-color: #7f7f7f\"> 571 </span><span style=\"color: #7f7f7f; text-decoration-color: #7f7f7f\">│   │   </span>                                                                                  <span style=\"color: #ff0000; text-decoration-color: #ff0000\">│</span>\n",
       "<span style=\"color: #ff0000; text-decoration-color: #ff0000\">│</span>   <span style=\"color: #7f7f7f; text-decoration-color: #7f7f7f\"> 572 </span><span style=\"color: #7f7f7f; text-decoration-color: #7f7f7f\">│   │   </span>_api_call.<span style=\"color: #ff0000; text-decoration-color: #ff0000\">__name__</span> = <span style=\"color: #00ffff; text-decoration-color: #00ffff\">str</span>(py_operation_name)                                       <span style=\"color: #ff0000; text-decoration-color: #ff0000\">│</span>\n",
       "<span style=\"color: #ff0000; text-decoration-color: #ff0000\">│</span>   <span style=\"color: #7f7f7f; text-decoration-color: #7f7f7f\"> 573 </span>                                                                                          <span style=\"color: #ff0000; text-decoration-color: #ff0000\">│</span>\n",
       "<span style=\"color: #ff0000; text-decoration-color: #ff0000\">│</span>                                                                                                  <span style=\"color: #ff0000; text-decoration-color: #ff0000\">│</span>\n",
       "<span style=\"color: #ff0000; text-decoration-color: #ff0000\">│</span> <span style=\"color: #bfbf7f; text-decoration-color: #bfbf7f\">/home/ec2-user/anaconda3/envs/python3/lib/python3.10/site-packages/botocore/</span><span style=\"color: #808000; text-decoration-color: #808000; font-weight: bold\">context.py</span>:<span style=\"color: #0000ff; text-decoration-color: #0000ff\">123</span> in    <span style=\"color: #ff0000; text-decoration-color: #ff0000\">│</span>\n",
       "<span style=\"color: #ff0000; text-decoration-color: #ff0000\">│</span> <span style=\"color: #00ff00; text-decoration-color: #00ff00\">wrapper</span>                                                                                          <span style=\"color: #ff0000; text-decoration-color: #ff0000\">│</span>\n",
       "<span style=\"color: #ff0000; text-decoration-color: #ff0000\">│</span>                                                                                                  <span style=\"color: #ff0000; text-decoration-color: #ff0000\">│</span>\n",
       "<span style=\"color: #ff0000; text-decoration-color: #ff0000\">│</span>   <span style=\"color: #7f7f7f; text-decoration-color: #7f7f7f\">120 </span><span style=\"color: #7f7f7f; text-decoration-color: #7f7f7f\">│   │   │   </span><span style=\"color: #0000ff; text-decoration-color: #0000ff\">with</span> start_as_current_context():                                               <span style=\"color: #ff0000; text-decoration-color: #ff0000\">│</span>\n",
       "<span style=\"color: #ff0000; text-decoration-color: #ff0000\">│</span>   <span style=\"color: #7f7f7f; text-decoration-color: #7f7f7f\">121 </span><span style=\"color: #7f7f7f; text-decoration-color: #7f7f7f\">│   │   │   │   </span><span style=\"color: #0000ff; text-decoration-color: #0000ff\">if</span> hook:                                                                   <span style=\"color: #ff0000; text-decoration-color: #ff0000\">│</span>\n",
       "<span style=\"color: #ff0000; text-decoration-color: #ff0000\">│</span>   <span style=\"color: #7f7f7f; text-decoration-color: #7f7f7f\">122 </span><span style=\"color: #7f7f7f; text-decoration-color: #7f7f7f\">│   │   │   │   │   </span>hook()                                                                 <span style=\"color: #ff0000; text-decoration-color: #ff0000\">│</span>\n",
       "<span style=\"color: #ff0000; text-decoration-color: #ff0000\">│</span> <span style=\"color: #800000; text-decoration-color: #800000\">❱ </span>123 <span style=\"color: #7f7f7f; text-decoration-color: #7f7f7f\">│   │   │   │   </span><span style=\"color: #0000ff; text-decoration-color: #0000ff\">return</span> func(*args, **kwargs)                                               <span style=\"color: #ff0000; text-decoration-color: #ff0000\">│</span>\n",
       "<span style=\"color: #ff0000; text-decoration-color: #ff0000\">│</span>   <span style=\"color: #7f7f7f; text-decoration-color: #7f7f7f\">124 </span><span style=\"color: #7f7f7f; text-decoration-color: #7f7f7f\">│   │   </span>                                                                                   <span style=\"color: #ff0000; text-decoration-color: #ff0000\">│</span>\n",
       "<span style=\"color: #ff0000; text-decoration-color: #ff0000\">│</span>   <span style=\"color: #7f7f7f; text-decoration-color: #7f7f7f\">125 </span><span style=\"color: #7f7f7f; text-decoration-color: #7f7f7f\">│   │   </span><span style=\"color: #0000ff; text-decoration-color: #0000ff\">return</span> wrapper                                                                     <span style=\"color: #ff0000; text-decoration-color: #ff0000\">│</span>\n",
       "<span style=\"color: #ff0000; text-decoration-color: #ff0000\">│</span>   <span style=\"color: #7f7f7f; text-decoration-color: #7f7f7f\">126 </span>                                                                                           <span style=\"color: #ff0000; text-decoration-color: #ff0000\">│</span>\n",
       "<span style=\"color: #ff0000; text-decoration-color: #ff0000\">│</span>                                                                                                  <span style=\"color: #ff0000; text-decoration-color: #ff0000\">│</span>\n",
       "<span style=\"color: #ff0000; text-decoration-color: #ff0000\">│</span> <span style=\"color: #bfbf7f; text-decoration-color: #bfbf7f\">/home/ec2-user/anaconda3/envs/python3/lib/python3.10/site-packages/botocore/</span><span style=\"color: #808000; text-decoration-color: #808000; font-weight: bold\">client.py</span>:<span style=\"color: #0000ff; text-decoration-color: #0000ff\">1031</span> in    <span style=\"color: #ff0000; text-decoration-color: #ff0000\">│</span>\n",
       "<span style=\"color: #ff0000; text-decoration-color: #ff0000\">│</span> <span style=\"color: #00ff00; text-decoration-color: #00ff00\">_make_api_call</span>                                                                                   <span style=\"color: #ff0000; text-decoration-color: #ff0000\">│</span>\n",
       "<span style=\"color: #ff0000; text-decoration-color: #ff0000\">│</span>                                                                                                  <span style=\"color: #ff0000; text-decoration-color: #ff0000\">│</span>\n",
       "<span style=\"color: #ff0000; text-decoration-color: #ff0000\">│</span>   <span style=\"color: #7f7f7f; text-decoration-color: #7f7f7f\">1028 </span><span style=\"color: #7f7f7f; text-decoration-color: #7f7f7f\">│   │   │   │   </span><span style=\"color: #808000; text-decoration-color: #808000\">\"Code\"</span>                                                                    <span style=\"color: #ff0000; text-decoration-color: #ff0000\">│</span>\n",
       "<span style=\"color: #ff0000; text-decoration-color: #ff0000\">│</span>   <span style=\"color: #7f7f7f; text-decoration-color: #7f7f7f\">1029 </span><span style=\"color: #7f7f7f; text-decoration-color: #7f7f7f\">│   │   │   </span>)                                                                             <span style=\"color: #ff0000; text-decoration-color: #ff0000\">│</span>\n",
       "<span style=\"color: #ff0000; text-decoration-color: #ff0000\">│</span>   <span style=\"color: #7f7f7f; text-decoration-color: #7f7f7f\">1030 </span><span style=\"color: #7f7f7f; text-decoration-color: #7f7f7f\">│   │   │   </span>error_class = <span style=\"color: #00ffff; text-decoration-color: #00ffff\">self</span>.exceptions.from_code(error_code)                           <span style=\"color: #ff0000; text-decoration-color: #ff0000\">│</span>\n",
       "<span style=\"color: #ff0000; text-decoration-color: #ff0000\">│</span> <span style=\"color: #800000; text-decoration-color: #800000\">❱ </span>1031 <span style=\"color: #7f7f7f; text-decoration-color: #7f7f7f\">│   │   │   </span><span style=\"color: #0000ff; text-decoration-color: #0000ff\">raise</span> error_class(parsed_response, operation_name)                            <span style=\"color: #ff0000; text-decoration-color: #ff0000\">│</span>\n",
       "<span style=\"color: #ff0000; text-decoration-color: #ff0000\">│</span>   <span style=\"color: #7f7f7f; text-decoration-color: #7f7f7f\">1032 </span><span style=\"color: #7f7f7f; text-decoration-color: #7f7f7f\">│   │   </span><span style=\"color: #0000ff; text-decoration-color: #0000ff\">else</span>:                                                                             <span style=\"color: #ff0000; text-decoration-color: #ff0000\">│</span>\n",
       "<span style=\"color: #ff0000; text-decoration-color: #ff0000\">│</span>   <span style=\"color: #7f7f7f; text-decoration-color: #7f7f7f\">1033 </span><span style=\"color: #7f7f7f; text-decoration-color: #7f7f7f\">│   │   │   </span><span style=\"color: #0000ff; text-decoration-color: #0000ff\">return</span> parsed_response                                                        <span style=\"color: #ff0000; text-decoration-color: #ff0000\">│</span>\n",
       "<span style=\"color: #ff0000; text-decoration-color: #ff0000\">│</span>   <span style=\"color: #7f7f7f; text-decoration-color: #7f7f7f\">1034 </span>                                                                                          <span style=\"color: #ff0000; text-decoration-color: #ff0000\">│</span>\n",
       "<span style=\"color: #ff0000; text-decoration-color: #ff0000\">╰──────────────────────────────────────────────────────────────────────────────────────────────────╯</span>\n",
       "<span style=\"color: #ff0000; text-decoration-color: #ff0000; font-weight: bold\">ModelError: </span>An error occurred <span style=\"font-weight: bold\">(</span>ModelError<span style=\"font-weight: bold\">)</span> when calling the InvokeEndpoint operation: Received server error <span style=\"font-weight: bold\">(</span><span style=\"color: #008080; text-decoration-color: #008080; font-weight: bold\">500</span><span style=\"font-weight: bold\">)</span> \n",
       "from primary with message <span style=\"color: #008700; text-decoration-color: #008700\">\"</span><span style=\"color: #008700; text-decoration-color: #008700; font-weight: bold\">&lt;</span><span style=\"color: #008700; text-decoration-color: #008700\">!DOCTYPE HTML PUBLIC \"</span><span style=\"color: #000000; text-decoration-color: #000000\">-</span><span style=\"color: #e100e1; text-decoration-color: #e100e1\">//W3C//DTD</span><span style=\"color: #000000; text-decoration-color: #000000\"> HTML </span><span style=\"color: #008080; text-decoration-color: #008080; font-weight: bold\">3.2</span><span style=\"color: #000000; text-decoration-color: #000000\"> Final/</span><span style=\"color: #e100e1; text-decoration-color: #e100e1\">/EN</span><span style=\"color: #000000; text-decoration-color: #000000\">\"&gt;</span>\n",
       "<span style=\"color: #000000; text-decoration-color: #000000\">&lt;title&gt;</span><span style=\"color: #008080; text-decoration-color: #008080; font-weight: bold\">500</span><span style=\"color: #000000; text-decoration-color: #000000\"> Internal Server Error&lt;</span><span style=\"color: #e100e1; text-decoration-color: #e100e1\">/title</span><span style=\"color: #000000; text-decoration-color: #000000\">&gt;</span>\n",
       "<span style=\"color: #000000; text-decoration-color: #000000\">&lt;h1&gt;Internal Server Error&lt;</span><span style=\"color: #e100e1; text-decoration-color: #e100e1\">/h1</span><span style=\"color: #000000; text-decoration-color: #000000\">&gt;</span>\n",
       "<span style=\"color: #000000; text-decoration-color: #000000\">&lt;p&gt;The server encountered an internal error and was unable to complete your request. Either the server is </span>\n",
       "<span style=\"color: #000000; text-decoration-color: #000000\">overloaded or there is an error in the application.&lt;</span><span style=\"color: #e100e1; text-decoration-color: #e100e1\">/p</span><span style=\"font-weight: bold\">&gt;</span>\n",
       "\". See \n",
       "<span style=\"color: #0069ff; text-decoration-color: #0069ff; text-decoration: underline\">https://us-east-1.console.aws.amazon.com/cloudwatch/home?</span><span style=\"color: #0069ff; text-decoration-color: #0069ff; text-decoration: underline\">region</span><span style=\"color: #0069ff; text-decoration-color: #0069ff; text-decoration: underline\">=</span><span style=\"color: #0069ff; text-decoration-color: #0069ff; text-decoration: underline\">us</span><span style=\"color: #0069ff; text-decoration-color: #0069ff; text-decoration: underline\">-east-1#logEventViewer:</span><span style=\"color: #0069ff; text-decoration-color: #0069ff; text-decoration: underline\">group</span><span style=\"color: #0069ff; text-decoration-color: #0069ff; text-decoration: underline\">=/aws/sagemaker/Endpo</span>\n",
       "<span style=\"color: #0069ff; text-decoration-color: #0069ff; text-decoration: underline\">ints/wine-quality-endpoint-1749053596</span> in account <span style=\"color: #008080; text-decoration-color: #008080; font-weight: bold\">421498156986</span> for more information.\n",
       "</pre>\n"
      ],
      "text/plain": [
       "\u001b[38;2;255;0;0m╭─\u001b[0m\u001b[38;2;255;0;0m──────────────────────────────\u001b[0m\u001b[38;2;255;0;0m \u001b[0m\u001b[1;38;2;255;0;0mTraceback \u001b[0m\u001b[1;2;38;2;255;0;0m(most recent call last)\u001b[0m\u001b[38;2;255;0;0m \u001b[0m\u001b[38;2;255;0;0m───────────────────────────────\u001b[0m\u001b[38;2;255;0;0m─╮\u001b[0m\n",
       "\u001b[38;2;255;0;0m│\u001b[0m in \u001b[92m<module>\u001b[0m:\u001b[94m5\u001b[0m                                                                                    \u001b[38;2;255;0;0m│\u001b[0m\n",
       "\u001b[38;2;255;0;0m│\u001b[0m                                                                                                  \u001b[38;2;255;0;0m│\u001b[0m\n",
       "\u001b[38;2;255;0;0m│\u001b[0m   \u001b[2m 2 \u001b[0m                                                                                            \u001b[38;2;255;0;0m│\u001b[0m\n",
       "\u001b[38;2;255;0;0m│\u001b[0m   \u001b[2m 3 \u001b[0m\u001b[2m# Option A: Pass as a list of lists\u001b[0m                                                         \u001b[38;2;255;0;0m│\u001b[0m\n",
       "\u001b[38;2;255;0;0m│\u001b[0m   \u001b[2m 4 \u001b[0minput_data_for_prediction = [input_values]                                                  \u001b[38;2;255;0;0m│\u001b[0m\n",
       "\u001b[38;2;255;0;0m│\u001b[0m \u001b[31m❱ \u001b[0m 5 response = predictor.predict(input_data_for_prediction)                                     \u001b[38;2;255;0;0m│\u001b[0m\n",
       "\u001b[38;2;255;0;0m│\u001b[0m   \u001b[2m 6 \u001b[0m\u001b[96mprint\u001b[0m(\u001b[33m\"\u001b[0m\u001b[33m\\n\u001b[0m\u001b[33mPredicted output (List of Lists):\u001b[0m\u001b[33m\"\u001b[0m, response)                                      \u001b[38;2;255;0;0m│\u001b[0m\n",
       "\u001b[38;2;255;0;0m│\u001b[0m   \u001b[2m 7 \u001b[0m                                                                                            \u001b[38;2;255;0;0m│\u001b[0m\n",
       "\u001b[38;2;255;0;0m│\u001b[0m   \u001b[2m 8 \u001b[0m\u001b[2m# Option B: Pass as a 2D NumPy array\u001b[0m                                                        \u001b[38;2;255;0;0m│\u001b[0m\n",
       "\u001b[38;2;255;0;0m│\u001b[0m                                                                                                  \u001b[38;2;255;0;0m│\u001b[0m\n",
       "\u001b[38;2;255;0;0m│\u001b[0m \u001b[2;33m/home/ec2-user/anaconda3/envs/python3/lib/python3.10/site-packages/sagemaker/\u001b[0m\u001b[1;33mbase_predictor.py\u001b[0m:\u001b[94m2\u001b[0m \u001b[38;2;255;0;0m│\u001b[0m\n",
       "\u001b[38;2;255;0;0m│\u001b[0m \u001b[94m12\u001b[0m in \u001b[92mpredict\u001b[0m                                                                                    \u001b[38;2;255;0;0m│\u001b[0m\n",
       "\u001b[38;2;255;0;0m│\u001b[0m                                                                                                  \u001b[38;2;255;0;0m│\u001b[0m\n",
       "\u001b[38;2;255;0;0m│\u001b[0m   \u001b[2m209 \u001b[0m\u001b[2m│   │   \u001b[0m\u001b[94mif\u001b[0m inference_component_name:                                                       \u001b[38;2;255;0;0m│\u001b[0m\n",
       "\u001b[38;2;255;0;0m│\u001b[0m   \u001b[2m210 \u001b[0m\u001b[2m│   │   │   \u001b[0mrequest_args[\u001b[33m\"\u001b[0m\u001b[33mInferenceComponentName\u001b[0m\u001b[33m\"\u001b[0m] = inference_component_name              \u001b[38;2;255;0;0m│\u001b[0m\n",
       "\u001b[38;2;255;0;0m│\u001b[0m   \u001b[2m211 \u001b[0m\u001b[2m│   │   \u001b[0m                                                                                   \u001b[38;2;255;0;0m│\u001b[0m\n",
       "\u001b[38;2;255;0;0m│\u001b[0m \u001b[31m❱ \u001b[0m212 \u001b[2m│   │   \u001b[0mresponse = \u001b[96mself\u001b[0m.sagemaker_session.sagemaker_runtime_client.invoke_endpoint(**req   \u001b[38;2;255;0;0m│\u001b[0m\n",
       "\u001b[38;2;255;0;0m│\u001b[0m   \u001b[2m213 \u001b[0m\u001b[2m│   │   \u001b[0m\u001b[94mreturn\u001b[0m \u001b[96mself\u001b[0m._handle_response(response)                                             \u001b[38;2;255;0;0m│\u001b[0m\n",
       "\u001b[38;2;255;0;0m│\u001b[0m   \u001b[2m214 \u001b[0m\u001b[2m│   \u001b[0m                                                                                       \u001b[38;2;255;0;0m│\u001b[0m\n",
       "\u001b[38;2;255;0;0m│\u001b[0m   \u001b[2m215 \u001b[0m\u001b[2m│   \u001b[0m\u001b[94mdef\u001b[0m\u001b[90m \u001b[0m\u001b[92m_handle_response\u001b[0m(\u001b[96mself\u001b[0m, response):                                                  \u001b[38;2;255;0;0m│\u001b[0m\n",
       "\u001b[38;2;255;0;0m│\u001b[0m                                                                                                  \u001b[38;2;255;0;0m│\u001b[0m\n",
       "\u001b[38;2;255;0;0m│\u001b[0m \u001b[2;33m/home/ec2-user/anaconda3/envs/python3/lib/python3.10/site-packages/botocore/\u001b[0m\u001b[1;33mclient.py\u001b[0m:\u001b[94m570\u001b[0m in     \u001b[38;2;255;0;0m│\u001b[0m\n",
       "\u001b[38;2;255;0;0m│\u001b[0m \u001b[92m_api_call\u001b[0m                                                                                        \u001b[38;2;255;0;0m│\u001b[0m\n",
       "\u001b[38;2;255;0;0m│\u001b[0m                                                                                                  \u001b[38;2;255;0;0m│\u001b[0m\n",
       "\u001b[38;2;255;0;0m│\u001b[0m   \u001b[2m 567 \u001b[0m\u001b[2m│   │   │   │   │   \u001b[0m\u001b[33mf\u001b[0m\u001b[33m\"\u001b[0m\u001b[33m{\u001b[0mpy_operation_name\u001b[33m}\u001b[0m\u001b[33m() only accepts keyword arguments.\u001b[0m\u001b[33m\"\u001b[0m              \u001b[38;2;255;0;0m│\u001b[0m\n",
       "\u001b[38;2;255;0;0m│\u001b[0m   \u001b[2m 568 \u001b[0m\u001b[2m│   │   │   │   \u001b[0m)                                                                         \u001b[38;2;255;0;0m│\u001b[0m\n",
       "\u001b[38;2;255;0;0m│\u001b[0m   \u001b[2m 569 \u001b[0m\u001b[2m│   │   │   \u001b[0m\u001b[2m# The \"self\" in this scope is referring to the BaseClient.\u001b[0m                    \u001b[38;2;255;0;0m│\u001b[0m\n",
       "\u001b[38;2;255;0;0m│\u001b[0m \u001b[31m❱ \u001b[0m 570 \u001b[2m│   │   │   \u001b[0m\u001b[94mreturn\u001b[0m \u001b[96mself\u001b[0m._make_api_call(operation_name, kwargs)                            \u001b[38;2;255;0;0m│\u001b[0m\n",
       "\u001b[38;2;255;0;0m│\u001b[0m   \u001b[2m 571 \u001b[0m\u001b[2m│   │   \u001b[0m                                                                                  \u001b[38;2;255;0;0m│\u001b[0m\n",
       "\u001b[38;2;255;0;0m│\u001b[0m   \u001b[2m 572 \u001b[0m\u001b[2m│   │   \u001b[0m_api_call.\u001b[91m__name__\u001b[0m = \u001b[96mstr\u001b[0m(py_operation_name)                                       \u001b[38;2;255;0;0m│\u001b[0m\n",
       "\u001b[38;2;255;0;0m│\u001b[0m   \u001b[2m 573 \u001b[0m                                                                                          \u001b[38;2;255;0;0m│\u001b[0m\n",
       "\u001b[38;2;255;0;0m│\u001b[0m                                                                                                  \u001b[38;2;255;0;0m│\u001b[0m\n",
       "\u001b[38;2;255;0;0m│\u001b[0m \u001b[2;33m/home/ec2-user/anaconda3/envs/python3/lib/python3.10/site-packages/botocore/\u001b[0m\u001b[1;33mcontext.py\u001b[0m:\u001b[94m123\u001b[0m in    \u001b[38;2;255;0;0m│\u001b[0m\n",
       "\u001b[38;2;255;0;0m│\u001b[0m \u001b[92mwrapper\u001b[0m                                                                                          \u001b[38;2;255;0;0m│\u001b[0m\n",
       "\u001b[38;2;255;0;0m│\u001b[0m                                                                                                  \u001b[38;2;255;0;0m│\u001b[0m\n",
       "\u001b[38;2;255;0;0m│\u001b[0m   \u001b[2m120 \u001b[0m\u001b[2m│   │   │   \u001b[0m\u001b[94mwith\u001b[0m start_as_current_context():                                               \u001b[38;2;255;0;0m│\u001b[0m\n",
       "\u001b[38;2;255;0;0m│\u001b[0m   \u001b[2m121 \u001b[0m\u001b[2m│   │   │   │   \u001b[0m\u001b[94mif\u001b[0m hook:                                                                   \u001b[38;2;255;0;0m│\u001b[0m\n",
       "\u001b[38;2;255;0;0m│\u001b[0m   \u001b[2m122 \u001b[0m\u001b[2m│   │   │   │   │   \u001b[0mhook()                                                                 \u001b[38;2;255;0;0m│\u001b[0m\n",
       "\u001b[38;2;255;0;0m│\u001b[0m \u001b[31m❱ \u001b[0m123 \u001b[2m│   │   │   │   \u001b[0m\u001b[94mreturn\u001b[0m func(*args, **kwargs)                                               \u001b[38;2;255;0;0m│\u001b[0m\n",
       "\u001b[38;2;255;0;0m│\u001b[0m   \u001b[2m124 \u001b[0m\u001b[2m│   │   \u001b[0m                                                                                   \u001b[38;2;255;0;0m│\u001b[0m\n",
       "\u001b[38;2;255;0;0m│\u001b[0m   \u001b[2m125 \u001b[0m\u001b[2m│   │   \u001b[0m\u001b[94mreturn\u001b[0m wrapper                                                                     \u001b[38;2;255;0;0m│\u001b[0m\n",
       "\u001b[38;2;255;0;0m│\u001b[0m   \u001b[2m126 \u001b[0m                                                                                           \u001b[38;2;255;0;0m│\u001b[0m\n",
       "\u001b[38;2;255;0;0m│\u001b[0m                                                                                                  \u001b[38;2;255;0;0m│\u001b[0m\n",
       "\u001b[38;2;255;0;0m│\u001b[0m \u001b[2;33m/home/ec2-user/anaconda3/envs/python3/lib/python3.10/site-packages/botocore/\u001b[0m\u001b[1;33mclient.py\u001b[0m:\u001b[94m1031\u001b[0m in    \u001b[38;2;255;0;0m│\u001b[0m\n",
       "\u001b[38;2;255;0;0m│\u001b[0m \u001b[92m_make_api_call\u001b[0m                                                                                   \u001b[38;2;255;0;0m│\u001b[0m\n",
       "\u001b[38;2;255;0;0m│\u001b[0m                                                                                                  \u001b[38;2;255;0;0m│\u001b[0m\n",
       "\u001b[38;2;255;0;0m│\u001b[0m   \u001b[2m1028 \u001b[0m\u001b[2m│   │   │   │   \u001b[0m\u001b[33m\"\u001b[0m\u001b[33mCode\u001b[0m\u001b[33m\"\u001b[0m                                                                    \u001b[38;2;255;0;0m│\u001b[0m\n",
       "\u001b[38;2;255;0;0m│\u001b[0m   \u001b[2m1029 \u001b[0m\u001b[2m│   │   │   \u001b[0m)                                                                             \u001b[38;2;255;0;0m│\u001b[0m\n",
       "\u001b[38;2;255;0;0m│\u001b[0m   \u001b[2m1030 \u001b[0m\u001b[2m│   │   │   \u001b[0merror_class = \u001b[96mself\u001b[0m.exceptions.from_code(error_code)                           \u001b[38;2;255;0;0m│\u001b[0m\n",
       "\u001b[38;2;255;0;0m│\u001b[0m \u001b[31m❱ \u001b[0m1031 \u001b[2m│   │   │   \u001b[0m\u001b[94mraise\u001b[0m error_class(parsed_response, operation_name)                            \u001b[38;2;255;0;0m│\u001b[0m\n",
       "\u001b[38;2;255;0;0m│\u001b[0m   \u001b[2m1032 \u001b[0m\u001b[2m│   │   \u001b[0m\u001b[94melse\u001b[0m:                                                                             \u001b[38;2;255;0;0m│\u001b[0m\n",
       "\u001b[38;2;255;0;0m│\u001b[0m   \u001b[2m1033 \u001b[0m\u001b[2m│   │   │   \u001b[0m\u001b[94mreturn\u001b[0m parsed_response                                                        \u001b[38;2;255;0;0m│\u001b[0m\n",
       "\u001b[38;2;255;0;0m│\u001b[0m   \u001b[2m1034 \u001b[0m                                                                                          \u001b[38;2;255;0;0m│\u001b[0m\n",
       "\u001b[38;2;255;0;0m╰──────────────────────────────────────────────────────────────────────────────────────────────────╯\u001b[0m\n",
       "\u001b[1;91mModelError: \u001b[0mAn error occurred \u001b[1m(\u001b[0mModelError\u001b[1m)\u001b[0m when calling the InvokeEndpoint operation: Received server error \u001b[1m(\u001b[0m\u001b[1;36m500\u001b[0m\u001b[1m)\u001b[0m \n",
       "from primary with message \u001b[38;2;0;135;0m\"\u001b[0m\u001b[1;38;2;0;135;0m<\u001b[0m\u001b[38;2;0;135;0m!DOCTYPE HTML PUBLIC \"\u001b[0m\u001b[39m-\u001b[0m\u001b[38;2;225;0;225m/\u001b[0m\u001b[38;2;225;0;225m/W3C/\u001b[0m\u001b[38;2;225;0;225m/\u001b[0m\u001b[38;2;225;0;225mDTD\u001b[0m\u001b[39m HTML \u001b[0m\u001b[1;36m3.2\u001b[0m\u001b[39m Final/\u001b[0m\u001b[38;2;225;0;225m/\u001b[0m\u001b[38;2;225;0;225mEN\u001b[0m\u001b[39m\">\u001b[0m\n",
       "\u001b[39m<title>\u001b[0m\u001b[1;36m500\u001b[0m\u001b[39m Internal Server Error<\u001b[0m\u001b[38;2;225;0;225m/\u001b[0m\u001b[38;2;225;0;225mtitle\u001b[0m\u001b[39m>\u001b[0m\n",
       "\u001b[39m<h1>Internal Server Error<\u001b[0m\u001b[38;2;225;0;225m/\u001b[0m\u001b[38;2;225;0;225mh1\u001b[0m\u001b[39m>\u001b[0m\n",
       "\u001b[39m<p>The server encountered an internal error and was unable to complete your request. Either the server is \u001b[0m\n",
       "\u001b[39moverloaded or there is an error in the application.<\u001b[0m\u001b[38;2;225;0;225m/\u001b[0m\u001b[38;2;225;0;225mp\u001b[0m\u001b[1m>\u001b[0m\n",
       "\". See \n",
       "\u001b[4;38;2;0;105;255mhttps://us-east-1.console.aws.amazon.com/cloudwatch/home?\u001b[0m\u001b[4;38;2;0;105;255mregion\u001b[0m\u001b[4;38;2;0;105;255m=\u001b[0m\u001b[4;38;2;0;105;255mus\u001b[0m\u001b[4;38;2;0;105;255m-east-1#logEventViewer:\u001b[0m\u001b[4;38;2;0;105;255mgroup\u001b[0m\u001b[4;38;2;0;105;255m=/aws/sagemaker/Endpo\u001b[0m\n",
       "\u001b[4;38;2;0;105;255mints/wine-quality-endpoint-1749053596\u001b[0m in account \u001b[1;36m421498156986\u001b[0m for more information.\n"
      ]
     },
     "metadata": {},
     "output_type": "display_data"
    }
   ],
   "source": [
    "input_values = [7, 0.27, 0.36, 20.7, 0.045, 45, 170, 1.001, 3, 0.45, 8.8]\n",
    "\n",
    "# Option A: Pass as a list of lists\n",
    "input_data_for_prediction = [input_values]\n",
    "response = predictor.predict(input_data_for_prediction)\n",
    "print(\"\\nPredicted output (List of Lists):\", response)\n",
    "\n",
    "# Option B: Pass as a 2D NumPy array\n",
    "input_data_for_prediction_np = np.array([input_values])\n",
    "response_np = predictor.predict(input_data_for_prediction_np)\n",
    "print(\"\\nPredicted output (NumPy Array):\", response_np)"
   ]
  },
  {
   "cell_type": "code",
   "execution_count": null,
   "metadata": {},
   "outputs": [],
   "source": [
    "input = [7, 0.27, 0.36, 20.7, 0.045, 45, 170, 1.001, 3, 0.45, 8.8]\n",
    "response = predictor.predict(input)\n",
    "\n",
    "print(\"\\nPredicted output:\", response)\n"
   ]
  },
  {
   "cell_type": "markdown",
   "metadata": {
    "id": "W3TEq1PB9vPp"
   },
   "source": [
    "# END"
   ]
  }
 ],
 "metadata": {
  "colab": {
   "provenance": []
  },
  "kernelspec": {
   "display_name": "conda_python3",
   "language": "python",
   "name": "conda_python3"
  },
  "language_info": {
   "codemirror_mode": {
    "name": "ipython",
    "version": 3
   },
   "file_extension": ".py",
   "mimetype": "text/x-python",
   "name": "python",
   "nbconvert_exporter": "python",
   "pygments_lexer": "ipython3",
   "version": "3.10.17"
  }
 },
 "nbformat": 4,
 "nbformat_minor": 1
}
